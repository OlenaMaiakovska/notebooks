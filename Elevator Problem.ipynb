{
 "metadata": {
  "name": "",
  "signature": "sha256:4f35a1dbdfd447b54a542eac7e145f684ae0cad86d3ecca415015aa2514eb67c"
 },
 "nbformat": 3,
 "nbformat_minor": 0,
 "worksheets": [
  {
   "cells": [
    {
     "cell_type": "code",
     "collapsed": false,
     "input": [
      "class Location():\n",
      "    queue = 1\n",
      "    elevator = 2"
     ],
     "language": "python",
     "metadata": {},
     "outputs": [],
     "prompt_number": 46
    },
    {
     "cell_type": "code",
     "collapsed": false,
     "input": [
      "class Person():\n",
      "    def __init__(self, destination):\n",
      "        self.destination = destination\n",
      "        self.queue_ticks = 0\n",
      "        self.ride_ticks = 0\n",
      "        self.loc = Location.queue\n",
      "    \n",
      "    def __repr__(self):\n",
      "        return \"D:{} Q:{} R:{}\".format(self.destination, self.queue_ticks, self.ride_ticks)\n",
      "    "
     ],
     "language": "python",
     "metadata": {},
     "outputs": [],
     "prompt_number": 47
    },
    {
     "cell_type": "code",
     "collapsed": false,
     "input": [
      "class Elevator():\n",
      "    def __init__(self, capacity, home=0):\n",
      "        \n",
      "        self.level = 0\n",
      "        \n",
      "        self.velocity = 0 #-1 down, 0 not moving, 1 up\n",
      "        \n",
      "        self.home = home\n",
      "        \n",
      "        self.people = set()\n",
      "        \n",
      "        self.capacity = capacity\n",
      "    \n",
      "    def __len__(self):\n",
      "        return len(self.people)\n",
      "    \n",
      "    def __iter__(self):\n",
      "        return iter(self.people)\n",
      "    \n",
      "    def add_person(self, person):\n",
      "        if len(self) < self.capacity:\n",
      "            self.people.add(person)\n",
      "            person.loc = Location.elevator\n",
      "            return True\n",
      "        return False\n",
      "    \n",
      "    def get_itenerary(self):\n",
      "        return sorted({person.destination for person in self.people})\n",
      "        \n",
      "    def move(self):\n",
      "        self.level += self.velocity\n",
      "            "
     ],
     "language": "python",
     "metadata": {},
     "outputs": [],
     "prompt_number": 48
    },
    {
     "cell_type": "code",
     "collapsed": false,
     "input": [
      "\n",
      "#5 people arrive, 1 for each floor\n",
      "# people incinerated upon arrival\n",
      "import random\n",
      "queue = [Person(x) for x in range(1, 6)]\n",
      "random.shuffle(queue)\n",
      "print queue\n",
      "elevator = Elevator(3)\n",
      "\n"
     ],
     "language": "python",
     "metadata": {},
     "outputs": [
      {
       "output_type": "stream",
       "stream": "stdout",
       "text": [
        "[D:2 Q:0 R:0, D:4 Q:0 R:0, D:1 Q:0 R:0, D:3 Q:0 R:0, D:5 Q:0 R:0]\n"
       ]
      }
     ],
     "prompt_number": 49
    },
    {
     "cell_type": "markdown",
     "metadata": {},
     "source": [
      "#Scott and Charlie's Naive Algorithm\n",
      "1. Go to home\n",
      "2. Fill up elevator from front of queue\n",
      "3. Go up to top of building, stopping at each person's destination\n",
      "4. When elevator is empty, return home.\n",
      "5. Repeat 2-4 until no people remain"
     ]
    },
    {
     "cell_type": "code",
     "collapsed": false,
     "input": [
      "ticker = 0\n",
      "\n",
      "\n",
      "def tick():\n",
      "    for person in universe:\n",
      "        person.queue_ticks += 1\n",
      "    for person in elevator:\n",
      "        person.ride_ticks += 1\n",
      "    \n",
      "\n",
      "while queue:    \n",
      "    \n",
      "    for x in range(min(elevator.capacity, len(queue))):\n",
      "        elevator.add_person(queue.pop())\n",
      "        \n",
      "    tick()\n",
      "    elevator.velocity = 1\n",
      "    while len(elevator):\n",
      "        elevator.move()\n",
      "        tick()\n",
      "        if elevator.level in elevator.get_itenerary():\n",
      "            tick()\n",
      "            \n",
      "            for person in elevator.people:\n",
      "                if person.destination == elevator.level:\n",
      "                    print person\n",
      "            \n",
      "            elevator.people = filter(lambda person: person.destination != elevator.level, elevator.people)\n",
      "        \n",
      "    \n",
      "    "
     ],
     "language": "python",
     "metadata": {},
     "outputs": [
      {
       "output_type": "stream",
       "stream": "stdout",
       "text": [
        "D:1 Q:0 R:3\n",
        "D:3 Q:0 R:6\n",
        "D:5 Q:0 R:9\n"
       ]
      },
      {
       "ename": "AttributeError",
       "evalue": "'list' object has no attribute 'add'",
       "output_type": "pyerr",
       "traceback": [
        "\u001b[0;31m---------------------------------------------------------------------------\u001b[0m\n\u001b[0;31mAttributeError\u001b[0m                            Traceback (most recent call last)",
        "\u001b[0;32m<ipython-input-50-7a884d42a861>\u001b[0m in \u001b[0;36m<module>\u001b[0;34m()\u001b[0m\n\u001b[1;32m     12\u001b[0m \u001b[0;34m\u001b[0m\u001b[0m\n\u001b[1;32m     13\u001b[0m     \u001b[0;32mfor\u001b[0m \u001b[0mx\u001b[0m \u001b[0;32min\u001b[0m \u001b[0mrange\u001b[0m\u001b[0;34m(\u001b[0m\u001b[0mmin\u001b[0m\u001b[0;34m(\u001b[0m\u001b[0melevator\u001b[0m\u001b[0;34m.\u001b[0m\u001b[0mcapacity\u001b[0m\u001b[0;34m,\u001b[0m \u001b[0mlen\u001b[0m\u001b[0;34m(\u001b[0m\u001b[0mqueue\u001b[0m\u001b[0;34m)\u001b[0m\u001b[0;34m)\u001b[0m\u001b[0;34m)\u001b[0m\u001b[0;34m:\u001b[0m\u001b[0;34m\u001b[0m\u001b[0m\n\u001b[0;32m---> 14\u001b[0;31m         \u001b[0melevator\u001b[0m\u001b[0;34m.\u001b[0m\u001b[0madd_person\u001b[0m\u001b[0;34m(\u001b[0m\u001b[0mqueue\u001b[0m\u001b[0;34m.\u001b[0m\u001b[0mpop\u001b[0m\u001b[0;34m(\u001b[0m\u001b[0;34m)\u001b[0m\u001b[0;34m)\u001b[0m\u001b[0;34m\u001b[0m\u001b[0m\n\u001b[0m\u001b[1;32m     15\u001b[0m \u001b[0;34m\u001b[0m\u001b[0m\n\u001b[1;32m     16\u001b[0m     \u001b[0mtick\u001b[0m\u001b[0;34m(\u001b[0m\u001b[0;34m)\u001b[0m\u001b[0;34m\u001b[0m\u001b[0m\n",
        "\u001b[0;32m<ipython-input-48-28ef8e2949d5>\u001b[0m in \u001b[0;36madd_person\u001b[0;34m(self, person)\u001b[0m\n\u001b[1;32m     20\u001b[0m     \u001b[0;32mdef\u001b[0m \u001b[0madd_person\u001b[0m\u001b[0;34m(\u001b[0m\u001b[0mself\u001b[0m\u001b[0;34m,\u001b[0m \u001b[0mperson\u001b[0m\u001b[0;34m)\u001b[0m\u001b[0;34m:\u001b[0m\u001b[0;34m\u001b[0m\u001b[0m\n\u001b[1;32m     21\u001b[0m         \u001b[0;32mif\u001b[0m \u001b[0mlen\u001b[0m\u001b[0;34m(\u001b[0m\u001b[0mself\u001b[0m\u001b[0;34m)\u001b[0m \u001b[0;34m<\u001b[0m \u001b[0mself\u001b[0m\u001b[0;34m.\u001b[0m\u001b[0mcapacity\u001b[0m\u001b[0;34m:\u001b[0m\u001b[0;34m\u001b[0m\u001b[0m\n\u001b[0;32m---> 22\u001b[0;31m             \u001b[0mself\u001b[0m\u001b[0;34m.\u001b[0m\u001b[0mpeople\u001b[0m\u001b[0;34m.\u001b[0m\u001b[0madd\u001b[0m\u001b[0;34m(\u001b[0m\u001b[0mperson\u001b[0m\u001b[0;34m)\u001b[0m\u001b[0;34m\u001b[0m\u001b[0m\n\u001b[0m\u001b[1;32m     23\u001b[0m             \u001b[0mperson\u001b[0m\u001b[0;34m.\u001b[0m\u001b[0mloc\u001b[0m \u001b[0;34m=\u001b[0m \u001b[0mLocation\u001b[0m\u001b[0;34m.\u001b[0m\u001b[0melevator\u001b[0m\u001b[0;34m\u001b[0m\u001b[0m\n\u001b[1;32m     24\u001b[0m             \u001b[0;32mreturn\u001b[0m \u001b[0mTrue\u001b[0m\u001b[0;34m\u001b[0m\u001b[0m\n",
        "\u001b[0;31mAttributeError\u001b[0m: 'list' object has no attribute 'add'"
       ]
      }
     ],
     "prompt_number": 50
    },
    {
     "cell_type": "code",
     "collapsed": false,
     "input": [],
     "language": "python",
     "metadata": {},
     "outputs": []
    },
    {
     "cell_type": "code",
     "collapsed": false,
     "input": [],
     "language": "python",
     "metadata": {},
     "outputs": []
    }
   ],
   "metadata": {}
  }
 ]
}