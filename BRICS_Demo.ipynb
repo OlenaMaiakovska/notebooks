{
 "metadata": {
  "name": "",
  "signature": "sha256:a3e48e3ef69f333f30f7983470b77d658e962eb574868802586f7646bf3d9132"
 },
 "nbformat": 3,
 "nbformat_minor": 0,
 "worksheets": [
  {
   "cells": [
    {
     "cell_type": "code",
     "collapsed": false,
     "input": [
      "from rdkit import Chem\n",
      "from rdkit.Chem import AllChem\n",
      "from rdkit.Chem.Draw import IPythonConsole\n",
      "from rdkit.Chem import Draw\n",
      "from rdkit.Chem import Recap,BRICS"
     ],
     "language": "python",
     "metadata": {},
     "outputs": [],
     "prompt_number": 3
    },
    {
     "cell_type": "code",
     "collapsed": false,
     "input": [
      "s1 = \"COC1=C(C=C(C=C1)C2(CCC(CC2)C(=O)O)C#N)OC3CCCC3\"\n",
      "s2 = \"O=C2OCC(=C2\\c1ccccc1)\\c3ccc(cc3)S(=O)(=O)C\""
     ],
     "language": "python",
     "metadata": {},
     "outputs": [],
     "prompt_number": 4
    },
    {
     "cell_type": "code",
     "collapsed": false,
     "input": [
      "mol2 = Chem.MolFromSmiles(s1)\n",
      "AllChem.Compute2DCoords(mol2)\n",
      "mol2"
     ],
     "language": "python",
     "metadata": {},
     "outputs": [
      {
       "metadata": {},
       "output_type": "pyout",
       "png": "[encoded data removed]",
       "prompt_number": 5,
       "text": [
        "<rdkit.Chem.rdchem.Mol at 0x105389360>"
       ]
      }
     ],
     "prompt_number": 5
    },
    {
     "cell_type": "code",
     "collapsed": false,
     "input": [
      "dir(mol2)\n",
      "#mol2._repr_svg_()"
     ],
     "language": "python",
     "metadata": {},
     "outputs": [
      {
       "metadata": {},
       "output_type": "pyout",
       "prompt_number": 11,
       "text": [
        "['AddConformer',\n",
        " 'ClearComputedProps',\n",
        " 'ClearProp',\n",
        " 'Compute2DCoords',\n",
        " 'ComputeGasteigerCharges',\n",
        " 'Debug',\n",
        " 'GetAromaticAtoms',\n",
        " 'GetAtomWithIdx',\n",
        " 'GetAtoms',\n",
        " 'GetAtomsMatchingQuery',\n",
        " 'GetBondBetweenAtoms',\n",
        " 'GetBondWithIdx',\n",
        " 'GetBonds',\n",
        " 'GetConformer',\n",
        " 'GetConformers',\n",
        " 'GetNumAtoms',\n",
        " 'GetNumBonds',\n",
        " 'GetNumConformers',\n",
        " 'GetNumHeavyAtoms',\n",
        " 'GetProp',\n",
        " 'GetPropNames',\n",
        " 'GetRingInfo',\n",
        " 'GetSubstructMatch',\n",
        " 'GetSubstructMatches',\n",
        " 'HasProp',\n",
        " 'HasSubstructMatch',\n",
        " 'RemoveAllConformers',\n",
        " 'RemoveConformer',\n",
        " 'SetProp',\n",
        " 'ToBinary',\n",
        " 'UpdatePropertyCache',\n",
        " '__GetSubstructMatch',\n",
        " '__GetSubstructMatches',\n",
        " '__class__',\n",
        " '__delattr__',\n",
        " '__dict__',\n",
        " '__doc__',\n",
        " '__format__',\n",
        " '__getattribute__',\n",
        " '__getinitargs__',\n",
        " '__hash__',\n",
        " '__init__',\n",
        " '__instance_size__',\n",
        " '__module__',\n",
        " '__new__',\n",
        " '__reduce__',\n",
        " '__reduce_ex__',\n",
        " '__repr__',\n",
        " '__safe_for_unpickling__',\n",
        " '__setattr__',\n",
        " '__sizeof__',\n",
        " '__str__',\n",
        " '__subclasshook__',\n",
        " '__weakref__',\n",
        " '_repr_html_',\n",
        " '_repr_png_',\n",
        " '_repr_svg_']"
       ]
      }
     ],
     "prompt_number": 11
    },
    {
     "cell_type": "code",
     "collapsed": false,
     "input": [
      "pieces = BRICS.BRICSDecompose(mol2)\n",
      "pieces"
     ],
     "language": "python",
     "metadata": {},
     "outputs": [
      {
       "metadata": {},
       "output_type": "pyout",
       "prompt_number": 11,
       "text": [
        "{'[15*]C1CCC([15*])(C#N)CC1',\n",
        " '[15*]C1CCCC1',\n",
        " '[16*]c1ccc([16*])c([16*])c1',\n",
        " '[3*]OC',\n",
        " '[3*]O[3*]',\n",
        " '[6*]C(=O)O'}"
       ]
      }
     ],
     "prompt_number": 11
    },
    {
     "cell_type": "code",
     "collapsed": false,
     "input": [
      "#frags = map(Chem.MolFromSmarts, pieces)\n",
      "pieces = BRICS.BreakBRICSBonds(mol2)\n",
      "pieces = Chem.GetMolFrags(pieces,asMols=True)\n",
      "Draw.MolsToGridImage(pieces)"
     ],
     "language": "python",
     "metadata": {},
     "outputs": [
      {
       "metadata": {},
       "output_type": "pyout",
       "png": "[encoded data removed]",
       "prompt_number": 21,
       "text": [
        "<PIL.Image.Image image mode=RGBA size=600x400 at 0x10ACAEAB8>"
       ]
      }
     ],
     "prompt_number": 21
    }
   ],
   "metadata": {}
  }
 ]
}