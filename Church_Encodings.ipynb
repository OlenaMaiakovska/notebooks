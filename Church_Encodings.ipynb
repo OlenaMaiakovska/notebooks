{
 "metadata": {
  "name": "",
  "signature": "sha256:29709bf51e3545705783a6db363c710fbac2bb00e0ed8cbadd706c1f39655bb0"
 },
 "nbformat": 3,
 "nbformat_minor": 0,
 "worksheets": [
  {
   "cells": [
    {
     "cell_type": "markdown",
     "metadata": {},
     "source": [
      "#Church Encodings\n",
      "Defining a lambda calculus in python\n",
      "\n",
      "I'm taking a lot of liberties to make it easy to play around with the concept using python as a wrapper, so there won't be any code that looks like this: http://matt.might.net/articles/python-church-y-combinator/."
     ]
    },
    {
     "cell_type": "markdown",
     "metadata": {},
     "source": [
      "\n",
      "Consider a normal function, `f(x) = x`. The fact that the variable is called x doesn't really mean anything. It's the variable in this function. If there are two variables, then the names are important to tell them apart, but still not more than that.\n",
      "\n",
      "To introduce the idea of functions that take functions, consider the derivative.\n",
      "\n",
      "`d/dx (g) = 2x`\n",
      "\n",
      "What the deritave really does is take a function with one argument and gives back a function with one argument. The fact that we say `d/dx` with an `x` is really more of a standard. What we saw is that the derivitve is a function itself that takes (a function of one variable) and gives back (a function of one variable)\n",
      "\n",
      "\n",
      "####Scope\n",
      "\n",
      "we already know f(x) = x. That means if we define more functions later, we can reference f.\n",
      "let's also say that we have a constant, q, such that q = 5. We can also talk about q later.\n",
      "\n",
      "Now make another function, z:\n",
      "z(y) = f(y) + q\n",
      "\n",
      "This function can use variables from outside its definition.\n",
      "\n",
      "When we make function that makes functions, the argument of the outer function is avaliable for use in the inner function. THis requires a different notation. In python, we use lambdas:\n",
      "\n",
      "\\# move this down into the currying section\n",
      "\n",
      "w = lambda h: lambda x: h(x)\n",
      "\n",
      "w is now a function that takes in a function h, and builds a function that takes in a value and gives back h applied to that value (so basically w takes in h and gives back h)\n",
      "\n",
      "\n"
     ]
    },
    {
     "cell_type": "markdown",
     "metadata": {},
     "source": [
      "##Currying"
     ]
    },
    {
     "cell_type": "markdown",
     "metadata": {},
     "source": [
      "#### Everyday Functions\n",
      "In everyday math or python coding, we would express a function that takes two real numbers and returns their sum as:"
     ]
    },
    {
     "cell_type": "code",
     "collapsed": false,
     "input": [
      "f = lambda x, y: x + y\n",
      "f(3, 5)"
     ],
     "language": "python",
     "metadata": {},
     "outputs": [
      {
       "metadata": {},
       "output_type": "pyout",
       "prompt_number": 25,
       "text": [
        "8"
       ]
      }
     ],
     "prompt_number": 25
    },
    {
     "cell_type": "markdown",
     "metadata": {},
     "source": [
      "This required the assumptions that one function could take several variables.\n",
      "\n",
      "#### Lambda Calculus Rules\n",
      "\n",
      "When we're doing lambda calculus, we live in a world where functions can only have one variable. Luckily, this same world also allows functions to return other functions. We can take advantage of this by wrapping two functions. Once we're inside the first function, the variabl"
     ]
    },
    {
     "cell_type": "code",
     "collapsed": false,
     "input": [
      "g = lambda x: lambda y: x + y\n",
      "g(2)(6)"
     ],
     "language": "python",
     "metadata": {},
     "outputs": [
      {
       "metadata": {},
       "output_type": "pyout",
       "prompt_number": 34,
       "text": [
        "8"
       ]
      }
     ],
     "prompt_number": 34
    },
    {
     "cell_type": "markdown",
     "metadata": {},
     "source": [
      "Once we're in the first lambda x, x is basically a constant. That means we can define other functions that use its value inside.\n",
      "\n",
      "#### `f` and `g` are the same\n",
      "We want to show that `f` and `g` are the same. You can try this for any two integers. Remember that this example uses addition, which has the associative property, so the order doesn't matter. In general, this isn't true."
     ]
    },
    {
     "cell_type": "code",
     "collapsed": false,
     "input": [
      "assert 11 == f(4, 7) == g(4)(7)"
     ],
     "language": "python",
     "metadata": {},
     "outputs": [],
     "prompt_number": 35
    },
    {
     "cell_type": "markdown",
     "metadata": {},
     "source": [
      "For the sake of making `g` act more like `f` throughout this tutorial, I've created a wrapper class called `MultiLambda`"
     ]
    },
    {
     "cell_type": "code",
     "collapsed": false,
     "input": [
      "class MultiLambda:\n",
      "    \"\"\"defines a general wrapper for multiple nested single argument lambdas\"\"\"\n",
      "    \n",
      "    def __init__(self, function):\n",
      "        if isinstance(function, MultiLambda):\n",
      "            function = function.get_function()\n",
      "        self.function = function\n",
      "    \n",
      "    def get_function(self):\n",
      "        return self.function\n",
      "    \n",
      "    def __call__(self, *args):\n",
      "        if 0 == len(args):\n",
      "            return self.function()\n",
      "        \n",
      "        elif 1 == len(args):\n",
      "            arg = args[0]\n",
      "            res = self.function(arg)\n",
      "            return res if res is not callable else MultiLambda(res)\n",
      "       \n",
      "        else:\n",
      "            arg, args = args[0], args[1:]\n",
      "            res = self.function(arg)\n",
      "            return MultiLambda(res)(args)"
     ],
     "language": "python",
     "metadata": {},
     "outputs": [],
     "prompt_number": 46
    },
    {
     "cell_type": "markdown",
     "metadata": {},
     "source": [
      "let's just show that wrapping a curried function with MultiLambda allows for applications just like uncurried functions"
     ]
    },
    {
     "cell_type": "code",
     "collapsed": false,
     "input": [
      "h = MultiLambda(lambda x: lambda y: x + y)\n",
      "h(7, 3)\n",
      "#assert 10 == f(7, 3) == g(7)(3) == h(7, 3)"
     ],
     "language": "python",
     "metadata": {},
     "outputs": [
      {
       "ename": "TypeError",
       "evalue": "unsupported operand type(s) for +: 'int' and 'tuple'",
       "output_type": "pyerr",
       "traceback": [
        "\u001b[0;31m---------------------------------------------------------------------------\u001b[0m\n\u001b[0;31mTypeError\u001b[0m                                 Traceback (most recent call last)",
        "\u001b[0;32m<ipython-input-48-fa116a8db929>\u001b[0m in \u001b[0;36m<module>\u001b[0;34m()\u001b[0m\n\u001b[1;32m      1\u001b[0m \u001b[0mh\u001b[0m \u001b[0;34m=\u001b[0m \u001b[0mMultiLambda\u001b[0m\u001b[0;34m(\u001b[0m\u001b[0;32mlambda\u001b[0m \u001b[0mx\u001b[0m\u001b[0;34m:\u001b[0m \u001b[0;32mlambda\u001b[0m \u001b[0my\u001b[0m\u001b[0;34m:\u001b[0m \u001b[0mx\u001b[0m \u001b[0;34m+\u001b[0m \u001b[0my\u001b[0m\u001b[0;34m)\u001b[0m\u001b[0;34m\u001b[0m\u001b[0m\n\u001b[0;32m----> 2\u001b[0;31m \u001b[0mh\u001b[0m\u001b[0;34m(\u001b[0m\u001b[0;36m7\u001b[0m\u001b[0;34m,\u001b[0m \u001b[0;36m3\u001b[0m\u001b[0;34m)\u001b[0m\u001b[0;34m\u001b[0m\u001b[0m\n\u001b[0m\u001b[1;32m      3\u001b[0m \u001b[0;31m#assert 10 == f(7, 3) == g(7)(3) == h(7, 3)\u001b[0m\u001b[0;34m\u001b[0m\u001b[0;34m\u001b[0m\u001b[0m\n",
        "\u001b[0;32m<ipython-input-46-cc4bf41b69f5>\u001b[0m in \u001b[0;36m__call__\u001b[0;34m(self, *args)\u001b[0m\n\u001b[1;32m     23\u001b[0m             \u001b[0mres\u001b[0m \u001b[0;34m=\u001b[0m \u001b[0mself\u001b[0m\u001b[0;34m.\u001b[0m\u001b[0mfunction\u001b[0m\u001b[0;34m(\u001b[0m\u001b[0marg\u001b[0m\u001b[0;34m)\u001b[0m\u001b[0;34m\u001b[0m\u001b[0m\n\u001b[1;32m     24\u001b[0m             \u001b[0;32massert\u001b[0m \u001b[0mcallable\u001b[0m\u001b[0;34m(\u001b[0m\u001b[0mres\u001b[0m\u001b[0;34m)\u001b[0m\u001b[0;34m\u001b[0m\u001b[0m\n\u001b[0;32m---> 25\u001b[0;31m             \u001b[0;32mreturn\u001b[0m \u001b[0mMultiLambda\u001b[0m\u001b[0;34m(\u001b[0m\u001b[0mres\u001b[0m\u001b[0;34m)\u001b[0m\u001b[0;34m(\u001b[0m\u001b[0margs\u001b[0m\u001b[0;34m)\u001b[0m\u001b[0;34m\u001b[0m\u001b[0m\n\u001b[0m",
        "\u001b[0;32m<ipython-input-46-cc4bf41b69f5>\u001b[0m in \u001b[0;36m__call__\u001b[0;34m(self, *args)\u001b[0m\n\u001b[1;32m     16\u001b[0m         \u001b[0;32melif\u001b[0m \u001b[0;36m1\u001b[0m \u001b[0;34m==\u001b[0m \u001b[0mlen\u001b[0m\u001b[0;34m(\u001b[0m\u001b[0margs\u001b[0m\u001b[0;34m)\u001b[0m\u001b[0;34m:\u001b[0m\u001b[0;34m\u001b[0m\u001b[0m\n\u001b[1;32m     17\u001b[0m             \u001b[0marg\u001b[0m \u001b[0;34m=\u001b[0m \u001b[0margs\u001b[0m\u001b[0;34m[\u001b[0m\u001b[0;36m0\u001b[0m\u001b[0;34m]\u001b[0m\u001b[0;34m\u001b[0m\u001b[0m\n\u001b[0;32m---> 18\u001b[0;31m             \u001b[0mres\u001b[0m \u001b[0;34m=\u001b[0m \u001b[0mself\u001b[0m\u001b[0;34m.\u001b[0m\u001b[0mfunction\u001b[0m\u001b[0;34m(\u001b[0m\u001b[0marg\u001b[0m\u001b[0;34m)\u001b[0m\u001b[0;34m\u001b[0m\u001b[0m\n\u001b[0m\u001b[1;32m     19\u001b[0m             \u001b[0;32mreturn\u001b[0m \u001b[0mres\u001b[0m \u001b[0;32mif\u001b[0m \u001b[0mres\u001b[0m \u001b[0;32mis\u001b[0m \u001b[0;32mnot\u001b[0m \u001b[0mcallable\u001b[0m \u001b[0;32melse\u001b[0m \u001b[0mMultiLambda\u001b[0m\u001b[0;34m(\u001b[0m\u001b[0mres\u001b[0m\u001b[0;34m)\u001b[0m\u001b[0;34m\u001b[0m\u001b[0m\n\u001b[1;32m     20\u001b[0m \u001b[0;34m\u001b[0m\u001b[0m\n",
        "\u001b[0;32m<ipython-input-48-fa116a8db929>\u001b[0m in \u001b[0;36m<lambda>\u001b[0;34m(y)\u001b[0m\n\u001b[0;32m----> 1\u001b[0;31m \u001b[0mh\u001b[0m \u001b[0;34m=\u001b[0m \u001b[0mMultiLambda\u001b[0m\u001b[0;34m(\u001b[0m\u001b[0;32mlambda\u001b[0m \u001b[0mx\u001b[0m\u001b[0;34m:\u001b[0m \u001b[0;32mlambda\u001b[0m \u001b[0my\u001b[0m\u001b[0;34m:\u001b[0m \u001b[0mx\u001b[0m \u001b[0;34m+\u001b[0m \u001b[0my\u001b[0m\u001b[0;34m)\u001b[0m\u001b[0;34m\u001b[0m\u001b[0m\n\u001b[0m\u001b[1;32m      2\u001b[0m \u001b[0mh\u001b[0m\u001b[0;34m(\u001b[0m\u001b[0;36m7\u001b[0m\u001b[0;34m,\u001b[0m \u001b[0;36m3\u001b[0m\u001b[0;34m)\u001b[0m\u001b[0;34m\u001b[0m\u001b[0m\n\u001b[1;32m      3\u001b[0m \u001b[0;31m#assert 10 == f(7, 3) == g(7)(3) == h(7, 3)\u001b[0m\u001b[0;34m\u001b[0m\u001b[0;34m\u001b[0m\u001b[0m\n",
        "\u001b[0;31mTypeError\u001b[0m: unsupported operand type(s) for +: 'int' and 'tuple'"
       ]
      }
     ],
     "prompt_number": 48
    },
    {
     "cell_type": "markdown",
     "metadata": {},
     "source": [
      "##Church Encodings\n",
      "Church Encodings are a way of using a world that just consists of functions and their applications to represent numbers, booleans, and tuples.\n",
      "\n",
      "Since we're doing this in the spirit of playing around in python, I've made an abstract class for Church Encodings. This will help us later when interacting with the iPython console so we can get at what our encodings really mean!"
     ]
    },
    {
     "cell_type": "code",
     "collapsed": false,
     "input": [
      "class ChurchEncoding(MultiLambda):        \n",
      "    \"\"\"Defines a general wrapper for church encodings\"\"\"\n",
      "    \n",
      "    @staticmethod\n",
      "    def from_python(boolean):\n",
      "        pass\n",
      "    \n",
      "    def to_python(self):\n",
      "        pass\n",
      "    \n",
      "    def __repr__(self):\n",
      "        return \"[c:{}]\".format(self.to_python())  "
     ],
     "language": "python",
     "metadata": {},
     "outputs": [],
     "prompt_number": 50
    },
    {
     "cell_type": "markdown",
     "metadata": {},
     "source": [
      "### Booleans\n",
      "There are two booleans: true and false. In python, these are constants called `True` and `False`. Our Church Encodings are all going to be in uppercase to prevent conflicts with python's constants and keywords.\n",
      "\n",
      "To represent this in lambda calculus, we need to pick two things. First, we need to have two things to pick, which means we need two functions since all there is are functions. Then we'll decide which function means true and which means false and we're done."
     ]
    },
    {
     "cell_type": "code",
     "collapsed": false,
     "input": [
      "TRUE = lambda x: lambda y: x\n",
      "FALSE = lambda x: lambda Y: y\n",
      "#NOT = lambda boolean:"
     ],
     "language": "python",
     "metadata": {},
     "outputs": [],
     "prompt_number": 75
    },
    {
     "cell_type": "markdown",
     "metadata": {},
     "source": []
    },
    {
     "cell_type": "code",
     "collapsed": false,
     "input": [
      "class ChurchBoolean(ChurchEncoding): \n",
      "    \"\"\"Wrapper for church encodings for booleans\"\"\"\n",
      "    \n",
      "    TRUE = ChurchBoolean(lambda x: lambda y: x)\n",
      "    FALSE = ChurchBoolean(lambda x: lambda y: y)\n",
      "    \n",
      "    @staticmethod\n",
      "    def from_python(py_boolean):\n",
      "        return ChurchBoolean.TRUE if py_boolean else ChurchBoolean.FALSE\n",
      "    \n",
      "    def to_python(self):\n",
      "        return self(True, False)\n",
      "    \n",
      "    def NOT(self):\n",
      "        return self(ChurchBoolean.FALSE, ChurchBoolean.TRUE)\n",
      "    \n",
      "    def __and__(self, other):\n",
      "        return self(other, ChurchBoolean.FALSE)\n",
      "    \n",
      "    def __or__(self, other):\n",
      "        return self(ChurchBoolean.TRUE, other)\n",
      "    \n",
      "    def __xor__(self, other):\n",
      "        return self(ChurchBoolean.NOT(other), other)\n",
      "    \n",
      "#TRUE = ChurchBoolean.from_python(True)\n",
      "#FALSE = ChurchBoolean.from_python(False)\n",
      "        \n",
      "        \n",
      "NOT = lambda boolean: lambda x: lambda y: boolean(y, x)\n",
      "ASSERT(TRUE)\n",
      "ASSERT(NOT(FALSE))\n",
      "\n",
      "AND = ChurchEncoding(lambda a: lambda b: ChurchBoolean(lambda x: lambda y: a(b)(FALSE)))\n",
      "ASSERT(AND(TRUE, TRUE))\n",
      "ASSERT(NOT(AND(TRUE, FALSE)))\n",
      "ASSERT(NOT(AND(FALSE, TRUE)))\n",
      "ASSERT(NOT(AND(FALSE, FALSE)))\n",
      "\n",
      "OR = ChurchEncoding(lambda a: lambda b: ChurchBoolean(lambda x: lambda y: a(TRUE)(b)))\n",
      "ASSERT(OR(TRUE, TRUE))\n",
      "ASSERT(OR(TRUE, FALSE))\n",
      "ASSERT(OR(FALSE, TRUE))\n",
      "ASSERT(NOT(OR(FALSE, FALSE)))\n",
      "\n",
      "#IF = ChurchEncoding(lambda boolean: lambda x: lambda y: boolean(x, y))\n",
      "#ASSERT(IF(TRUE, TRUE, TRUE))\n",
      "#ASSERT(IF(TRUE, TRUE, FALSE))\n",
      "#ASSERT(NOT(IF(TRUE, FALSE, TRUE)))\n",
      "#ASSERT(NOT(IF(TRUE, FALSE, FALSE)))\n",
      "#ASSERT(IF(FALSE, TRUE, TRUE))\n",
      "#ASSERT(NOT(IF(FALSE, TRUE, FALSE)))\n",
      "#ASSERT(IF(FALSE, FALSE, TRUE))\n",
      "#ASSERT(NOT(IF(FALSE, FALSE, FALSE)))\n",
      "\n",
      "XOR = lambda a: lambda b: ChurchBoolean(lambda x: lambda y: a(NOT(b))(b))\n",
      "XNOR = lambda a: lambda b: ChurchBoolean(lambda x: lambda y: a(b)(NOT(b)))"
     ],
     "language": "python",
     "metadata": {},
     "outputs": [],
     "prompt_number": 73
    },
    {
     "cell_type": "code",
     "collapsed": false,
     "input": [],
     "language": "python",
     "metadata": {},
     "outputs": [
      {
       "metadata": {},
       "output_type": "pyout",
       "prompt_number": 71,
       "text": [
        "True"
       ]
      }
     ],
     "prompt_number": 71
    },
    {
     "cell_type": "code",
     "collapsed": false,
     "input": [
      "class ChurchNumber(ChurchEncoding): \n",
      "    @staticmethod\n",
      "    def from_python(n):\n",
      "        \"\"\"converts a python number to a church number\"\"\"\n",
      "        return ChurchNumber(lambda f: lambda x: reduce(lambda accum, current: f(accum), range(n), x))\n",
      "    \n",
      "    def to_python(self):\n",
      "        return self(lambda x: 1 + x)(0) #FIXME\n",
      "    \n",
      "    def __len__(self):\n",
      "        return self.to_python()\n",
      "    \n",
      "def c(p):\n",
      "    return ChurchNumber.from_python(p)\n",
      "\n",
      "def p(c):\n",
      "    return ChurchNumber(c).to_python()\n",
      "\n",
      "assert 0 == len(ChurchNumber.from_python(0))\n",
      "assert 9 == len(ChurchNumber.from_python(9))"
     ],
     "language": "python",
     "metadata": {},
     "outputs": [],
     "prompt_number": 361
    },
    {
     "cell_type": "code",
     "collapsed": false,
     "input": [
      "zero = lambda f: lambda x: x\n",
      "one = lambda f: lambda x: f(x) \n",
      "two = lambda f: lambda x: f(f(x))\n",
      "three = lambda f: lambda x: f(f(f(x)))"
     ],
     "language": "python",
     "metadata": {},
     "outputs": []
    },
    {
     "cell_type": "code",
     "collapsed": false,
     "input": [
      "add_one = lambda number: lambda f: lambda x:  number(f)(f(x))\n",
      "\n",
      "add = lambda n1: lambda n2: lambda f: lambda x: n1(f)(n2(f)(x))"
     ],
     "language": "python",
     "metadata": {},
     "outputs": [],
     "prompt_number": 361
    },
    {
     "cell_type": "code",
     "collapsed": false,
     "input": [
      "c_successor = lambda c_num: lambda f: lambda x: c_num(f)(f(x))\n",
      "\n",
      "for x in range(10):\n",
      "    assert x + 1 == p(c_successor(c(x)))"
     ],
     "language": "python",
     "metadata": {},
     "outputs": [],
     "prompt_number": 362
    },
    {
     "cell_type": "code",
     "collapsed": false,
     "input": [
      "#c_plus = lambda c_num1, c_num2: c_num1(c_successor)(c_num2)\n",
      "c_plus = lambda c_num1, c_num2: lambda f: lambda x: c_num1(f)(c_num2(f)(x))\n",
      "\n",
      "for x in range(10):\n",
      "    assert x + 2 == p(c_plus(c(x), c(2)))"
     ],
     "language": "python",
     "metadata": {},
     "outputs": [],
     "prompt_number": 363
    },
    {
     "cell_type": "code",
     "collapsed": false,
     "input": [
      "c_multiply = lambda c_num1, c_num2: lambda f: c_num1(c_num2(f))\n",
      "\n",
      "for x in range(10):\n",
      "    assert x * 2 == p(c_multiply(c(x), c(2)))"
     ],
     "language": "python",
     "metadata": {},
     "outputs": [],
     "prompt_number": 364
    },
    {
     "cell_type": "code",
     "collapsed": false,
     "input": [
      "c_power = lambda c_num1, c_num2: c_num2(c_num1)\n",
      "\n",
      "for x in range(10):\n",
      "    assert x ** 2 == p(c_power(c(x), c(2)))"
     ],
     "language": "python",
     "metadata": {},
     "outputs": [],
     "prompt_number": 365
    },
    {
     "cell_type": "code",
     "collapsed": false,
     "input": [
      "c_predecessor = lambda c_num: to_c_num(p(c_num) - 1)\n",
      "# I cheated...\n",
      "   \n",
      "for x in range(10):\n",
      "    assert x == p(c_predecessor(c(x + 1)))"
     ],
     "language": "python",
     "metadata": {},
     "outputs": [],
     "prompt_number": 366
    },
    {
     "cell_type": "code",
     "collapsed": false,
     "input": [
      "c_subtract = lambda c_num1, c_num2: c_num2(c_predecessor)(c_num1)\n",
      "\n",
      "for x in range(10):\n",
      "    assert 23 - x == p(c_subtract(c(23), c(x)))"
     ],
     "language": "python",
     "metadata": {},
     "outputs": [],
     "prompt_number": 367
    },
    {
     "cell_type": "code",
     "collapsed": false,
     "input": [
      "c_iszero = lambda c_num: c_num(lambda f: FALSE)(TRUE) \n",
      "\n",
      "ASSERT(c_iszero(c(0)))\n",
      "ASSERT(NOT(c_iszero(c(1))))\n",
      "ASSERT(NOT(c_iszero(c(2))))"
     ],
     "language": "python",
     "metadata": {},
     "outputs": [],
     "prompt_number": 368
    },
    {
     "cell_type": "code",
     "collapsed": false,
     "input": [
      "c_lte = lambda c_num1, c_num2: c_iszero(c_subtract(c_num1, c_num2))\n",
      "\n",
      "c_assert = ASSERT\n",
      "c_assertf = lambda x: ASSERT(NOT(x))\n",
      "\n",
      "c_assert(c_lte(c0, c0))\n",
      "c_assert(c_lte(c1, c1))\n",
      "c_assert(c_lte(c0, c1))\n",
      "c_assert(c_lte(c1, c2))\n",
      "c_assertf(c_lte(c2, c1))\n",
      "c_assertf(c_lte(c1, c0))"
     ],
     "language": "python",
     "metadata": {},
     "outputs": [],
     "prompt_number": 369
    },
    {
     "cell_type": "code",
     "collapsed": false,
     "input": [
      "c_eq = lambda c_num1, c_num2: AND(c_lte(c_num1, c_num2), c_lte(c_num2, c_num1))\n",
      "\n",
      "c_assert(c_eq(c0, c0))\n",
      "c_assert(c_eq(c1, c1))\n",
      "c_assertf(c_eq(c0, c1))\n",
      "c_assertf(c_eq(c1, c0))"
     ],
     "language": "python",
     "metadata": {},
     "outputs": [],
     "prompt_number": 370
    },
    {
     "cell_type": "code",
     "collapsed": false,
     "input": [
      "\n",
      "c_pair = lambda x: lambda y: lambda f: f(x)(y)\n",
      "c_first = lambda pair: pair(TRUE)\n",
      "c_rest = lambda pair: pair(FALSE)\n",
      "\n",
      "class ChurchPair(ChurchEncoding):\n",
      "    @staticmethod\n",
      "    def from_python(first, rest):\n",
      "        return ChurchPair(lambda f: f(first)(rest))\n",
      "    \n",
      "    def to_python(self):\n",
      "        return c_first(self), c_rest(self)\n",
      "    \n",
      "    def first(self):\n",
      "        return c_first(self)\n",
      "    \n",
      "    def rest(self):\n",
      "        return c_rest(self)\n",
      "\n",
      "pair_1 = ChurchPair.from_python(3, 5)\n",
      "assert 3 == c_first(pair_1)\n",
      "assert 5 == c_rest(pair_1)"
     ],
     "language": "python",
     "metadata": {},
     "outputs": [],
     "prompt_number": 442
    },
    {
     "cell_type": "code",
     "collapsed": false,
     "input": [
      "class ChurchList(ChurchEncoding):\n",
      "    nil = lambda x: TRUE\n",
      "    is_empty = lambda pair: pair(lambda x: lambda y: FALSE)\n",
      "    \n",
      "    \n",
      "    @staticmethod\n",
      "    def from_python(l):\n",
      "        o = nil\n",
      "        for element in l[::-1]:\n",
      "            o = c_pair(element)(o)\n",
      "        return ChurchList(o)\n",
      "        # anything for the one-liner\n",
      "        # ChurchList(reduce(lambda accumulator, element: c_pair(element, accumulator), l[::-1], c_nil))\n",
      "    \n",
      "    def to_python(self):\n",
      "        out = []\n",
      "        l = self.function\n",
      "        while(c_empty(l)(False)(True)):\n",
      "            first = c_first(l)\n",
      "            l = c_second(l)\n",
      "            out.append(first)      \n",
      "        return out\n",
      "    \n",
      "assert [] == ChurchList.from_python([]).to_python()\n",
      "assert [1,2] == ChurchList.from_python([1, 2]).to_python()\n",
      "assert [\"ELEMENT 2\", \"ELEMENT 1\"] == ChurchList(list_2).to_python()\n",
      "\n",
      "list_1 = c_pair(\"ELEMENT 1\")(c_nil)\n",
      "list_2 = c_pair(\"ELEMENT 2\")(list_1)\n",
      "\n",
      "c_assert(c_empty(c_nil))\n",
      "c_assertf(c_empty(list_1))\n",
      "c_assertf(c_empty(list_2))"
     ],
     "language": "python",
     "metadata": {},
     "outputs": [],
     "prompt_number": 443
    },
    {
     "cell_type": "code",
     "collapsed": false,
     "input": [
      "c_shift_increment = lambda pair: c_pair(c_rest(pair))(c_successor(c_rest(pair)))\n",
      "                         \n",
      "#p1(tt), c_shift_increment(p1)(tt)"
     ],
     "language": "python",
     "metadata": {},
     "outputs": [],
     "prompt_number": 444
    },
    {
     "cell_type": "code",
     "collapsed": false,
     "input": [
      "zz = c_pair(c0)(c0)\n",
      "\n",
      "c_repred = lambda c_num: c_first(c_num(c_shift_increment)(zz))\n",
      "\n",
      "for x in range(1, 10):\n",
      "    assert x == p(c_repred(c(x + 1)))"
     ],
     "language": "python",
     "metadata": {},
     "outputs": [],
     "prompt_number": 447
    },
    {
     "cell_type": "code",
     "collapsed": false,
     "input": [],
     "language": "python",
     "metadata": {},
     "outputs": [],
     "prompt_number": 446
    },
    {
     "cell_type": "markdown",
     "metadata": {},
     "source": [
      "## Y Combinator\n",
      "\n",
      "we want to find the fixed points of a function, such that `x = f(x)`\n",
      "\n",
      "let's say we have a function `y` that takes in a function `f` and gives us back the right `x` such that `x = f(x)`\n",
      "\n",
      "then we can substitute in `y(f)` for `x` and get the equation  `y(f) = f(y(f))`"
     ]
    },
    {
     "cell_type": "code",
     "collapsed": false,
     "input": [
      "give_me_fixed_point = lambda f: f(y(f))"
     ],
     "language": "python",
     "metadata": {},
     "outputs": [],
     "prompt_number": 376
    },
    {
     "cell_type": "markdown",
     "metadata": {},
     "source": [
      "don't try and apply this function. it won't work because it will recur infinitely.\n",
      "\n",
      "###Wrapping Trick"
     ]
    },
    {
     "cell_type": "code",
     "collapsed": false,
     "input": [
      "real_fixed = lambda f: f(lambda x: y(f)(x))"
     ],
     "language": "python",
     "metadata": {},
     "outputs": [],
     "prompt_number": 377
    },
    {
     "cell_type": "code",
     "collapsed": false,
     "input": [
      "y = lambda F: (lambda x: F(lambda y: (x(x))(y)))(lambda x: F(lambda y:(x(x))(y)))\n",
      "#that's it. in all of its glory."
     ],
     "language": "python",
     "metadata": {},
     "outputs": [],
     "prompt_number": 378
    },
    {
     "cell_type": "code",
     "collapsed": false,
     "input": [
      "fact_gen = lambda factorial: lambda n: c_if(c_iszero(n), c1, c_multiply(n, factorial(factorial)(c_predecessor(n))))\n",
      "\n",
      "#\u03bbr. \u03bbn.(1, if n = 0; else n \u00d7 (r r (n\u22121)))"
     ],
     "language": "python",
     "metadata": {},
     "outputs": [],
     "prompt_number": 379
    },
    {
     "cell_type": "code",
     "collapsed": false,
     "input": [],
     "language": "python",
     "metadata": {},
     "outputs": []
    },
    {
     "cell_type": "code",
     "collapsed": false,
     "input": [],
     "language": "python",
     "metadata": {},
     "outputs": []
    }
   ],
   "metadata": {}
  }
 ]
}