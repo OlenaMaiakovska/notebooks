{
 "cells": [
  {
   "cell_type": "markdown",
   "metadata": {},
   "source": [
    "# Assignment Information\n",
    "\n",
    "- Assignment: Homework 5\n",
    "- Author: Charles Hoyt\n",
    "- Due: June 3 2016\n",
    "- Language: R\n",
    "- Posted: https://github.com/cthoyt/notebooks/blob/master/bit/AbiHomework5.ipynb"
   ]
  },
  {
   "cell_type": "code",
   "execution_count": 1,
   "metadata": {
    "collapsed": false
   },
   "outputs": [
    {
     "data": {
      "text/plain": [
       "               _                           \n",
       "platform       x86_64-apple-darwin15.4.0   \n",
       "arch           x86_64                      \n",
       "os             darwin15.4.0                \n",
       "system         x86_64, darwin15.4.0        \n",
       "status                                     \n",
       "major          3                           \n",
       "minor          3.0                         \n",
       "year           2016                        \n",
       "month          05                          \n",
       "day            03                          \n",
       "svn rev        70573                       \n",
       "language       R                           \n",
       "version.string R version 3.3.0 (2016-05-03)\n",
       "nickname       Supposedly Educational      "
      ]
     },
     "metadata": {},
     "output_type": "display_data"
    }
   ],
   "source": [
    "version"
   ]
  },
  {
   "cell_type": "markdown",
   "metadata": {},
   "source": [
    "# Exercise 1\n",
    "\n",
    "The following table lists the duration of pregnancy for different species \n",
    "together with their expected life time in years.\n",
    "\n",
    "\n",
    "| Species | Pregnancy (weeks) | Expected life time |\n",
    "|---|---|---|\n",
    "| Lemur | 18 | 18 |\n",
    "| Macaque | 24 | 26 |\n",
    "| Gibbon | 30 | 30 |\n",
    "| Chimpanze | 34 | 40 |\n",
    "| Human | 40 | 70 |"
   ]
  },
  {
   "cell_type": "markdown",
   "metadata": {},
   "source": [
    "## Exercise 1A\n",
    "\n",
    "Determine the coefficients of the linear regression, which describes the\n",
    "expected life time as a function of the duration of pregnancy manually. (3\n",
    "points + 1 bonus point)"
   ]
  },
  {
   "cell_type": "code",
   "execution_count": null,
   "metadata": {
    "collapsed": true
   },
   "outputs": [],
   "source": []
  },
  {
   "cell_type": "markdown",
   "metadata": {},
   "source": [
    "## Exercise 1B\n",
    "\n",
    "Compute the residual variance. (2 points + 1 bonus point)"
   ]
  },
  {
   "cell_type": "code",
   "execution_count": null,
   "metadata": {
    "collapsed": true
   },
   "outputs": [],
   "source": []
  },
  {
   "cell_type": "markdown",
   "metadata": {},
   "source": [
    "## Exercise 1C\n",
    "\n",
    "Compute the standard error of the slope coefficient β and manually test the\n",
    "hypothesis . (3 points + 1 bonus point)"
   ]
  },
  {
   "cell_type": "code",
   "execution_count": null,
   "metadata": {
    "collapsed": true
   },
   "outputs": [],
   "source": []
  },
  {
   "cell_type": "markdown",
   "metadata": {},
   "source": [
    "## Exercise 1D\n",
    "\n",
    "Compute the 95% confidence interval for the slope coefficient. (3 points + 1\n",
    "bonus point)"
   ]
  },
  {
   "cell_type": "code",
   "execution_count": null,
   "metadata": {
    "collapsed": true
   },
   "outputs": [],
   "source": []
  },
  {
   "cell_type": "markdown",
   "metadata": {},
   "source": [
    "# Exercise 2\n",
    "\n",
    "Consider the iris dataset introduced in the first exercise. Use R to fit a logistic regression model to separate the three plant types based on the given four predictor variables. Analyse and discuss the quality of fit and the significance of each of the predictor variables. (4 points + 1 bonus point)"
   ]
  },
  {
   "cell_type": "code",
   "execution_count": null,
   "metadata": {
    "collapsed": true
   },
   "outputs": [],
   "source": []
  },
  {
   "cell_type": "markdown",
   "metadata": {},
   "source": [
    "# Exercise 3\n",
    "\n",
    "We now want to investigate whether one of the predictors can be expressed as a linear combinatioin of the others. Fit linear regression models for this purpose and analyse their quality of fit. To which conclusions do you come? (5 points + 1 bonus point)"
   ]
  },
  {
   "cell_type": "markdown",
   "metadata": {},
   "source": [
    "# Exercise 4\n",
    "\n",
    "A gene is measured under 3 different stimulation conditions in 2 different cell lines in triplicates. The data looks as shown in the following table:\n",
    "\n",
    "| Cell line | Stim. 1 | Stim. 2 | Stim. 3 |\n",
    "|---|---|---|---|\n",
    "| A | 3.3 | 1.2 | 3.2 |\n",
    "| A | 2.3 | 0.9 | 4.0 | \n",
    "| A | 2.5 | 1.5 | 2.7 |\n",
    "| B | 1.3 | 1.5 | 3 |\n",
    "| B | 2 | 0.7 | 3.5 |\n",
    "| B | 1.5 | 1.8 | 3.3 |"
   ]
  },
  {
   "cell_type": "code",
   "execution_count": null,
   "metadata": {
    "collapsed": true
   },
   "outputs": [],
   "source": [
    "# Exercise 4A\n",
    "\n",
    "Fit an appropriate model to these data using two factors, one for the cell line and one for the stimulus. Analyse the model fit, also graphically. (6 points + 1 bonus point)\n",
    "\n",
    "# Exervise    \n",
    "Perform a (two-way) ANOVA and interpret the results. (4 points + 1 bonus point)"
   ]
  }
 ],
 "metadata": {
  "kernelspec": {
   "display_name": "R",
   "language": "R",
   "name": "ir"
  },
  "language_info": {
   "codemirror_mode": "r",
   "file_extension": ".r",
   "mimetype": "text/x-r-source",
   "name": "R",
   "pygments_lexer": "r",
   "version": "3.3.0"
  }
 },
 "nbformat": 4,
 "nbformat_minor": 0
}
