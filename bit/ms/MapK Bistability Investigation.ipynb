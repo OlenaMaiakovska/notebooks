{
 "cells": [
  {
   "cell_type": "code",
   "execution_count": 1,
   "metadata": {
    "collapsed": true
   },
   "outputs": [],
   "source": [
    "import numpy as np\n",
    "import pandas as pd\n",
    "from numpy import array\n",
    "from scipy import integrate\n",
    "import matplotlib.pyplot as plt\n",
    "import os\n",
    "import sys\n",
    "import subprocess\n",
    "import itertools as itt\n",
    "from multiprocessing import Pool"
   ]
  },
  {
   "cell_type": "code",
   "execution_count": 2,
   "metadata": {
    "collapsed": false
   },
   "outputs": [],
   "source": [
    "notebooks_base = os.environ[\"NOTEBOOKS\"]\n",
    "ms_base = os.path.join(notebooks_base, 'bit/ms')"
   ]
  },
  {
   "cell_type": "markdown",
   "metadata": {},
   "source": [
    "http://www.ebi.ac.uk/biomodels-main/BIOMD0000000026"
   ]
  },
  {
   "cell_type": "markdown",
   "metadata": {},
   "source": [
    "# Task 7\n",
    "\n",
    "Perform numeric simulations using the given parameter values and various initial values fulfilling the following conditions:\n",
    "    \n",
    "$x_5 +x_8 +x_9 +x_{10} +x_{11} = 100$\n",
    "\n",
    "$x_4+x_6+x_7 = 50$\n",
    "\n",
    "$x_1 +x_2 +x_3 +x_6 +x_7 +x_8 +x_9 +x_{10} +x_{11} = 200$\n",
    "\n",
    "These constraints are produced by the integration of each function in the cascade, and the assignment of a constant. These constants will be varied to understand the possible states of the system. Other constants can't be varied because they are physical kinetic constnts, while these refer to physical concentrations/mole counts."
   ]
  },
  {
   "cell_type": "markdown",
   "metadata": {},
   "source": [
    "To generate appropriate starting values, this system is reformulated with matricies and solved using SAGE."
   ]
  },
  {
   "cell_type": "markdown",
   "metadata": {},
   "source": [
    "$\\begin{bmatrix}\n",
    "100 \\\\ \n",
    "50 \\\\ \n",
    "200\n",
    "\\end{bmatrix}=\n",
    "\\begin{bmatrix}\n",
    "0 & 0 & 0 & 0 & 1 & 0 & 0 & 1 & 1 & 1 & 1 \\\\\n",
    "0 & 0 & 0 & 1 & 0 & 1 & 1 & 0 & 0 & 0 & 0 \\\\\n",
    "1 & 1 & 1 & 0 & 0 & 1 & 1 & 1 & 1 & 1 & 1\n",
    "\\end{bmatrix}\n",
    "\\begin{bmatrix}\n",
    "x_1 \\\\ \n",
    "\\vdots \\\\ \n",
    "x_{11}\n",
    "\\end{bmatrix}\n",
    "$"
   ]
  },
  {
   "cell_type": "markdown",
   "metadata": {},
   "source": [
    "That reduces to this, where $y_i$ is a slack variable.\n",
    "\n",
    "\n",
    "```python\n",
    "coeff = matrix(QQ, [[0, 0, 0, 0, 1, 0, 0, 1, 1, 1, 1],\n",
    "                    [0, 0, 0, 1, 0, 1, 1, 0, 0, 0, 0],\n",
    "                    [1, 1, 1, 0, 0, 1, 1, 1, 1, 1, 1]])\n",
    "n = coeff.ncols()\n",
    "const = vector(QQ, [100, 50, 200])\n",
    "\n",
    "c = coeff.solve_right(const)\n",
    "aug = coeff.augment(const)\n",
    "reduced = aug.rref()\n",
    "\n",
    "\n",
    "N = coeff.right_kernel(basis='pivot').basis()\n",
    "\n",
    "v = vector(QQ, [0,2,3,4,5,6,7,8])  # must be 8 long\n",
    "\n",
    " \n",
    "Nm = matrix(QQ, N)\n",
    "\n",
    "soln = c + v * Nm\n",
    "\n",
    "check = sum(soln[i]*coeff.column(i) for i in range(n))\n",
    "check == const\n",
    "\n",
    "\n",
    "```"
   ]
  },
  {
   "cell_type": "markdown",
   "metadata": {},
   "source": [
    "$\\begin{bmatrix}\n",
    "x_1 & \\dots & x_{11}\n",
    "\\end{bmatrix}=\n",
    "\\begin{bmatrix}  \n",
    "200 & 0 & 0 & 50 & 100 & 0 & 0 & 0 & 0 & 0 & 0\n",
    "\\end{bmatrix} + \n",
    "\\begin{bmatrix}\n",
    "y_1 & \\dots & y_8\n",
    "\\end{bmatrix}\n",
    "\\begin{bmatrix}\n",
    "-1 & 1 & 0 & 0 & 0 & 0 & 0 & 0 & 0 & 0 & 0 \\\\\n",
    "-1 & 0 & 1 & 0 & 0 & 0 & 0 & 0 & 0 & 0 & 0 \\\\\n",
    "-1 & 0 & 0 & -1 & 0 & 1 & 0 & 0 & 0 & 0 & 0 \\\\\n",
    "-1 & 0 & 0 & -1 & 0 & 0 & 1 & 0 & 0 & 0 & 0 \\\\\n",
    "-1 & 0 & 0 & 0 & -1 & 0 & 0 & 1 & 0 & 0 & 0 \\\\\n",
    "-1 & 0 & 0 & 0 & -1 & 0 & 0 & 0 & 1 & 0 & 0 \\\\\n",
    "-1 & 0 & 0 & 0 & -1 & 0 & 0 & 0 & 0 & 1 & 0 \\\\\n",
    "-1 & 0 & 0 & 0 & -1 & 0 & 0 & 0 & 0 & 0 & 1\n",
    "\\end{bmatrix}\n",
    "$"
   ]
  },
  {
   "cell_type": "code",
   "execution_count": 3,
   "metadata": {
    "collapsed": true
   },
   "outputs": [],
   "source": [
    "a, b, c = 100, 50, 200\n",
    "\n",
    "orig_const = array([a,b,c])\n",
    "orig_coeff = array([[0, 0, 0, 0, 1, 0, 0, 1, 1, 1, 1],\n",
    "                    [0, 0, 0, 1, 0, 1, 1, 0, 0, 0, 0],\n",
    "                    [1, 1, 1, 0, 0, 1, 1, 1, 1, 1, 1]])"
   ]
  },
  {
   "cell_type": "code",
   "execution_count": 4,
   "metadata": {
    "collapsed": true
   },
   "outputs": [],
   "source": [
    "coeff = array([[-1,  1,  0,  0,  0,  0,  0,  0,  0,  0,  0],\n",
    "               [-1,  0,  1,  0,  0,  0,  0,  0,  0,  0,  0],\n",
    "               [-1,  0,  0, -1,  0,  1,  0,  0,  0,  0,  0],\n",
    "               [-1,  0,  0, -1,  0,  0,  1,  0,  0,  0,  0],\n",
    "               [-1,  0,  0,  0, -1,  0,  0,  1,  0,  0,  0],\n",
    "               [-1,  0,  0,  0, -1,  0,  0,  0,  1,  0,  0],\n",
    "               [-1,  0,  0,  0, -1,  0,  0,  0,  0,  1,  0],\n",
    "               [-1,  0,  0,  0, -1,  0,  0,  0,  0,  0,  1]])\n",
    "\n",
    "const = array([c, 0, 0, b, a, 0, 0, 0, 0, 0, 0])"
   ]
  },
  {
   "cell_type": "code",
   "execution_count": 5,
   "metadata": {
    "collapsed": false
   },
   "outputs": [
    {
     "data": {
      "text/plain": [
       "array([ 0.18204226,  0.85901357,  0.33031605,  0.27461355,  0.53125578,\n",
       "        0.06161621,  0.48543654,  0.20538199])"
      ]
     },
     "execution_count": 5,
     "metadata": {},
     "output_type": "execute_result"
    }
   ],
   "source": [
    "v = np.random.uniform(size=8)\n",
    "v"
   ]
  },
  {
   "cell_type": "code",
   "execution_count": 6,
   "metadata": {
    "collapsed": false
   },
   "outputs": [
    {
     "data": {
      "text/plain": [
       "array([  1.97070324e+02,   1.82042263e-01,   8.59013571e-01,\n",
       "         4.93950704e+01,   9.87163095e+01,   3.30316046e-01,\n",
       "         2.74613548e-01,   5.31255775e-01,   6.16162144e-02,\n",
       "         4.85436535e-01,   2.05381989e-01])"
      ]
     },
     "execution_count": 6,
     "metadata": {},
     "output_type": "execute_result"
    }
   ],
   "source": [
    "start = const + v @ coeff\n",
    "assert np.allclose(orig_const, sum(start[i] * orig_coeff[:,i] for i in range(11)))\n",
    "\n",
    "start\n"
   ]
  },
  {
   "cell_type": "code",
   "execution_count": 7,
   "metadata": {
    "collapsed": true
   },
   "outputs": [],
   "source": [
    "def mapk_cascade(y, t, c1, c2, c3, c4, c5, c6, c7, c8, c9, c10, c11, c12, c13, c14, c15, c16):\n",
    "    x1, x2, x3, x4, x5, x6, x7, x8, x9, x10, x11 = y\n",
    "    \n",
    "    y1 = c2 * x6 + c15 * x11 - c1 * x1 * x4 - c16 * x1 * x5\n",
    "    y2 = c3 * x6 + c5 * x7 + c10 * x9 + c13 * x10 - x2 * x5 * (c11 + c12) - c4 * x2 * x4\n",
    "    y3 = c6 * x7 + c8 * x8 - c7 * x3 * x5\n",
    "    y4 = x6 * (c2 + c3) + x7 * (c5 + c6) - c1 * x1 * x4 - c4 * x2 * x4\n",
    "    y5 = c8 * x8 + c10 * x9 + c13 * x10 + c15 * x11 - x2 * x5 * (c11 + c12) - c7 * x3 * x5 - c16 * x1 * x5 \n",
    "    y6 = c1 * x1 * x4 - x6 * (c2 + c3)\n",
    "    y7 = c4 * x2 * x4 - x7 * (c5 + c6)\n",
    "    y8 = c7 * x3 * x5 - x8 * (c8 + c9)\n",
    "    y9 = c9 * x8 - c10 * x9 + c11 * x2 * x5\n",
    "    y10 = c12 * x2 * x5 - x10 * (c13 + c14)\n",
    "    y11 = c14 * x10 - c15 * x11 + c16 * x1 * x5\n",
    "    \n",
    "    return [y1, y2, y3, y4, y5, y6, y7, y8, y9, y10, y11]"
   ]
  },
  {
   "cell_type": "code",
   "execution_count": 8,
   "metadata": {
    "collapsed": true
   },
   "outputs": [],
   "source": [
    "k1 = 0.02\n",
    "k2 = 1\n",
    "k3 = 0.01\n",
    "k4 = 0.032\n",
    "k5 = 1\n",
    "k6 = 15\n",
    "k7 = 0.045\n",
    "k8 = 1\n",
    "k9 = 0.092\n",
    "k10 = 1;\n",
    "k11 = 0.01\n",
    "k12 = 0.01\n",
    "k13 = 1\n",
    "k14 = 0.5\n",
    "k15 = 0.086\n",
    "k16 = 0.0011"
   ]
  },
  {
   "cell_type": "code",
   "execution_count": 9,
   "metadata": {
    "collapsed": false
   },
   "outputs": [],
   "source": [
    "t = np.linspace(1, 100, 1000)\n",
    "soln = integrate.odeint(mapk_cascade, start, t, args=(k1, k2, k3, k4, k5, k6, k7, k8, k9, k10, k11, k12, k13, k14, k15, k16))"
   ]
  },
  {
   "cell_type": "markdown",
   "metadata": {},
   "source": [
    "Do the trajectories converge to the same value for all those initial values? Do the values of the following sums stay constant?\n",
    "\n",
    "1. $x_1 + x_2 +x_3 +x_4 +x_5$\n",
    "2. $x_5 +x_8 +x_9 +x_{10} +x_{11}$\n",
    "3. $x_4 + x_6 + x_7$\n",
    "4. $x_1 +x_2 +x_3 +x_6 +x_7 +x_8 +x_9 +x_{10} +x_{11}$\n",
    "5. $x_1 +x_2 +x_3 +x_4 +x_5 +x_6 +x_7 +x_8 +x_9 +x_{10} +x_{11}$"
   ]
  },
  {
   "cell_type": "code",
   "execution_count": 10,
   "metadata": {
    "collapsed": false
   },
   "outputs": [
    {
     "data": {
      "image/png": "[encoded data removed]",
      "text/plain": [
       "<matplotlib.figure.Figure at 0x111df7160>"
      ]
     },
     "metadata": {},
     "output_type": "display_data"
    }
   ],
   "source": [
    "trajectory1 = soln[:,0] + soln[:,1] + soln[:,2] + soln[:,3] + soln[:,4]\n",
    "trajectory2 = soln[:,4] + soln[:,7] + soln[:,8] + soln[:,9] + soln[:,10]\n",
    "trajectory3 = soln[:,3] + soln[:,5] + soln[:,6]\n",
    "trajectory4 = soln[:,0] + soln[:,1] + soln[:,2] + soln[:,5] + soln[:,6] + soln[:,7] + soln[:,8] + soln[:,9] + soln[:,10]\n",
    "trajectory5 = soln[:,0] + soln[:,1] + soln[:,2] + soln[:,3] + soln[:,4] + soln[:,5] + soln[:,6] + soln[:,7] + soln[:,8] + soln[:,9] + soln[:,10]\n",
    "\n",
    "plt.plot(t, trajectory1)\n",
    "plt.plot(t, trajectory2)\n",
    "plt.plot(t, trajectory3)\n",
    "plt.plot(t, trajectory4)\n",
    "plt.plot(t, trajectory5)\n",
    "plt.xlabel('Time [units]')\n",
    "plt.ylabel('Sum of Concentrations')\n",
    "plt.legend(['Trajectory 1', 'Trajectory 2', 'Trajectory 3', 'Trajectory 4', 'Trajectory 5'])\n",
    "plt.show()"
   ]
  },
  {
   "cell_type": "markdown",
   "metadata": {},
   "source": [
    "# Task 8\n",
    "\n",
    "Perform similar computations as in Task 7, but now the initial values should obey:\n",
    "\n",
    "$x_5 +x_8 +x_9 +x_{10} +x_{11} = 100$\n",
    "\n",
    "$x_4+x_6+x_7 = 50$\n",
    "\n",
    "$x_1 +x_2 +x_3 +x_6 +x_7 +x_8 +x_9 +x_{10} +x_{11} = 500$"
   ]
  },
  {
   "cell_type": "code",
   "execution_count": 11,
   "metadata": {
    "collapsed": false
   },
   "outputs": [
    {
     "data": {
      "image/png": "[encoded data removed]",
      "text/plain": [
       "<matplotlib.figure.Figure at 0x111df46a0>"
      ]
     },
     "metadata": {},
     "output_type": "display_data"
    }
   ],
   "source": [
    "a, b, c = 100, 50, 500\n",
    "\n",
    "const = array([c, 0, 0, b, a, 0, 0, 0, 0, 0, 0])\n",
    "v = np.random.uniform(size=8)\n",
    "start = const + v @ coeff\n",
    "\n",
    "t = np.linspace(1, 100, 1000)\n",
    "soln = integrate.odeint(mapk_cascade, start, t, args=(k1, k2, k3, k4, k5, k6, k7, k8, k9, k10, k11, k12, k13, k14, k15, k16))\n",
    "\n",
    "trajectory1 = soln[:,0] + soln[:,1] + soln[:,2] + soln[:,3] + soln[:,4]\n",
    "trajectory2 = soln[:,4] + soln[:,7] + soln[:,8] + soln[:,9] + soln[:,10]\n",
    "trajectory3 = soln[:,3] + soln[:,5] + soln[:,6]\n",
    "trajectory4 = soln[:,0] + soln[:,1] + soln[:,2] + soln[:,5] + soln[:,6] + soln[:,7] + soln[:,8] + soln[:,9] + soln[:,10]\n",
    "trajectory5 = soln[:,0] + soln[:,1] + soln[:,2] + soln[:,3] + soln[:,4] + soln[:,5] + soln[:,6] + soln[:,7] + soln[:,8] + soln[:,9] + soln[:,10]\n",
    "\n",
    "plt.plot(t, trajectory1)\n",
    "plt.plot(t, trajectory2)\n",
    "plt.plot(t, trajectory3)\n",
    "plt.plot(t, trajectory4)\n",
    "plt.plot(t, trajectory5)\n",
    "plt.xlabel('Time [units]')\n",
    "plt.ylabel('Sum of Concentrations')\n",
    "plt.legend(['Trajectory 1', 'Trajectory 2', 'Trajectory 3', 'Trajectory 4', 'Trajectory 5'])\n",
    "plt.show()"
   ]
  },
  {
   "cell_type": "markdown",
   "metadata": {},
   "source": [
    "# Task 9\n",
    "\n",
    "1. Perform the computations of Task 8 for varying values of $k_{19} \\in [200, 500]$. 4\n",
    "2. Determine approximately (by bisecting values up to one digit of occu- racy) the value of $k_{19}$ at which the system changes its behavior (from a single fixed point to 3 fixed points).\n"
   ]
  },
  {
   "cell_type": "code",
   "execution_count": 12,
   "metadata": {
    "collapsed": true
   },
   "outputs": [],
   "source": [
    "def parse_bertini_main_data(fl):\n",
    "    \"\"\"\n",
    "    :param fl: file object of the main_data output from Bertini 1.5.1\n",
    "    :type f1: file-like object \n",
    "    :return: list of solutions\n",
    "    \"\"\"\n",
    "    it = (line.strip() for line in fl)\n",
    "    number_variables = next(it)\n",
    "    solution_dimension = int(number_variables[21:])\n",
    "    variables = next(it)\n",
    "    rank = next(it)\n",
    "    _ = next(it)\n",
    "    dimension_title = next(it)\n",
    "    _ = next(it)\n",
    "    non_singular_title = next(it)\n",
    "    \n",
    "    line = next(it)\n",
    "    solns = []\n",
    "    while line == '---------------':\n",
    "        path_number = next(it)\n",
    "        component_number = next(it)\n",
    "        estimated_condition_number = next(it)\n",
    "       \n",
    "        components = []\n",
    "        for i in range(solution_dimension):\n",
    "            component = next(it)\n",
    "\n",
    "            re, im = component.split(' ')\n",
    "            component = float(re) + 1j * float(im)\n",
    "            components.append(component)\n",
    "        solns.append(components)\n",
    "        \n",
    "        multiplicity = next(it)\n",
    "        deflations = next(it)\n",
    "        line = next(it)\n",
    "    return solns"
   ]
  },
  {
   "cell_type": "code",
   "execution_count": 13,
   "metadata": {
    "collapsed": false
   },
   "outputs": [],
   "source": [
    "def triage_solns(solns):\n",
    "    keep = []\n",
    "    for soln in solns:\n",
    "        soln = np.array(soln)\n",
    "        re = np.real(soln)\n",
    "        im = np.imag(soln)\n",
    "        if np.allclose(np.zeros(shape=im.shape), im) and np.all(re >= 0):            \n",
    "            keep.append(re)        \n",
    "    return np.array(keep)"
   ]
  },
  {
   "cell_type": "code",
   "execution_count": 14,
   "metadata": {
    "collapsed": true
   },
   "outputs": [],
   "source": [
    "bi = \"\"\"\n",
    "CONFIG\n",
    "TRACKTYPE: 1;\n",
    "INPUT\n",
    "function y1, y2, y3, y4, y5, y6, y7, y8, y9, y10, y11, y12, y13, y14;\n",
    "variable_group x1, x2, x3, x4, x5, x6, x7, x8, x9, x10, x11;\n",
    "constant k1, k2, k3, k4, k5, k6, k7, k8, k9, k10, k11, k12, k13, k14, k15, k16, k17, k18, k19;\n",
    "\n",
    "k1 = 0.02;\n",
    "k2 = 1;\n",
    "k3 = 0.01;\n",
    "k4 = 0.032;\n",
    "k5 = 1;\n",
    "k6 = 15;\n",
    "k7 = 0.045;\n",
    "k8 = 1;\n",
    "k9 = 0.092;\n",
    "k10 = 1;\n",
    "k11 = 0.01;\n",
    "k12 = 0.01;\n",
    "k13 = 1;\n",
    "k14 = 0.5;\n",
    "k15 = 0.086;\n",
    "k16 = 0.0011;\n",
    "\n",
    "k17 = 100;\n",
    "k18 = 50;\n",
    "k19 = {};\n",
    "\n",
    "y1 = k2 * x6 + k15 * x11 - k1 * x1 * x4 - k16 * x1 * x5;\n",
    "y2 = k3 * x6 + k5 * x7 + k10 * x9 + k13 * x10 - x2 * x5 * (k11 + k12) - k4 * x2 * x4;\n",
    "y3 = k6 * x7 + k8 * x8 - k7 * x3 * x5;\n",
    "y4 = x6 * (k2 + k3) + x7 * (k5 + k6) - k1 * x1 * x4 - k4 * x2 * x4;\n",
    "y5 = k8 * x8 + k10 * x9 + k13 * x10 + k15 * x11 - x2 * x5 * (k11 + k12) - k7 * x3 * x5 - k16 * x1 * x5; \n",
    "y6 = k1 * x1 * x4 - x6 * (k2 + k3);\n",
    "y7 = k4 * x2 * x4 - x7 * (k5 + k6);\n",
    "y8 = k7 * x3 * x5 - x8 * (k8 + k9);\n",
    "y9 = k9 * x8 - k10 * x9 + k11 * x2 * x5;\n",
    "y10 = k12 * x2 * x5 - x10 * (k13 + k14);\n",
    "y11 = k14 * x10 - k15 * x11 + k16 * x1 * x5;\n",
    "\n",
    "y12 = x5 - k17 + x8 + x9 + x10 + x11;\n",
    "y13 = x4 - k18 + x6 + x7;\n",
    "y14 = x1 - k19 + x2 + x3 + x6 + x7 + x8 + x9 + x10 + x11;\n",
    "\n",
    "END;\n",
    "\"\"\""
   ]
  },
  {
   "cell_type": "code",
   "execution_count": 15,
   "metadata": {
    "collapsed": false
   },
   "outputs": [],
   "source": [
    "opt_folder = os.path.expanduser('~/dev/notebooks/bit/ms/mapk_opt/')\n",
    "opt_subfolder_fmt = \"input{:04}\""
   ]
  },
  {
   "cell_type": "code",
   "execution_count": 16,
   "metadata": {
    "collapsed": false
   },
   "outputs": [
    {
     "name": "stdout",
     "output_type": "stream",
     "text": [
      "1\n"
     ]
    }
   ],
   "source": [
    "k_19_lower = 200\n",
    "subfolder = os.path.join(opt_folder, opt_subfolder_fmt.format(0))\n",
    "if not os.path.exists(subfolder):\n",
    "    os.mkdir(subfolder)\n",
    "os.chdir(subfolder)\n",
    "with open(os.path.join(subfolder, 'input'), 'w') as file:\n",
    "    file.write(bi.format(k_19_lower))\n",
    "subprocess.call(['bertini'])\n",
    "with open(os.path.join(subfolder, 'main_data')) as file:\n",
    "    data = parse_bertini_main_data(file)\n",
    "n_lower = print(len(triage_solns(data)))\n",
    "\n",
    "n_lower"
   ]
  },
  {
   "cell_type": "code",
   "execution_count": 17,
   "metadata": {
    "collapsed": false
   },
   "outputs": [
    {
     "data": {
      "text/plain": [
       "3"
      ]
     },
     "execution_count": 17,
     "metadata": {},
     "output_type": "execute_result"
    }
   ],
   "source": [
    "k_19_upper = 500\n",
    "subfolder = os.path.join(opt_folder, opt_subfolder_fmt.format(1))\n",
    "if not os.path.exists(subfolder):\n",
    "    os.mkdir(subfolder)\n",
    "os.chdir(subfolder)\n",
    "with open(os.path.join(subfolder, 'input'), 'w') as file:\n",
    "    file.write(bi.format(k_19_upper))\n",
    "subprocess.call(['bertini'])\n",
    "\n",
    "main_data_path = os.path.join(subfolder, 'main_data')\n",
    "with open(main_data_path) as file:\n",
    "    data = parse_bertini_main_data(file)\n",
    "n_upper = len(triage_solns(data))\n",
    "\n",
    "n_upper"
   ]
  },
  {
   "cell_type": "code",
   "execution_count": 18,
   "metadata": {
    "collapsed": true
   },
   "outputs": [],
   "source": [
    "name_dict = {0: k_19_lower, 1: k_19_upper}\n",
    "val_dict = {k_19_lower: n_lower, k_19_upper: n_upper}"
   ]
  },
  {
   "cell_type": "code",
   "execution_count": 19,
   "metadata": {
    "collapsed": false
   },
   "outputs": [
    {
     "name": "stdout",
     "output_type": "stream",
     "text": [
      "Input 0500 [200.0000, 500.0000] k_19 = 350.0000 got 3. Bisect ↓\n",
      "Input 0500 [200.0000, 350.0000] k_19 = 275.0000 got 1. Bisect ↑\n",
      "Input 0500 [275.0000, 350.0000] k_19 = 312.5000 got 1. Bisect ↑\n",
      "Input 0500 [312.5000, 350.0000] k_19 = 331.2500 got 1. Bisect ↑\n",
      "Input 0500 [331.2500, 350.0000] k_19 = 340.6250 got 1. Bisect ↑\n",
      "Input 0500 [340.6250, 350.0000] k_19 = 345.3125 got 1. Bisect ↑\n",
      "Input 0500 [345.3125, 350.0000] k_19 = 347.6562 got 1. Bisect ↑\n",
      "Input 0500 [347.6562, 350.0000] k_19 = 348.8281 got 1. Bisect ↑\n",
      "Input 0500 [348.8281, 350.0000] k_19 = 349.4141 got 1. Bisect ↑\n",
      "done searching. change in range [349.4140625, 350.0]\n"
     ]
    }
   ],
   "source": [
    "output = []\n",
    "\n",
    "while k_19_upper - k_19_lower > 1:\n",
    "    s = (k_19_lower + k_19_upper) / 2\n",
    "    subfolder = os.path.join(opt_folder, opt_subfolder_fmt.format(c))\n",
    "    if not os.path.exists(subfolder):\n",
    "        os.mkdir(subfolder)\n",
    "    os.chdir(subfolder)\n",
    "    with open(os.path.join(subfolder, 'input'), 'w') as file:\n",
    "        file.write(bi.format(k_19_upper))\n",
    "    subprocess.call(['bertini'])\n",
    "    main_data_path = os.path.join(subfolder, 'main_data')\n",
    "    with open(main_data_path) as file:\n",
    "        data = parse_bertini_main_data(file)\n",
    "    n = len(triage_solns(data))\n",
    "    val_dict[s] = n\n",
    "    \n",
    "    output.append((k_19_lower, k_19_upper, s, n))\n",
    "    \n",
    "    if n == 1:\n",
    "        print('Input {:04} [{:.4f}, {:.4f}] k_19 = {:.4f} got {}. Bisect ↑'.format(k_19_lower, k_19_upper, s, n))\n",
    "        k_19_lower = s\n",
    "    else: # n==3\n",
    "        print('Input {:04} [{:.4f}, {:.4f}] k_19 = {:.4f} got {}. Bisect ↓'.format(k_19_lower, k_19_upper, s, n))\n",
    "        k_19_upper = s\n",
    "    \n",
    "    \n",
    "\n",
    "print(\"done searching. change in range [{}, {}]\".format(k_19_lower, k_19_upper))"
   ]
  },
  {
   "cell_type": "code",
   "execution_count": 20,
   "metadata": {
    "collapsed": false
   },
   "outputs": [
    {
     "name": "stdout",
     "output_type": "stream",
     "text": [
      "Input 0500 [350.0000, 500.0000] k_19 = 425.0000 got 3. Bisect ↓\n",
      "Input 0500 [350.0000, 425.0000] k_19 = 387.5000 got 3. Bisect ↓\n",
      "Input 0500 [350.0000, 387.5000] k_19 = 368.7500 got 1. Bisect ↑\n",
      "Input 0500 [368.7500, 387.5000] k_19 = 378.1250 got 1. Bisect ↑\n",
      "Input 0500 [378.1250, 387.5000] k_19 = 382.8125 got 1. Bisect ↑\n",
      "Input 0500 [382.8125, 387.5000] k_19 = 385.1562 got 1. Bisect ↑\n",
      "Input 0500 [385.1562, 387.5000] k_19 = 386.3281 got 1. Bisect ↑\n",
      "Input 0500 [386.3281, 387.5000] k_19 = 386.9141 got 1. Bisect ↑\n"
     ]
    }
   ],
   "source": [
    "k_19_lower, k_19_upper = 350.0, 500.0\n",
    "\n",
    "while k_19_upper - k_19_lower > 1:\n",
    "    s = (k_19_lower + k_19_upper) / 2\n",
    "    \n",
    "    subfolder = os.path.join(opt_folder, opt_subfolder_fmt.format(c))\n",
    "    if not os.path.exists(subfolder):\n",
    "        os.mkdir(subfolder)\n",
    "    os.chdir(subfolder)\n",
    "    with open(os.path.join(subfolder, 'input'), 'w') as file:\n",
    "        file.write(bi.format(k_19_upper))\n",
    "    \n",
    "    subprocess.call(['bertini'])\n",
    "    \n",
    "    main_data_path = os.path.join(subfolder, 'main_data')\n",
    "    with open(main_data_path) as file:\n",
    "        data = parse_bertini_main_data(file)\n",
    "    \n",
    "    n = len(triage_solns(data))\n",
    "    val_dict[s] = n\n",
    "    \n",
    "    output.append((k_19_lower, k_19_upper, s, n))\n",
    "    \n",
    "    if n == 1:\n",
    "        print('Input {:04} [{:.4f}, {:.4f}] k_19 = {:.4f} got {}. Bisect ↑'.format(k_19_lower, k_19_upper, s, n))\n",
    "        k_19_lower = s\n",
    "    else: # n==3\n",
    "        print('Input {:04} [{:.4f}, {:.4f}] k_19 = {:.4f} got {}. Bisect ↓'.format(k_19_lower, k_19_upper, s, n))\n",
    "        k_19_upper = s"
   ]
  },
  {
   "cell_type": "code",
   "execution_count": 35,
   "metadata": {
    "collapsed": false
   },
   "outputs": [
    {
     "data": {
      "image/png": "[encoded data removed]",
      "text/plain": [
       "<matplotlib.figure.Figure at 0x112894748>"
      ]
     },
     "metadata": {},
     "output_type": "display_data"
    }
   ],
   "source": [
    "x = sorted(val_dict)\n",
    "y = [val_dict[key] for key in x]\n",
    "\n",
    "plt.plot(x, y)\n",
    "plt.ylim(0, 4)\n",
    "plt.ylabel('Number Fixed Points')\n",
    "plt.xlabel('k_{19}')\n",
    "plt.show()"
   ]
  },
  {
   "cell_type": "markdown",
   "metadata": {},
   "source": [
    "The bisection search in this range only identifies one inflection, but there are actually multiple. This allowss a biological system to encode more than two states across one variable. "
   ]
  }
 ],
 "metadata": {
  "kernelspec": {
   "display_name": "Python 3",
   "language": "python",
   "name": "python3"
  },
  "language_info": {
   "codemirror_mode": {
    "name": "ipython",
    "version": 3
   },
   "file_extension": ".py",
   "mimetype": "text/x-python",
   "name": "python",
   "nbconvert_exporter": "python",
   "pygments_lexer": "ipython3",
   "version": "3.5.2"
  }
 },
 "nbformat": 4,
 "nbformat_minor": 1
}
