{
 "cells": [
  {
   "cell_type": "code",
   "execution_count": 1,
   "metadata": {
    "collapsed": true
   },
   "outputs": [],
   "source": [
    "import os\n",
    "import subprocess\n",
    "import sys\n",
    "import numpy as np\n",
    "import pandas as pd\n",
    "import matplotlib.pyplot as plt\n",
    "from multiprocessing import Pool\n",
    "from itertools import product\n",
    "import time\n",
    "from scipy.spatial.distance import pdist\n",
    "from scipy import stats\n",
    "%config InlineBackend.figure_format = 'svg'"
   ]
  },
  {
   "cell_type": "code",
   "execution_count": 2,
   "metadata": {
    "collapsed": true
   },
   "outputs": [],
   "source": [
    "pd.set_option('display.float_format', lambda x: '%.1e' % x)"
   ]
  },
  {
   "cell_type": "code",
   "execution_count": 3,
   "metadata": {
    "collapsed": true
   },
   "outputs": [],
   "source": [
    "notebooks_base = os.environ[\"NOTEBOOKS\"]\n",
    "ms_base = os.path.join(notebooks_base, 'bit/ms/')"
   ]
  },
  {
   "cell_type": "markdown",
   "metadata": {},
   "source": [
    "# Abstract\n",
    "\n",
    "This notebook outlines the process for performing systematic search over the high dimensional parameter space of the MAPK model to determine the robustness of the parameters to imprecise measurement. A search grid is built and Bertini is called with python's multiprocessing and subprocess modules.\n",
    "\n",
    "# Method"
   ]
  },
  {
   "cell_type": "code",
   "execution_count": 4,
   "metadata": {
    "collapsed": true
   },
   "outputs": [],
   "source": [
    "def parse_bertini_main_data(fl):\n",
    "    \"\"\"\n",
    "    This function parses a MAIN_DATA file from Bertini\n",
    "    :param fl: file object object\n",
    "    :return: list of solutions\n",
    "    \"\"\"\n",
    "    it = (line.strip() for line in fl)\n",
    "    number_variables = next(it)\n",
    "    solution_dimension = int(number_variables[21:])\n",
    "    variables = next(it)\n",
    "    rank = next(it)\n",
    "    _ = next(it)\n",
    "    dimension_title = next(it)\n",
    "    _ = next(it)\n",
    "    non_singular_title = next(it)\n",
    "    \n",
    "    line = next(it)\n",
    "    solns = []\n",
    "    while line == '---------------':\n",
    "        path_number = next(it)\n",
    "        component_number = next(it)\n",
    "        estimated_condition_number = next(it)\n",
    "       \n",
    "        components = []\n",
    "        for i in range(solution_dimension):\n",
    "            component = next(it)\n",
    "\n",
    "            re, im = component.split(' ')\n",
    "            component = float(re) + 1j * float(im)\n",
    "            components.append(component)\n",
    "        solns.append(components)\n",
    "        \n",
    "        multiplicity = next(it)\n",
    "        deflations = next(it)\n",
    "        line = next(it)\n",
    "    return solns"
   ]
  },
  {
   "cell_type": "code",
   "execution_count": 5,
   "metadata": {
    "collapsed": true
   },
   "outputs": [],
   "source": [
    "def triage_solns(solns, atol=1e-08):\n",
    "    \"\"\"\n",
    "    This function takes a list of complex ring solution vectors and identifies biologically feasible ones.\n",
    "    Biologically feasible solutions are real and nonnegative.\n",
    "    \n",
    "    :param atol: the tolerance under which the imaginary is measured to be zero\n",
    "    \"\"\"\n",
    "    \n",
    "    keep = []\n",
    "    for soln in solns:\n",
    "        soln = np.array(soln)\n",
    "        re = np.real(soln)\n",
    "        im = np.imag(soln)\n",
    "        if np.allclose(np.zeros(shape=im.shape), im, atol=atol) and np.all(re >= 0):            \n",
    "            keep.append(re)        \n",
    "    \n",
    "    return np.array(keep)"
   ]
  },
  {
   "cell_type": "markdown",
   "metadata": {},
   "source": [
    "The following parameters were chosen to perterb because they only had one digit of precision. This could have been due to difficulty in experimental precision. Many of these values are also powers of 10, so they might only be estimations of orders of magnitude. A logarithmic search space is built within 1 log in each direction around each parameters' original value."
   ]
  },
  {
   "cell_type": "code",
   "execution_count": 6,
   "metadata": {
    "collapsed": false
   },
   "outputs": [
    {
     "name": "stdout",
     "output_type": "stream",
     "text": [
      "k1, k2, k3, k5, k8, k10, k11, k12, k13, k17, k18\n"
     ]
    }
   ],
   "source": [
    "parameters_to_mod = 'k1', 'k2', 'k3', 'k5', 'k8', 'k10', 'k11', 'k12', 'k13', 'k17', 'k18'\n",
    "print(', '.join(parameters_to_mod))"
   ]
  },
  {
   "cell_type": "code",
   "execution_count": 7,
   "metadata": {
    "collapsed": true
   },
   "outputs": [],
   "source": [
    "stock_constants = {\n",
    "    'k1': 0.02,\n",
    "    'k2': 1,\n",
    "    'k3': 0.01,\n",
    "    'k4': 0.032,\n",
    "    'k5': 1,\n",
    "    'k6': 15,\n",
    "    'k7': 0.045,\n",
    "    'k8': 1,\n",
    "    'k9': 0.092,\n",
    "    'k10': 1,\n",
    "    'k11': 0.01,\n",
    "    'k12': 0.01,\n",
    "    'k13': 1,\n",
    "    'k14': 0.5,\n",
    "    'k15': 0.086,\n",
    "    'k16': 0.0011,\n",
    "    'k17': 100,\n",
    "    'k18': 50,\n",
    "    'k19': 200\n",
    "}\n",
    "\n",
    "stock_constants = {k: v for k, v in stock_constants.items() if k in parameters_to_mod}"
   ]
  },
  {
   "cell_type": "code",
   "execution_count": 8,
   "metadata": {
    "collapsed": true
   },
   "outputs": [],
   "source": [
    "k_i_space_size = 20\n",
    "k_i_space_width = 1\n",
    "k_i_space = {}\n",
    "for p in parameters_to_mod:\n",
    "    l = np.log10(stock_constants[p])\n",
    "    rl = int(round(l))\n",
    "    k_i_space[p] = np.logspace(rl - k_i_space_width, rl + k_i_space_width, k_i_space_size)"
   ]
  },
  {
   "cell_type": "code",
   "execution_count": 9,
   "metadata": {
    "collapsed": false
   },
   "outputs": [],
   "source": [
    "k_19_space_size = 10\n",
    "k_19_vals = np.linspace(200.0, 500.0, k_19_space_size)"
   ]
  },
  {
   "cell_type": "code",
   "execution_count": 10,
   "metadata": {
    "collapsed": true
   },
   "outputs": [],
   "source": [
    "# Template INPUT file for Bertini\n",
    "\n",
    "opt_input_fmt = \"\"\"\n",
    "CONFIG\n",
    "TRACKTYPE: 1;\n",
    "INPUT\n",
    "function y1, y2, y3, y4, y5, y6, y7, y8, y9, y10, y11, y12, y13, y14;\n",
    "variable_group x1, x2, x3, x4, x5, x6, x7, x8, x9, x10, x11;\n",
    "constant k1, k2, k3, k4, k5, k6, k7, k8, k9, k10, k11, k12, k13, k14, k15, k16, k17, k18, k19;\n",
    "\n",
    "k1 = {k1};\n",
    "k2 = {k2};\n",
    "k3 = {k3};\n",
    "k4 = 0.032;\n",
    "k5 = {k5};\n",
    "k6 = 15;\n",
    "k7 = 0.045;\n",
    "k8 = {k8};\n",
    "k9 = 0.092;\n",
    "k10 = {k10};\n",
    "k11 = {k11};\n",
    "k12 = {k12};\n",
    "k13 = {k13};\n",
    "k14 = 0.5;\n",
    "k15 = 0.086;\n",
    "k16 = 0.0011;\n",
    "\n",
    "k17 = {k17};\n",
    "k18 = {k18};\n",
    "k19 = {k19};\n",
    "\n",
    "y1 = k2 * x6 + k15 * x11 - k1 * x1 * x4 - k16 * x1 * x5;\n",
    "y2 = k3 * x6 + k5 * x7 + k10 * x9 + k13 * x10 - x2 * x5 * (k11 + k12) - k4 * x2 * x4;\n",
    "y3 = k6 * x7 + k8 * x8 - k7 * x3 * x5;\n",
    "y4 = x6 * (k2 + k3) + x7 * (k5 + k6) - k1 * x1 * x4 - k4 * x2 * x4;\n",
    "y5 = k8 * x8 + k10 * x9 + k13 * x10 + k15 * x11 - x2 * x5 * (k11 + k12) - k7 * x3 * x5 - k16 * x1 * x5; \n",
    "y6 = k1 * x1 * x4 - x6 * (k2 + k3);\n",
    "y7 = k4 * x2 * x4 - x7 * (k5 + k6);\n",
    "y8 = k7 * x3 * x5 - x8 * (k8 + k9);\n",
    "y9 = k9 * x8 - k10 * x9 + k11 * x2 * x5;\n",
    "y10 = k12 * x2 * x5 - x10 * (k13 + k14);\n",
    "y11 = k14 * x10 - k15 * x11 + k16 * x1 * x5;\n",
    "\n",
    "y12 = x5 - k17 + x8 + x9 + x10 + x11;\n",
    "y13 = x4 - k18 + x6 + x7;\n",
    "y14 = x1 - k19 + x2 + x3 + x6 + x7 + x8 + x9 + x10 + x11;\n",
    "\n",
    "END;\n",
    "\"\"\""
   ]
  },
  {
   "cell_type": "code",
   "execution_count": 11,
   "metadata": {
    "collapsed": false
   },
   "outputs": [],
   "source": [
    "opt_folder_path = os.path.join(ms_base, 'optimization/')\n",
    "if not os.path.exists(opt_folder_path):\n",
    "    os.mkdir(opt_folder_path)\n",
    "\n",
    "opt_subfolder_path_fmt = 'input{:04}/'"
   ]
  },
  {
   "cell_type": "code",
   "execution_count": 12,
   "metadata": {
    "collapsed": false
   },
   "outputs": [],
   "source": [
    "col_modified = []\n",
    "col_params = []\n",
    "\n",
    "for k_i, k_19_val in product(parameters_to_mod, k_19_vals):\n",
    "    \n",
    "    only_k19_mod = stock_constants.copy()\n",
    "    only_k19_mod['k19'] = k_19_val\n",
    "    \n",
    "    col_modified.append(k_i)\n",
    "    col_params.append(only_k19_mod)\n",
    "    \n",
    "    for k_i_val in k_i_space[k_i]:\n",
    "        k_i_params = stock_constants.copy()\n",
    "        \n",
    "        k_i_params[k_i] = k_i_val\n",
    "        k_i_params['k19'] = k_19_val\n",
    "        \n",
    "        col_modified.append(k_i) \n",
    "        col_params.append(k_i_params)\n",
    "\n",
    "col_folders = []\n",
    "\n",
    "for i, params in enumerate(col_params):\n",
    "    \n",
    "    opt_subfolder_path = os.path.join(opt_folder_path, opt_subfolder_path_fmt.format(i))\n",
    "    if not os.path.exists(opt_subfolder_path):\n",
    "        os.mkdir(opt_subfolder_path)\n",
    "    \n",
    "    with open(os.path.join(opt_subfolder_path, 'input'), 'w') as file:\n",
    "        opt_input = opt_input_fmt.format(**params)\n",
    "        file.write(opt_input)\n",
    "        \n",
    "    col_folders.append(opt_subfolder_path)"
   ]
  },
  {
   "cell_type": "code",
   "execution_count": 13,
   "metadata": {
    "collapsed": false
   },
   "outputs": [],
   "source": [
    "results_df = pd.DataFrame(col_params)\n",
    "results_df['modified'] = col_modified\n",
    "results_df['Path'] = col_folders"
   ]
  },
  {
   "cell_type": "code",
   "execution_count": 14,
   "metadata": {
    "collapsed": false
   },
   "outputs": [],
   "source": [
    "def subprocess_bertini(path):\n",
    "    os.chdir(path)\n",
    "    \n",
    "    if path.endswith('00/'):\n",
    "        t = time.time()\n",
    "        subprocess.call(['bertini'])\n",
    "        print('{} {} took {:.2f} seconds'.format(time.strftime('%H:%M'), path, time.time() - t))\n",
    "    else:  \n",
    "        subprocess.call(['bertini'])\n",
    "        \n",
    "    for i in range(1, 13):\n",
    "        os.remove('startRPD_{}'.format(i))"
   ]
  },
  {
   "cell_type": "code",
   "execution_count": 15,
   "metadata": {
    "collapsed": false
   },
   "outputs": [],
   "source": [
    "# This cell took about 55 minutes to run on 8 cores.\n",
    "# Don't accidentally run it unless you want to do this all again!\n",
    "# Change to True to DO IT!!!\n",
    "do_it = False\n",
    "\n",
    "if do_it:\n",
    "    t = time.time()\n",
    "    with Pool() as pool:\n",
    "        pool.map(subprocess_bertini, col_folders)\n",
    "    print(time.time() - t)"
   ]
  },
  {
   "cell_type": "code",
   "execution_count": 16,
   "metadata": {
    "collapsed": false
   },
   "outputs": [
    {
     "ename": "FileNotFoundError",
     "evalue": "[Errno 2] No such file or directory: '/Users/cthoyt/dev/notebooks/bit/ms/optimization/input0322/main_data'",
     "output_type": "error",
     "traceback": [
      "\u001b[0;31m---------------------------------------------------------------------------\u001b[0m",
      "\u001b[0;31mFileNotFoundError\u001b[0m                         Traceback (most recent call last)",
      "\u001b[0;32m<ipython-input-16-a7a2c7f4c3a5>\u001b[0m in \u001b[0;36m<module>\u001b[0;34m()\u001b[0m\n\u001b[1;32m      4\u001b[0m \u001b[0;32mfor\u001b[0m \u001b[0mi\u001b[0m\u001b[0;34m,\u001b[0m \u001b[0mpath\u001b[0m \u001b[0;32min\u001b[0m \u001b[0menumerate\u001b[0m\u001b[0;34m(\u001b[0m\u001b[0mcol_folders\u001b[0m\u001b[0;34m)\u001b[0m\u001b[0;34m:\u001b[0m\u001b[0;34m\u001b[0m\u001b[0m\n\u001b[1;32m      5\u001b[0m     \u001b[0mmain_data_path\u001b[0m \u001b[0;34m=\u001b[0m \u001b[0mos\u001b[0m\u001b[0;34m.\u001b[0m\u001b[0mpath\u001b[0m\u001b[0;34m.\u001b[0m\u001b[0mjoin\u001b[0m\u001b[0;34m(\u001b[0m\u001b[0mpath\u001b[0m\u001b[0;34m,\u001b[0m \u001b[0;34m'main_data'\u001b[0m\u001b[0;34m)\u001b[0m\u001b[0;34m\u001b[0m\u001b[0m\n\u001b[0;32m----> 6\u001b[0;31m     \u001b[0;32mwith\u001b[0m \u001b[0mopen\u001b[0m\u001b[0;34m(\u001b[0m\u001b[0mmain_data_path\u001b[0m\u001b[0;34m)\u001b[0m \u001b[0;32mas\u001b[0m \u001b[0mfile\u001b[0m\u001b[0;34m:\u001b[0m\u001b[0;34m\u001b[0m\u001b[0m\n\u001b[0m\u001b[1;32m      7\u001b[0m         \u001b[0mdata\u001b[0m \u001b[0;34m=\u001b[0m \u001b[0mparse_bertini_main_data\u001b[0m\u001b[0;34m(\u001b[0m\u001b[0mfile\u001b[0m\u001b[0;34m)\u001b[0m\u001b[0;34m\u001b[0m\u001b[0m\n\u001b[1;32m      8\u001b[0m \u001b[0;34m\u001b[0m\u001b[0m\n",
      "\u001b[0;31mFileNotFoundError\u001b[0m: [Errno 2] No such file or directory: '/Users/cthoyt/dev/notebooks/bit/ms/optimization/input0322/main_data'"
     ]
    }
   ],
   "source": [
    "n_fixeds = []\n",
    "soln_df_data = []\n",
    "\n",
    "for i, path in enumerate(col_folders):\n",
    "    main_data_path = os.path.join(path, 'main_data')\n",
    "    with open(main_data_path) as file:\n",
    "        data = parse_bertini_main_data(file)\n",
    "    \n",
    "    solutions = triage_solns(data, 1e-5)\n",
    "    \n",
    "    for j, solution in enumerate(solutions, start=1):\n",
    "        soln_df_data.append([i, path, j] + list(solution))\n",
    "    \n",
    "    n_solutions = len(solutions)\n",
    "    n_fixeds.append(n_solutions)\n",
    "\n",
    "results_df['fixed'] = n_fixeds\n",
    "results_df.columns.name = 'Run Number'\n",
    "results_df.to_csv(os.path.join(ms_base, 'results.csv'))"
   ]
  },
  {
   "cell_type": "code",
   "execution_count": null,
   "metadata": {
    "collapsed": false
   },
   "outputs": [],
   "source": [
    "component_labels = ['Component {}'.format(i) for i in range(1, 12)]\n",
    "col_labels = ['Run Number', 'Path', 'Solution Number'] + component_labels\n",
    "solutions_df = pd.DataFrame(soln_df_data, columns=col_labels)\n",
    "solutions_df.to_csv(os.path.join(ms_base, 'solutions.csv'), index=False)"
   ]
  },
  {
   "cell_type": "code",
   "execution_count": null,
   "metadata": {
    "collapsed": false
   },
   "outputs": [],
   "source": [
    "cd = {0: 'red', 1: 'orange', 2: 'green', 3: 'blue'}\n",
    "colors = results_df['fixed'].map(lambda x: cd[x])"
   ]
  },
  {
   "cell_type": "markdown",
   "metadata": {},
   "source": [
    "The $k_{19}$ parameter describes the total amount of material in the system. Becuase the parameter space is so large, each parameter is perterbed in concert with $k_{19}$ to identify if changes within or in close orders of magnitude cause a change in the system. This change is measured by the number of biologically feasible fixed points  of the system (ones that are both real and nonnegative), which can have biological implications if a biological system uses its current fixed point as a proxy to store information.\n",
    "\n",
    "Parameters whose values were measured to low precision (just one place) were investigated below. While the system with normal parameters and $k_{19}=200$ or $k_{19}=500$ only had states with 1 or 3 fixed points, more exotic states with 0 and 2 were observed after perterbation."
   ]
  },
  {
   "cell_type": "code",
   "execution_count": null,
   "metadata": {
    "collapsed": false,
    "scrolled": true
   },
   "outputs": [],
   "source": [
    "fig, axes = plt.subplots(4, 3, figsize=(10.5, 11))\n",
    "\n",
    "leg, *axes_i = axes.ravel()\n",
    "\n",
    "leg.axis('off')\n",
    "leg_t = \"Fixed Point Color Map:\\n{}\".format('\\n'.join('{}: {}'.format(k, v) for k, v in cd.items()))\n",
    "leg.text(0, 0.5, leg_t, fontsize=16, verticalalignment='center', linespacing=2.0)\n",
    "\n",
    "for k_i, ax in zip(parameters_to_mod, axes_i):\n",
    "    filt = results_df['modified'] == k_i\n",
    "    x = results_df.loc[filt, k_i]\n",
    "    y = results_df.loc[filt, 'k19']\n",
    "    fixed = colors[filt]\n",
    "    \n",
    "    ax.set_xlabel('{}'.format(k_i))\n",
    "    ax.set_ylabel('k19')\n",
    "    ax.set_xscale('log')\n",
    "    ax.axvline(stock_constants[k_i], color='grey', linestyle='--')\n",
    "    ax.scatter(x, y, c=fixed, lw=0, s=40)\n",
    "\n",
    "plt.tight_layout(pad=2)\n",
    "plt.show()"
   ]
  },
  {
   "cell_type": "markdown",
   "metadata": {},
   "source": [
    "# Interpretation\n",
    "\n",
    "- $k_8$, $k_{10}$, and $k_{12}$ showed weird states \n",
    "- $k_{12}$ and $k_{13}$ both sit on the side of cliffs\n",
    "- $k_{17}$ and $k_{18}$ both have incredibly narrow margins in their ability to have 3 fixed points.\n",
    "- $k_{11}$ and $k_{18}$ showed strange 0 fixed point state near solution for high $k_{19}$, which would result in chaotic system that could not attain equilibrium.\n",
    "- $k_5$, $k_1$, and $k_2$ showed the highest robustness, but still had cliffs within the same order of magnitude."
   ]
  },
  {
   "cell_type": "markdown",
   "metadata": {},
   "source": [
    "# Todo\n",
    "\n",
    "- Perform subgrid searches around parameterizations that result in fixed points that aren't 1 or 3"
   ]
  },
  {
   "cell_type": "code",
   "execution_count": null,
   "metadata": {
    "collapsed": false
   },
   "outputs": [],
   "source": [
    "# which runs have multiple fixed points?\n",
    "\n",
    "interesting = results_df['fixed'] > 1\n",
    "interesting = results_df.index[interesting]\n",
    "interesting"
   ]
  },
  {
   "cell_type": "code",
   "execution_count": null,
   "metadata": {
    "collapsed": false
   },
   "outputs": [],
   "source": [
    "dm_arr = {}\n",
    "\n",
    "for run_number, run_number_dfs in solutions_df.groupby('Run Number'):\n",
    "    if run_number in interesting:\n",
    "        dm_arr[run_number] =  pdist(run_number_dfs[component_labels])\n",
    "        \n",
    "print('There are {} multi-fixed point systems'.format(len(dm_arr)))"
   ]
  },
  {
   "cell_type": "code",
   "execution_count": null,
   "metadata": {
    "collapsed": false
   },
   "outputs": [],
   "source": [
    "all_dists = np.array([y for z in dm_arr.values() for y in z.ravel()])\n",
    "\n",
    "print(''.format(len(all_dists)))"
   ]
  },
  {
   "cell_type": "code",
   "execution_count": null,
   "metadata": {
    "collapsed": false
   },
   "outputs": [],
   "source": [
    "np.percentile(all_dists, 0.02)"
   ]
  },
  {
   "cell_type": "code",
   "execution_count": null,
   "metadata": {
    "collapsed": false
   },
   "outputs": [],
   "source": [
    "fix, (ax1, ax2) = plt.subplots(1,2)\n",
    "\n",
    "ax1.hist(all_dists)\n",
    "ax2.plot(all_dists, stats.rankdata(all_dists) / len(all_dists), '.')\n",
    "ax2.set_ylabel('Cumulative Density')\n",
    "\n",
    "plt.tight_layout()\n",
    "plt.show()"
   ]
  },
  {
   "cell_type": "markdown",
   "metadata": {},
   "source": [
    "If there's a magic threshold for the bifurcation distance, it's not obvious from the distribution of distances."
   ]
  },
  {
   "cell_type": "code",
   "execution_count": 17,
   "metadata": {
    "collapsed": true
   },
   "outputs": [],
   "source": [
    "k_17_space_size = 8\n",
    "k_17_vals = np.logspace(10.0, 500.0, k_17_space_size)\n",
    "\n",
    "k_18_space_size = 8\n",
    "k_18_vals = np.logspace(10.0, 500.0, k_18_space_size)\n",
    "\n",
    "k_19_space_size = 8\n",
    "k_19_vals = np.logspace(10.0, 500.0, k_18_space_size)"
   ]
  },
  {
   "cell_type": "code",
   "execution_count": 18,
   "metadata": {
    "collapsed": false
   },
   "outputs": [],
   "source": [
    "t12_folder_path = os.path.join(ms_base, 't12opt')\n",
    "if not os.path.exists(t12_folder_path):\n",
    "    os.mkdir(t12_folder_path)\n",
    "    \n",
    "t12_param_list = []\n",
    "for k_17_val, k_18_val, k_19_val in product(k_17_vals, k_17_vals, k_19_vals):\n",
    "    t12_params = stock_constants.copy()\n",
    "    t12_params['k17'] = k_17_val\n",
    "    t12_params['k18'] = k_18_val\n",
    "    t12_params['k19'] = k_19_val\n",
    "    \n",
    "    t12_param_list.append(t12_params)\n",
    "\n",
    "    \n",
    "t12_folders = [] \n",
    "for i, t12_params in enumerate(t12_param_list):\n",
    "    t12_subfolder_path = os.path.join(t12_folder_path, 'input{:04}/'.format(i))\n",
    "    os.mkdir(t12_subfolder_path)\n",
    "    \n",
    "    with open(os.path.join(t12_subfolder_path, 'input'), 'w') as file:\n",
    "        file.write(opt_input_fmt.format(**params))\n",
    "    \n",
    "    t12_folders.append(t12_subfolder_path)"
   ]
  },
  {
   "cell_type": "code",
   "execution_count": 20,
   "metadata": {
    "collapsed": false
   },
   "outputs": [],
   "source": [
    "run_t12 = False\n",
    "\n",
    "if run_t12:\n",
    "    t = time.time()\n",
    "    with Pool() as pool:\n",
    "        pool.map(subprocess_bertini, t12_folders)\n",
    "    print(time.time() - t)"
   ]
  }
 ],
 "metadata": {
  "kernelspec": {
   "display_name": "Python 3",
   "language": "python",
   "name": "python3"
  },
  "language_info": {
   "codemirror_mode": {
    "name": "ipython",
    "version": 3
   },
   "file_extension": ".py",
   "mimetype": "text/x-python",
   "name": "python",
   "nbconvert_exporter": "python",
   "pygments_lexer": "ipython3",
   "version": "3.5.2"
  }
 },
 "nbformat": 4,
 "nbformat_minor": 1
}
