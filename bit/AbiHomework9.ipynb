{
 "cells": [
  {
   "cell_type": "markdown",
   "metadata": {},
   "source": [
    "# Assignment Information\n",
    "\n",
    "- Assignment: Homework 9\n",
    "- Author: Charles Hoyt\n",
    "- Due: July 1, 2016\n",
    "- Language: Python 3\n",
    "- Posted: https://github.com/cthoyt/notebooks/blob/master/bit/AbiHomework9.ipynb"
   ]
  },
  {
   "cell_type": "code",
   "execution_count": 14,
   "metadata": {
    "collapsed": false
   },
   "outputs": [
    {
     "name": "stdout",
     "output_type": "stream",
     "text": [
      "Fri Jul  1 00:14:10 CEST 2016\n",
      "sys.version_info(major=3, minor=5, micro=2, releaselevel='final', serial=0)\n"
     ]
    }
   ],
   "source": [
    "!date\n",
    "import sys\n",
    "print(sys.version_info)"
   ]
  },
  {
   "cell_type": "markdown",
   "metadata": {},
   "source": [
    "# Exercise 1\n",
    "\n",
    "$\\Sigma=\\{a,b,c\\}$\n",
    "\n",
    "$\\pi = \\Big[\\frac{1}{3},\\frac{1}{3},\\frac{1}{3}\\Big]$\n",
    "\n",
    "Row is start, column is end\n",
    "$$\n",
    "P = \n",
    " \\begin{pmatrix}\n",
    " & S_1 & S_2 & S_3 \\\\\n",
    "  S_1 & 0 & \\frac{1}{4} & \\frac{3}{4} \\\\\n",
    "  S_2 & \\frac{1}{2} & \\frac{1}{4} & \\frac{1}{4} \\\\\n",
    "  S_3 & 0 & \\frac{2}{3} & \\frac{1}{3}\n",
    " \\end{pmatrix}\n",
    "$$\n",
    "\n",
    "and\n",
    "\n",
    "$$\n",
    "B = \n",
    " \\begin{pmatrix}\n",
    " & a & b & c \\\\\n",
    " S_1 & \\frac{1}{3} & \\frac{1}{3} & \\frac{1}{3} \\\\\n",
    " S_2 & \\frac{3}{4} & \\frac{1}{4} & 0 \\\\\n",
    " S_3 & 0 & \\frac{1}{3} & \\frac{2}{3} \n",
    " \\end{pmatrix}\n",
    "$$\n",
    "\n",
    "## Exercise 1A\n",
    "\n",
    "Make a graphical representation of this HMM\n",
    "<img src=\"files/hmm0.jpg\" alt=\"Drawing\" style=\"width: 300px; height:400px\"/>"
   ]
  },
  {
   "cell_type": "markdown",
   "metadata": {},
   "source": [
    "## Exercise 1B\n",
    "\n",
    "What are the probability for observing sequences for emmission $[a,b,c,b]$:\n",
    "\n",
    "A) $S_1S_3S_3S_2$\n",
    "\n",
    "$$\n",
    "P(Start \\rightarrow S_1) \\times P(a \\mid S_1) \n",
    "\\times P(S_1 \\rightarrow S_3) \\times P(b \\mid S_3) \n",
    "\\times P(S_3 \\rightarrow S_3) \\times P(c \\mid S_3)\n",
    "\\times P(S_3 \\rightarrow S_2) \\times P(b \\mid S_2)\n",
    "= \n",
    "\\frac{1}{3} \\times \\frac{1}{3} \\times\n",
    "\\frac{3}{4} \\times \\frac{1}{3} \\times\n",
    "\\frac{1}{3} \\times \\frac{2}{3} \\times\n",
    "\\frac{2}{3} \\times \\frac{1}{4}\n",
    "= \\frac{12}{2916} = \\frac{1}{243}$$\n",
    "\n",
    "B) $S_2S_1S_3S_3$\n",
    "\n",
    "$$\n",
    "P(Start \\rightarrow S_2) \\times P(a \\mid S_2)\n",
    "\\times P(S_2 \\rightarrow S_1) \\times P(b \\mid S_1)\n",
    "\\times P(S_1 \\rightarrow S_3) \\times P(c \\mid S_3)\n",
    "\\times P(S_3 \\rightarrow S_3) \\times P(b \\mid S_3)\n",
    "= \n",
    "\\frac{1}{3} \\times \\frac{3}{4} \\times\n",
    "\\frac{1}{2} \\times \\frac{1}{3} \\times\n",
    "\\frac{3}{4} \\times \\frac{2}{3} \\times\n",
    "\\frac{1}{3} \\times \\frac{1}{3}\n",
    "= \\frac{18}{7776} = \\frac{1}{432}$$"
   ]
  },
  {
   "cell_type": "markdown",
   "metadata": {},
   "source": [
    "# Exercise 2\n",
    "\n",
    "Manually apply the Viterbi Algorithm for sequence $<a,b,c,a>$"
   ]
  },
  {
   "cell_type": "markdown",
   "metadata": {},
   "source": [
    "$$\n",
    "\\delta_2(S_1) = \n",
    "\\max \\begin{cases}\n",
    "    P(a \\mid S_1) \\times P(S_1 \\mid S_1) \\times \\delta_1(S_1) = \\frac{1}{3} \\times 0 \\times \\frac{1}{3} = 0 \\\\\n",
    "    P(a \\mid S_2) \\times P(S_1 \\mid S_2) \\times \\delta_1(S_2) = \\frac{3}{4} \\times \\frac{1}{2} \\times \\frac{1}{3} = \\frac{1}{8} = 0.125\\\\\n",
    "    P(a \\mid S_3) \\times P(S_1 \\mid S_3) \\times \\delta_1(S_3) = 0 \\times 0 \\times \\frac{1}{3} = 0\n",
    "\\end{cases} \\quad = 0.125\n",
    "$$\n",
    "\n",
    "$$\n",
    "\\delta_2(S_2) = \n",
    "\\max \\begin{cases}\n",
    "    P(a \\mid S_1) \\times P(S_2 \\mid S_1) \\times \\delta_1(S_1) = \\frac{1}{3} \\times \\frac{1}{4} \\times \\frac{1}{3} = \\frac{1}{36} \\approx 0.0278 \\\\\n",
    "    P(a \\mid S_2) \\times P(S_2 \\mid S_2) \\times \\delta_1(S_2) = \\frac{3}{4} \\times \\frac{1}{4} \\times \\frac{1}{3} = \\frac{1}{16} = 0.0625 \\\\\n",
    "    P(a \\mid S_3) \\times P(S_2 \\mid S_3) \\times \\delta_1(S_3) = 0 \\times \\frac{2}{3} \\times \\frac{1}{3} = 0\n",
    "\\end{cases} \\quad = \\frac{1}{16}\n",
    "$$\n",
    "\n",
    "$$\n",
    "\\delta_2(S_3) = \n",
    "\\max \\begin{cases}\n",
    "    P(a \\mid S_1) \\times P(S_3 \\mid S_1) \\times \\delta_1(S_1) = \\frac{1}{3} \\times \\frac{3}{4} \\times \\frac{1}{3} = \\frac{1}{12} \\approx 0.08333 \\\\\n",
    "    P(a \\mid S_2) \\times P(S_3 \\mid S_2) \\times \\delta_1(S_2) = \\frac{3}{4} \\times \\frac{1}{4} \\times \\frac{1}{3} = \\frac{1}{16} = 0.0625 \\\\\n",
    "    P(a \\mid S_3) \\times P(S_3 \\mid S_3) \\times \\delta_1(S_3) = 0 \\times \\frac{1}{3} \\times \\frac{1}{3} = 0\n",
    "\\end{cases} \\quad = \\frac{1}{12}\n",
    "$$"
   ]
  },
  {
   "cell_type": "markdown",
   "metadata": {},
   "source": [
    "$$\n",
    "\\delta_3(S_1) = \n",
    "\\max \\begin{cases}\n",
    "    P(b \\mid S_1) \\times P(S_1 \\mid S_1) \\times \\delta_2(S_1) = \\frac{1}{3} \\times 0 \\times \\frac{1}{8} = 0 \\\\\n",
    "    P(b \\mid S_2) \\times P(S_1 \\mid S_2) \\times \\delta_2(S_2) = \\frac{1}{4} \\times \\frac{1}{2} \\times \\frac{1}{16} = \\frac{1}{128} \\approx 0.00787 \\\\\n",
    "    P(b \\mid S_3) \\times P(S_1 \\mid S_3) \\times \\delta_2(S_3) = \\frac{1}{3} \\times 0 \\times \\frac{1}{12} = 0\n",
    "\\end{cases} \\quad = \\frac{1}{128}\n",
    "$$\n",
    "\n",
    "$$\n",
    "\\delta_3(S_2) = \n",
    "\\max \\begin{cases}\n",
    "    P(b \\mid S_1) \\times P(S_2 \\mid S_1) \\times \\delta_2(S_1) = \\frac{1}{3} \\times \\frac{1}{4} \\times \\frac{1}{8} = \\frac{1}{96} \\approx 0.0104 \\\\\n",
    "    P(b \\mid S_2) \\times P(S_2 \\mid S_2) \\times \\delta_2(S_2) = \\frac{1}{4} \\times \\frac{1}{4} \\times \\frac{1}{16} = \\frac{1}{256} = 0.00390625 \\\\\n",
    "    P(b \\mid S_3) \\times P(S_2 \\mid S_3) \\times \\delta_2(S_3) = \\frac{1}{3} \\times \\frac{2}{3} \\times \\frac{1}{12} = \\frac{1}{54} \\approx 0.01852\n",
    "\\end{cases} \\quad = \\frac{1}{54}\n",
    "$$\n",
    "\n",
    "$$\n",
    "\\delta_3(S_3) = \n",
    "\\max \\begin{cases}\n",
    "    P(b \\mid S_1) \\times P(S_3 \\mid S_1) \\times \\delta_2(S_1) = \\frac{1}{3} \\times \\frac{3}{4} \\times \\frac{1}{8} = \\frac{1}{32} = 0.03125 \\\\\n",
    "    P(b \\mid S_2) \\times P(S_3 \\mid S_2) \\times \\delta_2(S_2) = \\frac{1}{4} \\times \\frac{1}{4} \\times \\frac{1}{16} = \\frac{1}{256} = 0.00390625\\\\\n",
    "    P(b \\mid S_3) \\times P(S_3 \\mid S_3) \\times \\delta_2(S_3) = \\frac{1}{3} \\times \\frac{1}{3} \\times \\frac{1}{12} = \\frac{1}{108} \\approx 0.009259\n",
    "\\end{cases} \\quad = \\frac{1}{32}\n",
    "$$"
   ]
  },
  {
   "cell_type": "markdown",
   "metadata": {},
   "source": [
    "$$\n",
    "\\delta_4(S_1) = \n",
    "\\max \\begin{cases}\n",
    "    P(c \\mid S_1) \\times P(S_1 \\mid S_1) \\times \\delta_3(S_1) = \\frac{1}{3} \\times 0 \\times \\frac{1}{128} = 0 \\\\\n",
    "    P(c \\mid S_2) \\times P(S_1 \\mid S_2) \\times \\delta_3(S_2) = 0 \\times \\frac{1}{2} \\times \\frac{1}{54} = \\frac{1}{108} \\approx 0.01852\\\\\n",
    "    P(c \\mid S_3) \\times P(S_1 \\mid S_3) \\times \\delta_3(S_3) = \\frac{1}{2} \\times 0 \\times \\frac{1}{32} = 0\n",
    "\\end{cases} \\quad = \\frac{1}{108}\n",
    "$$\n",
    "\n",
    "$$\n",
    "\\delta_4(S_2) = \n",
    "\\max \\begin{cases}\n",
    "    P(c \\mid S_1) \\times P(S_2 \\mid S_1) \\times \\delta_3(S_1) = \\frac{1}{3} \\times \\frac{1}{4} \\times \\frac{1}{128} = \\frac{1}{1536} \\approx 0.000651 \\\\\n",
    "    P(c \\mid S_2) \\times P(S_2 \\mid S_2) \\times \\delta_3(S_2) = 0 \\times \\frac{1}{4} \\times \\frac{1}{54} = 0 \\\\\n",
    "    P(c \\mid S_3) \\times P(S_2 \\mid S_3) \\times \\delta_3(S_3) = \\frac{1}{2} \\times \\frac{2}{3} \\times \\frac{1}{32} = \\frac{1}{96} \\approx 0.0104\n",
    "\\end{cases} \\quad = \\frac{1}{96}\n",
    "$$\n",
    "\n",
    "$$\n",
    "\\delta_4(S_3) = \n",
    "\\max \\begin{cases}\n",
    "    P(c \\mid S_1) \\times P(S_3 \\mid S_1) \\times \\delta_3(S_1) = \\frac{1}{3} \\times \\frac{3}{4} \\times \\frac{1}{128} = \\frac{1}{512} = 0.001953125\\\\\n",
    "    P(c \\mid S_2) \\times P(S_3 \\mid S_2) \\times \\delta_3(S_2) = 0 \\times \\frac{1}{4} \\times \\frac{1}{54} = 0 \\\\\n",
    "    P(c \\mid S_3) \\times P(S_3 \\mid S_3) \\times \\delta_3(S_3) = \\frac{1}{2} \\times \\frac{1}{3} \\times \\frac{1}{32} = \\frac{1}{108} \\approx 0.009259\n",
    "\\end{cases} \\quad = \\frac{1}{108}\n",
    "$$"
   ]
  },
  {
   "cell_type": "markdown",
   "metadata": {},
   "source": [
    "Take end transmissions to be:\n",
    "\n",
    "$\\pi_{end}=\\Big[\\frac{1}{3},\\frac{1}{3},\\frac{1}{3}\\Big]$\n",
    "\n",
    "\n",
    "$$\n",
    "\\delta_5(End) = \n",
    "\\max \\begin{cases}\n",
    "    P(a \\mid S_1) \\times P(End \\mid S_1) \\times \\delta_4(S_1) = \\frac{1}{3} \\times \\frac{1}{3} \\times \\frac{1}{108} = \\frac{1}{972} = 0.00102880658436 \\\\\n",
    "    P(a \\mid S_2) \\times P(End \\mid S_2) \\times \\delta_4(S_2) = \\frac{3}{4} \\times \\frac{1}{3} \\times \\frac{1}{96} = \\frac{1}{384} = 0.00260416666667\\\\\n",
    "    P(a \\mid S_3) \\times P(End \\mid S_3) \\times \\delta_4(S_3) = 0 \\times \\frac{1}{3} \\times \\frac{1}{108} = 0\n",
    "\\end{cases} \\quad = \\frac{1}{384}\n",
    "$$"
   ]
  },
  {
   "cell_type": "markdown",
   "metadata": {},
   "source": [
    "![Best Route](files/hmm1.jpg)"
   ]
  },
  {
   "cell_type": "markdown",
   "metadata": {},
   "source": [
    "# Exercise 3\n",
    "\n",
    "Implementation of the Viterbi Algorithm in Python3"
   ]
  },
  {
   "cell_type": "code",
   "execution_count": 2,
   "metadata": {
    "collapsed": true
   },
   "outputs": [],
   "source": [
    "import numpy as np\n",
    "import pandas as pd\n",
    "from numpy import array\n",
    "from itertools import product"
   ]
  },
  {
   "cell_type": "markdown",
   "metadata": {},
   "source": [
    "Starting parameters"
   ]
  },
  {
   "cell_type": "code",
   "execution_count": 3,
   "metadata": {
    "collapsed": true
   },
   "outputs": [],
   "source": [
    "\n",
    "\n",
    "pi =  array([1/3, 1/3, 1/3])\n",
    "end = array([1/3, 1/3, 1/3])\n",
    "\n",
    "# P[i,j] i is starting state, j is ending state\n",
    "P = array([[0,   1/4, 3/4], \n",
    "           [1/2, 1/4, 1/4], \n",
    "           [0,   2/3, 1/3]])\n",
    "\n",
    "# B[i,j] i is state, j is omission\n",
    "B = array([[1/3, 1/3, 1/3], \n",
    "           [3/4, 1/4, 0], \n",
    "           [0,   1/3, 2/3]])\n",
    "\n",
    "omission_chars = 'abc'\n",
    "omissions = array([0, 1, 2, 1, 0])\n",
    "\n",
    "n_states = 3\n",
    "n_omissions = len(omissions)\n",
    "\n",
    "\n",
    "labels = [omission_chars[i] for i in omissions] + ['End']"
   ]
  },
  {
   "cell_type": "markdown",
   "metadata": {},
   "source": [
    "Naive implementation that runs into numeric issues because of small numbers"
   ]
  },
  {
   "cell_type": "code",
   "execution_count": 4,
   "metadata": {
    "collapsed": false
   },
   "outputs": [
    {
     "name": "stdout",
     "output_type": "stream",
     "text": [
      "0\n",
      "[[ 0.          0.125       0.        ]\n",
      " [ 0.02777778  0.0625      0.        ]\n",
      " [ 0.08333333  0.0625      0.        ]]\n",
      "[ 0.125       0.0625      0.08333333]\n",
      "[1 1 0]\n",
      "\n",
      "1\n",
      "[[ 0.          0.0078125   0.        ]\n",
      " [ 0.01041667  0.00390625  0.01851852]\n",
      " [ 0.03125     0.00390625  0.00925926]]\n",
      "[ 0.0078125   0.01851852  0.03125   ]\n",
      "[1 2 0]\n",
      "\n",
      "2\n",
      "[[ 0.          0.          0.        ]\n",
      " [ 0.00065104  0.          0.01388889]\n",
      " [ 0.00195312  0.          0.00694444]]\n",
      "[ 0.          0.01388889  0.00694444]\n",
      "[0 2 2]\n",
      "\n",
      "3\n",
      "[[ 0.          0.00173611  0.        ]\n",
      " [ 0.          0.00086806  0.00154321]\n",
      " [ 0.          0.00086806  0.0007716 ]]\n",
      "[ 0.00173611  0.00154321  0.00086806]\n",
      "[1 2 1]\n",
      "\n",
      "4\n",
      "[ 0.0001929  0.0003858  0.       ]\n"
     ]
    },
    {
     "data": {
      "text/html": [
       "<div>\n",
       "<table border=\"1\" class=\"dataframe\">\n",
       "  <thead>\n",
       "    <tr style=\"text-align: right;\">\n",
       "      <th></th>\n",
       "      <th>a</th>\n",
       "      <th>b</th>\n",
       "      <th>c</th>\n",
       "      <th>b</th>\n",
       "      <th>a</th>\n",
       "      <th>End</th>\n",
       "    </tr>\n",
       "  </thead>\n",
       "  <tbody>\n",
       "    <tr>\n",
       "      <th>0</th>\n",
       "      <td>-1</td>\n",
       "      <td>1</td>\n",
       "      <td>1</td>\n",
       "      <td>0</td>\n",
       "      <td>1</td>\n",
       "      <td>1</td>\n",
       "    </tr>\n",
       "    <tr>\n",
       "      <th>1</th>\n",
       "      <td>-1</td>\n",
       "      <td>1</td>\n",
       "      <td>2</td>\n",
       "      <td>2</td>\n",
       "      <td>2</td>\n",
       "      <td>1</td>\n",
       "    </tr>\n",
       "    <tr>\n",
       "      <th>2</th>\n",
       "      <td>-1</td>\n",
       "      <td>0</td>\n",
       "      <td>0</td>\n",
       "      <td>2</td>\n",
       "      <td>1</td>\n",
       "      <td>1</td>\n",
       "    </tr>\n",
       "  </tbody>\n",
       "</table>\n",
       "</div>"
      ],
      "text/plain": [
       "   a  b  c  b  a  End\n",
       "0 -1  1  1  0  1    1\n",
       "1 -1  1  2  2  2    1\n",
       "2 -1  0  0  2  1    1"
      ]
     },
     "execution_count": 4,
     "metadata": {},
     "output_type": "execute_result"
    }
   ],
   "source": [
    "deltas      = np.empty(shape=(n_omissions+1, n_states))\n",
    "breadcrumbs = np.empty(shape=(n_omissions+1, n_states), dtype=int)\n",
    "\n",
    "# Initialization\n",
    "for i in range(n_states):\n",
    "    deltas[0, i] = pi[i]\n",
    "    breadcrumbs[0, i] = -1\n",
    "\n",
    "for j in range(n_omissions - 1):\n",
    "    m = np.zeros(shape=(n_states, n_states))\n",
    "    omission = omissions[j]\n",
    "    \n",
    "    # x is new delta, y is possibilities. argmax over each row\n",
    "    for x, y in product(range(n_states), repeat=2):\n",
    "        b = B[y, omission]\n",
    "        p = P[y, x]\n",
    "        d = deltas[j, y]\n",
    "        m[x, y] = b * p * d\n",
    "        \n",
    "    print(j)\n",
    "    print(m)\n",
    "    \n",
    "    win_values = np.max(m, axis=1)\n",
    "    win_poses = np.argmax(m, axis=1)\n",
    "    \n",
    "    print(win_values) #in order of states\n",
    "    print(win_poses)\n",
    "    \n",
    "    deltas[j + 1,:] = win_values\n",
    "    breadcrumbs[j + 1, :] = win_poses\n",
    "        \n",
    "    print()\n",
    "    \n",
    "omission = omissions[-1]\n",
    "last = []\n",
    "for y in range(n_states):\n",
    "    b = B[y, omission]\n",
    "    p = end[y]\n",
    "    d = deltas[n_omissions - 1, y]\n",
    "    last.append(b * p * d)\n",
    "\n",
    "last = array(last)\n",
    "\n",
    "print(n_omissions - 1)\n",
    "print(last)\n",
    "deltas[n_omissions,:] = np.max(last)\n",
    "breadcrumbs[n_omissions,:] = np.argmax(last)\n",
    "\n",
    "pd.DataFrame(breadcrumbs, index=labels).T"
   ]
  },
  {
   "cell_type": "code",
   "execution_count": 5,
   "metadata": {
    "collapsed": false
   },
   "outputs": [
    {
     "data": {
      "text/html": [
       "<div>\n",
       "<table border=\"1\" class=\"dataframe\">\n",
       "  <thead>\n",
       "    <tr style=\"text-align: right;\">\n",
       "      <th></th>\n",
       "      <th>a</th>\n",
       "      <th>b</th>\n",
       "      <th>c</th>\n",
       "      <th>b</th>\n",
       "      <th>a</th>\n",
       "      <th>End</th>\n",
       "    </tr>\n",
       "  </thead>\n",
       "  <tbody>\n",
       "    <tr>\n",
       "      <th>0</th>\n",
       "      <td>0.333333</td>\n",
       "      <td>0.125000</td>\n",
       "      <td>0.007812</td>\n",
       "      <td>0.000000</td>\n",
       "      <td>0.001736</td>\n",
       "      <td>0.000386</td>\n",
       "    </tr>\n",
       "    <tr>\n",
       "      <th>1</th>\n",
       "      <td>0.333333</td>\n",
       "      <td>0.062500</td>\n",
       "      <td>0.018519</td>\n",
       "      <td>0.013889</td>\n",
       "      <td>0.001543</td>\n",
       "      <td>0.000386</td>\n",
       "    </tr>\n",
       "    <tr>\n",
       "      <th>2</th>\n",
       "      <td>0.333333</td>\n",
       "      <td>0.083333</td>\n",
       "      <td>0.031250</td>\n",
       "      <td>0.006944</td>\n",
       "      <td>0.000868</td>\n",
       "      <td>0.000386</td>\n",
       "    </tr>\n",
       "  </tbody>\n",
       "</table>\n",
       "</div>"
      ],
      "text/plain": [
       "          a         b         c         b         a       End\n",
       "0  0.333333  0.125000  0.007812  0.000000  0.001736  0.000386\n",
       "1  0.333333  0.062500  0.018519  0.013889  0.001543  0.000386\n",
       "2  0.333333  0.083333  0.031250  0.006944  0.000868  0.000386"
      ]
     },
     "execution_count": 5,
     "metadata": {},
     "output_type": "execute_result"
    }
   ],
   "source": [
    "pd.DataFrame(deltas, index=labels).T"
   ]
  },
  {
   "cell_type": "markdown",
   "metadata": {},
   "source": [
    "Convert to using logs and addition. Still has same results"
   ]
  },
  {
   "cell_type": "code",
   "execution_count": 6,
   "metadata": {
    "collapsed": false
   },
   "outputs": [
    {
     "name": "stdout",
     "output_type": "stream",
     "text": [
      "0\n",
      "[[       -inf -2.07944154        -inf]\n",
      " [-3.58351894 -2.77258872        -inf]\n",
      " [-2.48490665 -2.77258872        -inf]]\n",
      "[-2.07944154 -2.77258872 -2.48490665]\n",
      "[1 1 0]\n",
      "\n",
      "1\n",
      "[[       -inf -4.85203026        -inf]\n",
      " [-4.56434819 -5.54517744 -3.98898405]\n",
      " [-3.4657359  -5.54517744 -4.68213123]]\n",
      "[-4.85203026 -3.98898405 -3.4657359 ]\n",
      "[1 2 0]\n",
      "\n",
      "2\n",
      "[[       -inf        -inf        -inf]\n",
      " [-7.33693691        -inf -4.27666612]\n",
      " [-6.23832463        -inf -4.9698133 ]]\n",
      "[       -inf -4.27666612 -4.9698133 ]\n",
      "[0 2 2]\n",
      "\n",
      "3\n",
      "[[       -inf -6.35610766        -inf]\n",
      " [       -inf -7.04925484 -6.4738907 ]\n",
      " [       -inf -7.04925484 -7.16703788]]\n",
      "[-6.35610766 -6.4738907  -7.04925484]\n",
      "[1 2 1]\n",
      "\n",
      "4\n",
      "[-8.55333224 -7.86018506        -inf]\n"
     ]
    },
    {
     "data": {
      "text/html": [
       "<div>\n",
       "<table border=\"1\" class=\"dataframe\">\n",
       "  <thead>\n",
       "    <tr style=\"text-align: right;\">\n",
       "      <th></th>\n",
       "      <th>a</th>\n",
       "      <th>b</th>\n",
       "      <th>c</th>\n",
       "      <th>b</th>\n",
       "      <th>a</th>\n",
       "      <th>End</th>\n",
       "    </tr>\n",
       "  </thead>\n",
       "  <tbody>\n",
       "    <tr>\n",
       "      <th>0</th>\n",
       "      <td>-1</td>\n",
       "      <td>1</td>\n",
       "      <td>1</td>\n",
       "      <td>0</td>\n",
       "      <td>1</td>\n",
       "      <td>1</td>\n",
       "    </tr>\n",
       "    <tr>\n",
       "      <th>1</th>\n",
       "      <td>-1</td>\n",
       "      <td>1</td>\n",
       "      <td>2</td>\n",
       "      <td>2</td>\n",
       "      <td>2</td>\n",
       "      <td>1</td>\n",
       "    </tr>\n",
       "    <tr>\n",
       "      <th>2</th>\n",
       "      <td>-1</td>\n",
       "      <td>0</td>\n",
       "      <td>0</td>\n",
       "      <td>2</td>\n",
       "      <td>1</td>\n",
       "      <td>1</td>\n",
       "    </tr>\n",
       "  </tbody>\n",
       "</table>\n",
       "</div>"
      ],
      "text/plain": [
       "   a  b  c  b  a  End\n",
       "0 -1  1  1  0  1    1\n",
       "1 -1  1  2  2  2    1\n",
       "2 -1  0  0  2  1    1"
      ]
     },
     "execution_count": 6,
     "metadata": {},
     "output_type": "execute_result"
    }
   ],
   "source": [
    "deltas      = np.empty(shape=(n_omissions+1, n_states))\n",
    "breadcrumbs = np.empty(shape=(n_omissions+1, n_states), dtype=int)\n",
    "\n",
    "# Initialization\n",
    "for i in range(n_states):\n",
    "    deltas[0, i] = np.log(pi[i])\n",
    "    breadcrumbs[0, i] = -1\n",
    "\n",
    "for j in range(n_omissions - 1):\n",
    "    m = np.zeros(shape=(n_states, n_states))\n",
    "    omission = omissions[j]\n",
    "    \n",
    "    # x is new delta, y is possibilities. argmax over each row\n",
    "    for x, y in product(range(n_states), repeat=2):\n",
    "        b = np.log(B[y, omission])\n",
    "        p = np.log(P[y, x])\n",
    "        d = deltas[j, y]\n",
    "        m[x, y] = b + p + d\n",
    "        \n",
    "    print(j)\n",
    "    print(m)\n",
    "    \n",
    "    win_values = np.max(m, axis=1)\n",
    "    win_poses = np.argmax(m, axis=1)\n",
    "    \n",
    "    print(win_values) #in order of states\n",
    "    print(win_poses)\n",
    "    \n",
    "    deltas[j + 1,:] = win_values\n",
    "    breadcrumbs[j + 1, :] = win_poses\n",
    "        \n",
    "    print()\n",
    "    \n",
    "omission = omissions[-1]\n",
    "last = []\n",
    "for y in range(n_states):\n",
    "    b = np.log(B[y, omission])\n",
    "    p = np.log(end[y])\n",
    "    d = deltas[n_omissions - 1, y]\n",
    "    last.append(b + p + d)\n",
    "\n",
    "last = array(last)\n",
    "\n",
    "print(n_omissions - 1)\n",
    "print(last)\n",
    "deltas[n_omissions,:] = np.max(last)\n",
    "breadcrumbs[n_omissions,:] = np.argmax(last)\n",
    "\n",
    "pd.DataFrame(breadcrumbs, index=labels).T"
   ]
  },
  {
   "cell_type": "code",
   "execution_count": 7,
   "metadata": {
    "collapsed": false
   },
   "outputs": [
    {
     "data": {
      "text/html": [
       "<div>\n",
       "<table border=\"1\" class=\"dataframe\">\n",
       "  <thead>\n",
       "    <tr style=\"text-align: right;\">\n",
       "      <th></th>\n",
       "      <th>a</th>\n",
       "      <th>b</th>\n",
       "      <th>c</th>\n",
       "      <th>b</th>\n",
       "      <th>a</th>\n",
       "      <th>End</th>\n",
       "    </tr>\n",
       "  </thead>\n",
       "  <tbody>\n",
       "    <tr>\n",
       "      <th>0</th>\n",
       "      <td>-1.098612</td>\n",
       "      <td>-2.079442</td>\n",
       "      <td>-4.852030</td>\n",
       "      <td>-inf</td>\n",
       "      <td>-6.356108</td>\n",
       "      <td>-7.860185</td>\n",
       "    </tr>\n",
       "    <tr>\n",
       "      <th>1</th>\n",
       "      <td>-1.098612</td>\n",
       "      <td>-2.772589</td>\n",
       "      <td>-3.988984</td>\n",
       "      <td>-4.276666</td>\n",
       "      <td>-6.473891</td>\n",
       "      <td>-7.860185</td>\n",
       "    </tr>\n",
       "    <tr>\n",
       "      <th>2</th>\n",
       "      <td>-1.098612</td>\n",
       "      <td>-2.484907</td>\n",
       "      <td>-3.465736</td>\n",
       "      <td>-4.969813</td>\n",
       "      <td>-7.049255</td>\n",
       "      <td>-7.860185</td>\n",
       "    </tr>\n",
       "  </tbody>\n",
       "</table>\n",
       "</div>"
      ],
      "text/plain": [
       "          a         b         c         b         a       End\n",
       "0 -1.098612 -2.079442 -4.852030      -inf -6.356108 -7.860185\n",
       "1 -1.098612 -2.772589 -3.988984 -4.276666 -6.473891 -7.860185\n",
       "2 -1.098612 -2.484907 -3.465736 -4.969813 -7.049255 -7.860185"
      ]
     },
     "execution_count": 7,
     "metadata": {},
     "output_type": "execute_result"
    }
   ],
   "source": [
    "pd.DataFrame(deltas, index=labels).T"
   ]
  }
 ],
 "metadata": {
  "kernelspec": {
   "display_name": "Python 3",
   "language": "python",
   "name": "python3"
  },
  "language_info": {
   "codemirror_mode": {
    "name": "ipython",
    "version": 3
   },
   "file_extension": ".py",
   "mimetype": "text/x-python",
   "name": "python",
   "nbconvert_exporter": "python",
   "pygments_lexer": "ipython3",
   "version": "3.5.2"
  },
  "latex_metadata": {
   "author": "Charlie Hoyt"
  }
 },
 "nbformat": 4,
 "nbformat_minor": 0
}
