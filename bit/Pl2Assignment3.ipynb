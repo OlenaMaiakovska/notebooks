{
 "cells": [
  {
   "cell_type": "code",
   "execution_count": 1,
   "metadata": {
    "collapsed": true
   },
   "outputs": [],
   "source": [
    "from itertools import combinations, product\n",
    "import sys\n",
    "import argparse\n",
    "import io\n",
    "\n",
    "mypath = '/Users/cthoyt/GoogleDrive/Bonn/programming_lab_2/'"
   ]
  },
  {
   "cell_type": "markdown",
   "metadata": {
    "collapsed": false
   },
   "source": [
    "# Exercise 1\n",
    "\n",
    "## Exercise 1A\n",
    "\n",
    "Write a function called middle that takes a list and returns a new list that contains all but the first and last elements. So middle([1,2,3,4]) should return [2,3]"
   ]
  },
  {
   "cell_type": "code",
   "execution_count": 2,
   "metadata": {
    "collapsed": false
   },
   "outputs": [
    {
     "name": "stdout",
     "output_type": "stream",
     "text": [
      "<function middle_naive at 0x10ef5c730>\n",
      "<function middle_slice at 0x10ec18d90>\n"
     ]
    }
   ],
   "source": [
    "def middle_naive(l):\n",
    "    if len(l) <= 2:\n",
    "        return l\n",
    "    \n",
    "    result = []\n",
    "    for i in range(1, len(l) - 1):\n",
    "        result.append(l[i])\n",
    "    return result\n",
    "    \n",
    "def middle_slice(l):\n",
    "    if len(l) <= 2:\n",
    "        return l\n",
    "    return l[1:-1]\n",
    "\n",
    "for middle in (middle_naive, middle_slice):\n",
    "    print(middle)\n",
    "    assert [] == middle([])\n",
    "    assert [1] == middle([1])\n",
    "    assert [2, 3] == middle([1,2,3,4])"
   ]
  },
  {
   "cell_type": "markdown",
   "metadata": {},
   "source": [
    "## Exercise 1B\n",
    "\n",
    "Write a function called chop that takes a list, modifies it by removing the first and last elements, and returns None."
   ]
  },
  {
   "cell_type": "code",
   "execution_count": 3,
   "metadata": {
    "collapsed": false
   },
   "outputs": [],
   "source": [
    "def chop_inplace(l):\n",
    "    l.pop(0)\n",
    "    l.pop()\n",
    "    return None\n",
    "\n",
    "def chop_wrong1(l):\n",
    "    t = []\n",
    "    for i in range(1, len(l) - 1):\n",
    "        t.append(l[i])\n",
    "    l = t\n",
    "    return None\n",
    "\n",
    "def chop_wrong2(l):\n",
    "    l = l[1:-1]\n",
    "    return None\n",
    "\n",
    "for chop in (chop_inplace, ):\n",
    "    l = [1,2,3,4]\n",
    "    chop(l)\n",
    "    assert l == [2,3]\n",
    "    \n",
    "for chop in (chop_wrong1, chop_wrong2):\n",
    "    l = [1,2,3,4]\n",
    "    chop(l)\n",
    "    assert l == [1,2,3,4]"
   ]
  },
  {
   "cell_type": "markdown",
   "metadata": {},
   "source": [
    "# Exercise 2\n",
    "\n",
    "## Exercise 2A\n",
    "\n",
    "Write a function that takes a list of numbers and returns the cumulative sum; that is, a new list where the ith element is the sum of the first i + 1 elements from the original list. For example, the cumulative sum of [1, 2, 3] is [1, 3, 6]."
   ]
  },
  {
   "cell_type": "code",
   "execution_count": 4,
   "metadata": {
    "collapsed": false
   },
   "outputs": [
    {
     "name": "stdout",
     "output_type": "stream",
     "text": [
      "<function cumsum_naive at 0x10ef5cea0>\n",
      "<function cumsum_naive2 at 0x10ef5cd90>\n",
      "<function cumsum_smart at 0x10ef5cd08>\n"
     ]
    }
   ],
   "source": [
    "def cumsum_naive(l):\n",
    "    result = []\n",
    "    for i in range(len(l)):\n",
    "        el = 0\n",
    "        for j in range(0, i + 1):\n",
    "            el += l[j]\n",
    "        result.append(el)\n",
    "    return result\n",
    "\n",
    "def cumsum_naive2(l):\n",
    "    result = []\n",
    "    for i in range(len(l)):\n",
    "        result.append(sum(l[:i + 1]))\n",
    "    return result\n",
    "\n",
    "import numpy as np\n",
    "\n",
    "def cumsum_smart(l):\n",
    "    return list(np.cumsum(l))\n",
    "\n",
    "for cumsum in (cumsum_naive, cumsum_naive2, cumsum_smart):\n",
    "    print(cumsum)\n",
    "    assert [1,3,6] == cumsum([1,2,3])"
   ]
  },
  {
   "cell_type": "markdown",
   "metadata": {},
   "source": [
    "## Exercise 2B\n",
    "\n",
    "Write a function called nested_sum that takes a nested list of integers and adds up the elements from all of the nested lists."
   ]
  },
  {
   "cell_type": "code",
   "execution_count": 5,
   "metadata": {
    "collapsed": false
   },
   "outputs": [
    {
     "name": "stdout",
     "output_type": "stream",
     "text": [
      "<function nested_sum_naive1 at 0x10f4f1840>\n",
      "<function nested_sum_naive2 at 0x10ec0af28>\n",
      "<function nested_sum_smart at 0x10f65c1e0>\n"
     ]
    }
   ],
   "source": [
    "def nested_sum_naive1(l):\n",
    "    s = 0\n",
    "    for i in range(len(l)):\n",
    "        for j in range(len(l[i])):\n",
    "            s += l[i][j]\n",
    "    return s\n",
    "\n",
    "def nested_sum_naive2(l):\n",
    "    s = 0\n",
    "    for subl in l:\n",
    "        for el in subl:\n",
    "            s += el\n",
    "    return s\n",
    "    \n",
    "def nested_sum_smart(l):\n",
    "    return sum(sum(element) for element in l)\n",
    "\n",
    "for nested_sum in (nested_sum_naive1, nested_sum_naive2, nested_sum_smart):\n",
    "    print(nested_sum)\n",
    "    assert 10 == nested_sum([[1,2], [7]])\n",
    "    assert 0 == nested_sum([[]])\n",
    "    assert 10 == nested_sum([[1,2,7]])\n",
    "    assert 10 == nested_sum([[1,2], [7], []])\n",
    "    assert 10 == nested_sum([[1,2], [7], [0]])"
   ]
  },
  {
   "cell_type": "markdown",
   "metadata": {},
   "source": [
    "## Exercise 2C\n",
    "\n",
    "What about a list like [1,[2,3,[4,5]],[[6,7],8,[9,[10]]]] that contains numbers nested in lists of arbitrary depth. Write a function depth_sum that takes a list containing integers nested in lists of arbitrary depth and returns the sum of all the numbers. Hint: Use recursion."
   ]
  },
  {
   "cell_type": "code",
   "execution_count": 6,
   "metadata": {
    "collapsed": false
   },
   "outputs": [],
   "source": [
    "def depth_sum(l):\n",
    "    if isinstance(l, int):\n",
    "        return l\n",
    "    elif isinstance(l, list):\n",
    "        return sum(depth_sum(el) for el in l)\n",
    "    else:\n",
    "        raise Exception(\"Type Error\")\n",
    "\n",
    "assert 6 == depth_sum(6)\n",
    "assert 0 == depth_sum([0])\n",
    "assert 0 == depth_sum([])\n",
    "assert 0 == depth_sum([[]])\n",
    "assert 0 == depth_sum([[0]])\n",
    "assert 0 == depth_sum([[], 0])\n",
    "assert 55 == depth_sum([1,[2,3,[4,5]],[[6,7],8,[9,[10]]]])\n",
    "assert 55 == depth_sum([1,[2,3,[4,5]],[[6,7],8,[9,[10, []]]]])"
   ]
  },
  {
   "cell_type": "markdown",
   "metadata": {},
   "source": [
    "# Exercise 3\n",
    "\n",
    "Reverse Pairs\n",
    "\n",
    "## Exercise 3A\n",
    "\n",
    "Write a function that reads the file words.txt and builds a list with one element per word. Write two versions of this function, one using the append method and the other using the idiom t = t + [x]. Which one takes longer to run? Why?"
   ]
  },
  {
   "cell_type": "code",
   "execution_count": 7,
   "metadata": {
    "collapsed": false
   },
   "outputs": [
    {
     "name": "stdout",
     "output_type": "stream",
     "text": [
      "113809 words loaded\n"
     ]
    },
    {
     "data": {
      "text/plain": [
       "['aa', 'aah', 'aahed', 'aahing', 'aahs', 'aal']"
      ]
     },
     "execution_count": 7,
     "metadata": {},
     "output_type": "execute_result"
    }
   ],
   "source": [
    "def read_words_cat(path):\n",
    "    words = []\n",
    "    with open(path) as f:\n",
    "        for line in f:\n",
    "            words += [line.strip()]\n",
    "    return words\n",
    "\n",
    "def read_words_append(path):\n",
    "    words = []\n",
    "    with open(path) as f:\n",
    "        for line in f:\n",
    "            words.append(line.strip())\n",
    "    return words\n",
    "    \n",
    "cwords = read_words_append(mypath + 'words.txt')\n",
    "print(\"{} words loaded\".format(len(cwords)))\n",
    "cwords[:6]"
   ]
  },
  {
   "cell_type": "code",
   "execution_count": 8,
   "metadata": {
    "collapsed": false
   },
   "outputs": [
    {
     "name": "stdout",
     "output_type": "stream",
     "text": [
      "10 loops, best of 3: 52.5 ms per loop\n"
     ]
    }
   ],
   "source": [
    "%timeit read_words_cat(mypath + 'words.txt')"
   ]
  },
  {
   "cell_type": "code",
   "execution_count": 9,
   "metadata": {
    "collapsed": false
   },
   "outputs": [
    {
     "name": "stdout",
     "output_type": "stream",
     "text": [
      "10 loops, best of 3: 47.2 ms per loop\n"
     ]
    }
   ],
   "source": [
    "%timeit read_words_append(mypath + 'words.txt')"
   ]
  },
  {
   "cell_type": "markdown",
   "metadata": {},
   "source": [
    "### Explanation\n",
    "\n",
    "The concatenation solution is slower because it needs to build a new list for every element. The append solution addresses this, but using the built-in iterator is the best solution because of speed and elegance."
   ]
  },
  {
   "cell_type": "markdown",
   "metadata": {},
   "source": [
    "## Exercise 3B\n",
    "\n",
    "Two words are a “reverse pair” if each is the reverse of the other. Write a program that finds all the reverse pairs in the word list words.txt. To this end, first read in all the words of words.txt in a (sorted) list. You can test whether a word is already in the list using the in operator. However, you can also use the bisect method of ex. 10.10 of Think Python or use the bisect module, which is part of the Python standard library."
   ]
  },
  {
   "cell_type": "code",
   "execution_count": 10,
   "metadata": {
    "collapsed": false
   },
   "outputs": [
    {
     "name": "stdout",
     "output_type": "stream",
     "text": [
      "<function is_reverse_pair_naive at 0x10f652620>\n",
      "<function is_reverse_pair_easy at 0x10f652598>\n"
     ]
    }
   ],
   "source": [
    "def is_reverse_pair_naive(a, b):\n",
    "    if len(a) != len(b):\n",
    "        return False\n",
    "    for i in range(len(a)):\n",
    "        if a[i] != b[-(i + 1)]:\n",
    "            return False\n",
    "    return True\n",
    "\n",
    "def is_reverse_pair_easy(a, b):\n",
    "    if len(a) != len(b):\n",
    "        return False\n",
    "    return a == b[::-1]\n",
    "\n",
    "for is_reverse_pair in (is_reverse_pair_naive, is_reverse_pair_easy):\n",
    "    print(is_reverse_pair)\n",
    "    assert is_reverse_pair(\"\", \"\")\n",
    "    assert not is_reverse_pair(\"A\", \"\")\n",
    "    assert not is_reverse_pair(\"\", \"A\")\n",
    "    assert is_reverse_pair(\"ABA\", \"ABA\")\n",
    "    assert is_reverse_pair(\"ABC\", \"CBA\")"
   ]
  },
  {
   "cell_type": "code",
   "execution_count": 13,
   "metadata": {
    "collapsed": false
   },
   "outputs": [
    {
     "name": "stdout",
     "output_type": "stream",
     "text": [
      "<function get_reverse_pairs_naive at 0x10ef749d8>\n",
      "<function get_reverse_pairs_easy at 0x10f65cf28>\n",
      "<function get_reverse_pairs_sets at 0x10f65cea0>\n"
     ]
    }
   ],
   "source": [
    "def get_reverse_pairs_naive(words):\n",
    "    pairs = []\n",
    "    for i in range(len(words)):\n",
    "        for j in range(i + 1, len(words)):\n",
    "            if is_reverse_pair_easy(words[i], words[j]):\n",
    "                pairs.append((words[i], words[j]))\n",
    "    return pairs            \n",
    "\n",
    "def get_reverse_pairs_easy(words):\n",
    "    return [(a, b) for a, b in combinations(words, 2) if is_reverse_pair_naive(a, b)]\n",
    "\n",
    "def get_reverse_pairs_sets(words):\n",
    "    result = []\n",
    "    for word in words:\n",
    "        if word[::-1] in words and word[::-1] != word and (word[::-1], word) not in result:\n",
    "            result.append((word, word[::-1]))\n",
    "    return result\n",
    "\n",
    "test_words = [\"\", \"AB\", \"BA\", \"ABC\", \"EDF\"]\n",
    "for get_reverse_pairs in (get_reverse_pairs_naive, get_reverse_pairs_easy, get_reverse_pairs_sets):\n",
    "    print(get_reverse_pairs)\n",
    "    assert {(\"AB\", \"BA\")} == set(get_reverse_pairs(test_words))"
   ]
  },
  {
   "cell_type": "code",
   "execution_count": 14,
   "metadata": {
    "collapsed": false
   },
   "outputs": [
    {
     "ename": "KeyboardInterrupt",
     "evalue": "",
     "output_type": "error",
     "traceback": [
      "\u001b[0;31m---------------------------------------------------------------------------\u001b[0m",
      "\u001b[0;31mKeyboardInterrupt\u001b[0m                         Traceback (most recent call last)",
      "\u001b[0;32m<ipython-input-14-81d074f8a660>\u001b[0m in \u001b[0;36m<module>\u001b[0;34m()\u001b[0m\n\u001b[0;32m----> 1\u001b[0;31m \u001b[0mget_reverse_pairs_easy\u001b[0m\u001b[0;34m(\u001b[0m\u001b[0mcwords\u001b[0m\u001b[0;34m)\u001b[0m\u001b[0;34m\u001b[0m\u001b[0m\n\u001b[0m",
      "\u001b[0;32m<ipython-input-13-122266bb5c09>\u001b[0m in \u001b[0;36mget_reverse_pairs_easy\u001b[0;34m(words)\u001b[0m\n\u001b[1;32m      8\u001b[0m \u001b[0;34m\u001b[0m\u001b[0m\n\u001b[1;32m      9\u001b[0m \u001b[0;32mdef\u001b[0m \u001b[0mget_reverse_pairs_easy\u001b[0m\u001b[0;34m(\u001b[0m\u001b[0mwords\u001b[0m\u001b[0;34m)\u001b[0m\u001b[0;34m:\u001b[0m\u001b[0;34m\u001b[0m\u001b[0m\n\u001b[0;32m---> 10\u001b[0;31m     \u001b[0;32mreturn\u001b[0m \u001b[0;34m[\u001b[0m\u001b[0;34m(\u001b[0m\u001b[0ma\u001b[0m\u001b[0;34m,\u001b[0m \u001b[0mb\u001b[0m\u001b[0;34m)\u001b[0m \u001b[0;32mfor\u001b[0m \u001b[0ma\u001b[0m\u001b[0;34m,\u001b[0m \u001b[0mb\u001b[0m \u001b[0;32min\u001b[0m \u001b[0mcombinations\u001b[0m\u001b[0;34m(\u001b[0m\u001b[0mwords\u001b[0m\u001b[0;34m,\u001b[0m \u001b[0;36m2\u001b[0m\u001b[0;34m)\u001b[0m \u001b[0;32mif\u001b[0m \u001b[0mis_reverse_pair_naive\u001b[0m\u001b[0;34m(\u001b[0m\u001b[0ma\u001b[0m\u001b[0;34m,\u001b[0m \u001b[0mb\u001b[0m\u001b[0;34m)\u001b[0m\u001b[0;34m]\u001b[0m\u001b[0;34m\u001b[0m\u001b[0m\n\u001b[0m\u001b[1;32m     11\u001b[0m \u001b[0;34m\u001b[0m\u001b[0m\n\u001b[1;32m     12\u001b[0m \u001b[0;32mdef\u001b[0m \u001b[0mget_reverse_pairs_sets\u001b[0m\u001b[0;34m(\u001b[0m\u001b[0mwords\u001b[0m\u001b[0;34m)\u001b[0m\u001b[0;34m:\u001b[0m\u001b[0;34m\u001b[0m\u001b[0m\n",
      "\u001b[0;32m<ipython-input-13-122266bb5c09>\u001b[0m in \u001b[0;36m<listcomp>\u001b[0;34m(.0)\u001b[0m\n\u001b[1;32m      8\u001b[0m \u001b[0;34m\u001b[0m\u001b[0m\n\u001b[1;32m      9\u001b[0m \u001b[0;32mdef\u001b[0m \u001b[0mget_reverse_pairs_easy\u001b[0m\u001b[0;34m(\u001b[0m\u001b[0mwords\u001b[0m\u001b[0;34m)\u001b[0m\u001b[0;34m:\u001b[0m\u001b[0;34m\u001b[0m\u001b[0m\n\u001b[0;32m---> 10\u001b[0;31m     \u001b[0;32mreturn\u001b[0m \u001b[0;34m[\u001b[0m\u001b[0;34m(\u001b[0m\u001b[0ma\u001b[0m\u001b[0;34m,\u001b[0m \u001b[0mb\u001b[0m\u001b[0;34m)\u001b[0m \u001b[0;32mfor\u001b[0m \u001b[0ma\u001b[0m\u001b[0;34m,\u001b[0m \u001b[0mb\u001b[0m \u001b[0;32min\u001b[0m \u001b[0mcombinations\u001b[0m\u001b[0;34m(\u001b[0m\u001b[0mwords\u001b[0m\u001b[0;34m,\u001b[0m \u001b[0;36m2\u001b[0m\u001b[0;34m)\u001b[0m \u001b[0;32mif\u001b[0m \u001b[0mis_reverse_pair_naive\u001b[0m\u001b[0;34m(\u001b[0m\u001b[0ma\u001b[0m\u001b[0;34m,\u001b[0m \u001b[0mb\u001b[0m\u001b[0;34m)\u001b[0m\u001b[0;34m]\u001b[0m\u001b[0;34m\u001b[0m\u001b[0m\n\u001b[0m\u001b[1;32m     11\u001b[0m \u001b[0;34m\u001b[0m\u001b[0m\n\u001b[1;32m     12\u001b[0m \u001b[0;32mdef\u001b[0m \u001b[0mget_reverse_pairs_sets\u001b[0m\u001b[0;34m(\u001b[0m\u001b[0mwords\u001b[0m\u001b[0;34m)\u001b[0m\u001b[0;34m:\u001b[0m\u001b[0;34m\u001b[0m\u001b[0m\n",
      "\u001b[0;31mKeyboardInterrupt\u001b[0m: "
     ]
    }
   ],
   "source": [
    "get_reverse_pairs_easy(cwords)"
   ]
  },
  {
   "cell_type": "markdown",
   "metadata": {},
   "source": [
    "## Exercise 3C\n",
    "\n",
    "Modify the code of the previous exercise and read in all the words as keys of a dictionary (or a set) with arbitrary value (e.g. set the value to None) in each case. In this case use the in operator because bisect will only work on lists, and it will only work correctly, if the lists are sorted."
   ]
  },
  {
   "cell_type": "code",
   "execution_count": null,
   "metadata": {
    "collapsed": true
   },
   "outputs": [],
   "source": [
    "def read_words_dict(path):\n",
    "    with open(path) as f:\n",
    "        return {line.strip(): None for line in f}\n",
    "    \n",
    "test_words_dict = {word: None for word in test_words}\n",
    "\n",
    "## Same implementation as above, just better results because hashmap has fast lookup time"
   ]
  },
  {
   "cell_type": "markdown",
   "metadata": {},
   "source": [
    "# Exercise 4\n",
    "\n",
    "Anagrams\n",
    "\n",
    "## Exercise 4A\n",
    "\n",
    "Write a program that reads a word list from the file words.txt and prints all the sets of words that are anagrams.\n",
    "Here is an example of what the output might look like:\n",
    "          \n",
    "          ['deltas', 'desalt', 'lasted', 'salted', 'slated', 'staled']\n",
    "          ['retainers', 'ternaries']\n",
    "          ['generating', 'greatening']\n",
    "          ['resmelts', 'smelters', 'termless']\n",
    "\n",
    "Hint: you might want to build a dictionary that maps from a set of letters to a list of words that can be spelled with those letters. The question is, how can you represent the set of letters in a way that can be used as a key?"
   ]
  },
  {
   "cell_type": "code",
   "execution_count": 15,
   "metadata": {
    "collapsed": false
   },
   "outputs": [],
   "source": [
    "## use disjoint union structure\n",
    "\n",
    "from collections import Counter\n",
    "\n",
    "def anagram_lists(words):\n",
    "    hist = {word: Counter(word) for word in words}\n",
    "    dju = [[word] for word in words]\n",
    "    j = 0 \n",
    "    while j < len(dju):\n",
    "        moved = set()\n",
    "        for i in range(j + 1, len(dju)):\n",
    "            if hist[dju[i][0]] == hist[dju[j][0]]:\n",
    "                dju[j].extend(dju[i])\n",
    "                moved.add(i)   \n",
    "        dju = [el for i, el in enumerate(dju) if i not in moved]\n",
    "        j += 1\n",
    "\n",
    "    return dju\n",
    "\n",
    "test_words = ['deltas', 'desalt', 'lasted', \n",
    "              'salted', 'slated', 'staled', \n",
    "              'retainers', 'ternaries', 'generating', \n",
    "              'greatening', 'resmelts', 'smelters', 'termless', \n",
    "              'XXYZYZZZ', 'XYYZZXZZ', 'XYXYZZZZ', 'XYYZZZXZ', 'XZXYYZZZ', 'ZXXYYZZZ']\n",
    "\n",
    "test_anagrams = [['deltas', 'desalt', 'lasted', 'salted', 'slated', 'staled'],\n",
    "               ['retainers', 'ternaries'],\n",
    "               ['generating', 'greatening'],\n",
    "               ['resmelts', 'smelters', 'termless'],\n",
    "               ['XXYZYZZZ', 'XYYZZXZZ', 'XYXYZZZZ', 'XYYZZZXZ', 'XZXYYZZZ', 'ZXXYYZZZ']]\n",
    "\n",
    "assert test_anagrams == anagram_lists(test_words)"
   ]
  },
  {
   "cell_type": "markdown",
   "metadata": {},
   "source": [
    "## Exercise 4B\n",
    "\n",
    "Modify the previous program so that it prints the largest set of anagrams first, followed by the second largest set, and so on."
   ]
  },
  {
   "cell_type": "code",
   "execution_count": 17,
   "metadata": {
    "collapsed": false
   },
   "outputs": [],
   "source": [
    "def sort_by_size(lol):\n",
    "    \"\"\"takes a list and sorts so the largest list comes first\"\"\"\n",
    "    return sorted(lol, key=lambda l: len(l), reverse=True)\n",
    "\n",
    "assert [] == sort_by_size([])\n",
    "assert [[]] == sort_by_size([[]])\n",
    "assert [[7,7,7,7,7,7], [4,4,4,4], [2,2,2], [1]] == sort_by_size([[1], [2,2,2], [7,7,7,7,7,7], [4,4,4,4]])\n",
    "assert [[7,7,7,7,7,7], [4,4,4,4], [2,2,2], [1], []] == sort_by_size([[1], [2,2,2], [], [7,7,7,7,7,7], [4,4,4,4]])"
   ]
  },
  {
   "cell_type": "markdown",
   "metadata": {},
   "source": [
    "## Exervise 4C\n",
    "\n",
    "In Scrabble a “bingo” is when you play all seven tiles in your rack, along with a letter on the board, to form an eight-letter word. What set of 8 letters forms the most possible bingos? Hint: there are seven."
   ]
  },
  {
   "cell_type": "code",
   "execution_count": 18,
   "metadata": {
    "collapsed": true
   },
   "outputs": [],
   "source": [
    "def find_bingos(words):\n",
    "    als = sort_by_size(anagram_lists(words))\n",
    "    als = [al for al in als if len(al[0]) == 8]\n",
    "    return als\n",
    "\n",
    "test_bingos = [['XXYZYZZZ', 'XYYZZXZZ', 'XYXYZZZZ', 'XYYZZZXZ', 'XZXYYZZZ', 'ZXXYYZZZ'],\n",
    "               ['resmelts', 'smelters', 'termless']]\n",
    "\n",
    "assert test_bingos == find_bingos(test_words)"
   ]
  },
  {
   "cell_type": "code",
   "execution_count": null,
   "metadata": {
    "collapsed": false
   },
   "outputs": [],
   "source": [
    "find_bingos(cwords)"
   ]
  },
  {
   "cell_type": "markdown",
   "metadata": {},
   "source": [
    "# Exercise 5\n",
    "\n",
    "Histograms"
   ]
  },
  {
   "cell_type": "code",
   "execution_count": 19,
   "metadata": {
    "collapsed": false
   },
   "outputs": [
    {
     "name": "stdout",
     "output_type": "stream",
     "text": [
      "<function histogram1 at 0x10f65c950>\n",
      "<function histogram2 at 0x10f652510>\n",
      "<function histogram3 at 0x10f652378>\n",
      "<function histogram4 at 0x10f652840>\n"
     ]
    }
   ],
   "source": [
    "def histogram1(s):\n",
    "    d = dict()\n",
    "    for c in s:\n",
    "        if c not in d:\n",
    "            d[c] = 1 \n",
    "        else:\n",
    "            d[c] += 1\n",
    "    return d\n",
    "        \n",
    "def histogram2(s):\n",
    "    d = dict()\n",
    "    for c in s:\n",
    "        d[c] = d.get(c, 0) + 1\n",
    "    return d\n",
    "\n",
    "from collections import defaultdict\n",
    "\n",
    "def histogram3(s):\n",
    "    d = defaultdict(int)\n",
    "    for c in s:\n",
    "        d[c] += 1\n",
    "    return d\n",
    "\n",
    "def histogram4(s):\n",
    "    return Counter(s)\n",
    "\n",
    "for histogram in (histogram1, histogram2, histogram3, histogram4):\n",
    "    print(histogram)\n",
    "    assert histogram('') == {}\n",
    "    assert histogram('a') == {'a': 1}\n",
    "    assert histogram('abb') == {'a': 1, 'b': 2}"
   ]
  },
  {
   "cell_type": "markdown",
   "metadata": {},
   "source": [
    "## Exercise 5A\n",
    "\n",
    "Take a look at the file ecoli-genome.fnafoundin\\\\bitsmb\\groups\\workshops\\proglab2\\ containing the DNA of a strain of escherichia coli. Write a function fasta_frequency(filename) that takes a filename as a parameter and returns a histogram containing the frequency of each nucleotide (or amino acid)."
   ]
  },
  {
   "cell_type": "code",
   "execution_count": 24,
   "metadata": {
    "collapsed": true
   },
   "outputs": [],
   "source": [
    "def parse_fasta_iterator(it):\n",
    "    s = ''\n",
    "    it = iter(it)\n",
    "    for line in it:\n",
    "        if not line.startswith('>'):\n",
    "            s += line.strip()\n",
    "    return s\n",
    "        \n",
    "\n",
    "test_fasta = \"\"\">gi|556503834|ref|NC_000913.3| Escherichia coli str. K-12 substr. MG1655, complete genome\n",
    "AGCTTTTCATTCTGACTGCAACGGGCAATATGTCTCTGTGTGGATTAAAAAAAGAGTGTCTGATAGCAGC\n",
    "\"\"\"\n",
    "test_dna = \"AGCTTTTCATTCTGACTGCAACGGGCAATATGTCTCTGTGTGGATTAAAAAAAGAGTGTCTGATAGCAGC\"\n",
    "\n",
    "assert test_dna == parse_fasta_iterator(test_fasta.split('\\n'))"
   ]
  },
  {
   "cell_type": "code",
   "execution_count": 25,
   "metadata": {
    "collapsed": false
   },
   "outputs": [],
   "source": [
    "def open_fasta(path):\n",
    "    with open(path) as f:\n",
    "        return parse_fasta_iterator(f)\n",
    "\n",
    "assert test_dna == open_fasta(mypath + 'test_fasta.txt')\n",
    "\n",
    "def fasta_frequency(path):\n",
    "    return Counter(open_fasta(path))\n",
    "\n",
    "assert {'A': 20, 'C': 12, 'G': 17, 'T': 21} == fasta_frequency(mypath + 'test_fasta.txt')"
   ]
  },
  {
   "cell_type": "markdown",
   "metadata": {},
   "source": [
    "## Exercise 5B\n",
    "\n",
    "Write a function print_hist(h) that takes a histogram as parameter and prints a table of keys and values in alphabetical order of the keys."
   ]
  },
  {
   "cell_type": "code",
   "execution_count": 26,
   "metadata": {
    "collapsed": false
   },
   "outputs": [],
   "source": [
    "def print_hist(h, file=sys.stdout):\n",
    "    for key in sorted(h):\n",
    "        print(\"{}: {}\".format(key, h[key]), file=file)\n",
    "\n",
    "test_output = io.StringIO()\n",
    "print_hist(histogram(\"aaabbcd\"), file=test_output)\n",
    "assert 'a: 3\\nb: 2\\nc: 1\\nd: 1\\n' == test_output.getvalue()"
   ]
  },
  {
   "cell_type": "markdown",
   "metadata": {},
   "source": [
    "## Exercise 5C\n",
    "\n",
    "Combine the functions into a script where the user is asked to input a filename of a file in fasta format that calculates the frequencies and prints a table of nucleotides/amino acid symbols and their respective frequency."
   ]
  },
  {
   "cell_type": "code",
   "execution_count": 27,
   "metadata": {
    "collapsed": false
   },
   "outputs": [
    {
     "name": "stdout",
     "output_type": "stream",
     "text": [
      "A: 20\n",
      "C: 12\n",
      "G: 17\n",
      "T: 21\n"
     ]
    }
   ],
   "source": [
    "def simulate_script_5c(argstring):\n",
    "    parser = argparse.ArgumentParser()\n",
    "    \n",
    "    parser.add_argument(\"--input\", \"-i\", default=sys.stdin, type=argparse.FileType('r'))\n",
    "    parser.add_argument(\"--output\", \"-o\", default=sys.stdout, type=argparse.FileType('w'))\n",
    "    args = parser.parse_args(argstring.split())\n",
    "    \n",
    "    print_hist(histogram(parse_fasta_iterator(args.input)), file=args.output)\n",
    "    \n",
    "simulate_script_5c(\"--input /Users/cthoyt/GoogleDrive/Bonn/programming_lab_2/test_fasta.txt\")"
   ]
  },
  {
   "cell_type": "markdown",
   "metadata": {},
   "source": [
    "# Exercise 6\n",
    "\n",
    "## Exercise 6A\n",
    "\n",
    "Make sure that the function fasta_frequency(filename) from the previous exercise also works with multiple fasta sequences in one file. A single histogram should be returned combining the frequencies of all sequences. Calculate the histogram for the amino acids for all proteins combined."
   ]
  },
  {
   "cell_type": "code",
   "execution_count": null,
   "metadata": {
    "collapsed": true
   },
   "outputs": [],
   "source": []
  },
  {
   "cell_type": "markdown",
   "metadata": {},
   "source": [
    "## Exercise 6B\n",
    "\n",
    "Now write a function that sorts the amino-acids by their relative frequency and print a table of amino acids and their relative frequency in decreasing order of frequency. Hint: The entries of a dictionary can be converted to a list of key–value tuples using the method items(). See section 12.6 of Think Python."
   ]
  },
  {
   "cell_type": "code",
   "execution_count": 30,
   "metadata": {
    "collapsed": false
   },
   "outputs": [],
   "source": [
    "from operator import itemgetter\n",
    "\n",
    "def sorted_histogram(d):\n",
    "    return sorted(d.items(), key=itemgetter(1), reverse=True)\n",
    "\n",
    "assert [('b', 6), ('a', 1), ('c', 0)] == sorted_histogram({'a':1, 'b':6, 'c':0})"
   ]
  },
  {
   "cell_type": "markdown",
   "metadata": {},
   "source": [
    "## Exercise 6C\n",
    "\n",
    "In order to make this more useful combine the functions in a single script fasta_frequency.py that asks the user for a filename and as a results prints the occurring amino-acids/nucleotides in decreasing order of frequency."
   ]
  },
  {
   "cell_type": "code",
   "execution_count": 46,
   "metadata": {
    "collapsed": false
   },
   "outputs": [
    {
     "name": "stdout",
     "output_type": "stream",
     "text": [
      "AA\tFrequency\tPercent\n",
      "T\t21\t30.0\n",
      "A\t20\t28.6\n",
      "G\t17\t24.3\n",
      "C\t12\t17.1\n"
     ]
    }
   ],
   "source": [
    "def simulate_script_6c(argstring):\n",
    "    parser = argparse.ArgumentParser()\n",
    "    \n",
    "    parser.add_argument(\"--input\", \"-i\", default=sys.stdin, type=argparse.FileType('r'))\n",
    "    parser.add_argument(\"--output\", \"-o\", default=sys.stdout, type=argparse.FileType('w'))\n",
    "    parser.add_argument(\"--delimiter\", '-d', default='\\t')\n",
    "    args = parser.parse_args(argstring.split())\n",
    "    \n",
    "    fasta = parse_fasta_iterator(args.input)\n",
    "    hist = histogram(fasta)\n",
    "    hist = sorted_histogram(hist)\n",
    "    \n",
    "    print(args.delimiter.join((\"AA\", \"Frequency\", \"Percent\")))\n",
    "    total = sum(dict(hist).values())\n",
    "    for k, v in hist:\n",
    "        print(k, v, round(100 * v / total, 1), file=args.output, sep=args.delimiter)\n",
    "    \n",
    "simulate_script_6c(\"--input /Users/cthoyt/GoogleDrive/Bonn/programming_lab_2/test_fasta.txt\")"
   ]
  },
  {
   "cell_type": "markdown",
   "metadata": {},
   "source": [
    "## Exercise 6D\n",
    "\n",
    "Frequently, scripts work in a non-interactive way. That is, they do not expect the user to enter anything while the program is running. Instead, all the information the program needs is passed to the program before the start using command line parameters. The program can then called from the command line:\n",
    "         W:\\> python fasta_frequency.py sequence.fasta\n",
    "or from the notebook\n",
    "         In [ ]: %run fasta_frequency.py sequence.fasta\n",
    "Here, sequence.fasta is the filename containing the data you want to investigate. The parameters entered after the script name is available to the python script itself. It is stored in a list of strings that can be found in the module sys. E.g., consider a script named args.py\n",
    "         import sys\n",
    "         print(sys.argv) # argv is short for argument vector\n",
    "Then running the script:\n",
    "         In [ ]: %run args Was it a car or a cat I saw\n",
    "will print\n",
    "         ['args.py','Was','it','a','car','or','a','cat','I','saw']\n",
    "Modify the script so that it reads the filename from the command line (to be found in sys.argv[1]).\n",
    "\n",
    "\n",
    "### Solution\n",
    "\n",
    "See use of argparse module above for more flexible user and developer options"
   ]
  },
  {
   "cell_type": "markdown",
   "metadata": {},
   "source": [
    "## Exercise 6E\n",
    "\n",
    "Apply your script to ecoli-proteome.faa and to one or more of the cromosomal proteomes of drosophila melangoster: drosophila-proteome-chrX.faa, drosophila-proteome-chr2.faa, drosophila-proteome-chr3.faa.\n",
    "Are there noticeable differences in the amino acid composition between escherichia coli and drosophila melangoster?\n",
    "How well do the frequencies correspond to the published results found in the publication amino-acid-composition.pdf (Fig. 1, p. 601):\n",
    "5\n",
    "Bogatyreva, N.; Finkelstein, A.V.; Galzitskaya, O.V. Trend of amino acid com- position of proteins of different taxa. Journal of Bioinformatics and Compu- tational Biology 4 (2006), 597–608."
   ]
  },
  {
   "cell_type": "code",
   "execution_count": 47,
   "metadata": {
    "collapsed": false
   },
   "outputs": [
    {
     "name": "stdout",
     "output_type": "stream",
     "text": [
      "AA\tFrequency\tPercent\n",
      "S\t289627\t8.9\n",
      "L\t278829\t8.6\n",
      "A\t251815\t7.8\n",
      "G\t220235\t6.8\n",
      "E\t205421\t6.3\n",
      "T\t190637\t5.9\n",
      "V\t185844\t5.7\n",
      "Q\t184048\t5.7\n",
      "P\t182870\t5.6\n",
      "R\t181199\t5.6\n",
      "D\t166938\t5.1\n",
      "K\t164383\t5.1\n",
      "N\t153527\t4.7\n",
      "I\t148514\t4.6\n",
      "F\t102904\t3.2\n",
      "H\t89491\t2.8\n",
      "Y\t88730\t2.7\n",
      "M\t74608\t2.3\n",
      "C\t56592\t1.7\n",
      "W\t29439\t0.9\n",
      "X\t55\t0.0\n",
      "U\t2\t0.0\n"
     ]
    }
   ],
   "source": [
    "simulate_script_6c(\"--input /Users/cthoyt/GoogleDrive/Bonn/programming_lab_2/drosophila-proteome-chrX.faa\")"
   ]
  },
  {
   "cell_type": "code",
   "execution_count": 48,
   "metadata": {
    "collapsed": false
   },
   "outputs": [
    {
     "name": "stdout",
     "output_type": "stream",
     "text": [
      "AA\tFrequency\tPercent\n",
      "L\t302901\t8.9\n",
      "S\t286645\t8.4\n",
      "A\t253298\t7.4\n",
      "E\t223008\t6.6\n",
      "G\t208630\t6.1\n",
      "V\t202001\t5.9\n",
      "T\t194138\t5.7\n",
      "K\t191612\t5.6\n",
      "P\t189277\t5.6\n",
      "R\t188988\t5.6\n",
      "D\t179575\t5.3\n",
      "Q\t177866\t5.2\n",
      "I\t167175\t4.9\n",
      "N\t162159\t4.8\n",
      "F\t116587\t3.4\n",
      "Y\t98769\t2.9\n",
      "H\t88588\t2.6\n",
      "M\t77553\t2.3\n",
      "C\t58532\t1.7\n",
      "W\t33124\t1.0\n",
      "X\t78\t0.0\n"
     ]
    }
   ],
   "source": [
    "simulate_script_6c(\"--input /Users/cthoyt/GoogleDrive/Bonn/programming_lab_2/drosophila-proteome-chr2.faa\")"
   ]
  },
  {
   "cell_type": "code",
   "execution_count": 49,
   "metadata": {
    "collapsed": false
   },
   "outputs": [
    {
     "name": "stdout",
     "output_type": "stream",
     "text": [
      "AA\tFrequency\tPercent\n",
      "L\t364026\t8.8\n",
      "S\t358176\t8.7\n",
      "A\t316168\t7.7\n",
      "G\t260569\t6.3\n",
      "E\t258114\t6.3\n",
      "V\t238218\t5.8\n",
      "T\t237067\t5.8\n",
      "P\t232448\t5.7\n",
      "K\t226375\t5.5\n",
      "Q\t223395\t5.4\n",
      "R\t222538\t5.4\n",
      "D\t214280\t5.2\n",
      "N\t195468\t4.8\n",
      "I\t194081\t4.7\n",
      "F\t139164\t3.4\n",
      "Y\t115448\t2.8\n",
      "H\t110799\t2.7\n",
      "M\t97577\t2.4\n",
      "C\t72069\t1.8\n",
      "W\t37708\t0.9\n",
      "X\t108\t0.0\n"
     ]
    }
   ],
   "source": [
    "simulate_script_6c(\"--input /Users/cthoyt/GoogleDrive/Bonn/programming_lab_2/drosophila-proteome-chr3.faa\")"
   ]
  },
  {
   "cell_type": "markdown",
   "metadata": {},
   "source": [
    "### Analysis\n",
    "\n",
    "The values in these files were more dispuresd, with none coming high above 9%. There were also more amino acids with low frequencies than in the paper"
   ]
  },
  {
   "cell_type": "markdown",
   "metadata": {
    "collapsed": true
   },
   "source": [
    "# Exercise 7\n",
    "\n",
    "A nice word puzzle and an even better programming exercise (Ex. 12.4 of Think Python) Here's another Car Talk Puzzler (http://www.cartalk.com/content/puzzlers):\n",
    "What is the longest English word, that remains a valid English word, as you remove its letters one at a time?\n",
    "Now, letters can be removed from either end, or the middle, but you can't rearrange any of the letters. Every time you drop a letter, you wind up with another English word. If you do that, you're eventually going to wind up with one letter and that too is going to be an English word—one that's found in the dictionary. I want to know what's the longest word and how many letters does it have?\n",
    "\n",
    "I'm going to give you a little modest example: Sprite. Ok? You start off with sprite, you take a letter off, one from the interior of the word, take the r away, and we're left with the word spite, then we take the e off the end, we're left with spit, we take the s off, we're left with pit, it, and I.\n",
    "Write a program to find all words that can be reduced in this way, and then find the longest one.\n",
    "This exercise is a little more challenging than most and a few hints are given for solving this problem are given in Think Python. When trying this exercise please note that the provided list of words words.txt does not contain the one letter words ‘a' and ‘i'.\n",
    "\n",
    "\n",
    "### Solution\n",
    "\n",
    "- Construct a graph where each node represents a word. \n",
    "- For every pair of nodes i and j, if i can be made by taking a letter off of j, add a directed edge (i, j)\n",
    "- Find all paths from 1 letter words. the terminal nodes of these paths are all solutions"
   ]
  },
  {
   "cell_type": "code",
   "execution_count": 7,
   "metadata": {
    "collapsed": false
   },
   "outputs": [],
   "source": [
    "def match_minus(a, b):\n",
    "    \"\"\"returns true if a can be constructed by removing a letter from b\"\"\"\n",
    "    if len(a) + 1 != len(b):\n",
    "        return False\n",
    "    for i in range(len(b)):\n",
    "        if a[:i] == b[:i] and a[i:] == b[i+1:]:\n",
    "            return True\n",
    "    return False\n",
    "\n",
    "assert match_minus('spite', 'sprite')\n",
    "assert not match_minus('sprite', 'spite')\n",
    "assert not match_minus('spit', 'sprite')\n",
    "assert match_minus('i', 'ih')\n",
    "assert match_minus('i', 'hi')\n",
    "assert match_minus('', 'i')"
   ]
  },
  {
   "cell_type": "code",
   "execution_count": 58,
   "metadata": {
    "collapsed": false
   },
   "outputs": [
    {
     "name": "stdout",
     "output_type": "stream",
     "text": [
      "graph built\n"
     ]
    }
   ],
   "source": [
    "from collections import defaultdict\n",
    "\n",
    "def build_graph(words):\n",
    "    g = defaultdict(set)\n",
    "    mwords = list(words) + ['a', 'i']\n",
    "    \n",
    "    ltw = defaultdict(list)\n",
    "    for word in words:\n",
    "        ltw[len(word)].append(word)\n",
    "    \n",
    "    for l in sorted(ltw.keys()):\n",
    "        for a, b in product(ltw[l], ltw[l + 1]):\n",
    "            if match_minus(a, b):\n",
    "                g[a].add(b)\n",
    "    \n",
    "    return dict(g)\n",
    "\n",
    "test_words = ['i', 'hi', 'his', 'him', 'in', 'shim']\n",
    "\n",
    "assert {'i': {'in', 'hi'}, 'him': {'shim'}, 'hi': {'him', 'his'}} == build_graph(test_words)\n",
    "\n",
    "def all_paths(g, start_node):\n",
    "    if start_node not in g:\n",
    "        return [[start_node]]\n",
    "    paths = []\n",
    "    for neighbor in g[start_node]:\n",
    "        paths.extend(all_paths(g, neighbor))\n",
    "    return [[start_node] + path for path in paths]\n",
    "\n",
    "assert sorted([['i', 'in'], \n",
    "               ['i', 'hi', 'him', 'shim'], \n",
    "               ['i', 'hi', 'his']]) == sorted(all_paths(build_graph(test_words), 'i'))\n",
    "\n",
    "def get_solutions(words):\n",
    "    g = build_graph(words)\n",
    "    print('graph built')\n",
    "    paths = all_paths(g, 'i') + all_paths(g, 'a')\n",
    "    solutions = set()\n",
    "    for path in paths:\n",
    "        for el in path:  \n",
    "            solutions.add(el)\n",
    "    return solutions\n",
    "    \n",
    "assert {'shim', 'his', 'him', 'in', 'hi', 'i', 'a'} == get_solutions(test_words)\n",
    "assert 'shim' == max(get_solutions(test_words), key=len)"
   ]
  },
  {
   "cell_type": "code",
   "execution_count": null,
   "metadata": {
    "collapsed": false
   },
   "outputs": [],
   "source": [
    "get_solutions(cwords)"
   ]
  },
  {
   "cell_type": "code",
   "execution_count": 17,
   "metadata": {
    "collapsed": false
   },
   "outputs": [
    {
     "name": "stdout",
     "output_type": "stream",
     "text": [
      "length=2 number=85\n",
      "length=3 number=908\n",
      "length=4 number=3686\n",
      "length=5 number=8258\n",
      "length=6 number=14374\n",
      "length=7 number=21727\n",
      "length=8 number=26447\n",
      "length=9 number=16658\n",
      "length=10 number=9199\n",
      "length=11 number=5296\n",
      "length=12 number=3166\n",
      "length=13 number=1960\n",
      "length=14 number=1023\n",
      "length=15 number=557\n",
      "length=16 number=261\n",
      "length=17 number=132\n",
      "length=18 number=48\n",
      "length=19 number=16\n",
      "length=20 number=5\n",
      "length=21 number=3\n",
      "[2, 3, 4, 5, 6, 7, 8, 9, 10, 11, 12, 13, 14, 15, 16, 17, 18, 19, 20, 21]\n",
      "l:3 length of l-1:85, length of l:908\n",
      "l:4 length of l-1:681, length of l:3686\n",
      "l:5 length of l-1:2489, length of l:8258\n",
      "l:6 length of l-1:4355, length of l:14374\n",
      "l:7 length of l-1:4338, length of l:21727\n",
      "l:8 length of l-1:2867, length of l:26447\n",
      "l:9 length of l-1:1163, length of l:16658\n",
      "l:10 length of l-1:210, length of l:9199\n",
      "l:11 length of l-1:9, length of l:5296\n",
      "l:12 length of l-1:1, length of l:3166\n",
      "l:13 length of l-1:0, length of l:1960\n",
      "l:14 length of l-1:0, length of l:1023\n",
      "l:15 length of l-1:0, length of l:557\n",
      "l:16 length of l-1:0, length of l:261\n",
      "l:17 length of l-1:0, length of l:132\n",
      "l:18 length of l-1:0, length of l:48\n",
      "l:19 length of l-1:0, length of l:16\n",
      "l:20 length of l-1:0, length of l:5\n",
      "l:21 length of l-1:0, length of l:3\n"
     ]
    }
   ],
   "source": [
    "from collections import defaultdict\n",
    "from itertools import product\n",
    "\n",
    "with open('/Users/cthoyt/GoogleDrive/Bonn/programming_lab_2/words.txt') as f:\n",
    "    words = [line.strip() for line in f]\n",
    "words[:10]\n",
    "\n",
    "len2words = defaultdict(list)\n",
    "\n",
    "for word in words:\n",
    "    len2words[len(word)].append(word)\n",
    "    \n",
    "for l in len2words:\n",
    "    len2words[l] = sorted(len2words[l])\n",
    "    print(\"length={} number={}\".format(l, len(len2words[l])))\n",
    "\n",
    "lengths = sorted(len2words)\n",
    "print(lengths)\n",
    "last = len2words[lengths[0]]\n",
    "g = defaultdict(set)\n",
    "r = defaultdict(set)\n",
    "\n",
    "for l in lengths[1:]:\n",
    "    new_last = set()\n",
    "    print(\"l:{} length of l-1:{}, length of l:{}\".format(l, len(last), len(len2words[l])))\n",
    "    for a, b in product(last, len2words[l]):\n",
    "        if match_minus(a, b):\n",
    "            g[a].add(b)\n",
    "            r[b].add(a)\n",
    "            new_last.add(b)\n",
    "    last = new_last"
   ]
  },
  {
   "cell_type": "code",
   "execution_count": 52,
   "metadata": {
    "collapsed": false
   },
   "outputs": [],
   "source": [
    "for word in len2words[2]:\n",
    "    if match_minus('i', word):\n",
    "        g['i'].add(word)\n",
    "    if match_minus('a', word):\n",
    "        g['a'].add(word)"
   ]
  },
  {
   "cell_type": "code",
   "execution_count": 53,
   "metadata": {
    "collapsed": false
   },
   "outputs": [],
   "source": [
    "# do a depth first seach on g\n",
    "\n",
    "res = set()\n",
    "\n",
    "def dfs(g, s):\n",
    "    if s not in g:\n",
    "        res.add(s)\n",
    "    elif 0 == len(g[s]):\n",
    "        res.add(s)\n",
    "    else:\n",
    "        for neighbor in g[s]:\n",
    "            dfs(g, neighbor)\n",
    "            \n",
    "dfs(g, 'i')\n",
    "dfs(g, 'a')\n"
   ]
  },
  {
   "cell_type": "code",
   "execution_count": 54,
   "metadata": {
    "collapsed": false
   },
   "outputs": [
    {
     "name": "stdout",
     "output_type": "stream",
     "text": [
      "3496 ['complecting', 'restarting']\n"
     ]
    }
   ],
   "source": [
    "res = sorted(res, key=len, reverse=True)\n",
    "print(len(res), res[0:2])"
   ]
  },
  {
   "cell_type": "code",
   "execution_count": null,
   "metadata": {
    "collapsed": true
   },
   "outputs": [],
   "source": []
  }
 ],
 "metadata": {
  "kernelspec": {
   "display_name": "Python 3",
   "language": "python",
   "name": "python3"
  },
  "language_info": {
   "codemirror_mode": {
    "name": "ipython",
    "version": 3
   },
   "file_extension": ".py",
   "mimetype": "text/x-python",
   "name": "python",
   "nbconvert_exporter": "python",
   "pygments_lexer": "ipython3",
   "version": "3.5.1"
  }
 },
 "nbformat": 4,
 "nbformat_minor": 0
}
