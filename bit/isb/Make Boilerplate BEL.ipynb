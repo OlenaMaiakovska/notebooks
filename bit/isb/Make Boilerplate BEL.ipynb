{
 "cells": [
  {
   "cell_type": "code",
   "execution_count": 1,
   "metadata": {
    "collapsed": true
   },
   "outputs": [],
   "source": [
    "import requests\n",
    "import os\n",
    "\n",
    "abstract_url_fmt = \"http://togows.dbcls.jp/entry/ncbi-pubmed/{}/abstract\"\n",
    "title_url_fmt = \"http://togows.dbcls.jp/entry/ncbi-pubmed/{}/title\"\n",
    "citation_format = 'SET Citation = {{\"PubMed\",\"{}\",\"{}\"}}'\n",
    "evidence_format = 'SET Evidence = \"{}\"'\n",
    "\n",
    "def make_boilerplate_bel(pmids, output_path, *prepend_file_paths):\n",
    "    with open(output_path, 'w') as f:\n",
    "        \n",
    "        for prepend_file_path in prepend_file_paths:\n",
    "            with open(os.path.expanduser(prepend_file_path)) as prepend_file:\n",
    "                for line in prepend_file:\n",
    "                    print(line.strip(), file=f)\n",
    "\n",
    "        print(file=f)\n",
    "\n",
    "        for i, pmid in enumerate(pmids, start=1):\n",
    "            print('SET STATEMENT_GROUP = \"Group {}\"'.format(i), '\\n', file=f)\n",
    "\n",
    "            res = requests.get(title_url_fmt.format(pmid))\n",
    "            title = res.content.decode('utf-8').strip()\n",
    "\n",
    "            print(citation_format.format(title, pmid), '\\n', file=f)\n",
    "\n",
    "            res = requests.get(abstract_url_fmt.format(pmid))\n",
    "            abstract = res.content.decode('utf-8').strip()\n",
    "\n",
    "            print(evidence_format.format(abstract), '\\n\\n\\n', file=f)\n",
    "            print('UNSET STATEMENT_GROUP', '\\n', file=f)"
   ]
  },
  {
   "cell_type": "code",
   "execution_count": 14,
   "metadata": {
    "collapsed": false
   },
   "outputs": [],
   "source": [
    "output_path = os.path.expanduser('~/dev/notebooks/bit/isb/bp.bel')\n",
    "\n",
    "pmids = [\n",
    "    26209472, \n",
    "    26940375,\n",
    "    26839406, \n",
    "    26612754,\n",
    "    26138444, \n",
    "    25985082, \n",
    "    25874605, \n",
    "    25853980, \n",
    "    25565982, \n",
    "    25484190, \n",
    "    25345880,\n",
    "    25297524,\n",
    "    24878508,\n",
    "    24624994,\n",
    "    24135772,\n",
    "    23703938\n",
    "]\n",
    "\n",
    "prepend_fps = [\n",
    "    '~/dev/notebooks/bit/isb/BoilerplateNamespaceAnnotations.txt'\n",
    "]\n",
    "\n",
    "make_boilerplate_bel(pmids, output_path, *prepend_fps)"
   ]
  }
 ],
 "metadata": {
  "kernelspec": {
   "display_name": "Python 3",
   "language": "python",
   "name": "python3"
  },
  "language_info": {
   "codemirror_mode": {
    "name": "ipython",
    "version": 3
   },
   "file_extension": ".py",
   "mimetype": "text/x-python",
   "name": "python",
   "nbconvert_exporter": "python",
   "pygments_lexer": "ipython3",
   "version": "3.5.2"
  }
 },
 "nbformat": 4,
 "nbformat_minor": 1
}
