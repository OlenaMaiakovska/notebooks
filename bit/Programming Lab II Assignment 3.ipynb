{
 "cells": [
  {
   "cell_type": "markdown",
   "metadata": {
    "collapsed": false
   },
   "source": [
    "# Exercise 1\n",
    "\n",
    "## Exercise 1A\n",
    "\n",
    "Write a function called middle that takes a list and returns a new list that contains all but the first and last elements. So middle([1,2,3,4]) should return [2,3]"
   ]
  },
  {
   "cell_type": "code",
   "execution_count": 1,
   "metadata": {
    "collapsed": false
   },
   "outputs": [
    {
     "name": "stdout",
     "output_type": "stream",
     "text": [
      "<function middle_naive at 0x106c33158>\n",
      "<function middle_slice at 0x106c331e0>\n"
     ]
    }
   ],
   "source": [
    "def middle_naive(l):\n",
    "    if len(l) <= 2:\n",
    "        return l\n",
    "    \n",
    "    result = []\n",
    "    for i in range(1, len(l) - 1):\n",
    "        result.append(l[i])\n",
    "    return result\n",
    "    \n",
    "def middle_slice(l):\n",
    "    if len(l) <= 2:\n",
    "        return l\n",
    "    return l[1:-1]\n",
    "\n",
    "for middle in (middle_naive, middle_slice):\n",
    "    print(middle)\n",
    "    assert [] == middle([])\n",
    "    assert [1] == middle([1])\n",
    "    assert [2, 3] == middle([1,2,3,4])"
   ]
  },
  {
   "cell_type": "markdown",
   "metadata": {},
   "source": [
    "## Exercise 1B\n",
    "\n",
    "Write a function called chop that takes a list, modifies it by removing the first and last elements, and returns None."
   ]
  },
  {
   "cell_type": "code",
   "execution_count": 2,
   "metadata": {
    "collapsed": false
   },
   "outputs": [],
   "source": [
    "def chop_inplace(l):\n",
    "    l.pop(0)\n",
    "    l.pop()\n",
    "    return None\n",
    "\n",
    "def chop_wrong1(l):\n",
    "    t = []\n",
    "    for i in range(1, len(l) - 1):\n",
    "        t.append(l[i])\n",
    "    l = t\n",
    "    return None\n",
    "\n",
    "def chop_wrong2(l):\n",
    "    l = l[1:-1]\n",
    "    return None\n",
    "\n",
    "for chop in (chop_inplace, ):\n",
    "    l = [1,2,3,4]\n",
    "    chop(l)\n",
    "    assert l == [2,3]\n",
    "    \n",
    "for chop in (chop_wrong1, chop_wrong2):\n",
    "    l = [1,2,3,4]\n",
    "    chop(l)\n",
    "    assert l == [1,2,3,4]"
   ]
  },
  {
   "cell_type": "markdown",
   "metadata": {},
   "source": [
    "# Exercise 2\n",
    "\n",
    "## Exercise 2A\n",
    "\n",
    "Write a function that takes a list of numbers and returns the cumulative sum; that is, a new list where the ith element is the sum of the first i + 1 elements from the original list. For example, the cumulative sum of [1, 2, 3] is [1, 3, 6]."
   ]
  },
  {
   "cell_type": "code",
   "execution_count": 3,
   "metadata": {
    "collapsed": false
   },
   "outputs": [
    {
     "name": "stdout",
     "output_type": "stream",
     "text": [
      "<function cumsum_naive at 0x106c1a378>\n",
      "<function cumsum_naive2 at 0x106c1af28>\n",
      "<function cumsum_smart at 0x106c1aea0>\n"
     ]
    }
   ],
   "source": [
    "def cumsum_naive(l):\n",
    "    result = []\n",
    "    for i in range(len(l)):\n",
    "        el = 0\n",
    "        for j in range(0, i + 1):\n",
    "            el += l[j]\n",
    "        result.append(el)\n",
    "    return result\n",
    "\n",
    "def cumsum_naive2(l):\n",
    "    result = []\n",
    "    for i in range(len(l)):\n",
    "        result.append(sum(l[:i + 1]))\n",
    "    return result\n",
    "\n",
    "import numpy as np\n",
    "\n",
    "def cumsum_smart(l):\n",
    "    return list(np.cumsum(l))\n",
    "\n",
    "for cumsum in (cumsum_naive, cumsum_naive2, cumsum_smart):\n",
    "    print(cumsum)\n",
    "    assert [1,3,6] == cumsum([1,2,3])"
   ]
  },
  {
   "cell_type": "markdown",
   "metadata": {},
   "source": [
    "## Exercise 2B\n",
    "\n",
    "Write a function called nested_sum that takes a nested list of integers and adds up the elements from all of the nested lists."
   ]
  },
  {
   "cell_type": "code",
   "execution_count": 4,
   "metadata": {
    "collapsed": false
   },
   "outputs": [
    {
     "name": "stdout",
     "output_type": "stream",
     "text": [
      "<function nested_sum_naive1 at 0x1073140d0>\n",
      "<function nested_sum_naive2 at 0x107314268>\n",
      "<function nested_sum_smart at 0x1073142f0>\n"
     ]
    }
   ],
   "source": [
    "def nested_sum_naive1(l):\n",
    "    s = 0\n",
    "    for i in range(len(l)):\n",
    "        for j in range(len(l[i])):\n",
    "            s += l[i][j]\n",
    "    return s\n",
    "\n",
    "def nested_sum_naive2(l):\n",
    "    s = 0\n",
    "    for subl in l:\n",
    "        for el in subl:\n",
    "            s += el\n",
    "    return s\n",
    "    \n",
    "def nested_sum_smart(l):\n",
    "    return sum(sum(element) for element in l)\n",
    "\n",
    "for nested_sum in (nested_sum_naive1, nested_sum_naive2, nested_sum_smart):\n",
    "    print(nested_sum)\n",
    "    assert 10 == nested_sum([[1,2], [7]])\n",
    "    assert 0 == nested_sum([[]])\n",
    "    assert 10 == nested_sum([[1,2,7]])\n",
    "    assert 10 == nested_sum([[1,2], [7], []])\n",
    "    assert 10 == nested_sum([[1,2], [7], [0]])"
   ]
  },
  {
   "cell_type": "markdown",
   "metadata": {},
   "source": [
    "## Exercise 2C\n",
    "\n",
    "What about a list like [1,[2,3,[4,5]],[[6,7],8,[9,[10]]]] that contains numbers nested in lists of arbitrary depth. Write a function depth_sum that takes a list containing integers nested in lists of arbitrary depth and returns the sum of all the numbers. Hint: Use recursion."
   ]
  },
  {
   "cell_type": "code",
   "execution_count": 5,
   "metadata": {
    "collapsed": false
   },
   "outputs": [],
   "source": [
    "def depth_sum(l):\n",
    "    if isinstance(l, int):\n",
    "        return l\n",
    "    elif isinstance(l, list):\n",
    "        return sum(depth_sum(el) for el in l)\n",
    "    else:\n",
    "        raise Exception(\"Type Error\")\n",
    "\n",
    "assert 6 == depth_sum(6)\n",
    "assert 0 == depth_sum([0])\n",
    "assert 0 == depth_sum([])\n",
    "assert 0 == depth_sum([[]])\n",
    "assert 0 == depth_sum([[0]])\n",
    "assert 0 == depth_sum([[], 0])\n",
    "assert 55 == depth_sum([1,[2,3,[4,5]],[[6,7],8,[9,[10]]]])\n",
    "assert 55 == depth_sum([1,[2,3,[4,5]],[[6,7],8,[9,[10, []]]]])"
   ]
  },
  {
   "cell_type": "markdown",
   "metadata": {},
   "source": [
    "# Exercise 3\n",
    "\n",
    "Reverse Pairs\n",
    "\n",
    "## Exercise 3A\n",
    "\n",
    "Write a function that reads the file words.txt and builds a list with one element per word. Write two versions of this function, one using the append method and the other using the idiom t = t + [x]. Which one takes longer to run? Why?"
   ]
  },
  {
   "cell_type": "code",
   "execution_count": 6,
   "metadata": {
    "collapsed": true
   },
   "outputs": [],
   "source": [
    "def read_words_cat(path):\n",
    "    words = []\n",
    "    with open(path) as f:\n",
    "        for line in f:\n",
    "            words += [line]\n",
    "    return words\n",
    "\n",
    "def read_words_append(path):\n",
    "    words = []\n",
    "    with open(path) as f:\n",
    "        for line in f:\n",
    "            words.append(line)\n",
    "    return words\n",
    "\n",
    "def read_words_iter(path):\n",
    "    words = []\n",
    "    with open(path) as f:\n",
    "        return list(f)"
   ]
  },
  {
   "cell_type": "markdown",
   "metadata": {},
   "source": [
    "### Explanation\n",
    "\n",
    "The concatenation solution is slower because it needs to build a new list for every element. The append solution addresses this, but using the built-in iterator is the best solution because of speed and elegance."
   ]
  },
  {
   "cell_type": "markdown",
   "metadata": {},
   "source": [
    "## Exercise 3B\n",
    "\n",
    "Two words are a “reverse pair” if each is the reverse of the other. Write a program that finds all the reverse pairs in the word list words.txt. To this end, first read in all the words of words.txt in a (sorted) list. You can test whether a word is already in the list using the in operator. However, you can also use the bisect method of ex. 10.10 of Think Python or use the bisect module, which is part of the Python standard library."
   ]
  },
  {
   "cell_type": "code",
   "execution_count": 7,
   "metadata": {
    "collapsed": false
   },
   "outputs": [
    {
     "name": "stdout",
     "output_type": "stream",
     "text": [
      "<function is_reverse_pair_naive at 0x107314ae8>\n",
      "<function is_reverse_pair_easy at 0x10730f598>\n"
     ]
    }
   ],
   "source": [
    "def is_reverse_pair_naive(a, b):\n",
    "    if len(a) != len(b):\n",
    "        return False\n",
    "    for i in range(len(a)):\n",
    "        if a[i] != b[-(i + 1)]:\n",
    "            return False\n",
    "    return True\n",
    "\n",
    "def is_reverse_pair_easy(a, b):\n",
    "    return a == b[::-1]\n",
    "\n",
    "for is_reverse_pair in (is_reverse_pair_naive, is_reverse_pair_easy):\n",
    "    print(is_reverse_pair)\n",
    "    assert is_reverse_pair(\"\", \"\")\n",
    "    assert not is_reverse_pair(\"A\", \"\")\n",
    "    assert not is_reverse_pair(\"\", \"A\")\n",
    "    assert is_reverse_pair(\"ABA\", \"ABA\")\n",
    "    assert is_reverse_pair(\"ABC\", \"CBA\")\n",
    "    \n",
    "def get_reverse_pairs_naive(words):\n",
    "    pairs = []\n",
    "    for i in range(len(words)):\n",
    "        for j in range(i + 1, len(words)):\n",
    "            if is_reverse_pair_easy(words[i], words[j]):\n",
    "                pairs.append((words[i], words[j]))\n",
    "    return pairs            \n",
    "\n",
    "from itertools import combinations\n",
    "\n",
    "def get_reverse_pairs_easy(words):\n",
    "    return [(a, b) for a, b in combinations(words, 2) if is_reverse_pair_easy(a, b)]\n",
    "\n",
    "def get_reverse_pairs_sets(words):\n",
    "    result = []\n",
    "    for word in words:\n",
    "        if word[::-1] in words and word[::-1] != word and (word[::-1], word) not in result:\n",
    "            result.append((word, word[::-1]))\n",
    "    return result\n",
    "\n",
    "test_words = [\"\", \"AB\", \"BA\", \"ABC\", \"EDF\"]\n",
    "for get_reverse_pairs in (get_reverse_pairs_naive, get_reverse_pairs_easy, get_reverse_pairs_sets):\n",
    "    assert {(\"AB\", \"BA\")} == set(get_reverse_pairs(test_words))"
   ]
  },
  {
   "cell_type": "markdown",
   "metadata": {},
   "source": [
    "## Exercise 3C\n",
    "\n",
    "Modify the code of the previous exercise and read in all the words as keys of a dictionary (or a set) with arbitrary value (e.g. set the value to None) in each case. In this case use the in operator because bisect will only work on lists, and it will only work correctly, if the lists are sorted."
   ]
  },
  {
   "cell_type": "code",
   "execution_count": 8,
   "metadata": {
    "collapsed": true
   },
   "outputs": [],
   "source": [
    "def read_words_dict(path):\n",
    "    with open(path) as f:\n",
    "        return {line: None for line in f}\n",
    "    \n",
    "test_words_dict = {word: None for word in test_words}\n",
    "\n",
    "## Same implementation as above, just better results because hashmap has fast lookup time"
   ]
  },
  {
   "cell_type": "markdown",
   "metadata": {},
   "source": [
    "# Exercise 4\n",
    "\n",
    "Anagrams\n",
    "\n",
    "## Exercise 4A\n",
    "\n",
    "Write a program that reads a word list from the file words.txt and prints all the sets of words that are anagrams.\n",
    "Here is an example of what the output might look like:\n",
    "          \n",
    "          ['deltas', 'desalt', 'lasted', 'salted', 'slated', 'staled']\n",
    "          ['retainers', 'ternaries']\n",
    "          ['generating', 'greatening']\n",
    "          ['resmelts', 'smelters', 'termless']\n",
    "\n",
    "Hint: you might want to build a dictionary that maps from a set of letters to a list of words that can be spelled with those letters. The question is, how can you represent the set of letters in a way that can be used as a key?"
   ]
  },
  {
   "cell_type": "code",
   "execution_count": 9,
   "metadata": {
    "collapsed": false
   },
   "outputs": [
    {
     "data": {
      "text/plain": [
       "{'XXYZYZZZ': Counter({'X': 2, 'Y': 2, 'Z': 4}),\n",
       " 'XYXYZZZZ': Counter({'X': 2, 'Y': 2, 'Z': 4}),\n",
       " 'XYYZZXZZ': Counter({'X': 2, 'Y': 2, 'Z': 4}),\n",
       " 'XYYZZZXZ': Counter({'X': 2, 'Y': 2, 'Z': 4}),\n",
       " 'XZXYYZZZ': Counter({'X': 2, 'Y': 2, 'Z': 4}),\n",
       " 'ZXXYYZZZ': Counter({'X': 2, 'Y': 2, 'Z': 4}),\n",
       " 'deltas': Counter({'a': 1, 'd': 1, 'e': 1, 'l': 1, 's': 1, 't': 1}),\n",
       " 'desalt': Counter({'a': 1, 'd': 1, 'e': 1, 'l': 1, 's': 1, 't': 1}),\n",
       " 'generating': Counter({'a': 1,\n",
       "          'e': 2,\n",
       "          'g': 2,\n",
       "          'i': 1,\n",
       "          'n': 2,\n",
       "          'r': 1,\n",
       "          't': 1}),\n",
       " 'greatening': Counter({'a': 1,\n",
       "          'e': 2,\n",
       "          'g': 2,\n",
       "          'i': 1,\n",
       "          'n': 2,\n",
       "          'r': 1,\n",
       "          't': 1}),\n",
       " 'lasted': Counter({'a': 1, 'd': 1, 'e': 1, 'l': 1, 's': 1, 't': 1}),\n",
       " 'resmelts': Counter({'e': 2, 'l': 1, 'm': 1, 'r': 1, 's': 2, 't': 1}),\n",
       " 'retainers': Counter({'a': 1,\n",
       "          'e': 2,\n",
       "          'i': 1,\n",
       "          'n': 1,\n",
       "          'r': 2,\n",
       "          's': 1,\n",
       "          't': 1}),\n",
       " 'salted': Counter({'a': 1, 'd': 1, 'e': 1, 'l': 1, 's': 1, 't': 1}),\n",
       " 'slated': Counter({'a': 1, 'd': 1, 'e': 1, 'l': 1, 's': 1, 't': 1}),\n",
       " 'smelters': Counter({'e': 2, 'l': 1, 'm': 1, 'r': 1, 's': 2, 't': 1}),\n",
       " 'staled': Counter({'a': 1, 'd': 1, 'e': 1, 'l': 1, 's': 1, 't': 1}),\n",
       " 'termless': Counter({'e': 2, 'l': 1, 'm': 1, 'r': 1, 's': 2, 't': 1}),\n",
       " 'ternaries': Counter({'a': 1,\n",
       "          'e': 2,\n",
       "          'i': 1,\n",
       "          'n': 1,\n",
       "          'r': 2,\n",
       "          's': 1,\n",
       "          't': 1})}"
      ]
     },
     "execution_count": 9,
     "metadata": {},
     "output_type": "execute_result"
    }
   ],
   "source": [
    "## use disjoint union structure\n",
    "\n",
    "from collections import Counter\n",
    "\n",
    "def word_to_hist(words):\n",
    "    return {word: Counter(word) for word in words}\n",
    "\n",
    "test_words = ['deltas', 'desalt', 'lasted', \n",
    "               'salted', 'slated', 'staled', \n",
    "              'retainers', 'ternaries', 'generating', \n",
    "              'greatening', 'resmelts', 'smelters', 'termless', \n",
    "             'XXYZYZZZ', 'XYYZZXZZ', 'XYXYZZZZ', 'XYYZZZXZ', 'XZXYYZZZ', 'ZXXYYZZZ']\n",
    "\n",
    "hist = word_to_hist(test_words)\n",
    "hist"
   ]
  },
  {
   "cell_type": "code",
   "execution_count": 10,
   "metadata": {
    "collapsed": false
   },
   "outputs": [
    {
     "data": {
      "text/plain": [
       "[['deltas', 'desalt', 'lasted', 'salted', 'slated', 'staled'],\n",
       " ['retainers', 'ternaries'],\n",
       " ['generating', 'greatening'],\n",
       " ['resmelts', 'smelters', 'termless'],\n",
       " ['XXYZYZZZ', 'XYYZZXZZ', 'XYXYZZZZ', 'XYYZZZXZ', 'XZXYYZZZ', 'ZXXYYZZZ']]"
      ]
     },
     "execution_count": 10,
     "metadata": {},
     "output_type": "execute_result"
    }
   ],
   "source": [
    "def anagram_lists(words):\n",
    "    hist = word_to_hist(words)\n",
    "    dju = [[word] for word in words]\n",
    "    j = 0 \n",
    "    while j < len(dju):\n",
    "        moved = set()\n",
    "        for i in range(j + 1, len(dju)):\n",
    "            if hist[dju[i][0]] == hist[dju[j][0]]:\n",
    "                dju[j].extend(dju[i])\n",
    "                moved.add(i)   \n",
    "        dju = [el for i, el in enumerate(dju) if i not in moved]\n",
    "        j += 1\n",
    "\n",
    "    return dju\n",
    "\n",
    "als = anagram_lists(test_words)\n",
    "als"
   ]
  },
  {
   "cell_type": "markdown",
   "metadata": {},
   "source": [
    "## Exercise 4B\n",
    "\n",
    "Modify the previous program so that it prints the largest set of anagrams first, followed by the second largest set, and so on."
   ]
  },
  {
   "cell_type": "code",
   "execution_count": 11,
   "metadata": {
    "collapsed": false
   },
   "outputs": [
    {
     "data": {
      "text/plain": [
       "[['deltas', 'desalt', 'lasted', 'salted', 'slated', 'staled'],\n",
       " ['XXYZYZZZ', 'XYYZZXZZ', 'XYXYZZZZ', 'XYYZZZXZ', 'XZXYYZZZ', 'ZXXYYZZZ'],\n",
       " ['resmelts', 'smelters', 'termless'],\n",
       " ['retainers', 'ternaries'],\n",
       " ['generating', 'greatening']]"
      ]
     },
     "execution_count": 11,
     "metadata": {},
     "output_type": "execute_result"
    }
   ],
   "source": [
    "def sort_by_size(lol):\n",
    "    \"\"\"takes a list and sorts so the largest list comes first\"\"\"\n",
    "    return sorted(lol, key=lambda l: len(l), reverse=True)\n",
    "\n",
    "#sort_by_size([[1], [2,2,2], [7,7,7,7,7,7], [4,4,4,4]])\n",
    "\n",
    "\n",
    "sort_by_size(als)"
   ]
  },
  {
   "cell_type": "markdown",
   "metadata": {},
   "source": [
    "## Exervise 4C\n",
    "\n",
    "In Scrabble a “bingo” is when you play all seven tiles in your rack, along with a letter on the board, to form an eight-letter word. What set of 8 letters forms the most possible bingos? Hint: there are seven."
   ]
  },
  {
   "cell_type": "code",
   "execution_count": 12,
   "metadata": {
    "collapsed": false
   },
   "outputs": [
    {
     "data": {
      "text/plain": [
       "[['XXYZYZZZ', 'XYYZZXZZ', 'XYXYZZZZ', 'XYYZZZXZ', 'XZXYYZZZ', 'ZXXYYZZZ'],\n",
       " ['resmelts', 'smelters', 'termless']]"
      ]
     },
     "execution_count": 12,
     "metadata": {},
     "output_type": "execute_result"
    }
   ],
   "source": [
    "def find_bingos(words):\n",
    "    als = sort_by_size(anagram_lists(words))\n",
    "    als = [al for al in als if len(al[0]) == 8]\n",
    "    return als\n",
    "\n",
    "find_bingos(test_words)"
   ]
  },
  {
   "cell_type": "markdown",
   "metadata": {},
   "source": [
    "# Exercise 5\n",
    "\n",
    "Histograms"
   ]
  },
  {
   "cell_type": "code",
   "execution_count": 15,
   "metadata": {
    "collapsed": false
   },
   "outputs": [
    {
     "name": "stdout",
     "output_type": "stream",
     "text": [
      "<function histogram1 at 0x107314b70>\n",
      "<function histogram2 at 0x10733ebf8>\n",
      "<function histogram3 at 0x10733e268>\n",
      "<function histogram4 at 0x107314950>\n"
     ]
    }
   ],
   "source": [
    "def histogram1(s):\n",
    "    d = dict()\n",
    "    for c in s:\n",
    "        if c not in d:\n",
    "            d[c] = 1 \n",
    "        else:\n",
    "            d[c] += 1\n",
    "    return d\n",
    "        \n",
    "def histogram2(s):\n",
    "    d = dict()\n",
    "    for c in s:\n",
    "        d[c] = d.get(c, 0) + 1\n",
    "    return d\n",
    "\n",
    "from collections import defaultdict\n",
    "\n",
    "def histogram3(s):\n",
    "    d = defaultdict(int)\n",
    "    for c in s:\n",
    "        d[c] += 1\n",
    "    return d\n",
    "\n",
    "def histogram4(s):\n",
    "    return Counter(s)\n",
    "\n",
    "for histogram in (histogram1, histogram2, histogram3, histogram4):\n",
    "    print(histogram)\n",
    "    assert histogram('') == {}\n",
    "    assert histogram('a') == {'a': 1}\n",
    "    assert histogram('abb') == {'a': 1, 'b': 2}"
   ]
  },
  {
   "cell_type": "markdown",
   "metadata": {},
   "source": [
    "## Exercise 5A\n",
    "\n",
    "Take a look at the file ecoli-genome.fnafoundin\\\\bitsmb\\groups\\workshops\\proglab2\\ containing the DNA of a strain of escherichia coli. Write a function fasta_frequency(filename) that takes a filename as a parameter and returns a histogram containing the frequency of each nucleotide (or amino acid)."
   ]
  },
  {
   "cell_type": "code",
   "execution_count": null,
   "metadata": {
    "collapsed": true
   },
   "outputs": [],
   "source": [
    "def parse_fasta_iterator(it):\n",
    "    # TODO: DO THIS \n",
    "    pass\n",
    "\n",
    "def fasta_frequency(path):\n",
    "    with open(path) as f:\n",
    "        return histogram(parse_fasta_iterator(fasta))"
   ]
  },
  {
   "cell_type": "markdown",
   "metadata": {},
   "source": [
    "## Exercise 5B\n",
    "\n",
    "Write a function print_hist(h) that takes a histogram as parameter and prints a table of keys and values in alphabetical order of the keys."
   ]
  },
  {
   "cell_type": "code",
   "execution_count": 16,
   "metadata": {
    "collapsed": false
   },
   "outputs": [
    {
     "name": "stdout",
     "output_type": "stream",
     "text": [
      "a: 3\n",
      "d: 2\n",
      "f: 1\n",
      "g: 2\n",
      "h: 2\n",
      "j: 1\n",
      "k: 3\n",
      "l: 2\n",
      "s: 2\n"
     ]
    }
   ],
   "source": [
    "import sys\n",
    "def print_hist(h, file=sys.stdout):\n",
    "    for key in sorted(h):\n",
    "        print(\"{}: {}\".format(key, h[key]), file=file)\n",
    "        \n",
    "print_hist(histogram(\"asfkhadlkghjkdsgla\"))"
   ]
  },
  {
   "cell_type": "markdown",
   "metadata": {},
   "source": [
    "## Exercise 5C\n",
    "\n",
    "Combine the functions into a script where the user is asked to input a filename of a file in fasta format that calculates the frequencies and prints a table of nucleotides/amino acid symbols and their respective frequency."
   ]
  },
  {
   "cell_type": "code",
   "execution_count": null,
   "metadata": {
    "collapsed": true
   },
   "outputs": [],
   "source": [
    "import sys, argparse\n",
    "def simulate_script(argstring):\n",
    "    parser = argparse.Parser()\n",
    "    \n",
    "    parser.add_argument(\"--input\", \"-i\", default=sys.stdin, type=argparse.FileType('r'))\n",
    "    parser.add_argument(\"--output\", \"-o\", default=sys.stdout, type=argparse.FileType('w'))\n",
    "    \n",
    "    args = parser.parse_args(argstring)\n",
    "    \n",
    "    print_hist(histogram(parse_fasta_iterator(args.input)), file=args.output)"
   ]
  },
  {
   "cell_type": "markdown",
   "metadata": {},
   "source": [
    "# Exercise 6\n",
    "\n",
    "## Exercise 6A\n",
    "\n",
    "Make sure that the function fasta_frequency(filename) from the previous exercise also works with multiple fasta sequences in one file. A single histogram should be returned combining the frequencies of all sequences. Calculate the histogram for the amino acids for all proteins combined."
   ]
  },
  {
   "cell_type": "code",
   "execution_count": null,
   "metadata": {
    "collapsed": true
   },
   "outputs": [],
   "source": []
  },
  {
   "cell_type": "markdown",
   "metadata": {},
   "source": [
    "## Exercise 6B\n",
    "\n",
    "Now write a function that sorts the amino-acids by their relative frequency and print a table of amino acids and their relative frequency in decreasing order of frequency. Hint: The entries of a dictionary can be converted to a list of key–value tuples using the method items(). See section 12.6 of Think Python."
   ]
  },
  {
   "cell_type": "code",
   "execution_count": null,
   "metadata": {
    "collapsed": true
   },
   "outputs": [],
   "source": []
  },
  {
   "cell_type": "markdown",
   "metadata": {},
   "source": [
    "## Exercise 6C\n",
    "\n",
    "Inordertomakethismoreusefulcombinethefunctionsinasinglescriptfasta_frequency.py that asks the user for a filename and as a results prints the occurring amino-acids/nucleotides in decreasing order of frequency."
   ]
  },
  {
   "cell_type": "code",
   "execution_count": null,
   "metadata": {
    "collapsed": true
   },
   "outputs": [],
   "source": []
  },
  {
   "cell_type": "markdown",
   "metadata": {},
   "source": [
    "## Exercise 6D\n",
    "\n",
    "Frequently, scripts work in a non-interactive way. That is, they do not expect the user to enter anything while the program is running. Instead, all the information the program needs is passed to the program before the start using command line parameters. The program can then called from the command line:\n",
    "         W:\\> python fasta_frequency.py sequence.fasta\n",
    "or from the notebook\n",
    "         In [ ]: %run fasta_frequency.py sequence.fasta\n",
    "Here, sequence.fasta is the filename containing the data you want to investigate. The parameters entered after the script name is available to the python script itself. It is stored in a list of strings that can be found in the module sys. E.g., consider a script named args.py\n",
    "         import sys\n",
    "         print(sys.argv) # argv is short for argument vector\n",
    "Then running the script:\n",
    "         In [ ]: %run args Was it a car or a cat I saw\n",
    "will print\n",
    "         ['args.py','Was','it','a','car','or','a','cat','I','saw']\n",
    "Modify the script so that it reads the filename from the command line (to be found in sys.argv[1]).\n"
   ]
  },
  {
   "cell_type": "code",
   "execution_count": null,
   "metadata": {
    "collapsed": true
   },
   "outputs": [],
   "source": []
  },
  {
   "cell_type": "markdown",
   "metadata": {},
   "source": [
    "## Exercise 6E\n",
    "\n",
    "Apply your script to ecoli-proteome.faa and to one or more of the cromosomal proteomes of drosophila melangoster: drosophila-proteome-chrX.faa, drosophila-proteome-chr2.faa, drosophila-proteome-chr3.faa.\n",
    "Are there noticeable differences in the amino acid composition between escherichia coli and drosophila melangoster?\n",
    "How well do the frequencies correspond to the published results found in the publication amino-acid-composition.pdf (Fig. 1, p. 601):\n",
    "5\n",
    "Bogatyreva, N.; Finkelstein, A.V.; Galzitskaya, O.V. Trend of amino acid com- position of proteins of different taxa. Journal of Bioinformatics and Compu- tational Biology 4 (2006), 597–608."
   ]
  },
  {
   "cell_type": "code",
   "execution_count": null,
   "metadata": {
    "collapsed": true
   },
   "outputs": [],
   "source": []
  },
  {
   "cell_type": "markdown",
   "metadata": {
    "collapsed": true
   },
   "source": [
    "# Exercise 7\n",
    "\n",
    "A nice word puzzle and an even better programming exercise (Ex. 12.4 of Think Python) Here's another Car Talk Puzzler (http://www.cartalk.com/content/puzzlers):\n",
    "What is the longest English word, that remains a valid English word, as you remove its letters one at a time?\n",
    "Now, letters can be removed from either end, or the middle, but you can't rearrange any of the letters. Every time you drop a letter, you wind up with another English word. If you do that, you're eventually going to wind up with one letter and that too is going to be an English word—one that's found in the dictionary. I want to know what's the longest word and how many letters does it have?\n",
    "I'm going to give you a little modest example: Sprite. Ok? You start off with sprite, you take a letter off, one from the interior of the word, take the r away, and we're left with the word spite, then we take the e off the end, we're left with spit, we take the s off, we're left with pit, it, and I.\n",
    "Write a program to find all words that can be reduced in this way, and then find the longest one.\n",
    "This exercise is a little more challenging than most and a few hints are given for solving this problem are given in Think Python. When trying this exercise please note that the provided list of words words.txt does not contain the one letter words ‘a' and ‘i'."
   ]
  },
  {
   "cell_type": "code",
   "execution_count": null,
   "metadata": {
    "collapsed": true
   },
   "outputs": [],
   "source": []
  }
 ],
 "metadata": {
  "kernelspec": {
   "display_name": "Python 3",
   "language": "python",
   "name": "python3"
  },
  "language_info": {
   "codemirror_mode": {
    "name": "ipython",
    "version": 3
   },
   "file_extension": ".py",
   "mimetype": "text/x-python",
   "name": "python",
   "nbconvert_exporter": "python",
   "pygments_lexer": "ipython3",
   "version": "3.5.1"
  }
 },
 "nbformat": 4,
 "nbformat_minor": 0
}
