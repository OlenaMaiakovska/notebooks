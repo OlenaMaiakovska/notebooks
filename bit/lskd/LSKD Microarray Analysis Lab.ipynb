{
 "cells": [
  {
   "cell_type": "markdown",
   "metadata": {},
   "source": [
    "# Goals\n",
    "\n",
    "This notebook follows Shweta's practical on microarray data analysis. "
   ]
  },
  {
   "cell_type": "code",
   "execution_count": 1,
   "metadata": {
    "collapsed": false
   },
   "outputs": [
    {
     "data": {
      "text/plain": [
       "               _                           \n",
       "platform       x86_64-apple-darwin15.5.0   \n",
       "arch           x86_64                      \n",
       "os             darwin15.5.0                \n",
       "system         x86_64, darwin15.5.0        \n",
       "status                                     \n",
       "major          3                           \n",
       "minor          3.1                         \n",
       "year           2016                        \n",
       "month          06                          \n",
       "day            21                          \n",
       "svn rev        70800                       \n",
       "language       R                           \n",
       "version.string R version 3.3.1 (2016-06-21)\n",
       "nickname       Bug in Your Hair            "
      ]
     },
     "metadata": {},
     "output_type": "display_data"
    }
   ],
   "source": [
    "version"
   ]
  },
  {
   "cell_type": "markdown",
   "metadata": {
    "collapsed": true
   },
   "source": [
    "# Day 1\n",
    "\n",
    "Downloading data:\n",
    "\n",
    "- http://www.ncbi.nlm.nih.gov/geo/query/acc.cgi?acc=gse9633\n",
    "- use FTP directory for [GSE9633](ftp://ftp.ncbi.nlm.nih.gov/geo/series/GSE9nnn/GSE9633) to download  ftp://ftp.ncbi.nlm.nih.gov/geo/series/GSE9nnn/GSE9633/suppl/GSE9633_RAW.tar\n",
    "\n",
    "Run this to install bioconductory and the affymetrix package on the first time only:\n",
    "\n",
    "```r\n",
    "source(\"https://bioconductor.org/biocLite.R\")\n",
    "biocLite(\"affy\")\n",
    "```"
   ]
  },
  {
   "cell_type": "code",
   "execution_count": 8,
   "metadata": {
    "collapsed": false
   },
   "outputs": [
    {
     "data": {
      "text/html": [
       "'/Users/cthoyt/dev/notebooks/bit/lskd'"
      ],
      "text/latex": [
       "'/Users/cthoyt/dev/notebooks/bit/lskd'"
      ],
      "text/markdown": [
       "'/Users/cthoyt/dev/notebooks/bit/lskd'"
      ],
      "text/plain": [
       "[1] \"/Users/cthoyt/dev/notebooks/bit/lskd\""
      ]
     },
     "metadata": {},
     "output_type": "display_data"
    },
    {
     "data": {
      "text/html": [
       "<table>\n",
       "<thead><tr><th></th><th scope=col>name</th><th scope=col>class</th></tr></thead>\n",
       "<tbody>\n",
       "\t<tr><th scope=row>GSM243480</th><td>prostatic cell line PC3     </td><td>sensitive                   </td></tr>\n",
       "\t<tr><th scope=row>GSM243481</th><td>prostatic cell line DU145   </td><td>sensitive                   </td></tr>\n",
       "\t<tr><th scope=row>GSM243482</th><td>prostatic cell line LNCaP   </td><td>sensitive                   </td></tr>\n",
       "\t<tr><th scope=row>GSM243483</th><td>prostatic cell line 22Rv    </td><td>resistant                   </td></tr>\n",
       "\t<tr><th scope=row>GSM243484</th><td>prostatic cell line WPMY1   </td><td>resistant                   </td></tr>\n",
       "\t<tr><th scope=row>GSM243485</th><td>prostatic cell line VCaP    </td><td>resistant                   </td></tr>\n",
       "\t<tr><th scope=row>GSM243486</th><td>prostatic cell line MDAPCa2b</td><td>resistant                   </td></tr>\n",
       "\t<tr><th scope=row>GSM243487</th><td>prostatic cell line HPV7    </td><td>sensitive                   </td></tr>\n",
       "\t<tr><th scope=row>GSM243488</th><td>prostatic cell line HPV10   </td><td>sensitive                   </td></tr>\n",
       "\t<tr><th scope=row>GSM243489</th><td>prostatic cell line RWPE1   </td><td>sensitive                   </td></tr>\n",
       "\t<tr><th scope=row>GSM243490</th><td>prostatic cell line RWPE2   </td><td>sensitive                   </td></tr>\n",
       "\t<tr><th scope=row>GSM243491</th><td>prostatic cell line NB11    </td><td>sensitive                   </td></tr>\n",
       "\t<tr><th scope=row>GSM243492</th><td>prostatic cell line W99     </td><td>sensitive                   </td></tr>\n",
       "\t<tr><th scope=row>GSM243493</th><td>prostatic cell line PWR1E   </td><td>sensitive                   </td></tr>\n",
       "\t<tr><th scope=row>GSM243494</th><td>prostatic cell line DUCaP   </td><td>resistant                   </td></tr>\n",
       "\t<tr><th scope=row>GSM243495</th><td>prostatic cell line NB26    </td><td>sensitive                   </td></tr>\n",
       "</tbody>\n",
       "</table>\n"
      ],
      "text/latex": [
       "\\begin{tabular}{r|ll}\n",
       "  & name & class\\\\\n",
       "\\hline\n",
       "\tGSM243480 & prostatic cell line PC3      & sensitive                   \\\\\n",
       "\tGSM243481 & prostatic cell line DU145    & sensitive                   \\\\\n",
       "\tGSM243482 & prostatic cell line LNCaP    & sensitive                   \\\\\n",
       "\tGSM243483 & prostatic cell line 22Rv     & resistant                   \\\\\n",
       "\tGSM243484 & prostatic cell line WPMY1    & resistant                   \\\\\n",
       "\tGSM243485 & prostatic cell line VCaP     & resistant                   \\\\\n",
       "\tGSM243486 & prostatic cell line MDAPCa2b & resistant                   \\\\\n",
       "\tGSM243487 & prostatic cell line HPV7     & sensitive                   \\\\\n",
       "\tGSM243488 & prostatic cell line HPV10    & sensitive                   \\\\\n",
       "\tGSM243489 & prostatic cell line RWPE1    & sensitive                   \\\\\n",
       "\tGSM243490 & prostatic cell line RWPE2    & sensitive                   \\\\\n",
       "\tGSM243491 & prostatic cell line NB11     & sensitive                   \\\\\n",
       "\tGSM243492 & prostatic cell line W99      & sensitive                   \\\\\n",
       "\tGSM243493 & prostatic cell line PWR1E    & sensitive                   \\\\\n",
       "\tGSM243494 & prostatic cell line DUCaP    & resistant                   \\\\\n",
       "\tGSM243495 & prostatic cell line NB26     & sensitive                   \\\\\n",
       "\\end{tabular}\n"
      ],
      "text/plain": [
       "          name                         class    \n",
       "GSM243480 prostatic cell line PC3      sensitive\n",
       "GSM243481 prostatic cell line DU145    sensitive\n",
       "GSM243482 prostatic cell line LNCaP    sensitive\n",
       "GSM243483 prostatic cell line 22Rv     resistant\n",
       "GSM243484 prostatic cell line WPMY1    resistant\n",
       "GSM243485 prostatic cell line VCaP     resistant\n",
       "GSM243486 prostatic cell line MDAPCa2b resistant\n",
       "GSM243487 prostatic cell line HPV7     sensitive\n",
       "GSM243488 prostatic cell line HPV10    sensitive\n",
       "GSM243489 prostatic cell line RWPE1    sensitive\n",
       "GSM243490 prostatic cell line RWPE2    sensitive\n",
       "GSM243491 prostatic cell line NB11     sensitive\n",
       "GSM243492 prostatic cell line W99      sensitive\n",
       "GSM243493 prostatic cell line PWR1E    sensitive\n",
       "GSM243494 prostatic cell line DUCaP    resistant\n",
       "GSM243495 prostatic cell line NB26     sensitive"
      ]
     },
     "metadata": {},
     "output_type": "display_data"
    }
   ],
   "source": [
    "getwd()\n",
    "pData = read.csv('GSE9633_samples.csv', row.names=1)\n",
    "pData"
   ]
  },
  {
   "cell_type": "code",
   "execution_count": null,
   "metadata": {
    "collapsed": true
   },
   "outputs": [],
   "source": [
    "#source(\"https://bioconductor.org/biocLite.R\")\n",
    "#biocLite(\"lumi\")"
   ]
  },
  {
   "cell_type": "code",
   "execution_count": 16,
   "metadata": {
    "collapsed": false
   },
   "outputs": [],
   "source": [
    "# needs installation biocLite(\"lumi\")\n",
    "library(\"affy\")"
   ]
  },
  {
   "cell_type": "code",
   "execution_count": 9,
   "metadata": {
    "collapsed": false
   },
   "outputs": [
    {
     "data": {
      "text/html": [
       "'/Users/cthoyt/dev/notebooks/bit/lskd/GSE9633_RAW'"
      ],
      "text/latex": [
       "'/Users/cthoyt/dev/notebooks/bit/lskd/GSE9633\\_RAW'"
      ],
      "text/markdown": [
       "'/Users/cthoyt/dev/notebooks/bit/lskd/GSE9633_RAW'"
      ],
      "text/plain": [
       "[1] \"/Users/cthoyt/dev/notebooks/bit/lskd/GSE9633_RAW\""
      ]
     },
     "metadata": {},
     "output_type": "display_data"
    }
   ],
   "source": [
    "setwd('GSE9633_RAW/')\n",
    "getwd()"
   ]
  },
  {
   "cell_type": "code",
   "execution_count": 17,
   "metadata": {
    "collapsed": false
   },
   "outputs": [
    {
     "name": "stderr",
     "output_type": "stream",
     "text": [
      "Warning message:\n",
      ": missing cdf environment! in show(AffyBatch)Warning message:\n",
      ": closing unused connection 5 (http://www.bioconductor.org/main.html)Warning message:\n",
      ": replacing previous import ‘AnnotationDbi::tail’ by ‘utils::tail’ when loading ‘hgu133a2cdf’Warning message:\n",
      ": replacing previous import ‘AnnotationDbi::head’ by ‘utils::head’ when loading ‘hgu133a2cdf’\n"
     ]
    },
    {
     "data": {
      "text/plain": [
       "AffyBatch object\n",
       "size of arrays=732x732 features (23 kb)\n",
       "cdf=HG-U133A_2 (??? affyids)\n",
       "number of samples=16\n",
       "number of genes=22277\n",
       "annotation=hgu133a2\n",
       "notes="
      ]
     },
     "metadata": {},
     "output_type": "display_data"
    }
   ],
   "source": [
    "d = ReadAffy()\n",
    "d"
   ]
  },
  {
   "cell_type": "code",
   "execution_count": 18,
   "metadata": {
    "collapsed": false
   },
   "outputs": [
    {
     "data": {
      "text/html": [
       "<table>\n",
       "<thead><tr><th></th><th scope=col>GSM243480</th><th scope=col>GSM243481</th><th scope=col>GSM243482</th><th scope=col>GSM243483</th><th scope=col>GSM243484</th><th scope=col>GSM243485</th><th scope=col>GSM243486</th><th scope=col>GSM243487</th><th scope=col>GSM243488</th><th scope=col>GSM243489</th><th scope=col>GSM243490</th><th scope=col>GSM243491</th><th scope=col>GSM243492</th><th scope=col>GSM243493</th><th scope=col>GSM243494</th><th scope=col>GSM243495</th></tr></thead>\n",
       "<tbody>\n",
       "\t<tr><th scope=row>1</th><td>  125</td><td>  115</td><td> 120 </td><td>  125</td><td>  102</td><td>   99</td><td>  102</td><td>  119</td><td>  113</td><td>   96</td><td>  103</td><td>   96</td><td> 107 </td><td>  94 </td><td>   93</td><td>  152</td></tr>\n",
       "\t<tr><th scope=row>2</th><td>15153</td><td> 8499</td><td>7223 </td><td>15022</td><td>14903</td><td>12295</td><td>15707</td><td>13784</td><td>13385</td><td>10876</td><td>10072</td><td>13436</td><td>7975 </td><td>9141 </td><td>13871</td><td>11961</td></tr>\n",
       "\t<tr><th scope=row>3</th><td>  137</td><td>  136</td><td> 120 </td><td>  121</td><td>  150</td><td>  125</td><td>  117</td><td>  131</td><td>  108</td><td>  112</td><td>  108</td><td>  125</td><td>  83 </td><td> 101 </td><td>  116</td><td>  153</td></tr>\n",
       "\t<tr><th scope=row>4</th><td>15746</td><td>10718</td><td>8300 </td><td>15498</td><td>15971</td><td>13768</td><td>14968</td><td>14145</td><td>13385</td><td>11185</td><td>10948</td><td>13568</td><td>9222 </td><td>9448 </td><td>14346</td><td>11279</td></tr>\n",
       "\t<tr><th scope=row>5</th><td>  146</td><td>  162</td><td> 111 </td><td>  125</td><td>  116</td><td>  129</td><td>  118</td><td>  117</td><td>  106</td><td>  133</td><td>  102</td><td>  112</td><td>  93 </td><td> 101 </td><td>  114</td><td>   98</td></tr>\n",
       "\t<tr><th scope=row>6</th><td>  111</td><td>  104</td><td> 109 </td><td>  104</td><td>  104</td><td>  112</td><td>  115</td><td>   94</td><td>  101</td><td>   88</td><td>   90</td><td>  102</td><td>  74 </td><td>  73 </td><td>   67</td><td>  159</td></tr>\n",
       "</tbody>\n",
       "</table>\n"
      ],
      "text/latex": [
       "\\begin{tabular}{r|llllllllllllllll}\n",
       "  & GSM243480 & GSM243481 & GSM243482 & GSM243483 & GSM243484 & GSM243485 & GSM243486 & GSM243487 & GSM243488 & GSM243489 & GSM243490 & GSM243491 & GSM243492 & GSM243493 & GSM243494 & GSM243495\\\\\n",
       "\\hline\n",
       "\t1 &   125 &   115 &  120  &   125 &   102 &    99 &   102 &   119 &   113 &    96 &   103 &    96 &  107  &   94  &    93 &   152\\\\\n",
       "\t2 & 15153 &  8499 & 7223  & 15022 & 14903 & 12295 & 15707 & 13784 & 13385 & 10876 & 10072 & 13436 & 7975  & 9141  & 13871 & 11961\\\\\n",
       "\t3 &   137 &   136 &  120  &   121 &   150 &   125 &   117 &   131 &   108 &   112 &   108 &   125 &   83  &  101  &   116 &   153\\\\\n",
       "\t4 & 15746 & 10718 & 8300  & 15498 & 15971 & 13768 & 14968 & 14145 & 13385 & 11185 & 10948 & 13568 & 9222  & 9448  & 14346 & 11279\\\\\n",
       "\t5 &   146 &   162 &  111  &   125 &   116 &   129 &   118 &   117 &   106 &   133 &   102 &   112 &   93  &  101  &   114 &    98\\\\\n",
       "\t6 &   111 &   104 &  109  &   104 &   104 &   112 &   115 &    94 &   101 &    88 &    90 &   102 &   74  &   73  &    67 &   159\\\\\n",
       "\\end{tabular}\n"
      ],
      "text/markdown": [
       "1. 125\n",
       "2. 15153\n",
       "3. 137\n",
       "4. 15746\n",
       "5. 146\n",
       "6. 111\n",
       "7. 115\n",
       "8. 8499\n",
       "9. 136\n",
       "10. 10718\n",
       "11. 162\n",
       "12. 104\n",
       "13. 120\n",
       "14. 7223\n",
       "15. 120\n",
       "16. 8300\n",
       "17. 111\n",
       "18. 109\n",
       "19. 125\n",
       "20. 15022\n",
       "21. 121\n",
       "22. 15498\n",
       "23. 125\n",
       "24. 104\n",
       "25. 102\n",
       "26. 14903\n",
       "27. 150\n",
       "28. 15971\n",
       "29. 116\n",
       "30. 104\n",
       "31. 99\n",
       "32. 12295\n",
       "33. 125\n",
       "34. 13768\n",
       "35. 129\n",
       "36. 112\n",
       "37. 102\n",
       "38. 15707\n",
       "39. 117\n",
       "40. 14968\n",
       "41. 118\n",
       "42. 115\n",
       "43. 119\n",
       "44. 13784\n",
       "45. 131\n",
       "46. 14145\n",
       "47. 117\n",
       "48. 94\n",
       "49. 113\n",
       "50. 13385\n",
       "51. 108\n",
       "52. 13385\n",
       "53. 106\n",
       "54. 101\n",
       "55. 96\n",
       "56. 10876\n",
       "57. 112\n",
       "58. 11185\n",
       "59. 133\n",
       "60. 88\n",
       "61. 103\n",
       "62. 10072\n",
       "63. 108\n",
       "64. 10948\n",
       "65. 102\n",
       "66. 90\n",
       "67. 96\n",
       "68. 13436\n",
       "69. 125\n",
       "70. 13568\n",
       "71. 112\n",
       "72. 102\n",
       "73. 107\n",
       "74. 7975\n",
       "75. 83\n",
       "76. 9222\n",
       "77. 93\n",
       "78. 74\n",
       "79. 94\n",
       "80. 9141\n",
       "81. 101\n",
       "82. 9448\n",
       "83. 101\n",
       "84. 73\n",
       "85. 93\n",
       "86. 13871\n",
       "87. 116\n",
       "88. 14346\n",
       "89. 114\n",
       "90. 67\n",
       "91. 152\n",
       "92. 11961\n",
       "93. 153\n",
       "94. 11279\n",
       "95. 98\n",
       "96. 159\n",
       "\n",
       "\n"
      ],
      "text/plain": [
       "  GSM243480 GSM243481 GSM243482 GSM243483 GSM243484 GSM243485 GSM243486\n",
       "1   125       115      120        125       102        99       102    \n",
       "2 15153      8499     7223      15022     14903     12295     15707    \n",
       "3   137       136      120        121       150       125       117    \n",
       "4 15746     10718     8300      15498     15971     13768     14968    \n",
       "5   146       162      111        125       116       129       118    \n",
       "6   111       104      109        104       104       112       115    \n",
       "  GSM243487 GSM243488 GSM243489 GSM243490 GSM243491 GSM243492 GSM243493\n",
       "1   119       113        96       103        96      107        94     \n",
       "2 13784     13385     10876     10072     13436     7975      9141     \n",
       "3   131       108       112       108       125       83       101     \n",
       "4 14145     13385     11185     10948     13568     9222      9448     \n",
       "5   117       106       133       102       112       93       101     \n",
       "6    94       101        88        90       102       74        73     \n",
       "  GSM243494 GSM243495\n",
       "1    93       152    \n",
       "2 13871     11961    \n",
       "3   116       153    \n",
       "4 14346     11279    \n",
       "5   114        98    \n",
       "6    67       159    "
      ]
     },
     "metadata": {},
     "output_type": "display_data"
    }
   ],
   "source": [
    "exprs = as.matrix(exprs(d))\n",
    "colnames(exprs) = rownames(pData)\n",
    "\n",
    "head(exprs)"
   ]
  },
  {
   "cell_type": "code",
   "execution_count": 19,
   "metadata": {
    "collapsed": false
   },
   "outputs": [],
   "source": [
    "minimalSet = ExpressionSet(assayData=exprs)"
   ]
  },
  {
   "cell_type": "code",
   "execution_count": 20,
   "metadata": {
    "collapsed": false
   },
   "outputs": [
    {
     "data": {
      "text/plain": [
       "                        name          class   \n",
       " prostatic cell line 22Rv : 1   resistant: 5  \n",
       " prostatic cell line DU145: 1   sensitive:11  \n",
       " prostatic cell line DUCaP: 1                 \n",
       " prostatic cell line HPV10: 1                 \n",
       " prostatic cell line HPV7 : 1                 \n",
       " prostatic cell line LNCaP: 1                 \n",
       " (Other)                  :10                 "
      ]
     },
     "metadata": {},
     "output_type": "display_data"
    }
   ],
   "source": [
    "summary(pData)"
   ]
  },
  {
   "cell_type": "code",
   "execution_count": 21,
   "metadata": {
    "collapsed": false
   },
   "outputs": [],
   "source": [
    "metadata = data.frame(labelDescription=c(\"cell line name\", 'drug sensitivity'),\n",
    "                     row.names=c('name', 'class'))"
   ]
  },
  {
   "cell_type": "code",
   "execution_count": 22,
   "metadata": {
    "collapsed": true
   },
   "outputs": [],
   "source": [
    "phenoData = new(\"AnnotatedDataFrame\", data=pData, varMetadata=metadata)"
   ]
  },
  {
   "cell_type": "code",
   "execution_count": 23,
   "metadata": {
    "collapsed": false
   },
   "outputs": [],
   "source": [
    "eset = ExpressionSet(assayData=exprs, phenoData=phenoData)"
   ]
  },
  {
   "cell_type": "code",
   "execution_count": 24,
   "metadata": {
    "collapsed": false
   },
   "outputs": [],
   "source": [
    "rma(eset)"
   ]
  },
  {
   "cell_type": "code",
   "execution_count": 25,
   "metadata": {
    "collapsed": false
   },
   "outputs": [
    {
     "name": "stderr",
     "output_type": "stream",
     "text": [
      "Loading required package: multtest\n",
      "Loading required package: splines\n"
     ]
    }
   ],
   "source": [
    "library(siggenes)"
   ]
  },
  {
   "cell_type": "code",
   "execution_count": 26,
   "metadata": {
    "collapsed": false
   },
   "outputs": [
    {
     "data": {
      "text/html": [
       "<ol class=list-inline>\n",
       "\t<li>0</li>\n",
       "\t<li>0</li>\n",
       "\t<li>0</li>\n",
       "\t<li>0</li>\n",
       "\t<li>0</li>\n",
       "\t<li>0</li>\n",
       "\t<li>0</li>\n",
       "\t<li>0</li>\n",
       "\t<li>0</li>\n",
       "\t<li>0</li>\n",
       "\t<li>0</li>\n",
       "\t<li>0</li>\n",
       "\t<li>0</li>\n",
       "\t<li>0</li>\n",
       "\t<li>0</li>\n",
       "\t<li>0</li>\n",
       "\t<li>0</li>\n",
       "\t<li>0</li>\n",
       "\t<li>0</li>\n",
       "\t<li>0</li>\n",
       "\t<li>0</li>\n",
       "\t<li>0</li>\n",
       "\t<li>0</li>\n",
       "\t<li>0</li>\n",
       "\t<li>0</li>\n",
       "\t<li>0</li>\n",
       "\t<li>0</li>\n",
       "\t<li>1</li>\n",
       "\t<li>1</li>\n",
       "\t<li>1</li>\n",
       "\t<li>1</li>\n",
       "\t<li>1</li>\n",
       "\t<li>1</li>\n",
       "\t<li>1</li>\n",
       "\t<li>1</li>\n",
       "\t<li>1</li>\n",
       "\t<li>1</li>\n",
       "\t<li>1</li>\n",
       "</ol>\n"
      ],
      "text/latex": [
       "\\begin{enumerate*}\n",
       "\\item 0\n",
       "\\item 0\n",
       "\\item 0\n",
       "\\item 0\n",
       "\\item 0\n",
       "\\item 0\n",
       "\\item 0\n",
       "\\item 0\n",
       "\\item 0\n",
       "\\item 0\n",
       "\\item 0\n",
       "\\item 0\n",
       "\\item 0\n",
       "\\item 0\n",
       "\\item 0\n",
       "\\item 0\n",
       "\\item 0\n",
       "\\item 0\n",
       "\\item 0\n",
       "\\item 0\n",
       "\\item 0\n",
       "\\item 0\n",
       "\\item 0\n",
       "\\item 0\n",
       "\\item 0\n",
       "\\item 0\n",
       "\\item 0\n",
       "\\item 1\n",
       "\\item 1\n",
       "\\item 1\n",
       "\\item 1\n",
       "\\item 1\n",
       "\\item 1\n",
       "\\item 1\n",
       "\\item 1\n",
       "\\item 1\n",
       "\\item 1\n",
       "\\item 1\n",
       "\\end{enumerate*}\n"
      ],
      "text/markdown": [
       "1. 0\n",
       "2. 0\n",
       "3. 0\n",
       "4. 0\n",
       "5. 0\n",
       "6. 0\n",
       "7. 0\n",
       "8. 0\n",
       "9. 0\n",
       "10. 0\n",
       "11. 0\n",
       "12. 0\n",
       "13. 0\n",
       "14. 0\n",
       "15. 0\n",
       "16. 0\n",
       "17. 0\n",
       "18. 0\n",
       "19. 0\n",
       "20. 0\n",
       "21. 0\n",
       "22. 0\n",
       "23. 0\n",
       "24. 0\n",
       "25. 0\n",
       "26. 0\n",
       "27. 0\n",
       "28. 1\n",
       "29. 1\n",
       "30. 1\n",
       "31. 1\n",
       "32. 1\n",
       "33. 1\n",
       "34. 1\n",
       "35. 1\n",
       "36. 1\n",
       "37. 1\n",
       "38. 1\n",
       "\n",
       "\n"
      ],
      "text/plain": [
       " [1] 0 0 0 0 0 0 0 0 0 0 0 0 0 0 0 0 0 0 0 0 0 0 0 0 0 0 0 1 1 1 1 1 1 1 1 1 1 1"
      ]
     },
     "metadata": {},
     "output_type": "display_data"
    }
   ],
   "source": [
    "data(golub)\n",
    "\n",
    "golub.cl"
   ]
  },
  {
   "cell_type": "code",
   "execution_count": 27,
   "metadata": {
    "collapsed": false
   },
   "outputs": [],
   "source": [
    "sam.out = sam(data=golub, cl=golub.cl, gene.names=golub.gnames[,3])"
   ]
  },
  {
   "cell_type": "code",
   "execution_count": 28,
   "metadata": {
    "collapsed": false
   },
   "outputs": [
    {
     "data": {
      "image/png": "[encoded data removed]",
      "text/plain": [
       "Plot with title “SAM Plot for Delta = 2.4”"
      ]
     },
     "metadata": {},
     "output_type": "display_data"
    }
   ],
   "source": [
    "par(mfrow=c(1,2))\n",
    "plot(sam.out, 1.5)\n",
    "plot(sam.out, 2.4)"
   ]
  },
  {
   "cell_type": "code",
   "execution_count": 29,
   "metadata": {
    "collapsed": false,
    "scrolled": false
   },
   "outputs": [
    {
     "data": {
      "text/plain": [
       "SAM Analysis for the Two-Class Unpaired Case Assuming Unequal Variances \n",
       " \n",
       "s0 = 0.0584  (The 0 % quantile of the s values.) \n",
       " \n",
       " Number of permutations: 100  \n",
       "\n",
       " MEAN number of falsely called variables is computed.\n",
       "\n",
       "Delta: 2.25\n",
       "cutlow: -3.818\n",
       "cutup: 3.898\n",
       "p0: 0.488\n",
       "Identified Genes: 111\n",
       "Falsely Called Genes: 0.04\n",
       "FDR: 0.000176\n",
       "\n",
       "\n",
       "Identified Genes (using Delta = 2.25):\n",
       "\n",
       "     Row d.value  stdev     rawp  q.value R.fold             Name\n",
       "1    829    8.17 0.2958        0        0  7.423        M27891_at\n",
       "2   2124    7.96 0.1779        0        0  3.684        X95735_at\n",
       "3   2600    6.10 0.1911        0        0  2.873      L09209_s_at\n",
       "4   2664    5.98 0.3919        0        0  6.455      Y00787_s_at\n",
       "5    766    5.97 0.1731        0        0  2.607        M16038_at\n",
       "6   2489   -5.73 0.2155        0        0  0.337 U22376_cds2_s_at\n",
       "7    717   -5.70 0.2069        0        0  0.350        L47738_at\n",
       "8   1995   -5.70 0.1933        0        0  0.370        X74262_at\n",
       "9   2939   -5.58 0.1651        0        0  0.422        M31523_at\n",
       "10  2663    5.55 0.4178        0        0  6.239 M28130_rna1_s_at\n",
       "11   378    5.41 0.3024        0        0  3.867        D88422_at\n",
       "12  1778    5.34 0.2216        0        0  2.817        X07743_at\n",
       "13   523   -5.33 0.2033        0        0  0.380        J05243_at\n",
       "14  1037   -5.27 0.1697        0        0  0.435        M91432_at\n",
       "15  2065   -5.20 0.3566        0        0  0.224   X82240_rna1_at\n",
       "16  1911    5.17 0.1898        0        0  2.433   X62654_rna1_at\n",
       "17  1413    5.17 0.2810        0        0  3.373        U46499_at\n",
       "18   808    5.14 0.1819        0        0  2.354        M23197_at\n",
       "19  2386   -5.13 0.1351        0        0  0.502        Z15115_at\n",
       "20  1030   -5.09 0.2557        0        0  0.330        M89957_at\n",
       "21  1334   -5.08 0.1941        0        0  0.411        U32944_at\n",
       "22   738   -5.07 0.2918        0        0  0.292        M11722_at\n",
       "23  1665    5.06 0.1677        0        0  2.210        U82759_at\n",
       "24   394   -5.05 0.1433        0        0  0.494 HG1612-HT1612_at\n",
       "25  1162   -5.05 0.3244        0        0  0.262   U05259_rna1_at\n",
       "26  2198    5.03 0.1520        0        0  2.083        Y12670_at\n",
       "27  2851   -4.97 0.1382        0        0  0.508      U72936_s_at\n",
       "28  2921    4.96 0.2246        0        0  2.646      M19045_f_at\n",
       "29  2266   -4.96 0.2650        0        0  0.329        Z69881_at\n",
       "30   896    4.95 0.0939        0        0  1.687        M55150_at\n",
       "31   377   -4.91 0.3145        0        0  0.281        D88270_at\n",
       "32  2702   -4.90 0.1583        0        0  0.479      M31211_s_at\n",
       "33  1042   -4.89 0.1991        0        0  0.418        M92287_at\n",
       "34  2645   -4.85 0.1479        0        0  0.500      M12959_s_at\n",
       "35  1829    4.83 0.2665        0        0  2.967        X17042_at\n",
       "36  1909   -4.82 0.2262        0        0  0.386        X62535_at\n",
       "37  2801   -4.82 0.1385        0        0  0.518      U26266_s_at\n",
       "38  2813    4.81 0.2380        0        0  2.685 X85116_rna1_s_at\n",
       "39   703   -4.79 0.1224        0        0  0.549        L41870_at\n",
       "40  1882   -4.77 0.2125        0        0  0.408        X59350_at\n",
       "41  1834   -4.77 0.1212        0        0  0.552        X51521_at\n",
       "42   566    4.75 0.1667        0        0  2.099        L08246_at\n",
       "43   839   -4.73 0.1926        0        0  0.439        M29696_at\n",
       "44  2920    4.73 0.2324        0        0  2.593      J03801_f_at\n",
       "45  1754    4.73 0.2018        0        0  2.347   X04085_rna1_at\n",
       "46   937    4.72 0.1346        0        0  1.881        M63138_at\n",
       "47  1069    4.64 0.3669        0        0  3.923   M96326_rna1_at\n",
       "48  1448    4.63 0.1153        0        0  1.746   U50136_rna1_at\n",
       "49  2002   -4.60 0.1141        0        0  0.577        X74801_at\n",
       "50  2670    4.57 0.3520        0        0  3.668      M27783_s_at\n",
       "51   746   -4.57 0.2130        0        0  0.424        M13792_at\n",
       "52  2829   -4.57 0.1557        0        0  0.508 U49020_cds2_s_at\n",
       "53   803    4.56 0.2197        0        0  2.406        M22960_at\n",
       "54  2459   -4.55 0.3067        0        0  0.316      L33930_s_at\n",
       "55  2922    4.54 0.2451        0        0  2.597 X14008_rna1_f_at\n",
       "56  2734    4.53 0.3601        0        0  3.726      M63438_s_at\n",
       "57  3046   -4.51 0.1476        0        0  0.525        U29175_at\n",
       "58  1901    4.50 0.2265        0        0  2.431        X61587_at\n",
       "59   515   -4.49 0.3224        0        0  0.306        J04615_at\n",
       "60   345   -4.47 0.1981        0        0  0.452        D87078_at\n",
       "61  1817   -4.44 0.1194        0        0  0.578        X15949_at\n",
       "62  1086   -4.43 0.1333        0        0  0.555        S50223_at\n",
       "63  2950   -4.41 0.1594        0        0  0.514        U27460_at\n",
       "64  1009    4.41 0.4824        0        0  5.224        M84526_at\n",
       "65  1524   -4.41 0.1134        0        0  0.592        U62136_at\n",
       "66  1907    4.37 0.2191        0        0  2.318        X62320_at\n",
       "67  1598   -4.36 0.1384        0        0  0.552        U73737_at\n",
       "68  2289   -4.31 0.1522        0        0  0.533        D38073_at\n",
       "69  1585   -4.30 0.1702        0        0  0.506        U72342_at\n",
       "70  1920   -4.29 0.1414        0        0  0.552        X63753_at\n",
       "71  1883   -4.28 0.2518        0        0  0.398        X59417_at\n",
       "72   968    4.28 0.1965        0        0  2.130        M69043_at\n",
       "73  2750    4.26 0.2861        0        0  2.765      M83652_s_at\n",
       "74  2020   -4.23 0.1908        0        0  0.482        X76648_at\n",
       "75  1060   -4.18 0.1248 3.28e-06 5.88e-05  0.588        M94633_at\n",
       "76  2553    4.16 0.3560 3.28e-06 5.88e-05  3.302      M87789_s_at\n",
       "77   329   -4.16 0.1525 3.28e-06 5.88e-05  0.545        D86967_at\n",
       "78   108    4.15 0.1166 3.28e-06 5.88e-05  1.655        D14874_at\n",
       "79   932    4.14 0.1426 3.28e-06 5.88e-05  1.781        M62762_at\n",
       "80  2656    4.14 0.3365 3.28e-06 5.88e-05  3.106      X64072_s_at\n",
       "81  1141    4.13 0.3237 3.28e-06 5.88e-05  2.984        U02020_at\n",
       "82   561   -4.11 0.0975 3.28e-06 5.88e-05  0.641        L07758_at\n",
       "83  2749    4.11 0.1346 3.28e-06 5.88e-05  1.733      M81695_s_at\n",
       "84  1271   -4.10 0.1352 6.56e-06 9.96e-05  0.577        U20998_at\n",
       "85  1556    4.09 0.1024 6.56e-06 9.96e-05  1.577        U67963_at\n",
       "86    96   -4.08 0.1332 6.56e-06 9.96e-05  0.582        D14658_at\n",
       "87   773    4.08 0.4773 6.56e-06 9.96e-05  4.547        M19507_at\n",
       "88  2616   -4.08 0.1585 6.56e-06 9.96e-05  0.542      L25931_s_at\n",
       "89  1959   -4.07 0.1429 6.56e-06 9.96e-05  0.567        X68560_at\n",
       "90   546   -4.06 0.1353 6.56e-06 9.96e-05  0.580        L05148_at\n",
       "91  1640   -4.05 0.1185 6.56e-06 9.96e-05  0.608        U79285_at\n",
       "92  1916   -4.05 0.1223 6.56e-06 9.96e-05  0.602        X63469_at\n",
       "93    68    4.05 0.2089 6.56e-06 9.96e-05  2.117        D10495_at\n",
       "94   422   -4.03 0.1606 6.56e-06 9.96e-05  0.542 HG2855-HT2995_at\n",
       "95  2418   -4.03 0.1357 6.56e-06 9.96e-05  0.581      D26156_s_at\n",
       "96  1732   -4.03 0.2432 6.56e-06 9.96e-05  0.431        U97105_at\n",
       "97   922   -3.99 0.1194 6.56e-06 9.96e-05  0.611        M60527_at\n",
       "98  1006   -3.98 0.1100 6.56e-06 9.96e-05  0.628        M83233_at\n",
       "99  2101    3.97 0.2480 9.83e-06 0.000137  2.323        X90858_at\n",
       "100 1978   -3.93 0.1564 9.83e-06 0.000137  0.557        X70394_at\n",
       "101 2958    3.93 0.2499 9.83e-06 0.000137  2.315        X16546_at\n",
       "102 2673   -3.92 0.1688 9.83e-06 0.000137  0.539 M84371_rna1_s_at\n",
       "103 2347   -3.91 0.1360 9.83e-06 0.000137  0.590        U31556_at\n",
       "104 1455   -3.90 0.1408 9.83e-06 0.000137  0.584        U50928_at\n",
       "105  860    3.90 0.3196 9.83e-06 0.000137  2.777        M33195_at\n",
       "106  866   -3.89 0.1517 9.83e-06 0.000137  0.568        M33680_at\n",
       "107 2179   -3.89 0.1056 9.83e-06 0.000137  0.643        Y08612_at\n",
       "108 1939   -3.88 0.1515 1.31e-05 0.000176  0.569   X66401_cds1_at\n",
       "109 1811   -3.87 0.1647 1.31e-05 0.000176  0.550        X15414_at\n",
       "110 2736   -3.84 0.2220 1.31e-05 0.000176  0.474      M63838_s_at\n",
       "111 2402   -3.82 0.2811 1.97e-05 0.000250  0.407      L06797_s_at"
      ]
     },
     "metadata": {},
     "output_type": "display_data"
    }
   ],
   "source": [
    "summary(sam.out, 2.25)"
   ]
  },
  {
   "cell_type": "code",
   "execution_count": 30,
   "metadata": {
    "collapsed": false
   },
   "outputs": [],
   "source": [
    "sum.sam.out <- summary(sam.out, 3.3)"
   ]
  },
  {
   "cell_type": "code",
   "execution_count": 31,
   "metadata": {
    "collapsed": false
   },
   "outputs": [
    {
     "data": {
      "text/html": [
       "<table>\n",
       "<thead><tr><th></th><th scope=col>Row</th><th scope=col>d.value</th><th scope=col>stdev</th><th scope=col>rawp</th><th scope=col>q.value</th><th scope=col>R.fold</th></tr></thead>\n",
       "<tbody>\n",
       "\t<tr><th scope=row>M27891_at</th><td> 829     </td><td>8.165222 </td><td>0.2958251</td><td>0        </td><td>0        </td><td>7.422684 </td></tr>\n",
       "\t<tr><th scope=row>X95735_at</th><td>2124     </td><td>7.964784 </td><td>0.1778697</td><td>0        </td><td>0        </td><td>3.684479 </td></tr>\n",
       "\t<tr><th scope=row>L09209_s_at</th><td>2600     </td><td>6.102371 </td><td>0.1911219</td><td>0        </td><td>0        </td><td>2.872660 </td></tr>\n",
       "\t<tr><th scope=row>Y00787_s_at</th><td>2664     </td><td>5.975750 </td><td>0.3918749</td><td>0        </td><td>0        </td><td>6.455137 </td></tr>\n",
       "\t<tr><th scope=row>M16038_at</th><td> 766     </td><td>5.970848 </td><td>0.1731333</td><td>0        </td><td>0        </td><td>2.606597 </td></tr>\n",
       "\t<tr><th scope=row>M28130_rna1_s_at</th><td>2663     </td><td>5.547021 </td><td>0.4178283</td><td>0        </td><td>0        </td><td>6.239310 </td></tr>\n",
       "</tbody>\n",
       "</table>\n"
      ],
      "text/latex": [
       "\\begin{tabular}{r|llllll}\n",
       "  & Row & d.value & stdev & rawp & q.value & R.fold\\\\\n",
       "\\hline\n",
       "\tM27891\\_at &  829      & 8.165222  & 0.2958251 & 0         & 0         & 7.422684 \\\\\n",
       "\tX95735\\_at & 2124      & 7.964784  & 0.1778697 & 0         & 0         & 3.684479 \\\\\n",
       "\tL09209\\_s\\_at & 2600      & 6.102371  & 0.1911219 & 0         & 0         & 2.872660 \\\\\n",
       "\tY00787\\_s\\_at & 2664      & 5.975750  & 0.3918749 & 0         & 0         & 6.455137 \\\\\n",
       "\tM16038\\_at &  766      & 5.970848  & 0.1731333 & 0         & 0         & 2.606597 \\\\\n",
       "\tM28130\\_rna1\\_s\\_at & 2663      & 5.547021  & 0.4178283 & 0         & 0         & 6.239310 \\\\\n",
       "\\end{tabular}\n"
      ],
      "text/plain": [
       "                 Row  d.value  stdev     rawp q.value R.fold  \n",
       "M27891_at         829 8.165222 0.2958251 0    0       7.422684\n",
       "X95735_at        2124 7.964784 0.1778697 0    0       3.684479\n",
       "L09209_s_at      2600 6.102371 0.1911219 0    0       2.872660\n",
       "Y00787_s_at      2664 5.975750 0.3918749 0    0       6.455137\n",
       "M16038_at         766 5.970848 0.1731333 0    0       2.606597\n",
       "M28130_rna1_s_at 2663 5.547021 0.4178283 0    0       6.239310"
      ]
     },
     "metadata": {},
     "output_type": "display_data"
    }
   ],
   "source": [
    "sum.sam.out@mat.sig"
   ]
  },
  {
   "cell_type": "code",
   "execution_count": 32,
   "metadata": {
    "collapsed": false
   },
   "outputs": [
    {
     "data": {
      "text/html": [
       "<table>\n",
       "<tbody>\n",
       "\t<tr><td>36                                              </td><td>AFFX-HUMISGF3A/M97935_MA_at (endogenous control)</td><td>AFFX-HUMISGF3A/M97935_MA_at                     </td></tr>\n",
       "\t<tr><td>37                                              </td><td>AFFX-HUMISGF3A/M97935_MB_at (endogenous control)</td><td>AFFX-HUMISGF3A/M97935_MB_at                     </td></tr>\n",
       "\t<tr><td>38                                              </td><td>AFFX-HUMISGF3A/M97935_3_at (endogenous control) </td><td>AFFX-HUMISGF3A/M97935_3_at                      </td></tr>\n",
       "\t<tr><td>39                                              </td><td>AFFX-HUMRGE/M10098_5_at (endogenous control)    </td><td>AFFX-HUMRGE/M10098_5_at                         </td></tr>\n",
       "\t<tr><td>40                                              </td><td>AFFX-HUMRGE/M10098_M_at (endogenous control)    </td><td>AFFX-HUMRGE/M10098_M_at                         </td></tr>\n",
       "\t<tr><td>41                                              </td><td>AFFX-HUMRGE/M10098_3_at (endogenous control)    </td><td>AFFX-HUMRGE/M10098_3_at                         </td></tr>\n",
       "</tbody>\n",
       "</table>\n"
      ],
      "text/latex": [
       "\\begin{tabular}{lll}\n",
       "\t 36                                                   & AFFX-HUMISGF3A/M97935\\_MA\\_at (endogenous control) & AFFX-HUMISGF3A/M97935\\_MA\\_at                     \\\\\n",
       "\t 37                                                   & AFFX-HUMISGF3A/M97935\\_MB\\_at (endogenous control) & AFFX-HUMISGF3A/M97935\\_MB\\_at                     \\\\\n",
       "\t 38                                                   & AFFX-HUMISGF3A/M97935\\_3\\_at (endogenous control)  & AFFX-HUMISGF3A/M97935\\_3\\_at                      \\\\\n",
       "\t 39                                                   & AFFX-HUMRGE/M10098\\_5\\_at (endogenous control)     & AFFX-HUMRGE/M10098\\_5\\_at                         \\\\\n",
       "\t 40                                                   & AFFX-HUMRGE/M10098\\_M\\_at (endogenous control)     & AFFX-HUMRGE/M10098\\_M\\_at                         \\\\\n",
       "\t 41                                                   & AFFX-HUMRGE/M10098\\_3\\_at (endogenous control)     & AFFX-HUMRGE/M10098\\_3\\_at                         \\\\\n",
       "\\end{tabular}\n"
      ],
      "text/markdown": [
       "1. '36'\n",
       "2. '37'\n",
       "3. '38'\n",
       "4. '39'\n",
       "5. '40'\n",
       "6. '41'\n",
       "7. 'AFFX-HUMISGF3A/M97935_MA_at (endogenous control)'\n",
       "8. 'AFFX-HUMISGF3A/M97935_MB_at (endogenous control)'\n",
       "9. 'AFFX-HUMISGF3A/M97935_3_at (endogenous control)'\n",
       "10. 'AFFX-HUMRGE/M10098_5_at (endogenous control)'\n",
       "11. 'AFFX-HUMRGE/M10098_M_at (endogenous control)'\n",
       "12. 'AFFX-HUMRGE/M10098_3_at (endogenous control)'\n",
       "13. 'AFFX-HUMISGF3A/M97935_MA_at'\n",
       "14. 'AFFX-HUMISGF3A/M97935_MB_at'\n",
       "15. 'AFFX-HUMISGF3A/M97935_3_at'\n",
       "16. 'AFFX-HUMRGE/M10098_5_at'\n",
       "17. 'AFFX-HUMRGE/M10098_M_at'\n",
       "18. 'AFFX-HUMRGE/M10098_3_at'\n",
       "\n",
       "\n"
      ],
      "text/plain": [
       "     [,1] [,2]                                            \n",
       "[1,] 36   AFFX-HUMISGF3A/M97935_MA_at (endogenous control)\n",
       "[2,] 37   AFFX-HUMISGF3A/M97935_MB_at (endogenous control)\n",
       "[3,] 38   AFFX-HUMISGF3A/M97935_3_at (endogenous control) \n",
       "[4,] 39   AFFX-HUMRGE/M10098_5_at (endogenous control)    \n",
       "[5,] 40   AFFX-HUMRGE/M10098_M_at (endogenous control)    \n",
       "[6,] 41   AFFX-HUMRGE/M10098_3_at (endogenous control)    \n",
       "     [,3]                       \n",
       "[1,] AFFX-HUMISGF3A/M97935_MA_at\n",
       "[2,] AFFX-HUMISGF3A/M97935_MB_at\n",
       "[3,] AFFX-HUMISGF3A/M97935_3_at \n",
       "[4,] AFFX-HUMRGE/M10098_5_at    \n",
       "[5,] AFFX-HUMRGE/M10098_M_at    \n",
       "[6,] AFFX-HUMRGE/M10098_3_at    "
      ]
     },
     "metadata": {},
     "output_type": "display_data"
    }
   ],
   "source": [
    "head(golub.gnames)"
   ]
  },
  {
   "cell_type": "code",
   "execution_count": 33,
   "metadata": {
    "collapsed": false
   },
   "outputs": [],
   "source": [
    "list.siggenes(sam.out, 2.25, gene.names=golub.gnames[,2])"
   ]
  },
  {
   "cell_type": "code",
   "execution_count": 34,
   "metadata": {
    "collapsed": false
   },
   "outputs": [],
   "source": [
    "findDelta(sam.out, 100)"
   ]
  }
 ],
 "metadata": {
  "kernelspec": {
   "display_name": "R",
   "language": "R",
   "name": "ir"
  },
  "language_info": {
   "codemirror_mode": "r",
   "file_extension": ".r",
   "mimetype": "text/x-r-source",
   "name": "R",
   "pygments_lexer": "r",
   "version": "3.3.1"
  }
 },
 "nbformat": 4,
 "nbformat_minor": 0
}
