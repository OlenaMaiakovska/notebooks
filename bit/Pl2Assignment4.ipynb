{
 "cells": [
  {
   "cell_type": "code",
   "execution_count": 83,
   "metadata": {
    "collapsed": true
   },
   "outputs": [],
   "source": [
    "import os\n",
    "import sys\n",
    "from itertools import *\n",
    "import argparse\n",
    "from collections import defaultdict\n",
    "\n",
    "base = os.path.expanduser('~/Dropbox/School/Bonn/ProgrammingLab2')"
   ]
  },
  {
   "cell_type": "markdown",
   "metadata": {},
   "source": [
    "# Exercise 1\n",
    "\n",
    "## Exercise 1A"
   ]
  },
  {
   "cell_type": "code",
   "execution_count": 84,
   "metadata": {
    "collapsed": false
   },
   "outputs": [
    {
     "name": "stdout",
     "output_type": "stream",
     "text": [
      "gi|556503834|ref|NC_000913.3| Escherichia coli str. K-12 substr. MG1655, complete genome\n",
      "AGCTTTTCATTCTGACTGCAACGGGCAATATGTCTCTGTGTGGATTAAAAAAAGAGTGTCTGATAGCAGCTTCTGAACTGGTTACCTGCCGTGAGTAAATTAAAATTTTATTGACTTAGGTCACTAAATACTTTAACCAATATAGGCATA\n",
      "4641652\n"
     ]
    }
   ],
   "source": [
    "def read_fasta_sequence(file):\n",
    "    header = next(file).strip()[1:]\n",
    "    rest = \"\".join(line.strip() for line in file)\n",
    "    return header, rest\n",
    "\n",
    "with open(os.path.join(base, 'ecoli-genome.fna')) as f:\n",
    "    hd, seq = read_fasta_sequence(f)\n",
    "    print(hd)\n",
    "    print(seq[:150])\n",
    "    print(len(seq))"
   ]
  },
  {
   "cell_type": "markdown",
   "metadata": {},
   "source": [
    "## Exercise 1B"
   ]
  },
  {
   "cell_type": "code",
   "execution_count": 85,
   "metadata": {
    "collapsed": false
   },
   "outputs": [
    {
     "name": "stdout",
     "output_type": "stream",
     "text": [
      "Minimum length sequence length: 14\n",
      "Maximum length sequence length: 2358\n"
     ]
    }
   ],
   "source": [
    "def read_fasta(file):\n",
    "    for header, group in groupby(file, lambda line: line[0] == '>'):\n",
    "        if header:\n",
    "            h = next(group).strip()\n",
    "        else:\n",
    "            yield h, ''.join(l.strip() for l in group)\n",
    "\n",
    "with open(os.path.join(base, 'ecoli-proteome.faa')) as f:\n",
    "    l = list(read_fasta(f))\n",
    "    \n",
    "    mi = min(l, key=lambda header_seq: len(header_seq[1]))\n",
    "    print(\"Minimum length sequence length: {}\".format(len(mi[1])))\n",
    "    \n",
    "    ma = max(l, key=lambda header_seq: len(header_seq[1]))\n",
    "    print(\"Maximum length sequence length: {}\".format(len(ma[1])))\n",
    "    "
   ]
  },
  {
   "cell_type": "markdown",
   "metadata": {},
   "source": [
    "## Exercise 1C"
   ]
  },
  {
   "cell_type": "code",
   "execution_count": 86,
   "metadata": {
    "collapsed": false
   },
   "outputs": [
    {
     "name": "stdout",
     "output_type": "stream",
     "text": [
      ">header1\n",
      "AGCTTTTCATTCTGACTGCAACGGGCAATATGTCTCTGTGTGGATTAAAAAAAGAGTGTCTGATAGCAGC\n",
      "TTCTGAAC\n",
      ">header2\n",
      "AGCTTTTCATTCTGACTGCAACGGGCAATATGTCTCTGTGTGGATTAAAAAAAGAGTGTCTGATAGCAGC\n",
      "TTCTGAAC\n"
     ]
    }
   ],
   "source": [
    "def write_fasta(outfile, header, sequence):\n",
    "    print(\">\", header, sep='', file=outfile)\n",
    "    chunks = [iter(sequence)] * 70\n",
    "    for chunk in zip_longest(*chunks, fillvalue=''):\n",
    "        print(''.join(chunk), file=outfile)\n",
    "        \n",
    "write_fasta(sys.stdout, 'header1', 'AGCTTTTCATTCTGACTGCAACGGGCAATATGTCTCTGTGTGGATTAAAAAAAGAGTGTCTGATAGCAGCTTCTGAAC')\n",
    "write_fasta(sys.stdout, 'header2', 'AGCTTTTCATTCTGACTGCAACGGGCAATATGTCTCTGTGTGGATTAAAAAAAGAGTGTCTGATAGCAGCTTCTGAAC')"
   ]
  },
  {
   "cell_type": "markdown",
   "metadata": {},
   "source": [
    "# Exercise 2\n",
    "\n",
    "## Exercise 2A"
   ]
  },
  {
   "cell_type": "code",
   "execution_count": 87,
   "metadata": {
    "collapsed": false
   },
   "outputs": [
    {
     "data": {
      "text/plain": [
       "'T'"
      ]
     },
     "execution_count": 87,
     "metadata": {},
     "output_type": "execute_result"
    }
   ],
   "source": [
    "transcribe_dict = {'A': 'T', 'T': 'A', 'C': 'G', 'G': 'C'}\n",
    "transcribe = transcribe_dict.get\n",
    "\n",
    "transcribe('A')"
   ]
  },
  {
   "cell_type": "code",
   "execution_count": 88,
   "metadata": {
    "collapsed": false
   },
   "outputs": [
    {
     "data": {
      "text/plain": [
       "'TAGA'"
      ]
     },
     "execution_count": 88,
     "metadata": {},
     "output_type": "execute_result"
    }
   ],
   "source": [
    "'ATCT'.translate(str.maketrans(transcribe_dict))"
   ]
  },
  {
   "cell_type": "code",
   "execution_count": 89,
   "metadata": {
    "collapsed": false
   },
   "outputs": [
    {
     "name": "stdout",
     "output_type": "stream",
     "text": [
      ">cDNA_gi|556503834|ref|NC_000913.3| Escherichia coli str. K-12 substr. MG1655, complete genome\n",
      "AAATTCCTGATCGACGAAAGTTTTCAATTGCGCCAGCGGGAACCCCGGCTGGGCGGCGGCGAGTCCCGTC\n",
      "AAAAGTTCGGCAAAAATACGTTCGGCATCGCTGATATTGGGTAAAGCATCCTGGCCGCTAATGGTTTTTT\n",
      "CAATCATCGCCACCAGGTGGTTGGTGATTTTGGCGGGGGCAGAGAGGACGGTGGCCACCTGCCCCTGCCT\n",
      "GGCATTGCTTTCCAGAATATCGGCAACACGCAGAAAACGTTCTGCATTTGCCACTGATGTACCGCCGAAC\n",
      "TTCAACACTCGCATGGTTGTTACCTCGTTACCTTTGGTCGAAAAAAAAAGCCCGCACTGTCAGGTGCGGG\n",
      "CTTTTTTCTGTGTTTCCTGTACGCGTCAGCCCGCACCGTTACCTGTGGTAATGGTGATGGTGGTGGTAAT\n",
      "GGTGGTGCTAATGCGTTTCATGGATGTTGTGTACTCTGTAATTTTTATCTGTCTGTGCGCTATGCCTATA\n",
      "TTGGTTAAAGTATTTAGTGACCTAAGTCAATAAAATTTTAATTTACTCACGGCAGGTAACCAGTTCAGAA\n",
      "GCTGCTATCAGACACTCTTTTTTTAATCCACACAGAGACATATTGCCCGTTGCAGTCAGAATGAAAAGCT\n"
     ]
    }
   ],
   "source": [
    "def simulate_script_2a(argstring):\n",
    "    parser = argparse.ArgumentParser()\n",
    "    parser.add_argument(\"--input\", \"-i\", default=sys.stdin, type=argparse.FileType('r'))\n",
    "    parser.add_argument(\"--output\", \"-o\", default=sys.stdout, type=argparse.FileType('w'))\n",
    "    args = parser.parse_args(argstring.split())\n",
    "    \n",
    "    header, sequence = read_fasta_sequence(args.input)\n",
    "    cdna_header = \"cDNA_{}\".format(header)\n",
    "    cdna_sequence = reversed(list(map(transcribe, sequence)))\n",
    "    write_fasta(args.output, cdna_header, cdna_sequence)\n",
    "\n",
    "simulate_script_2a(\"--input {}\".format(os.path.join(base, 'ecoli-genome-sample.fna')))"
   ]
  },
  {
   "cell_type": "code",
   "execution_count": 90,
   "metadata": {
    "collapsed": true
   },
   "outputs": [],
   "source": [
    "simulate_script_2a(\"-i {} -o {}\".format(os.path.join(base, 'ecoli-genome.fna'),\n",
    "                                        os.path.join(base, 'cth-ecoli-genome-complement.fna')))"
   ]
  },
  {
   "cell_type": "markdown",
   "metadata": {},
   "source": [
    "## Exercise 2B\n"
   ]
  },
  {
   "cell_type": "code",
   "execution_count": 96,
   "metadata": {
    "collapsed": false
   },
   "outputs": [
    {
     "name": "stdout",
     "output_type": "stream",
     "text": [
      "000 024 ATGATGxxATGxxATGATGxATGA\n",
      "013 037 ATGATGxATGATGxxxxTAAxTAA\n",
      "008 017 ATGxxATGA\n",
      "020 041 ATGATGxxxxTAAxTAAxTAA\n"
     ]
    }
   ],
   "source": [
    "def find_frames(s, start_codons=set(['ATG']), stop_codons=set(['TAA', 'TAG', 'TGA'])):\n",
    "    starts = defaultdict(list)\n",
    "    stops = defaultdict(list)\n",
    "    \n",
    "    for i in range(len(s)):\n",
    "        sl = s[i: i + 3]\n",
    "        if sl in start_codons:\n",
    "            starts[i % 3].append(i)\n",
    "        elif sl in stop_codons:\n",
    "            stops[i % 3].append(i)\n",
    "    \n",
    "    for i in range(3):\n",
    "        if not starts[i]:\n",
    "            continue\n",
    "        \n",
    "        orf_starts = starts[i]\n",
    "        orf_stops = stops[i]\n",
    "        orf_stops = [0] + orf_stops\n",
    "        \n",
    "        for j in range(1, len(orf_stops)):\n",
    "            valid_starts = [start for start in orf_starts if orf_stops[j - 1] <= start < orf_stops[j]]\n",
    "            if valid_starts:\n",
    "                min_start = valid_starts[0]\n",
    "                start_pos = min_start\n",
    "                stop_pos = orf_stops[j] + 3\n",
    "                yield (start_pos, stop_pos))\n",
    "\n",
    "    #print('Starts at {}'.format(dict(starts)))\n",
    "    #print('Stops at {}'.format(dict(stops)))\n",
    "    #print('Valid Frames: {}'.format(frames))\n",
    "\n",
    "test = \"ATGATGxxATGxxATGATGxATGATGxxxxTAAxTAAxTAAxxxATGxATGxATG\"\n",
    "for start, stop in find_frames(test):\n",
    "    print(\"{:03} {:03} {}\".format(start, stop, test[start:stop]))"
   ]
  },
  {
   "cell_type": "code",
   "execution_count": 116,
   "metadata": {
    "collapsed": false
   },
   "outputs": [
    {
     "name": "stdout",
     "output_type": "stream",
     "text": [
      "testing: ATGATGxxATGxxATGATGxATGATGxxxxTAAxTAAxTAAxxxATGxATGxATGCATxCATxCATxxxTTAxTTAxTTAxxxxCATCATxCATCATxxCATxxCATCAT, len: 110\n"
     ]
    },
    {
     "data": {
      "text/plain": [
       "[('gi|556503834|ref|NC_000913.3|:1-24', 'ATGATGxxATGxxATGATGxATGA'),\n",
       " ('gi|556503834|ref|NC_000913.3|:14-37', 'ATGATGxATGATGxxxxTAAxTAA'),\n",
       " ('gi|556503834|ref|NC_000913.3|:9-17', 'ATGxxATGA'),\n",
       " ('gi|556503834|ref|NC_000913.3|:21-41', 'ATGATGxxxxTAAxTAAxTAA'),\n",
       " ('gi|556503834|ref|NC_000913.3|:c110-87', 'ATGATGxxATGxxATGATGxATGA'),\n",
       " ('gi|556503834|ref|NC_000913.3|:c97-74', 'ATGATGxATGATGxxxxTAAxTAA'),\n",
       " ('gi|556503834|ref|NC_000913.3|:c102-94', 'ATGxxATGA'),\n",
       " ('gi|556503834|ref|NC_000913.3|:c90-70', 'ATGATGxxxxTAAxTAAxTAA')]"
      ]
     },
     "execution_count": 116,
     "metadata": {},
     "output_type": "execute_result"
    }
   ],
   "source": [
    "def find_longest_frames(seq):\n",
    "    for start, stop in find_frames(seq):\n",
    "        yield \"gi|556503834|ref|NC_000913.3|:{}-{}\".format(start + 1, stop), seq[start: stop]\n",
    "        \n",
    "    reverse_seq = seq[::-1].translate(str.maketrans(transcribe_dict))\n",
    "\n",
    "    for start, stop in find_frames(reverse_seq):\n",
    "        yield \"gi|556503834|ref|NC_000913.3|:c{}-{}\".format(len(seq) - start, 1 + len(seq) - stop), reverse_seq[start: stop]\n",
    "\n",
    "        \n",
    "test2 = test + test[::-1].translate(str.maketrans(transcribe_dict))\n",
    "print(\"testing: {}, len: {}\".format(test2, len(test2)))\n",
    "list(find_longest_frames(test2))"
   ]
  },
  {
   "cell_type": "code",
   "execution_count": 117,
   "metadata": {
    "collapsed": false
   },
   "outputs": [
    {
     "name": "stdout",
     "output_type": "stream",
     "text": [
      ">gi|556503834|ref|NC_000913.3|:190-255\n",
      "ATGAAACGCATTAGCACCACCATTACCACCACCATCACCATTACCACAGGTAACGGTGCGGGCTGA\n",
      ">gi|556503834|ref|NC_000913.3|:374-487\n",
      "ATGCAGAACGTTTTCTGCGTGTTGCCGATATTCTGGAAAGCAATGCCAGGCAGGGGCAGGTGGCCACCGT\n",
      "CCTCTCTGCCCCCGCCAAAATCACCAACCACCTGGTGGCGATGA\n",
      ">gi|556503834|ref|NC_000913.3|:512-562\n",
      "ATGCTTTACCCAATATCAGCGATGCCGAACGTATTTTTGCCGAACTTTTGA\n",
      ">gi|556503834|ref|NC_000913.3|:30-98\n",
      "ATGTCTCTGTGTGGATTAAAAAAAGAGTGTCTGATAGCAGCTTCTGAACTGGTTACCTGCCGTGAGTAA\n",
      ">gi|556503834|ref|NC_000913.3|:c500-108\n",
      "ATGGTTTTTTCAATCATCGCCACCAGGTGGTTGGTGATTTTGGCGGGGGCAGAGAGGACGGTGGCCACCT\n",
      "GCCCCTGCCTGGCATTGCTTTCCAGAATATCGGCAACACGCAGAAAACGTTCTGCATTTGCCACTGATGT\n",
      "ACCGCCGAACTTCAACACTCGCATGGTTGTTACCTCGTTACCTTTGGTCGAAAAAAAAAGCCCGCACTGT\n",
      "CAGGTGCGGGCTTTTTTCTGTGTTTCCTGTACGCGTCAGCCCGCACCGTTACCTGTGGTAATGGTGATGG\n",
      "TGGTGGTAATGGTGGTGCTAATGCGTTTCATGGATGTTGTGTACTCTGTAATTTTTATCTGTCTGTGCGC\n",
      "TATGCCTATATTGGTTAAAGTATTTAGTGACCTAAGTCAATAA\n",
      ">gi|556503834|ref|NC_000913.3|:c364-230\n",
      "ATGTACCGCCGAACTTCAACACTCGCATGGTTGTTACCTCGTTACCTTTGGTCGAAAAAAAAAGCCCGCA\n",
      "CTGTCAGGTGCGGGCTTTTTTCTGTGTTTCCTGTACGCGTCAGCCCGCACCGTTACCTGTGGTAA\n",
      ">gi|556503834|ref|NC_000913.3|:c187-170\n",
      "ATGTTGTGTACTCTGTAA\n"
     ]
    }
   ],
   "source": [
    "def simulate_script_2b(argstring):\n",
    "    parser = argparse.ArgumentParser()  \n",
    "    parser.add_argument(\"--input\", \"-i\", default=sys.stdin, type=argparse.FileType('r'))\n",
    "    parser.add_argument(\"--output\", \"-o\", default=sys.stdout, type=argparse.FileType('w'))\n",
    "    args = parser.parse_args(argstring.split())\n",
    "    \n",
    "    for header, sequence in read_fasta(args.input):\n",
    "        for label, frame in find_longest_frames(sequence):\n",
    "            write_fasta(args.output, label, frame)\n",
    "    \n",
    "simulate_script_2b(\"--input {}\".format(os.path.join(base, 'ecoli-genome-sample.fna')))\n",
    "\n",
    "simulate_script_2b(\"-i{} -o {}\".format(os.path.join(base, 'ecoli-genome-sample.fna'),\n",
    "                                       os.path.join(base, 'cth-ecoli-orf-sample.ffn')))"
   ]
  },
  {
   "cell_type": "code",
   "execution_count": 127,
   "metadata": {
    "collapsed": false
   },
   "outputs": [],
   "source": [
    "if not os.path.exists(os.path.join(base, 'cth-ecoli-orf.ffn')):\n",
    "    simulate_script_2b(\"-i {} -o {}\".format(os.path.join(base, 'ecoli-genome.fna'), \n",
    "                                            os.path.join(base, 'cth-ecoli-orf.ffn')))"
   ]
  },
  {
   "cell_type": "markdown",
   "metadata": {},
   "source": [
    "# Exercise 3\n",
    "\n",
    "## Exercise 3A"
   ]
  },
  {
   "cell_type": "code",
   "execution_count": 128,
   "metadata": {
    "collapsed": false
   },
   "outputs": [
    {
     "name": "stdout",
     "output_type": "stream",
     "text": [
      "SAMPLE DATA\n",
      "30 98\n",
      "187 170\n",
      "190 255\n",
      "364 230\n",
      "374 487\n",
      "500 108\n",
      "512 562\n",
      "\n",
      "CALCULATED\n",
      "30 98\n",
      "187 170\n",
      "190 255\n",
      "364 230\n",
      "374 487\n",
      "500 108\n",
      "512 562\n"
     ]
    }
   ],
   "source": [
    "def get_sequence_positions(fasta_file):\n",
    "    d = {}\n",
    "    for header, sequence in read_fasta(fasta_file):\n",
    "        annotations = header.split(\"|\")\n",
    "        start, stop = annotations[4].split()[0][1:].split('-')\n",
    "        if start.startswith('c'):\n",
    "            d[int(start[1:])] = int(stop)\n",
    "        else:\n",
    "            d[int(start)] = int(stop)\n",
    "    return d\n",
    "\n",
    "print(\"SAMPLE DATA\")\n",
    "with open(os.path.join(base, 'ecoli-orf-sample.ffn')) as f:\n",
    "    d = get_sequence_positions(f) \n",
    "    for k in sorted(d):\n",
    "        print(k, d[k])\n",
    "\n",
    "print(\"\\nCALCULATED\")\n",
    "with open(os.path.join(base, 'cth-ecoli-orf-sample.ffn')) as f:\n",
    "    d = get_sequence_positions(f)\n",
    "    for k in sorted(d):\n",
    "        print(k, d[k])"
   ]
  },
  {
   "cell_type": "markdown",
   "metadata": {},
   "source": [
    "## Exercise 3B"
   ]
  },
  {
   "cell_type": "code",
   "execution_count": 134,
   "metadata": {
    "collapsed": false
   },
   "outputs": [
    {
     "name": "stdout",
     "output_type": "stream",
     "text": [
      "number orfs 81687\n",
      "number genes 4218\n",
      "number correct 3138 ratio 0.7439544807965861\n",
      "number correct stops 0.03869648781323834\n",
      "number missed genes 1080\n",
      "percent missed genes 0.25604551920341395\n"
     ]
    }
   ],
   "source": [
    "def simulate_script_3b(argstring):\n",
    "    parser = argparse.ArgumentParser()\n",
    "    \n",
    "    parser.add_argument(\"--genes\", \"-g\", type=argparse.FileType('r'), required=True)\n",
    "    parser.add_argument(\"--orfs\", \"-o\", type=argparse.FileType('r'), required=True)\n",
    "    args = parser.parse_args(argstring.split())\n",
    "    \n",
    "    genes = get_sequence_positions(args.genes)\n",
    "    orfs = get_sequence_positions(args.orfs)\n",
    "    \n",
    "    correct = []\n",
    "    for stop, start in orfs.items():\n",
    "        if stop in genes and genes[stop] == start:\n",
    "            correct.append(stop)\n",
    "    \n",
    "    n_orfs = len(orfs)\n",
    "    n_genes = len(genes)\n",
    "    n_correct = len(correct)\n",
    "    correct_ratio = n_correct / n_genes\n",
    "    n_correct_stops = len(set(orfs) & set(genes)) / n_orfs\n",
    "    n_missed = n_genes - n_correct\n",
    "    \n",
    "    print(\"number orfs\", n_orfs)\n",
    "    print(\"number genes\", n_genes)\n",
    "    print(\"number correct\", n_correct, \"ratio\", correct_ratio)\n",
    "    print('number correct stops', n_correct_stops)\n",
    "    print('number missed genes', n_missed)\n",
    "    print('percent missed genes', n_missed / n_genes)\n",
    "        \n",
    "simulate_script_3b(\"-g {} -o {}\".format(os.path.join(base, 'ecoli-genes.ffn'), \n",
    "                                        os.path.join(base, 'cth-ecoli-orf.ffn')))"
   ]
  },
  {
   "cell_type": "code",
   "execution_count": 130,
   "metadata": {
    "collapsed": false
   },
   "outputs": [
    {
     "name": "stdout",
     "output_type": "stream",
     "text": [
      "number orfs 81687\n",
      "number genes 4218\n",
      "number correct 3138 ratio 0.038414925263505824\n",
      "number correct stops 0.03869648781323834\n",
      "number missed genes 1080\n",
      "percent missed genes 0.25604551920341395\n"
     ]
    }
   ],
   "source": [
    "simulate_script_3b(\"-g {} -o {}\".format(os.path.join(base, 'ecoli-genes.ffn'), \n",
    "                                        os.path.join(base, 'cth-ecoli-orf.ffn')))"
   ]
  },
  {
   "cell_type": "markdown",
   "metadata": {},
   "source": [
    "## Exercise 3C"
   ]
  },
  {
   "cell_type": "code",
   "execution_count": 135,
   "metadata": {
    "collapsed": false
   },
   "outputs": [
    {
     "name": "stdout",
     "output_type": "stream",
     "text": [
      "minimum length 25\n",
      "number orfs 81687\n",
      "number genes 4218\n",
      "number correct 3138\n",
      "number missed genes 1080\n",
      "ratio correct 0.7439544807965861\n",
      "number correct stops 0.03869648781323834\n"
     ]
    }
   ],
   "source": [
    "def simulate_script_3c(argstring):\n",
    "    parser = argparse.ArgumentParser()\n",
    "    \n",
    "    parser.add_argument(\"--genes\", \"-g\", type=argparse.FileType('r'), required=True)\n",
    "    parser.add_argument(\"--orfs\", \"-o\", type=argparse.FileType('r'), required=True)\n",
    "    parser.add_argument(\"--min-length\", \"-m\", type=int, default=0)\n",
    "    args = parser.parse_args(argstring.split())\n",
    "    \n",
    "    genes = get_sequence_positions(args.genes)\n",
    "    orfs = get_sequence_positions(args.orfs)\n",
    "    \n",
    "    correct = []\n",
    "    for stop, start in orfs.items():\n",
    "        if stop in genes and genes[stop] == start:\n",
    "            if stop > start and stop - start >= args.min_length:\n",
    "                correct.append(stop)\n",
    "            elif start - stop >= args.min_length:\n",
    "                correct.append(stop)\n",
    "        \n",
    "    n_orfs = len(orfs)\n",
    "    n_genes = len(genes)\n",
    "    n_correct = len(correct)\n",
    "    correct_ratio = n_correct / n_genes\n",
    "    n_correct_stops = len(set(orfs) & set(genes)) / n_orfs\n",
    "    n_missed = n_genes - n_correct\n",
    "    \n",
    "    print(\"minimum length\", args.min_length)\n",
    "    print(\"number orfs\", n_orfs)\n",
    "    print(\"number genes\", n_genes)\n",
    "    print(\"number correct\", n_correct)\n",
    "    print('number missed genes', n_missed)\n",
    "    print(\"ratio correct\", correct_ratio)\n",
    "    print('number correct stops', n_correct_stops)\n",
    "    \n",
    "        \n",
    "\n",
    "simulate_script_3c(\"-g {} -o {} -m 25\".format(os.path.join(base, 'ecoli-genes.ffn'), \n",
    "                                              os.path.join(base, 'cth-ecoli-orf.ffn')))"
   ]
  },
  {
   "cell_type": "markdown",
   "metadata": {},
   "source": [
    "# Exercise 4"
   ]
  },
  {
   "cell_type": "code",
   "execution_count": 132,
   "metadata": {
    "collapsed": false
   },
   "outputs": [
    {
     "name": "stdout",
     "output_type": "stream",
     "text": [
      "best cutoff was 240\n"
     ]
    }
   ],
   "source": [
    "def simulate_script_4(argstring):\n",
    "    parser = argparse.ArgumentParser()\n",
    "    \n",
    "    parser.add_argument(\"--genes\", \"-g\", type=argparse.FileType('r'), required=True)\n",
    "    parser.add_argument(\"--orfs\", \"-o\", type=argparse.FileType('r'), required=True)\n",
    "    args = parser.parse_args(argstring.split())\n",
    "    \n",
    "    genes = get_sequence_positions(args.genes)\n",
    "    orfs = get_sequence_positions(args.orfs)\n",
    "    \n",
    "    orf_labels = set(orfs)\n",
    "    gene_labels = set(genes)\n",
    "    \n",
    "    # perform grid search over m's\n",
    "    results = {}\n",
    "    for m in range(0, 1200, 5):\n",
    "        accepted = set(k for k, v in orfs.items() if k - v > m)\n",
    "        rejected = orf_labels - accepted\n",
    "        \n",
    "        tp = len(accepted & gene_labels)\n",
    "        fp = len(accepted) - tp\n",
    "        \n",
    "        fn = len(rejected & gene_labels)\n",
    "        tn = len(rejected) - fn\n",
    "    \n",
    "        balanced_accuracy = 0.5 * (tp/(tp+fn) + tn/(tn+fp))\n",
    "        results[m] = balanced_accuracy\n",
    "        \n",
    "    \n",
    "    best_m = max(results, key=results.get)\n",
    "    print('best cutoff was {}'.format(best_m))\n",
    "    \n",
    "simulate_script_4(\"-g {} -o {}\".format(os.path.join(base, 'ecoli-genes.ffn'), \n",
    "                                       os.path.join(base, 'cth-ecoli-orf.ffn')))"
   ]
  }
 ],
 "metadata": {
  "kernelspec": {
   "display_name": "Python 3",
   "language": "python",
   "name": "python3"
  },
  "language_info": {
   "codemirror_mode": {
    "name": "ipython",
    "version": 3
   },
   "file_extension": ".py",
   "mimetype": "text/x-python",
   "name": "python",
   "nbconvert_exporter": "python",
   "pygments_lexer": "ipython3",
   "version": "3.5.1"
  }
 },
 "nbformat": 4,
 "nbformat_minor": 0
}
