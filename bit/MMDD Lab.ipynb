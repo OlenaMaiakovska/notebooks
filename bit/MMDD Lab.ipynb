{
 "cells": [
  {
   "cell_type": "code",
   "execution_count": 1,
   "metadata": {
    "collapsed": false
   },
   "outputs": [],
   "source": [
    "from rdkit.Chem.Scaffolds import MurckoScaffold\n",
    "from rdkit import Chem\n",
    "from rdkit.Chem import Draw, rdDepictor, AllChem\n",
    "from rdkit.Chem.Draw import IPythonConsole, rdMolDraw2D\n",
    "from IPython.display import SVG\n",
    "import pandas as pd\n",
    "\n",
    "%matplotlib inline"
   ]
  },
  {
   "cell_type": "code",
   "execution_count": 2,
   "metadata": {
    "collapsed": false
   },
   "outputs": [
    {
     "data": {
      "image/png": "[encoded data removed]",
      "text/plain": [
       "<rdkit.Chem.rdchem.Mol at 0x10d78c2b0>"
      ]
     },
     "execution_count": 2,
     "metadata": {},
     "output_type": "execute_result"
    }
   ],
   "source": [
    "mol_smiles = 'CCO[C@@H](Cc1ccc(OCCN2c3ccccc3Oc4ccccc24)cc1)C(=O)O'\n",
    "mol = Chem.MolFromSmiles(mol_smiles)\n",
    "rdDepictor.Compute2DCoords(mol)\n",
    "mol"
   ]
  },
  {
   "cell_type": "code",
   "execution_count": 3,
   "metadata": {
    "collapsed": false
   },
   "outputs": [
    {
     "name": "stdout",
     "output_type": "stream",
     "text": [
      "c1ccc(OCCN2c3ccccc3Oc3ccccc32)cc1\n"
     ]
    },
    {
     "data": {
      "image/png": "[encoded data removed]",
      "text/plain": [
       "<rdkit.Chem.rdchem.Mol at 0x10dcc1f80>"
      ]
     },
     "execution_count": 3,
     "metadata": {},
     "output_type": "execute_result"
    }
   ],
   "source": [
    "scaf = MurckoScaffold.GetScaffoldForMol(mol)\n",
    "print(Chem.MolToSmiles(scaf))\n",
    "scaf"
   ]
  },
  {
   "cell_type": "markdown",
   "metadata": {},
   "source": [
    "Are substructucre's SMILES strings substrings of their structures' SMILES strings? There's no reason it would necessarily bbe this way."
   ]
  },
  {
   "cell_type": "code",
   "execution_count": 4,
   "metadata": {
    "collapsed": false
   },
   "outputs": [
    {
     "data": {
      "text/plain": [
       "False"
      ]
     },
     "execution_count": 4,
     "metadata": {},
     "output_type": "execute_result"
    }
   ],
   "source": [
    "Chem.MolToSmiles(scaf) in mol_smiles"
   ]
  },
  {
   "cell_type": "code",
   "execution_count": 5,
   "metadata": {
    "collapsed": false
   },
   "outputs": [
    {
     "data": {
      "image/svg+xml": [
       "<svg baseProfile=\"full\" height=\"200px\" version=\"1.1\" width=\"400px\" xml:space=\"preserve\" xmlns:rdkit=\"http://www.rdkit.org/xml\" xmlns:svg=\"http://www.w3.org/2000/svg\" xmlns:xlink=\"http://www.w3.org/1999/xlink\">\n",
       "<rect height=\"200\" style=\"opacity:1.0;fill:#FFFFFF;stroke:none\" width=\"400\" x=\"0\" y=\"0\"> </rect>\n",
       "<path d=\"M 118.439,141.428 139.011,116.646\" style=\"fill:none;fill-rule:evenodd;stroke:#FF7F7F;stroke-width:13px;stroke-linecap:butt;stroke-linejoin:miter;stroke-opacity:1\"/>\n",
       "<path d=\"M 118.439,141.428 129.616,171.635\" style=\"fill:none;fill-rule:evenodd;stroke:#FF7F7F;stroke-width:13px;stroke-linecap:butt;stroke-linejoin:miter;stroke-opacity:1\"/>\n",
       "<path d=\"M 139.011,116.646 170.759,122.07\" style=\"fill:none;fill-rule:evenodd;stroke:#FF7F7F;stroke-width:13px;stroke-linecap:butt;stroke-linejoin:miter;stroke-opacity:1\"/>\n",
       "<path d=\"M 170.759,122.07 181.935,152.277\" style=\"fill:none;fill-rule:evenodd;stroke:#FF7F7F;stroke-width:13px;stroke-linecap:butt;stroke-linejoin:miter;stroke-opacity:1\"/>\n",
       "<path d=\"M 181.935,152.277 213.683,157.701\" style=\"fill:none;fill-rule:evenodd;stroke:#FF7F7F;stroke-width:13px;stroke-linecap:butt;stroke-linejoin:miter;stroke-opacity:1\"/>\n",
       "<path d=\"M 181.935,152.277 161.363,177.059\" style=\"fill:none;fill-rule:evenodd;stroke:#FF7F7F;stroke-width:13px;stroke-linecap:butt;stroke-linejoin:miter;stroke-opacity:1\"/>\n",
       "<path d=\"M 213.683,157.701 234.255,132.919\" style=\"fill:none;fill-rule:evenodd;stroke:#FF7F7F;stroke-width:13px;stroke-linecap:butt;stroke-linejoin:miter;stroke-opacity:1\"/>\n",
       "<path d=\"M 234.255,132.919 266.003,138.343\" style=\"fill:none;fill-rule:evenodd;stroke:#FF7F7F;stroke-width:13px;stroke-linecap:butt;stroke-linejoin:miter;stroke-opacity:1\"/>\n",
       "<path d=\"M 266.003,138.343 286.574,113.561\" style=\"fill:none;fill-rule:evenodd;stroke:#FF7F7F;stroke-width:13px;stroke-linecap:butt;stroke-linejoin:miter;stroke-opacity:1\"/>\n",
       "<path d=\"M 286.574,113.561 318.322,118.985\" style=\"fill:none;fill-rule:evenodd;stroke:#FF7F7F;stroke-width:13px;stroke-linecap:butt;stroke-linejoin:miter;stroke-opacity:1\"/>\n",
       "<path d=\"M 286.574,113.561 275.398,83.3543\" style=\"fill:none;fill-rule:evenodd;stroke:#FF7F7F;stroke-width:13px;stroke-linecap:butt;stroke-linejoin:miter;stroke-opacity:1\"/>\n",
       "<path d=\"M 318.322,118.985 329.499,149.192\" style=\"fill:none;fill-rule:evenodd;stroke:#FF7F7F;stroke-width:13px;stroke-linecap:butt;stroke-linejoin:miter;stroke-opacity:1\"/>\n",
       "<path d=\"M 318.322,118.985 338.894,94.2031\" style=\"fill:none;fill-rule:evenodd;stroke:#FF7F7F;stroke-width:13px;stroke-linecap:butt;stroke-linejoin:miter;stroke-opacity:1\"/>\n",
       "<path d=\"M 329.499,149.192 361.247,154.617\" style=\"fill:none;fill-rule:evenodd;stroke:#FF7F7F;stroke-width:13px;stroke-linecap:butt;stroke-linejoin:miter;stroke-opacity:1\"/>\n",
       "<path d=\"M 361.247,154.617 381.818,129.834\" style=\"fill:none;fill-rule:evenodd;stroke:#FF7F7F;stroke-width:13px;stroke-linecap:butt;stroke-linejoin:miter;stroke-opacity:1\"/>\n",
       "<path d=\"M 381.818,129.834 370.642,99.6275\" style=\"fill:none;fill-rule:evenodd;stroke:#FF7F7F;stroke-width:13px;stroke-linecap:butt;stroke-linejoin:miter;stroke-opacity:1\"/>\n",
       "<path d=\"M 370.642,99.6275 338.894,94.2031\" style=\"fill:none;fill-rule:evenodd;stroke:#FF7F7F;stroke-width:13px;stroke-linecap:butt;stroke-linejoin:miter;stroke-opacity:1\"/>\n",
       "<path d=\"M 338.894,94.2031 327.718,63.9964\" style=\"fill:none;fill-rule:evenodd;stroke:#FF7F7F;stroke-width:13px;stroke-linecap:butt;stroke-linejoin:miter;stroke-opacity:1\"/>\n",
       "<path d=\"M 327.718,63.9964 295.97,58.572\" style=\"fill:none;fill-rule:evenodd;stroke:#FF7F7F;stroke-width:13px;stroke-linecap:butt;stroke-linejoin:miter;stroke-opacity:1\"/>\n",
       "<path d=\"M 295.97,58.572 284.793,28.3652\" style=\"fill:none;fill-rule:evenodd;stroke:#FF7F7F;stroke-width:13px;stroke-linecap:butt;stroke-linejoin:miter;stroke-opacity:1\"/>\n",
       "<path d=\"M 295.97,58.572 275.398,83.3543\" style=\"fill:none;fill-rule:evenodd;stroke:#FF7F7F;stroke-width:13px;stroke-linecap:butt;stroke-linejoin:miter;stroke-opacity:1\"/>\n",
       "<path d=\"M 284.793,28.3652 253.045,22.9408\" style=\"fill:none;fill-rule:evenodd;stroke:#FF7F7F;stroke-width:13px;stroke-linecap:butt;stroke-linejoin:miter;stroke-opacity:1\"/>\n",
       "<path d=\"M 253.045,22.9408 232.474,47.7231\" style=\"fill:none;fill-rule:evenodd;stroke:#FF7F7F;stroke-width:13px;stroke-linecap:butt;stroke-linejoin:miter;stroke-opacity:1\"/>\n",
       "<path d=\"M 232.474,47.7231 243.65,77.9299\" style=\"fill:none;fill-rule:evenodd;stroke:#FF7F7F;stroke-width:13px;stroke-linecap:butt;stroke-linejoin:miter;stroke-opacity:1\"/>\n",
       "<path d=\"M 243.65,77.9299 275.398,83.3543\" style=\"fill:none;fill-rule:evenodd;stroke:#FF7F7F;stroke-width:13px;stroke-linecap:butt;stroke-linejoin:miter;stroke-opacity:1\"/>\n",
       "<path d=\"M 161.363,177.059 129.616,171.635\" style=\"fill:none;fill-rule:evenodd;stroke:#FF7F7F;stroke-width:13px;stroke-linecap:butt;stroke-linejoin:miter;stroke-opacity:1\"/>\n",
       "<ellipse cx=\"118.439\" cy=\"141.428\" rx=\"8.58881\" ry=\"8.58881\" style=\"fill:#FF7F7F;fill-rule:evenoddstroke:#FF7F7F;stroke-width:1px;stroke-linecap:butt;stroke-linejoin:miter;stroke-opacity:1\"/>\n",
       "<ellipse cx=\"139.011\" cy=\"116.646\" rx=\"8.58881\" ry=\"8.58881\" style=\"fill:#FF7F7F;fill-rule:evenoddstroke:#FF7F7F;stroke-width:1px;stroke-linecap:butt;stroke-linejoin:miter;stroke-opacity:1\"/>\n",
       "<ellipse cx=\"170.759\" cy=\"122.07\" rx=\"8.58881\" ry=\"8.58881\" style=\"fill:#FF7F7F;fill-rule:evenoddstroke:#FF7F7F;stroke-width:1px;stroke-linecap:butt;stroke-linejoin:miter;stroke-opacity:1\"/>\n",
       "<ellipse cx=\"181.935\" cy=\"152.277\" rx=\"8.58881\" ry=\"8.58881\" style=\"fill:#FF7F7F;fill-rule:evenoddstroke:#FF7F7F;stroke-width:1px;stroke-linecap:butt;stroke-linejoin:miter;stroke-opacity:1\"/>\n",
       "<ellipse cx=\"213.683\" cy=\"157.701\" rx=\"8.58881\" ry=\"8.58881\" style=\"fill:#FF7F7F;fill-rule:evenoddstroke:#FF7F7F;stroke-width:1px;stroke-linecap:butt;stroke-linejoin:miter;stroke-opacity:1\"/>\n",
       "<ellipse cx=\"234.255\" cy=\"132.919\" rx=\"8.58881\" ry=\"8.58881\" style=\"fill:#FF7F7F;fill-rule:evenoddstroke:#FF7F7F;stroke-width:1px;stroke-linecap:butt;stroke-linejoin:miter;stroke-opacity:1\"/>\n",
       "<ellipse cx=\"266.003\" cy=\"138.343\" rx=\"8.58881\" ry=\"8.58881\" style=\"fill:#FF7F7F;fill-rule:evenoddstroke:#FF7F7F;stroke-width:1px;stroke-linecap:butt;stroke-linejoin:miter;stroke-opacity:1\"/>\n",
       "<ellipse cx=\"286.574\" cy=\"113.561\" rx=\"8.58881\" ry=\"8.58881\" style=\"fill:#FF7F7F;fill-rule:evenoddstroke:#FF7F7F;stroke-width:1px;stroke-linecap:butt;stroke-linejoin:miter;stroke-opacity:1\"/>\n",
       "<ellipse cx=\"318.322\" cy=\"118.985\" rx=\"8.58881\" ry=\"8.58881\" style=\"fill:#FF7F7F;fill-rule:evenoddstroke:#FF7F7F;stroke-width:1px;stroke-linecap:butt;stroke-linejoin:miter;stroke-opacity:1\"/>\n",
       "<ellipse cx=\"329.499\" cy=\"149.192\" rx=\"8.58881\" ry=\"8.58881\" style=\"fill:#FF7F7F;fill-rule:evenoddstroke:#FF7F7F;stroke-width:1px;stroke-linecap:butt;stroke-linejoin:miter;stroke-opacity:1\"/>\n",
       "<ellipse cx=\"361.247\" cy=\"154.617\" rx=\"8.58881\" ry=\"8.58881\" style=\"fill:#FF7F7F;fill-rule:evenoddstroke:#FF7F7F;stroke-width:1px;stroke-linecap:butt;stroke-linejoin:miter;stroke-opacity:1\"/>\n",
       "<ellipse cx=\"381.818\" cy=\"129.834\" rx=\"8.58881\" ry=\"8.58881\" style=\"fill:#FF7F7F;fill-rule:evenoddstroke:#FF7F7F;stroke-width:1px;stroke-linecap:butt;stroke-linejoin:miter;stroke-opacity:1\"/>\n",
       "<ellipse cx=\"370.642\" cy=\"99.6275\" rx=\"8.58881\" ry=\"8.58881\" style=\"fill:#FF7F7F;fill-rule:evenoddstroke:#FF7F7F;stroke-width:1px;stroke-linecap:butt;stroke-linejoin:miter;stroke-opacity:1\"/>\n",
       "<ellipse cx=\"338.894\" cy=\"94.2031\" rx=\"8.58881\" ry=\"8.58881\" style=\"fill:#FF7F7F;fill-rule:evenoddstroke:#FF7F7F;stroke-width:1px;stroke-linecap:butt;stroke-linejoin:miter;stroke-opacity:1\"/>\n",
       "<ellipse cx=\"327.718\" cy=\"63.9964\" rx=\"8.58881\" ry=\"8.58881\" style=\"fill:#FF7F7F;fill-rule:evenoddstroke:#FF7F7F;stroke-width:1px;stroke-linecap:butt;stroke-linejoin:miter;stroke-opacity:1\"/>\n",
       "<ellipse cx=\"295.97\" cy=\"58.572\" rx=\"8.58881\" ry=\"8.58881\" style=\"fill:#FF7F7F;fill-rule:evenoddstroke:#FF7F7F;stroke-width:1px;stroke-linecap:butt;stroke-linejoin:miter;stroke-opacity:1\"/>\n",
       "<ellipse cx=\"284.793\" cy=\"28.3652\" rx=\"8.58881\" ry=\"8.58881\" style=\"fill:#FF7F7F;fill-rule:evenoddstroke:#FF7F7F;stroke-width:1px;stroke-linecap:butt;stroke-linejoin:miter;stroke-opacity:1\"/>\n",
       "<ellipse cx=\"253.045\" cy=\"22.9408\" rx=\"8.58881\" ry=\"8.58881\" style=\"fill:#FF7F7F;fill-rule:evenoddstroke:#FF7F7F;stroke-width:1px;stroke-linecap:butt;stroke-linejoin:miter;stroke-opacity:1\"/>\n",
       "<ellipse cx=\"232.474\" cy=\"47.7231\" rx=\"8.58881\" ry=\"8.58881\" style=\"fill:#FF7F7F;fill-rule:evenoddstroke:#FF7F7F;stroke-width:1px;stroke-linecap:butt;stroke-linejoin:miter;stroke-opacity:1\"/>\n",
       "<ellipse cx=\"243.65\" cy=\"77.9299\" rx=\"8.58881\" ry=\"8.58881\" style=\"fill:#FF7F7F;fill-rule:evenoddstroke:#FF7F7F;stroke-width:1px;stroke-linecap:butt;stroke-linejoin:miter;stroke-opacity:1\"/>\n",
       "<ellipse cx=\"275.398\" cy=\"83.3543\" rx=\"8.58881\" ry=\"8.58881\" style=\"fill:#FF7F7F;fill-rule:evenoddstroke:#FF7F7F;stroke-width:1px;stroke-linecap:butt;stroke-linejoin:miter;stroke-opacity:1\"/>\n",
       "<ellipse cx=\"161.363\" cy=\"177.059\" rx=\"8.58881\" ry=\"8.58881\" style=\"fill:#FF7F7F;fill-rule:evenoddstroke:#FF7F7F;stroke-width:1px;stroke-linecap:butt;stroke-linejoin:miter;stroke-opacity:1\"/>\n",
       "<ellipse cx=\"129.616\" cy=\"171.635\" rx=\"8.58881\" ry=\"8.58881\" style=\"fill:#FF7F7F;fill-rule:evenoddstroke:#FF7F7F;stroke-width:1px;stroke-linecap:butt;stroke-linejoin:miter;stroke-opacity:1\"/>\n",
       "<path d=\"M 105.482,26.0255 84.9103,50.8078\" style=\"fill:none;fill-rule:evenodd;stroke:#000000;stroke-width:2px;stroke-linecap:butt;stroke-linejoin:miter;stroke-opacity:1\"/>\n",
       "<path d=\"M 84.9103,50.8078 89.5054,63.2272\" style=\"fill:none;fill-rule:evenodd;stroke:#000000;stroke-width:2px;stroke-linecap:butt;stroke-linejoin:miter;stroke-opacity:1\"/>\n",
       "<path d=\"M 89.5054,63.2272 94.1005,75.6466\" style=\"fill:none;fill-rule:evenodd;stroke:#FF0000;stroke-width:2px;stroke-linecap:butt;stroke-linejoin:miter;stroke-opacity:1\"/>\n",
       "<path d=\"M 91.6307,86.3826 83.5728,96.0897\" style=\"fill:none;fill-rule:evenodd;stroke:#FF0000;stroke-width:2px;stroke-linecap:butt;stroke-linejoin:miter;stroke-opacity:1\"/>\n",
       "<path d=\"M 83.5728,96.0897 75.515,105.797\" style=\"fill:none;fill-rule:evenodd;stroke:#000000;stroke-width:2px;stroke-linecap:butt;stroke-linejoin:miter;stroke-opacity:1\"/>\n",
       "<path d=\"M 75.515,105.797 86.6913,136.004\" style=\"fill:none;fill-rule:evenodd;stroke:#000000;stroke-width:2px;stroke-linecap:butt;stroke-linejoin:miter;stroke-opacity:1\"/>\n",
       "<path d=\"M 75.515,105.797 43.767,100.372\" style=\"fill:none;fill-rule:evenodd;stroke:#000000;stroke-width:2px;stroke-linecap:butt;stroke-linejoin:miter;stroke-opacity:1\"/>\n",
       "<path d=\"M 86.6913,136.004 118.439,141.428\" style=\"fill:none;fill-rule:evenodd;stroke:#000000;stroke-width:2px;stroke-linecap:butt;stroke-linejoin:miter;stroke-opacity:1\"/>\n",
       "<path d=\"M 118.439,141.428 139.011,116.646\" style=\"fill:none;fill-rule:evenodd;stroke:#000000;stroke-width:2px;stroke-linecap:butt;stroke-linejoin:miter;stroke-opacity:1\"/>\n",
       "<path d=\"M 126.481,141.825 140.882,124.477\" style=\"fill:none;fill-rule:evenodd;stroke:#000000;stroke-width:2px;stroke-linecap:butt;stroke-linejoin:miter;stroke-opacity:1;stroke-dasharray:6,6\"/>\n",
       "<path d=\"M 118.439,141.428 129.616,171.635\" style=\"fill:none;fill-rule:evenodd;stroke:#000000;stroke-width:2px;stroke-linecap:butt;stroke-linejoin:miter;stroke-opacity:1\"/>\n",
       "<path d=\"M 126.157,143.724 133.98,164.869\" style=\"fill:none;fill-rule:evenodd;stroke:#000000;stroke-width:2px;stroke-linecap:butt;stroke-linejoin:miter;stroke-opacity:1;stroke-dasharray:6,6\"/>\n",
       "<path d=\"M 139.011,116.646 170.759,122.07\" style=\"fill:none;fill-rule:evenodd;stroke:#000000;stroke-width:2px;stroke-linecap:butt;stroke-linejoin:miter;stroke-opacity:1\"/>\n",
       "<path d=\"M 142.688,123.809 164.912,127.606\" style=\"fill:none;fill-rule:evenodd;stroke:#000000;stroke-width:2px;stroke-linecap:butt;stroke-linejoin:miter;stroke-opacity:1;stroke-dasharray:6,6\"/>\n",
       "<path d=\"M 170.759,122.07 181.935,152.277\" style=\"fill:none;fill-rule:evenodd;stroke:#000000;stroke-width:2px;stroke-linecap:butt;stroke-linejoin:miter;stroke-opacity:1\"/>\n",
       "<path d=\"M 166.394,128.836 174.217,149.981\" style=\"fill:none;fill-rule:evenodd;stroke:#000000;stroke-width:2px;stroke-linecap:butt;stroke-linejoin:miter;stroke-opacity:1;stroke-dasharray:6,6\"/>\n",
       "<path d=\"M 181.935,152.277 195.302,154.561\" style=\"fill:none;fill-rule:evenodd;stroke:#000000;stroke-width:2px;stroke-linecap:butt;stroke-linejoin:miter;stroke-opacity:1\"/>\n",
       "<path d=\"M 195.302,154.561 208.67,156.845\" style=\"fill:none;fill-rule:evenodd;stroke:#FF0000;stroke-width:2px;stroke-linecap:butt;stroke-linejoin:miter;stroke-opacity:1\"/>\n",
       "<path d=\"M 181.935,152.277 161.363,177.059\" style=\"fill:none;fill-rule:evenodd;stroke:#000000;stroke-width:2px;stroke-linecap:butt;stroke-linejoin:miter;stroke-opacity:1\"/>\n",
       "<path d=\"M 173.893,151.88 159.493,169.228\" style=\"fill:none;fill-rule:evenodd;stroke:#000000;stroke-width:2px;stroke-linecap:butt;stroke-linejoin:miter;stroke-opacity:1;stroke-dasharray:6,6\"/>\n",
       "<path d=\"M 218.139,152.333 226.197,142.626\" style=\"fill:none;fill-rule:evenodd;stroke:#FF0000;stroke-width:2px;stroke-linecap:butt;stroke-linejoin:miter;stroke-opacity:1\"/>\n",
       "<path d=\"M 226.197,142.626 234.255,132.919\" style=\"fill:none;fill-rule:evenodd;stroke:#000000;stroke-width:2px;stroke-linecap:butt;stroke-linejoin:miter;stroke-opacity:1\"/>\n",
       "<path d=\"M 234.255,132.919 266.003,138.343\" style=\"fill:none;fill-rule:evenodd;stroke:#000000;stroke-width:2px;stroke-linecap:butt;stroke-linejoin:miter;stroke-opacity:1\"/>\n",
       "<path d=\"M 266.003,138.343 274.061,128.636\" style=\"fill:none;fill-rule:evenodd;stroke:#000000;stroke-width:2px;stroke-linecap:butt;stroke-linejoin:miter;stroke-opacity:1\"/>\n",
       "<path d=\"M 274.061,128.636 282.118,118.929\" style=\"fill:none;fill-rule:evenodd;stroke:#0000FF;stroke-width:2px;stroke-linecap:butt;stroke-linejoin:miter;stroke-opacity:1\"/>\n",
       "<path d=\"M 291.227,114.356 304.775,116.671\" style=\"fill:none;fill-rule:evenodd;stroke:#0000FF;stroke-width:2px;stroke-linecap:butt;stroke-linejoin:miter;stroke-opacity:1\"/>\n",
       "<path d=\"M 304.775,116.671 318.322,118.985\" style=\"fill:none;fill-rule:evenodd;stroke:#000000;stroke-width:2px;stroke-linecap:butt;stroke-linejoin:miter;stroke-opacity:1\"/>\n",
       "<path d=\"M 284.588,108.193 279.993,95.7737\" style=\"fill:none;fill-rule:evenodd;stroke:#0000FF;stroke-width:2px;stroke-linecap:butt;stroke-linejoin:miter;stroke-opacity:1\"/>\n",
       "<path d=\"M 279.993,95.7737 275.398,83.3543\" style=\"fill:none;fill-rule:evenodd;stroke:#000000;stroke-width:2px;stroke-linecap:butt;stroke-linejoin:miter;stroke-opacity:1\"/>\n",
       "<path d=\"M 318.322,118.985 329.499,149.192\" style=\"fill:none;fill-rule:evenodd;stroke:#000000;stroke-width:2px;stroke-linecap:butt;stroke-linejoin:miter;stroke-opacity:1\"/>\n",
       "<path d=\"M 326.04,121.281 333.863,142.426\" style=\"fill:none;fill-rule:evenodd;stroke:#000000;stroke-width:2px;stroke-linecap:butt;stroke-linejoin:miter;stroke-opacity:1;stroke-dasharray:6,6\"/>\n",
       "<path d=\"M 318.322,118.985 338.894,94.2031\" style=\"fill:none;fill-rule:evenodd;stroke:#000000;stroke-width:2px;stroke-linecap:butt;stroke-linejoin:miter;stroke-opacity:1\"/>\n",
       "<path d=\"M 326.364,119.382 340.765,102.035\" style=\"fill:none;fill-rule:evenodd;stroke:#000000;stroke-width:2px;stroke-linecap:butt;stroke-linejoin:miter;stroke-opacity:1;stroke-dasharray:6,6\"/>\n",
       "<path d=\"M 329.499,149.192 361.247,154.617\" style=\"fill:none;fill-rule:evenodd;stroke:#000000;stroke-width:2px;stroke-linecap:butt;stroke-linejoin:miter;stroke-opacity:1\"/>\n",
       "<path d=\"M 335.346,143.656 357.569,147.453\" style=\"fill:none;fill-rule:evenodd;stroke:#000000;stroke-width:2px;stroke-linecap:butt;stroke-linejoin:miter;stroke-opacity:1;stroke-dasharray:6,6\"/>\n",
       "<path d=\"M 361.247,154.617 381.818,129.834\" style=\"fill:none;fill-rule:evenodd;stroke:#000000;stroke-width:2px;stroke-linecap:butt;stroke-linejoin:miter;stroke-opacity:1\"/>\n",
       "<path d=\"M 359.376,146.785 373.776,129.437\" style=\"fill:none;fill-rule:evenodd;stroke:#000000;stroke-width:2px;stroke-linecap:butt;stroke-linejoin:miter;stroke-opacity:1;stroke-dasharray:6,6\"/>\n",
       "<path d=\"M 381.818,129.834 370.642,99.6275\" style=\"fill:none;fill-rule:evenodd;stroke:#000000;stroke-width:2px;stroke-linecap:butt;stroke-linejoin:miter;stroke-opacity:1\"/>\n",
       "<path d=\"M 374.1,127.539 366.277,106.394\" style=\"fill:none;fill-rule:evenodd;stroke:#000000;stroke-width:2px;stroke-linecap:butt;stroke-linejoin:miter;stroke-opacity:1;stroke-dasharray:6,6\"/>\n",
       "<path d=\"M 370.642,99.6275 338.894,94.2031\" style=\"fill:none;fill-rule:evenodd;stroke:#000000;stroke-width:2px;stroke-linecap:butt;stroke-linejoin:miter;stroke-opacity:1\"/>\n",
       "<path d=\"M 364.795,105.163 342.571,101.366\" style=\"fill:none;fill-rule:evenodd;stroke:#000000;stroke-width:2px;stroke-linecap:butt;stroke-linejoin:miter;stroke-opacity:1;stroke-dasharray:6,6\"/>\n",
       "<path d=\"M 338.894,94.2031 334.299,81.7837\" style=\"fill:none;fill-rule:evenodd;stroke:#000000;stroke-width:2px;stroke-linecap:butt;stroke-linejoin:miter;stroke-opacity:1\"/>\n",
       "<path d=\"M 334.299,81.7837 329.704,69.3644\" style=\"fill:none;fill-rule:evenodd;stroke:#FF0000;stroke-width:2px;stroke-linecap:butt;stroke-linejoin:miter;stroke-opacity:1\"/>\n",
       "<path d=\"M 322.704,63.1398 309.337,60.8559\" style=\"fill:none;fill-rule:evenodd;stroke:#FF0000;stroke-width:2px;stroke-linecap:butt;stroke-linejoin:miter;stroke-opacity:1\"/>\n",
       "<path d=\"M 309.337,60.8559 295.97,58.572\" style=\"fill:none;fill-rule:evenodd;stroke:#000000;stroke-width:2px;stroke-linecap:butt;stroke-linejoin:miter;stroke-opacity:1\"/>\n",
       "<path d=\"M 295.97,58.572 284.793,28.3652\" style=\"fill:none;fill-rule:evenodd;stroke:#000000;stroke-width:2px;stroke-linecap:butt;stroke-linejoin:miter;stroke-opacity:1\"/>\n",
       "<path d=\"M 288.252,56.2762 280.428,35.1315\" style=\"fill:none;fill-rule:evenodd;stroke:#000000;stroke-width:2px;stroke-linecap:butt;stroke-linejoin:miter;stroke-opacity:1;stroke-dasharray:6,6\"/>\n",
       "<path d=\"M 295.97,58.572 275.398,83.3543\" style=\"fill:none;fill-rule:evenodd;stroke:#000000;stroke-width:2px;stroke-linecap:butt;stroke-linejoin:miter;stroke-opacity:1\"/>\n",
       "<path d=\"M 287.927,58.175 273.527,75.5226\" style=\"fill:none;fill-rule:evenodd;stroke:#000000;stroke-width:2px;stroke-linecap:butt;stroke-linejoin:miter;stroke-opacity:1;stroke-dasharray:6,6\"/>\n",
       "<path d=\"M 284.793,28.3652 253.045,22.9408\" style=\"fill:none;fill-rule:evenodd;stroke:#000000;stroke-width:2px;stroke-linecap:butt;stroke-linejoin:miter;stroke-opacity:1\"/>\n",
       "<path d=\"M 278.946,33.9012 256.723,30.1041\" style=\"fill:none;fill-rule:evenodd;stroke:#000000;stroke-width:2px;stroke-linecap:butt;stroke-linejoin:miter;stroke-opacity:1;stroke-dasharray:6,6\"/>\n",
       "<path d=\"M 253.045,22.9408 232.474,47.7231\" style=\"fill:none;fill-rule:evenodd;stroke:#000000;stroke-width:2px;stroke-linecap:butt;stroke-linejoin:miter;stroke-opacity:1\"/>\n",
       "<path d=\"M 254.916,30.7725 240.516,48.1201\" style=\"fill:none;fill-rule:evenodd;stroke:#000000;stroke-width:2px;stroke-linecap:butt;stroke-linejoin:miter;stroke-opacity:1;stroke-dasharray:6,6\"/>\n",
       "<path d=\"M 232.474,47.7231 243.65,77.9299\" style=\"fill:none;fill-rule:evenodd;stroke:#000000;stroke-width:2px;stroke-linecap:butt;stroke-linejoin:miter;stroke-opacity:1\"/>\n",
       "<path d=\"M 240.192,50.0189 248.015,71.1636\" style=\"fill:none;fill-rule:evenodd;stroke:#000000;stroke-width:2px;stroke-linecap:butt;stroke-linejoin:miter;stroke-opacity:1;stroke-dasharray:6,6\"/>\n",
       "<path d=\"M 243.65,77.9299 275.398,83.3543\" style=\"fill:none;fill-rule:evenodd;stroke:#000000;stroke-width:2px;stroke-linecap:butt;stroke-linejoin:miter;stroke-opacity:1\"/>\n",
       "<path d=\"M 249.497,72.394 271.721,76.191\" style=\"fill:none;fill-rule:evenodd;stroke:#000000;stroke-width:2px;stroke-linecap:butt;stroke-linejoin:miter;stroke-opacity:1;stroke-dasharray:6,6\"/>\n",
       "<path d=\"M 161.363,177.059 129.616,171.635\" style=\"fill:none;fill-rule:evenodd;stroke:#000000;stroke-width:2px;stroke-linecap:butt;stroke-linejoin:miter;stroke-opacity:1\"/>\n",
       "<path d=\"M 157.686,169.896 135.463,166.099\" style=\"fill:none;fill-rule:evenodd;stroke:#000000;stroke-width:2px;stroke-linecap:butt;stroke-linejoin:miter;stroke-opacity:1;stroke-dasharray:6,6\"/>\n",
       "<path d=\"M 41.2888,98.3153 33.231,108.022\" style=\"fill:none;fill-rule:evenodd;stroke:#000000;stroke-width:2px;stroke-linecap:butt;stroke-linejoin:miter;stroke-opacity:1\"/>\n",
       "<path d=\"M 33.231,108.022 25.1731,117.73\" style=\"fill:none;fill-rule:evenodd;stroke:#FF0000;stroke-width:2px;stroke-linecap:butt;stroke-linejoin:miter;stroke-opacity:1\"/>\n",
       "<path d=\"M 46.2453,102.43 38.1874,112.137\" style=\"fill:none;fill-rule:evenodd;stroke:#000000;stroke-width:2px;stroke-linecap:butt;stroke-linejoin:miter;stroke-opacity:1\"/>\n",
       "<path d=\"M 38.1874,112.137 30.1296,121.844\" style=\"fill:none;fill-rule:evenodd;stroke:#FF0000;stroke-width:2px;stroke-linecap:butt;stroke-linejoin:miter;stroke-opacity:1\"/>\n",
       "<path d=\"M 43.767,100.372 39.172,87.9531\" style=\"fill:none;fill-rule:evenodd;stroke:#000000;stroke-width:2px;stroke-linecap:butt;stroke-linejoin:miter;stroke-opacity:1\"/>\n",
       "<path d=\"M 39.172,87.9531 34.5769,75.5337\" style=\"fill:none;fill-rule:evenodd;stroke:#FF0000;stroke-width:2px;stroke-linecap:butt;stroke-linejoin:miter;stroke-opacity:1\"/>\n",
       "<text style=\"font-size:10px;font-style:normal;font-weight:normal;fill-opacity:1;stroke:none;font-family:sans-serif;text-anchor:start;fill:#FF0000\" x=\"91.0731\" y=\"86.3826\"><tspan>O</tspan></text>\n",
       "<text style=\"font-size:10px;font-style:normal;font-weight:normal;fill-opacity:1;stroke:none;font-family:sans-serif;text-anchor:start;fill:#FF0000\" x=\"208.67\" y=\"163.069\"><tspan>O</tspan></text>\n",
       "<text style=\"font-size:10px;font-style:normal;font-weight:normal;fill-opacity:1;stroke:none;font-family:sans-serif;text-anchor:start;fill:#0000FF\" x=\"281.922\" y=\"118.929\"><tspan>N</tspan></text>\n",
       "<text style=\"font-size:10px;font-style:normal;font-weight:normal;fill-opacity:1;stroke:none;font-family:sans-serif;text-anchor:start;fill:#FF0000\" x=\"322.704\" y=\"69.3644\"><tspan>O</tspan></text>\n",
       "<text style=\"font-size:10px;font-style:normal;font-weight:normal;fill-opacity:1;stroke:none;font-family:sans-serif;text-anchor:start;fill:#FF0000\" x=\"18.1818\" y=\"130.523\"><tspan>O</tspan></text>\n",
       "<text style=\"font-size:10px;font-style:normal;font-weight:normal;fill-opacity:1;stroke:none;font-family:sans-serif;text-anchor:start;fill:#FF0000\" x=\"22.9245\" y=\"75.5337\"><tspan>OH</tspan></text>\n",
       "</svg>"
      ],
      "text/plain": [
       "<IPython.core.display.SVG object>"
      ]
     },
     "execution_count": 5,
     "metadata": {},
     "output_type": "execute_result"
    }
   ],
   "source": [
    "drawer = rdMolDraw2D.MolDraw2DSVG(400, 200)\n",
    "drawer.DrawMolecule(mol, highlightAtoms=mol.GetSubstructMatch(scaf))\n",
    "drawer.FinishDrawing()\n",
    "svg = drawer.GetDrawingText().replace('svg:', '')\n",
    "SVG(svg)"
   ]
  },
  {
   "cell_type": "markdown",
   "metadata": {},
   "source": [
    "# Day 2"
   ]
  },
  {
   "cell_type": "code",
   "execution_count": 6,
   "metadata": {
    "collapsed": true
   },
   "outputs": [],
   "source": [
    "from rdkit.Chem.rdmolfiles import SDWriter\n",
    "import os\n",
    "base = os.path.expanduser('~/GoogleDrive/Bonn/MMDDLabCourse/')"
   ]
  },
  {
   "cell_type": "code",
   "execution_count": 7,
   "metadata": {
    "collapsed": false
   },
   "outputs": [
    {
     "data": {
      "image/png": "[encoded data removed]",
      "text/plain": [
       "<rdkit.Chem.rdchem.Mol at 0x10dd70210>"
      ]
     },
     "execution_count": 7,
     "metadata": {},
     "output_type": "execute_result"
    }
   ],
   "source": [
    "m = Chem.MolFromSmiles(mol_smiles)\n",
    "m"
   ]
  },
  {
   "cell_type": "code",
   "execution_count": 8,
   "metadata": {
    "collapsed": false
   },
   "outputs": [
    {
     "data": {
      "image/png": "[encoded data removed]",
      "text/plain": [
       "<rdkit.Chem.rdchem.Mol at 0x10dd70300>"
      ]
     },
     "execution_count": 8,
     "metadata": {},
     "output_type": "execute_result"
    }
   ],
   "source": [
    "m = Chem.AddHs(m)\n",
    "AllChem.EmbedMolecule(m)\n",
    "m"
   ]
  },
  {
   "cell_type": "code",
   "execution_count": 9,
   "metadata": {
    "collapsed": false
   },
   "outputs": [
    {
     "data": {
      "text/plain": [
       "261.6807625643878"
      ]
     },
     "execution_count": 9,
     "metadata": {},
     "output_type": "execute_result"
    }
   ],
   "source": [
    "mmff_props = AllChem.MMFFGetMoleculeProperties(m)\n",
    "ff = AllChem.MMFFGetMoleculeForceField(m, mmff_props)\n",
    "start_energy = ff.CalcEnergy()\n",
    "start_energy"
   ]
  },
  {
   "cell_type": "code",
   "execution_count": 10,
   "metadata": {
    "collapsed": false
   },
   "outputs": [
    {
     "name": "stdout",
     "output_type": "stream",
     "text": [
      "Optimize exit code: 0\n",
      "155.6612620718\n"
     ]
    },
    {
     "data": {
      "image/png": "[encoded data removed]",
      "text/plain": [
       "<rdkit.Chem.rdchem.Mol at 0x10dd70300>"
      ]
     },
     "execution_count": 10,
     "metadata": {},
     "output_type": "execute_result"
    }
   ],
   "source": [
    "optimize_exit_code = AllChem.MMFFOptimizeMolecule(m, maxIters=1000)\n",
    "print('Optimize exit code: {}'.format(optimize_exit_code))\n",
    "end_energy = ff.CalcEnergy()\n",
    "print(end_energy)\n",
    "m"
   ]
  },
  {
   "cell_type": "code",
   "execution_count": 11,
   "metadata": {
    "collapsed": false
   },
   "outputs": [],
   "source": [
    "with open(os.path.join(base, 'example.sdf'), 'w') as f:\n",
    "    writer = SDWriter(f)\n",
    "    writer.write(m)\n",
    "    writer.close()"
   ]
  },
  {
   "cell_type": "markdown",
   "metadata": {},
   "source": [
    "Create molecules for each, optimize, and show energies under MMFF force field before and after"
   ]
  },
  {
   "cell_type": "code",
   "execution_count": 12,
   "metadata": {
    "collapsed": true
   },
   "outputs": [],
   "source": [
    "from rdkit.Chem import PandasTools"
   ]
  },
  {
   "cell_type": "code",
   "execution_count": null,
   "metadata": {
    "collapsed": true
   },
   "outputs": [],
   "source": [
    "res = []\n",
    "\n",
    "with open(os.path.join(base, 'molecules.tsv')) as f:\n",
    "    for line in f:\n",
    "        name, smiles = line.strip().split('\\t')\n",
    "        m = Chem.MolFromSmiles(smiles)\n",
    "        murcko = MurckoScaffold.GetScaffoldForMol(m)\n",
    "        \n",
    "        m = Chem.AddHs(m)\n",
    "        AllChem.EmbedMolecule(m)\n",
    "        \n",
    "        with open(os.path.join(base, 'exercise1', '{}_init.sdf'.format(name)), 'w') as f:\n",
    "            writer = SDWriter(f)\n",
    "            writer.write(m)\n",
    "            writer.close()\n",
    "            \n",
    "        mmff_props = AllChem.MMFFGetMoleculeProperties(m)\n",
    "        ff = AllChem.MMFFGetMoleculeForceField(m, mmff_props)\n",
    "        start_energy = ff.CalcEnergy()\n",
    "        \n",
    "        optimize_exit_code = AllChem.MMFFOptimizeMolecule(m, maxIters=1000)\n",
    "        end_energy = ff.CalcEnergy()\n",
    "        \n",
    "        with open(os.path.join(base, 'exercise1', '{}_opt.sdf'.format(name)), 'w') as f:\n",
    "            writer = SDWriter(f)\n",
    "            writer.write(m)\n",
    "            writer.close()\n",
    "            \n",
    "        res.append((name, m, murcko, start_energy, end_energy, optimize_exit_code))\n",
    "\n",
    "cols = 'name', 'smiles', 'murko', 'start energy', 'final energy', 'exit code'"
   ]
  },
  {
   "cell_type": "code",
   "execution_count": 14,
   "metadata": {
    "collapsed": true
   },
   "outputs": [],
   "source": [
    "from IPython.display import Image, HTML"
   ]
  },
  {
   "cell_type": "code",
   "execution_count": 17,
   "metadata": {
    "collapsed": false
   },
   "outputs": [
    {
     "name": "stderr",
     "output_type": "stream",
     "text": [
      "RDKit WARNING: [16:54:03] WARNING: bond found with stereo spec but no stereo atoms\n"
     ]
    },
    {
     "data": {
      "text/html": [
       "<table border=\"1\" class=\"dataframe\">\n",
       "  <thead>\n",
       "    <tr style=\"text-align: right;\">\n",
       "      <th></th>\n",
       "      <th>name</th>\n",
       "      <th>smiles</th>\n",
       "      <th>murko</th>\n",
       "      <th>start energy</th>\n",
       "      <th>final energy</th>\n",
       "      <th>exit code</th>\n",
       "    </tr>\n",
       "  </thead>\n",
       "  <tbody>\n",
       "    <tr>\n",
       "      <th>0</th>\n",
       "      <td>atropine</td>\n",
       "      <td><img src=\"data:image/png;base64,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\" alt=\"Mol\"/></td>\n",
       "      <td><img src=\"data:image/png;base64,iVBORw0KGgoAAAANSUhEUgAAAMgAAADICAIAAAAiOjnJAAAE+ElEQVR4nO3c23aiSABAUZ01///LzoMZ2/ZCUOoAMXs/2emkQD0WF9Hj6XQ6wGj/bL0CfCZhkRAWCWGREBYJYZEQFglhkRAWCWGREBYJYZEQFglhkRAWCWGREBYJYZEQFglhkRAWCWGREBYJYZEQFglhkRAWCWGREBYJYZEQFglhkRAWCWGREBYJYZEQFglhkRAWCWGREBYJYZEQFglhkRAWCWGREBYJYZEQFglhkRAWCWGREBYJYZEQFglhkRAWCWGREBYJYZEQFglhkRAWCWGREBYJYZEQFglhkRAWCWGREBYJYZEQFglhkRAWCWGR+AFhHY/HrVeBl+06rOPxeDweT6fT+cbwwccOyLV/t16Bp85JnW+fb1z/pFje4f+FVYv4Tcqn6l3nueThik381/zBL3/+5/bx+Ken69uB5XfhR9jdjDU9LS2fus4b1ll/Prqw66Q+Pq8dhTX/sT7HMfOXvx3n6SCn09f2cfHTf7+2a2zc+/En7CKsNyp59XV/s8c29xG/31C+aHoNR71CJpa71dS4/T7W8lfVzBFufu3yz68b0zvvr09dLz2jA6eWh8tdf+raMqyBL6ZnQz3eVV+wmDltvXe/hhyXTIyw8tS1WVjFa+h+zGez1JJFHMonb2yU3z4gnQ3CSl8694OvVvBh3J2av87fLvfhAzL9J0Osvuld5RWzwlLqveM3ipkeLX0l3Fv7qHDD45ThLkeXxbtDE+cj3juIvvmr+nzHBqcbPukMYb3+N0EsedAeltS9zlcKa+IM4eHn55Ua+0Ddn8OLpq6Vwpo4Q3h45yTRbzTqiX84Sw2futrLZmbufJxOX2+fuJJljuW7dKfT6X7X8OEP39aG9dKKymtlp+ZCt7MkrCXrKq81jZ2lriVhXa/ru4cwdrnWUxw87frS5MPhr3nrfHsnM5nspw0L635PcNQE++ow67+TL7J7w8J6eJQxaOTbtuyB7d/SsK5jSo8yrtkD27+lYd1MVNFRxv2ktbEVP3xxGH5V2SoGbAq7jeDfYw4fklC18z7K/TXDCvsRRp5u8Nnin27gdnZMWPvZ6q8U9/X93c1935WRM9bmeZky9yM8jzXES4dcm5fNxd7f0pnDRLVDgzeFmz/H19dbsqH9z1hPE7m+gGKDks7vK62+3OjjQMMNDmvN5/jZstaYtM67fpdrx36m8/tvn/MpncLNZwQ+bC9++AXpK3yGZfymsJ607t/2vtzuFrq5UW/CXmapZx9XHGXXM9acifqze7qxcOp69ngWE1i1iR2y8b79pqGhgy+16XeWvvoITHxryMOfL7frGetij7tQm67D/Klr/aS+xg+HXjCv/JI9p+Um+tgqqbO9zFgrXNH1kZ59QH7Ut4m8bbMvV1XSWPU3wr1qvRlLSamJqeuwxaO90heUHZS0lvob4eauhuf7I21+Rmb/b0Lzjs3nC2GREBYJYZEQFglhkRAWCWGREBYJYZEQFglhkRAWCWGREBYJYZEQFglhkRAWCWGREBYJYZEQFglhkRAWCWGREBYJYZEQFglhkRAWCWGREBYJYZEQFglhkRAWCWGREBYJYZEQFglhkRAWCWGREBYJYZEQFglhkRAWCWGREBYJYZEQFglhkRAWCWGREBYJYZEQFglhkRAWCWGREBYJYZEQFglhkRAWCWGREBYJYZEQFglhkRAWCWGREBYJYZEQFon/ACvz5jbVUfvqAAAAAElFTkSuQmCC\" alt=\"Mol\"/></td>\n",
       "      <td>250.062669</td>\n",
       "      <td>216.776616</td>\n",
       "      <td>0</td>\n",
       "    </tr>\n",
       "    <tr>\n",
       "      <th>1</th>\n",
       "      <td>berberine</td>\n",
       "      <td><img src=\"data:image/png;base64,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\" alt=\"Mol\"/></td>\n",
       "      <td><img src=\"data:image/png;base64,iVBORw0KGgoAAAANSUhEUgAAAMgAAADICAIAAAAiOjnJAAAFNklEQVR4nO3dwXKjSBAA0WZi/v+XmQO2RsZIltWVTRWdL/bgjbBXCFIFAqRd1nVtUrQ/Zy+ArsmwhDAsIQxLCMMSwrCEMCwhDEsIwxLCsIQwLCEMSwjDEsKwhDAsIQxLCMMSwrCEMCwhDEsIwxLCsIQwLCEMSwjDEsKwhDAsIQxLCMMSwrCEMCwhDEsIwxLCsIQwLCEMSwjDEsKwhDAsIQxLCMMSwrCEMCwhDEsIwxLCsIQwLCEMSwjDEsKwhDAsIQxLCMMSwrCEMCwhDEsIwxLCsIQwLCEMSwjDEsKwhDAsIQxLiL9nL4AAy/Lxw7qetQjnh7Xc1sID63lrp6Rl+d/T7edtJQ9ck3hY/d0sy2JbvYbnNWJimUUWA/NiwwoZNuu6OrQifea1fPwbsmLPP8Y6ZEnv2I6o1vWlg/fP9bsFFr62we23i+O3rXT++XTuj9nf+evgvAadx+rPYtshRi3P1fRV1Vpb13Vbw1ErmQrLksbpruqm2MR6O7JdW6Z2IK6qWEhYHg8NkrWqNmBidUbm0HpkSVxVI8IKH1fG9F3+fQI7sYjnb2clBId1X1JgVe4Q76HjKuq/m/TM+8yucbtHZFjQuNrsrhiWvoD4PJ1r3O5RaWKVjmnnGs/iibCw0HF1KORIa/wGjromgSx53CmMShOrfV2nISs34Qh88mopdCQQE9bIcZV5bf5ot6IOf6f0E7wJi2DwC6jn4U68ISf2seKXPG5XOOPHv846K1bgmkTCuxtGnrRMfnihFjuxCp0QHz+0oBdD2nVeb1cYtYW8TIQKDsvNc4i9updyncdPLPR5xm6hywytmCVflo9/IhQ7QVpR3rca959cPfxgfgfkGAt66Q+4u+v6Q+s2lm4fQmQ4sdj7JkaOq0dL/vGZwc9fGrMwVFjhF7Py7lBS2o3hExYAfdTXa/jxwhkdFnGdZ9iL4fslyHceN/RbtYbuCl+5bv/oD+ktVHeHGHYHQOgSsmF931roww32+j3E+e9yCTfi2Xau0xPvPgi8hxh6FuPvr3xRlneFSd7kc7fTzDa0xh1dPv+F04+xoAdF7/1KO67asImV6jm/IvZSd7mn36/G3Q2DT4hzKQQ+kczjqlUJq81wseU3Epa0UyasYegrkuGd5YysUlijhlb2T0TmLGmnUliNb4v7zqlCd3yEKBbWZbzdWdqSduqFxQ0t+ivywu/9yhxZvbBKm+HoalMyLOYN/Anf6PnbJ3LWB7jfUDKsBrQ1bBt93yEOeuCxslyE7vQgsoNtlmE79l/nST6uWumw7jdP8rX8nqJXGjbZw/9R/tfuI513fCRXeGKVVvf18KLyYT09in+45dY1/BOa+qJ8WK1jl3HY04DILj+uWt3TDSHWu/8XqWJdYWJFGRPZDOOqTT6x2tehRX6VwXRmD6u1L4fwtEnGVZs5rPvtu/28e6uoHvOGNd4846oZ1g73PnGqqpphCWJYe8TQmm1cNcN6wNOmvQzrQOxdhBOOq2ZYghjWsaihNee4aob1RN1vi8jAi9Bdrn0XaI9JB/XrOr8tclqGJYTHWEIYlhCGJYRhCWFYQhiWEIYlhGEJYVhCGJYQhiWEYQlhWEIYlhCGJYRhCWFYQhiWEIYlhGEJYVhCGJYQhiWEYQlhWEIYlhCGJYRhCWFYQhiWEIYlhGEJYVhCGJYQhiWEYQlhWEIYlhCGJYRhCWFYQhiWEIYlhGEJYVhCGJYQhiWEYQlhWEIYlhCGJYRhCWFYQhiWEIYlhGEJYVhCGJYQhiWEYQlhWEIYlhCGJcQ/aKQWZaHP07EAAAAASUVORK5CYII=\" alt=\"Mol\"/></td>\n",
       "      <td>201.021157</td>\n",
       "      <td>105.813492</td>\n",
       "      <td>0</td>\n",
       "    </tr>\n",
       "    <tr>\n",
       "      <th>2</th>\n",
       "      <td>bis-phenylamidine</td>\n",
       "      <td><img src=\"data:image/png;base64,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\" alt=\"Mol\"/></td>\n",
       "      <td><img src=\"data:image/png;base64,iVBORw0KGgoAAAANSUhEUgAAAMgAAADICAIAAAAiOjnJAAAEFElEQVR4nO3cQW7bQBQE0c/A97+ysqBgCMOs5OmmnKp3AEeISz00Tet4PB4j7fbn7heg/5NhKcKwFGFYijAsRRiWIgxLEYalCMNShGEpwrAUYViKMCxFGJYiDEsRhqUIw1KEYSnCsBRhWIowLEUYliK+7n4Bn+I4ji1fxz+nOxnWzMxxHLuC2PilfjWPQkUY1uaNeTweu07VX82wVm9kYUlX9LCWuXpvvZaVcrTGsBSCDmvLXJ0crQU3rPR9AXhb3LAWP+8MXtICGtbGQ/CVB+I3aFhKI4YVmquTo3XChdX/XR6zLVxYi0RnzJIWrLCih+ArD0RWWKoBhVWbqxN8tEBhqYkSVnmuTuTRAj1He/tDw7e/gCbKYqkMFNa9JxFqrgYVlppYYd01WrS5GlpYqsGF1R8t4FwNMKzptsWsaphhqQAaVme0sHM12LCUxg0rPVrkuRpyWJNsC17VwMNSDv2NNf96ouaNL9J/JufD+Yl+K5vYwqNw85WWc3UyLEX49nryU5P38hprxvMrwKNQEYblXEUYliLoYTlXIfSwFIIOy7nK4YZlVVHcsBQFDcu5SoOGpTRiWM5VAS4sq+rAhaUOVljOVQ0rLNWAwnKumkBhqYkSlnNVRgkL9VHYn4ASlspAYTlaTaCw1MQKy9GqYYWlGlxYjlYHLqyxrQpiWCqAhuVopUHDUho3LEcrihvW2FYSOizl0MNytELoYSnEsBytCMNShGHNOFoBhjXjE/EBhqUIw3KuIgxLEfSwnKsQelgKQYflXOWgw1IONyznKooblqKgYTlXacSwrKqAGJYKcGE5Vx24sNTBCsu5qmGFpRpQWM5VEygsNVHCcq7KKGH55xJllLBUBgrL0WoChaUmVliOVg0rLNXgwnK0OnBhjW1VEMNSATQsRysNGpbSuGE5WlHcsMa2ktBhKYcelqMVQg9LIYblaEUYliJ8YPdp12j5/3n6uvsFfISNT8T7cP3Jo1ARhrV5Y/xR4ORRuHovC4+/Bf2CIHRJ5JWWR6Ei0GHldsUrLW5Y6dMK3hY3LEVBw+pcXJNHCxqW0ohhNe8FYEcLF1b/DhOzLVxY6mCFddcNceBoscJSDSise39/RxstUFhqooS1zFVtPF7/IdRoUcJavqmd7/G1Zs6zNJSwVAYKqzxa5LkaVFhqYoVVGy34XA0trKtEW8CMrnBh9X/mZ3aGC2vCB6KH4IkYlgqgYYVGy7n6Bg3r6udtkTO64oZVvkFKww1rth6IHoILdFjKoYe1ZbScqyt6WFdvNGFGV4aVvUGKZViK8O315Kcm72VYivAoVIRhKcKwFGFYijAsRRiWIgxLEYalCMNShGEpwrAUYViKMCxFGJYiDEsRhqUIw1KEYSnCsBRhWIowLEUYliL+AhfMHZ6MoDI0AAAAAElFTkSuQmCC\" alt=\"Mol\"/></td>\n",
       "      <td>159.051709</td>\n",
       "      <td>-8.752961</td>\n",
       "      <td>0</td>\n",
       "    </tr>\n",
       "    <tr>\n",
       "      <th>3</th>\n",
       "      <td>estradiol</td>\n",
       "      <td><img src=\"data:image/png;base64,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\" alt=\"Mol\"/></td>\n",
       "      <td><img src=\"data:image/png;base64,iVBORw0KGgoAAAANSUhEUgAAAMgAAADICAIAAAAiOjnJAAAFQUlEQVR4nO3cwZKjOBAAUdiY//9l9kCEgwDaTYOyVCXynWYOY4xIhIzxzMuyTFJr//V+AxqTYQlhWEIYlhCGJYRhCWFYQhiWEIYlhGEJYVhCGJYQhiWEYQlhWEIYlhCGJYRhCWFYQhiWEIYlhGEJYVhCGJYQhiWEYQlhWEIYlhCGJYRhCWFYQhiWEIYlhGEJYVhCGJYQhiWEYQlhWEIYlhCGJYRhCWFYQhiWEIYlhGEJYVhCGJYQhiWEYQlhWEIYlhCGJYRhCWFYQhiWEIYlhGEJYVhCGJYQhiWEYQlhWEL86/0GxjfP8/avy7L0eieRDOtHaxDXO9gF9LF7hXme39CWYf3imNfFgF7uFWfPE8eMno/YGyYtF++/WJaleQTLsvw07Q3DsC755NUqsuHbMqxzp0d9+OtXQ4Z1bp1R0Ell7Elr/FXkQ3+96XDj9Yc8BLlmrIRn8Lq64t7YqPNWorDW8c0wyseL4JCTCirLPJzwQNIXwd22MuxyQylmrAyz1BF9EdxtK+cg3Nb5RPkymoOdwVeMNG91m7HWdcyXcex1BtN3GV6izynySerXQ9jrDI5cYO22O8akFb0bpwfse15jDPR1Y7QVug9fhszF1laTtrZDGj+GQc9j/Xpl+XJlDDuDe13+HrryfFj8LIhvD3oOk5Mkr2MKT0ZmtLBu748PF0ytbxoHt0Vt7Pl5b1vNU4hsC9lSwx0I+6rns6Ek7baa7Hv9lKPx4r35AmX3XQc3Lkl6uqLE3ZnGU0vAjIJuJYnd+VNxsdVmG0Hv9TVt0eMZcLxSPN1w0fYHM02+zps3nr9aKwFHPeBhino/WL0xKDlvIY6t5Ror/mvHhrcQT18wXugdAXJb9Wasj+PU1T2LWtYBhAatcFir5rc2OtYZv3Vulyst3neIERnvEeFeCocFeVtb0P42Cyv4eKBXjS5tdbwKE/vrjKVpAtoqGdYYtxC3MtzpaKtkWDFcbD3RMqyYIxF5co+3R6db//y54f46YwlRLKxetxC51+8+XUFfmBYLq4u3LbaaMKxLoLZGna6m5mGhJ3ffw9Bq1748BDbSvFj+S+i0Lj7Dsz1bIr8FR6erqVBYGW4hnh74hw+B7V6z+xMWrZQJK4kxHgKjp6upSlh5TmLix0hDTlrtPxX64fyG3aBFjuF7H/TLc/qiv50MaytmPKlL4XFQksRRSOlrIhLW6VhcOf+O/zDPyAZcmwJKCli2r+IW71d2IO3iLOyNDbOQL/CmM4xs8P9FA80rYdPVVGLx3v1jZvd5tPsI3FAgrBc6vQ37sK3I6WqqElbHU7bXdivOUls1wppyDHTfZwwfjkDw/4BSJqypR1vdU97JcHZdVCmsYBkOIfGdd+0775C693Vua7LLHX7YXfEgBbSV7Supi7v88OGwhorNWKsXzls7eQL6ScmwaBlWVzvHT4gd38wVhc97aNLKPxmUUPhTYeRnb6v6q8JhTUBbCS+CRdUOS2mVD6vhpOV01VD5sCZ+seUC64ZBbjf86c7W9d8oN3hnbzVIWKee/0b5y4vou8L3sY4G+I3yMIYKS3mMsHhXQoYlhGEJYVhCGJYQhiWEYQlhWEIYlhCGJYRhCWFYQhiWEIYlhGEJYVhCGJYQhiWEYQlhWEIYlhCGJYRhCWFYQhiWEIYlhGEJYVhCGJYQhiWEYQlhWEIYlhCGJYRhCWFYQhiWEIYlhGEJYVhCGJYQhiWEYQlhWEIYlhCGJYRhCWFYQhiWEIYlhGEJYVhCGJYQhiWEYQlhWEIYlhCGJYRhCWFYQhiWEIYlhGEJ8T+nRw2HIxrXCgAAAABJRU5ErkJggg==\" alt=\"Mol\"/></td>\n",
       "      <td>110.395442</td>\n",
       "      <td>84.678068</td>\n",
       "      <td>0</td>\n",
       "    </tr>\n",
       "    <tr>\n",
       "      <th>4</th>\n",
       "      <td>fumagillin</td>\n",
       "      <td><img src=\"data:image/png;base64,iVBORw0KGgoAAAANSUhEUgAAAMgAAADICAIAAAAiOjnJAAAHdElEQVR4nO3dbZKjKgCFYbg1O4Zl4Jq5P0gIjUg0cvxI3qe6puyMUZOcAALaNsZogNH+O/sA8J0IFiQIFiQIFiQIFiQIFiQIFiQIFiQIFiQIFiQIFiQIFiQIFiQIFiQIFiQIFiQIFiQIFiQIFiQIFiQIFiQIFiQIFiQIFiQIFiQIFiQIFiQIFiQIFiQIFiQIFiQIFiQIFiQIFiQIFiQIFiQIFiQIFiQIFiQIFiQIFiQIFiQIFiQIFiQIFiQIFiQIFiQIFiQIFiQIFiQIFiQIFiQIFiQIFiQIFiQIFiQIFiQIFiQIFiQIFiQIFiQIFiQIFiQIFiRGBmuapuby1nXwBSixIPFv1IZS8dMpqJxz5Zr4boNLLOdcGSBrrbW2TFVep3wE32dwsKZpygVSik4IgQz9IGGJlR8ZuwvcQxwkhDBfHrh93Iv2rDDGaK2V7gLXZGOM2h1Y+S5wQfRjQYJgQYJgQYJgQUIeLE4MfxMlFiSEwaKg+mXDglVNtMrdV2mhEzJmaH2lg6pCWlq/Zth8LFOUN977srha/0R8j1GDjuUgdN5stf3y17x+c/QadyepCkMI5m9xlcqkEEJz6h++j7CNleJVcs6lqJGqryecemCtLbNVTlkmWHKdU6VDJpuMbLzPcQHFmZoBOurc/ISe97sUVzfoYLN28cdsztA0Tfkp+1+vtsTCXm9rtE6xFGM5+tFo81hrjJmezRXn/cBa8qBg3aWUqhxRUO2Jzrst27+/1ltIJ1LP5XRd6PvNriMMVozxQvOS89u65XgOaiPubgyV50PW2rQ5a0x8/vvaUXezA1/vb8xuSN/O9DOo9bqtBdZvDK2WugDT7lJ5lB7x3tunfCYeY0z1nzVm7Gtf4+g2VnWt/U2ryE9sL5ZS2VNVaN57Y4xLubF2zfXA51Qa0n79+fbPGcApD2PLS+4cYfhrwwFUjy988I+nGNN+x57rzD/HEMJjs0s/1d41GRBWhZ0bhJRX4s9Xvui5/Ux1E4qth52Lolx/leEo18zvWK7yzDOOzfWNMa+qf77cXGe0E7obTug1LZsX5fv4PDNa4r1fX1k759JnX5VA8xot5SCEYLw3xe0tlt6Q6pYqjyPPLyGd2Xn/WKF68tJrV1MUg9V3qHo8L5uiHF5Vs6wp3ldqzb/Y9OZ06vTGRpZrtNja46M6G/uSjyU5vqU3Os6C9eetXHh6uaFtj/etiNFnXzzzt55KD5Vfm9ceVzSGbjqtaG+wNr3s8iNsfEffbmdosPplUv6vrdlqP7FTYs0fvFWAlhzaj5X3WjY4zpqyHLsNjnyQcdCkaud97rt6LZcrzBtSdzYgWB+c5cVZ4+aUt7XflN2TrXrIIcYphHwWVi5/cNi3MCBY2279+FGPc2lYx8S7U0KzPVKdIawvK5DeEnY3ND714rOM1l5oJHFZfI549o+Wa5AqwmDp+qvGbHB1ppvZqpKUH0/jVNf/wsiJTgrengTFD/a+rlNHdHplWiezTV9wTrffrWY3zFq+r+Ujdh5N0WvQWfMXmlBvHd7KKYYXPmtjVXOPzKzjoKooB37MvzUdY6fTysodey+nHDX/t7l8vOscyfHOrArjR32PqUCKcV9Ju7vXA33nXUyxZkJja1g+TSJIDy6dmmXee/cc9n9tp+zBWtGbtcddpgCNd26B2TuGakpajHE28ai5tfcvsLVlhV+uCk++/CvGaBba4JX01XfOpbm5zZWrB2/RAfutLtHdkDKe50aa1rhNGjVKWTk4Lnec3Xq6E4JVBqg0j9f8WWMilZp36UeZ0V8bHyydUBX2w5F6uK213piQyirvbetZr14la6cQtl3IuzFPFFRbHResVeXNswhJ08Dtc0J374npKdP0KIc0JRB3N9lqTFXYaYXkX9Nd16oHywU7i8Wjad/d7xTC0ocdufHpeVRtrDz1z3ufP/j5J506pcoLoZLyOqcO55zbciENDjOmObw0PJcuhzLGxBiHD+E92ljphhbFcrkOPQ5nGdbGarZCch9BZ51NGkFJTasQ1Kd42OSI7oZRbZ0qVa8yL0bnHKm6lOP+gMDYjaxJarp0nfO4c6jHjNaMl30wptY58vlL457yx7vEkE5TpwujuoO8/Su/trw+p43HO6KDdE1ltKnCKkNTjkmvmeFJzXiMI4K15mSwuU4/BPmvXbxdc+vBYL9L3zW5H4I844+sXNB121g7MdflXJdoY308veQ1TXn1+p/tCFvJRzzOuput7iIwrHHpNtZOtL1O9LVtLJxLHiyaNT/qpB7/XRiZuT6qQkjctfFOe/zi7hoszvgujqoQEgQLElxrAAlKLEgQLEgQLEgQLEgQLEgQLEgQLEgQLEgQLEgQLEgQLEgQLEgQLEgQLEgQLEgQLEgQLEgQLEgQLEgQLEgQLEgQLEgQLEgQLEgQLEgQLEgQLEgQLEgQLEgQLEgQLEgQLEgQLEgQLEgQLEgQLEgQLEgQLEgQLEgQLEgQLEgQLEgQLEgQLEgQLEgQLEgQLEgQLEgQLEgQLEgQLEgQLEgQLEgQLEgQLEgQLEgQLEgQLEj8D/15+LkEAaNbAAAAAElFTkSuQmCC\" alt=\"Mol\"/></td>\n",
       "      <td><img src=\"data:image/png;base64,iVBORw0KGgoAAAANSUhEUgAAAMgAAADICAIAAAAiOjnJAAAFDUlEQVR4nO3d23LiMBAA0Xhr//+X2QeliBcIF3taM5L6vG5tuLg9UgyB7XK5fEnR/mTfAc3JsIQwLCEMSwjDEsKwhDAsIQxLCMMSwrCEMCwhDEsIwxLCsIQwLCEMSwjDEsKwhDAsIQxLCMMSwrCEMCwhDEsIwxLCsIQwLCEMSwjDEsKwhDAsIQxLCMMSwrCEMCwhDEsIwxLCsIQwLCEMSwjDEsKwhDAsIQxLCMMSwrCE+Jt9B75t29b/Rv1KPU6JsLZtSznGWbe7ApdCIfLDShwbl8slZQleQX5YmlJyWOm7HIcWxIklRGZY6eOqcWgR0sIqUlVjW+FcCoXICavUuGocWrGcWEIkhFVwXDUOrUBOLCF6h1V2XDXLDq3wR901rOJVNau1tW0b8XhLvG1GKVpP7VQfeGINMa6aFYZWOxzcEXFiLWc/qDidwhpoXDVtaI11n1/qk1TTYykc9AhNtiDSa98Nl8L59RxUV3hYg46rZvQFMSWpxok1rdxTgt1jDX26NyPutNo1z9xn3ok1m/SkGnBiFXmE540ytCoMqitqYtV5hCGK7+ITN+m/8W0zpbVins/Lzheo3oSEVfnkPgxdEPc/+f1bKbX23XDznuZME+FrX3ib8ROr7Dl03rGhdWwaPf+BBde+G+6xwoQH9PAmRjlvg8Ma5WEfdjO0ul2GuCY1ytMbHNYol3wOyzpzBkqqcSk8pdvBht6ZzokPa+Kh9Xxc7f8pPLg2sQbKy8sNuMDg9n/4UHxlRJbCKYdW+O7q8E8bYno5sUo4MNWKTy/wd5yZLj0UfywBeW3bV+gDBH8rnHJBrOn7YkSlZ9vLDa8VH1c/Wls18mLDmmBoDVNVc7kUycuJNaNrXh/9l1B4WEMPrcHG1Y3U0eXlhqm1s6K11fcM6XRGjnjqj3ifn+mbV6c91tAL4iQObLxOcPP+2Gzj6mqyifXl0FqMm/cHph1XD+3P9rhH3fsZrH/M6t/DSDcvEca9Yth7j+WCWMh9RnG7ezfv/1lrXJESwnJorcCJ9cNxFSgnLIfW9JxY31YcV/db9bjfCjOfzTrHss49ScBcx8q8QFr808xWwTz/VZbCxC2XcROSX9LZD637tjze4yr9WuHDMRZbm+MKkh/Wp5ceHGxDyA/rvMOpOa44JcIKv17aYQ3VcyXC6sM1tKclwnoY0PXTWsyLMFtYH1VS/ANbhjZqWJEfcW5egAHC6nOwr3nZVohCYVU4otffTyvcmaFVCavOgXRlDFElrGrM66Qq726o6foxstl3ZDyG9Vr9jyguyKXwLa6Mn3JifcCV8X2G9TFXxne4FB7hyviSYR1nXk+suxRGheDG66F1w4rlxuuGS2EYV8Y9wwpmXo1LIcKNlxML4cQyrGAm1RhWGJPaM6wAJnXPsE4xqd8Y1kEm9ZxhHeIf87xiWB/K+O6/ERnW20zqEwuH9VEicR8nvIiFw3qTg+oQw/qdSZ1gWI+Y1GmGdcftVATfNnPHqiIYlhBLLoXMt8dob72wsG9B1t5iSyH5LcjaWyws9WJYQhiWEIYlxGJhkd+CrL31LjfctGVVjPXC+jKmHhZbCtWLYQlhWEIYlhCGJYRhCWFYQhiWEIYlhGEJYVhCGJYQhiWEYQlhWEIYlhCGJYRhCWFYQhiWEIYlhGEJYVhCGJYQhiWEYQlhWEIYlhCGJYRhCWFYQhiWEIYlhGEJYVhCGJYQhiWEYQlhWEIYlhD/AIy2f7ZAyVJwAAAAAElFTkSuQmCC\" alt=\"Mol\"/></td>\n",
       "      <td>246.417723</td>\n",
       "      <td>125.241589</td>\n",
       "      <td>0</td>\n",
       "    </tr>\n",
       "    <tr>\n",
       "      <th>5</th>\n",
       "      <td>lisinopril</td>\n",
       "      <td><img src=\"data:image/png;base64,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\" alt=\"Mol\"/></td>\n",
       "      <td><img src=\"data:image/png;base64,iVBORw0KGgoAAAANSUhEUgAAAMgAAADICAIAAAAiOjnJAAAEyUlEQVR4nO3c0W6jSBRFURjN//8y8+Buj2UDwXAPBZW1nqKORBzYvgWE9jhN0wDV/mn9AuiTsIgQFhHCIkJYRAiLCGERISwihEWEsIgQFhHCIkJYRAiLCGERISwihEWEsIgQFhHCIkJYRAiLCGERISwihEWEsIgQFhHCIkJYRAiLCGERISwihEWEsIgQFhHCIkJYRAiLCGERISwihEWEsIgQFhHCIkJYRAiLCGERISwihEWEsIgQFhHCIkJYRAiLCGERISwihEWEsIgQFhHCIkJYRAiLCGERISwihEWEsIgQFhHCIuLf1i+ACxjHP19MU9UmhfXrjeP/Pb1+fYyl8Fd6jqgYE+vqxnEchmGqWqQeSdUteUuEdV2vSdXkVbfS/fyjyt4KlBrHmUOzP6/ZQfXsLHDyLqwrmq3q9bvDV3nNDqrw9BLWIesF7N3mpiM+/h0z6y9g5hWecpolrJ2eY6P25HrHHFl6AfP/ftZplrD2+BwDJXkdOehvL2B+lDp5v6z1gMZxHIZpOONyft7S+lh8z2LLK+k1rMSu3H5GddbdoqWfvmF6hXV4H6v+9s/323m9ij8/r+eZ3/mD6qm3ibVy+2fYu4sPvuOb5NUwqYc2Eyv0ay8V8LoofPtzj68jrQ5u25Fx9sRKrFPfbmr7HaDt29zo80mC3IVak1Orp1Mn1tuvWpXXt3vwbYDN/vTcUTnxkr+l88JaX6d253WkgNklMn128jml2l5ChpwR1ueh+qzh9aAO245rYQHnJLX801MbDm13i3hYsxNl6S8h28+yE0vVaUk9hlbfsmGtHP71IbH+3banpSW6byt3ivr1Zdrq30kar1Z31PYqITKx9l2m7ZteXFP9f6bYvU5N0/Q49xrnFglJ3UvlxCoZKuZTH8rCqj2hltfd1YQVukyT1BFtd17kHKt8mw/Pu19cn/8JTYSwiBAWETVhOfu5mtej0eTI1E8skV1E24NgKezW59+5z0xNWL/II7Vz8hJWV96i+Rxa03TSEzvC6sfsczKz999PGF03C8uVwZK3qpa+fv3HaQr+meRmYTFr9zN9K88pHXSPsEypFQefFF1/DG63SFi1C1YHT7jnjONYsm/K8yoLK3H28/g9VbWkfOcUbu26nzaz9PEeOnu4+K64aFihj8zrRqiqws2mwtr9+mYDuvi782S32BvFJ+8HT7Meu0xVHaicWOUf72H5m/W4Trr4bqlfCnfkZfnrT/bgbcnL1d8+5buodoPZq8IfP5zI8terUwdDkw8n6ljt7rrTxHrT/YcT8dTsWPpwohJV78byd3WzO++S6lvjx2Y+b4fylcs++XiP57G4HWHd3jWHlrCIXI8LqwcXHFoXfR6LtHSI7kn2421FW08nfdxNrK68xtR2ZJhYRDh5J0JYRAiLCGERISwihEWEsIgQFhHCIkJYRAiLCGERISwihEWEsIgQFhHCIkJYRAiLCGERISwihEWEsIgQFhHCIkJYRAiLCGERISwihEWEsIgQFhHCIkJYRAiLCGERISwihEWEsIgQFhHCIkJYRAiLCGERISwihEWEsIgQFhHCIkJYRAiLCGERISwihEWEsIgQFhHCIkJYRAiLCGERISwihEWEsIgQFhHCIkJYRAiLCGER8R8zZ5hWRWWXKwAAAABJRU5ErkJggg==\" alt=\"Mol\"/></td>\n",
       "      <td>255.508759</td>\n",
       "      <td>146.035608</td>\n",
       "      <td>0</td>\n",
       "    </tr>\n",
       "    <tr>\n",
       "      <th>6</th>\n",
       "      <td>lovastatin</td>\n",
       "      <td><img src=\"data:image/png;base64,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\" alt=\"Mol\"/></td>\n",
       "      <td><img src=\"data:image/png;base64,iVBORw0KGgoAAAANSUhEUgAAAMgAAADICAIAAAAiOjnJAAAEx0lEQVR4nO3d23KjRgBFUZHK//+y8kBGUSyEAPXpm9eqeZjyyMDAVgMW4OV+v9+gtL9aLwBzEhYRwiJCWEQIiwhhESEsIoRFhLCIEBYRwiJCWEQIiwhhESEsIoRFhLCIEBYRwiJCWEQIiwhhESEsIoRFhLCIEBYRwiJCWEQIiwhhESEsIoRFhLCIEBYRwiJCWEQIiwhhESEsIoRFhLCIEBYRwiJCWEQIiwhhESEsIoRFhLCIEBYRwiJCWEQIiwhhESEsIoRFhLCIEBYRwiJCWEQIiwhhESEsIsYIa1mW1ovAOX+3XoAP1qTu9/vjL62XiEOWnjfVsvxcPHmNotOw9gOSV/96DOt1oHr3spu8etVXWO9a2UlNXn3qJaydpDa/fu1lVNNFWO8GpIP7xOfX3+TVh8ZhfTlQnZomNbUMq9RAdWri1NHmB6Q7g4og5tAgrJ2B6mYXNotePtIxUE2mfVgGqik1DstANavGl83kqnpcEEETY1yPxXCERYSwiBAWEcIiokFYztd+g/Y/IKUjjzf81z8GEhZ/LMt/PT3//RLHWGWMunOPLfbMYVU7mFvnkp3Xsvz7p+wEY5982BWWlPpAvehOqthEdgnrW68DVaVP1tf5np3R5netnd3vDt578W73V2bo2h9X1n86ldfmBJ+/WO79IKzrPh5UXR+6judyLK/t0K+NecdMG9aPVVl29/S6nUoOXa/jysed1J+8luO3+4YPs+YMaz+jLyPb/Pbngq/PcWcIOTZ63f+f8tus8wfvtS/gTD+W6MhkL4d1dplfI8vlvjnrsjdsnluAmmGlH0t0ZNv8eE2dB5A8F1ZzY0ePBz7Mus6c0o8lujaFg5EV3B6Pwj7sqspZF77+HSs1jrE2N8zzF79Zy7ldamJ7/DgUq/aurn/HSjaszdX3bp1eyOubVbYzXD2qim6Pahu7yX1QwbA+DlSbDub1/Ts+dIDPKhXWl8fp+3kV3+qvw1XBif9O5cN6t/u7sLVe8wodmiipuMJhXdv97at2AnWrOFxVOIZrq1hYp47TL6hzcdXEW7qyMmElBiqGFrmCdFmWUFWjXgH8+5QPa03KWNWJVjfblQ9LUtzmvpmChoRFxHhhOX4fwnhhMQRhNTP3w1GGCWvibTClYcJ6JrL+lQlr7lGdC+a8/YtVw1/OIKxptb0IQFgthe6f6eG3yIwa1jTX5BS/jLGTNTNqWJMpklcPA9WDsDpyOa+uklqNFNb014mvzubV5zoZKaw+12DIkbw6HKgeCj+VIPSf/FVJvSp4R1015e/8vBXNq+c3ZWXpJ0CVFbzl4fspd/6mbGKUdRJcyu9PnodYg2yKb7w5Tp45q4sHr/14paQmUPtRkbcxT545q8HwMOLJM2c125xjnTxzVuNxwkA1q8bXvKtqVkPeTEH/hEWEsIgQFhHCIkJYRAiLCGERISwihEWEsIgQFhHCIkJYRAiLCGERISwihEWEsIgQFhHCIkJYRAiLCGERISwihEWEsIgQFhHCIkJYRAiLCGERISwihEWEsIgQFhHCIkJYRAiLCGERISwihEWEsIgQFhHCIkJYRAiLCGERISwihEWEsIgQFhHCIkJYRAiLCGERISwihEWEsIgQFhHCIkJYRAiLiH8A4TK/a4s00ooAAAAASUVORK5CYII=\" alt=\"Mol\"/></td>\n",
       "      <td>148.056170</td>\n",
       "      <td>97.655000</td>\n",
       "      <td>0</td>\n",
       "    </tr>\n",
       "    <tr>\n",
       "      <th>7</th>\n",
       "      <td>methotrexate</td>\n",
       "      <td><img src=\"data:image/png;base64,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\" alt=\"Mol\"/></td>\n",
       "      <td><img src=\"data:image/png;base64,iVBORw0KGgoAAAANSUhEUgAAAMgAAADICAIAAAAiOjnJAAAFDElEQVR4nO3c2ZLaMBQAUSuV//9l5cGMR7EMeLktLNHnITWpmrAojYVlQco5T1K0P59+ABqTYQlhWEIYlhCGJYRhCWFYQhiWEIYlhGEJYVhCGJYQhiWEYQlhWEIYlhCGJYRhCWFYQhiWEIYlhGEJYVhCGJYQhiWEYQlhWEIYlhCGJYRhCWFYQhiWEIYlhGEJYVhCGJYQhiWEYQlhWEIYlhCGJYRhCWFYQhiWEIYlhGEJYVhCGJYQhiWEYQlhWEIYlhCGJYRhCWFYQhiWEIYlhGEJYVhCGJYQhiWEYQlhWEIYlhCGJYRhCWFYQhiWEIYlhGEJYVhCGJYQhiWEYQlhWEIYlhCG9Xkpbf/cNcO6hWF6Wvz99AP4RmVGOT/+TOnx8xgMq4WU0jT9VjNSQM8YFiUVx6W8I6X5oDUMw4o3J7UnppWyrd5nRt+8Iw5VVf7u8nPvB7C7hJVSSl0PJKDrtj45FdbvQlJKJ2aQWymfwrmnU06C/Z4tfiCspad60HPOA7R10SqmnK++3spba5Zpo7D2nyLZ1rTR1uExmce7fU8LMKxD59vlwI3R1sWnsNnW9HIk63XXZ7fWABLWifPtVUydthX7mFeT4Obb0OLVe6/Roo5Yp1ZxRmgrVj0Iy6Fr+evum2q6SBa/3HClhnrUXIPYHIT84+BN/f5Ajyu7jnUii/C26k0p3bVaDsKJ1+2LBVhuKO6yQFq63tZqyNqXFD6JE28JcgYPXWBY7efEuaf5DcTqZbr618SLtZd3hKsnDrUVHFbg4O5vKz08etpz/zt/bUh1SfPpZ+y93Hp3w4vzxO/clBL1uq2XtcLPwW8d1vSkrenyphRUF3MivWQaORVev/66qZ4EL25Kmf+MjayLmFbmGbC8dBs4Id7xrLDG9DrC5HjRvBhGtNVHWJCotq4cUA/dC3TLxEI0da2wl3nh9FuNwTaThT+FsLD6Hdb9G55en4p6cbN097PCEj0XbN74uSu+6iks1JVFss0bidXgWHj3dax+p4Mri2SrGwkZgesP5oNiwuo3ppWgde18Ze3xxWcCYJF3F3/E6u5km3D0ZLOYe3t6mi/EhOUJUW1PW0tP5RbRrV/rb2zDjli2VXvb1rvs2l0ZCL9uGDkVdn1OBDn0qJddoj//9r8PTfQ1AsHvsTxunVBNiBuj193Axl8rjLrw9A3f5lDud33bDPrRkvBikQXS0y+vb1vmPvoUOzpugY8y5ALc/tu5ucAvUOhiQMBLOiEX4EaaDaPOvE4ct7bWNVjstcJ6CPZcphh1QgzcDbynrVR88Wn7UcQvQteb1jd/bdSYOG8nhLfDiH69UYvdDXvmxC+JKXY/9NkJ4fFIJvJLHBptmwnZlDIGtK3nE8J/D2D1YIj/hHb7sUI2pfSr/rBQ3C2/nhBy+D3u0XSj33cm1cANP8rrDtJB3O2jvB0stalHX/25QnEMSwjDEsKwhDAsIQxLCMMSwrCEMCwhDEsIwxLCsIQwLCEMSwjDEsKwhDAsIQxLCMMSwrCEMCwhDEsIwxLCsIQwLCEMSwjDEsKwhDAsIQxLCMMSwrCEMCwhDEsIwxLCsIQwLCEMSwjDEsKwhDAsIQxLCMMSwrCEMCwhDEsIwxLCsIQwLCEMSwjDEsKwhDAsIQxLCMMSwrCEMCwhDEsIwxLCsIQwLCEMSwjDEsKwhDAsIQxLCMMSwrCEMCwhDEsIwxLCsIQwLCEMSwjDEsKwhPgHRucWL1TcSWEAAAAASUVORK5CYII=\" alt=\"Mol\"/></td>\n",
       "      <td>172.449895</td>\n",
       "      <td>34.330245</td>\n",
       "      <td>0</td>\n",
       "    </tr>\n",
       "    <tr>\n",
       "      <th>8</th>\n",
       "      <td>morphine</td>\n",
       "      <td><img src=\"data:image/png;base64,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\" alt=\"Mol\"/></td>\n",
       "      <td><img src=\"data:image/png;base64,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\" alt=\"Mol\"/></td>\n",
       "      <td>167.484776</td>\n",
       "      <td>127.901343</td>\n",
       "      <td>0</td>\n",
       "    </tr>\n",
       "    <tr>\n",
       "      <th>9</th>\n",
       "      <td>penacillin g</td>\n",
       "      <td><img src=\"data:image/png;base64,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\" alt=\"Mol\"/></td>\n",
       "      <td><img src=\"data:image/png;base64,iVBORw0KGgoAAAANSUhEUgAAAMgAAADICAIAAAAiOjnJAAAE5UlEQVR4nO3dUZKaSgCGUUjdHWX/S3BN3AemCAElCP032J7zkLKcGcTmmwZUJv0wDB2U9uvqFaBNwiJCWEQIiwhhESEsIoRFhLCIEBYRwiJCWEQIiwhhESEsIoRFhLCIEBYRwiJCWEQIiwhhESEsIoRFhLCIEBYRwiJCWEQIiwhhESEsIoRFhLCIEBYRwiJCWEQIiwhhESEsIoRFhLCIEBYRwiJCWEQIiwhhESEsIoRFhLCIEBYRwiJCWEQIiwhhESEsIoRFhLCIEBYRwiJCWEQIiwhhESEsIoRFhLCIEBYRwiJCWEQIiwhhESEsIoRFhLCIEBYRwiLiv6tX4Av0/c+NYbh0PaoSVljf/+lpfrt1doVECIsIYV1kOvBqlGOssGH4zoP3fvimZ3uxxcF708fydoUVzWev1gnrOk13dllYfbtjuqXpmOYuCKvv+77vh2EYb9RfgYstDucbHYHaZ4VjUuPt8cbY1veeQwzDfEyaUS+sVwFNebU3uC+NE1XTz7fS5tzTzbdNXfMxae/3Kj5jvcplPZT2jC0J/qJsJPX0/ne/pwENT1qpGevpMO3P5dsOvNo7Oy6/5fbv+84srRnTKy/jv9P9n/6UC4d1cqLaWOzJJdzZ60H7c+fHPfViu8KyE9XCt+0Zu9VIzneVO8fg773rk11tdDDLhBWaqJjsGcXFcdrinHv1zdmjusjBe8GkvmqWesv6w/RvjdMQfsW/fFhSeMuZ4brzq/fl34RWVTUn38JenIeW5fNYRAjrs9120hLWlQq9FlNkXQoTVgvOtBWatIRFxN3Dmv8+Rc9ivlliYMuEZZMf0OorWKO7z1jUUXxqEBYRwvpQ5Q88yk5awtqSO3Bs/h1VYW2JXlV7eMm5KAtOWv6M0T+Erh2aX0Px9P5P9wEfm6k/1uuMZnmdWp1XF70tHvrplyoouO3KhzVNp5/4yzdf89d5jbffWOb8rwpsb7z5l55OZrn9YNklF1vWerXK5jUtLVTtu1dBbue1GI0i22z+DsTJRT1deOHLanJhTfd3p8eiQrU7LqDd9WjToj7oYtTE6hWd/V5v7MMdbP9g5QvLdu4E55cKLu48vJ4bD3SHhayVPMbaOIE6dm71z+d85pTtwE+N37szr0Vb6aqO9fF4xI7YckeC3YnZ68BW3/8jhfbOW209nbRyDkT2ePRd1/3+/TlX6YwOz16Ht/rO2avUxt6zjJptTZ4e5C08Hn0uqZ/VqPC035pLSl2NuH7Eyi+CXDtdXVtVVyesn0cKH4ZvLDOa1K3+F6Y901Ud9d7S2dhVhUah2hBf3tPC5VV19d8rXORVYfdUYYiHe/xJ0Tv0NLnmTeibTNeNudWoXvnphjs8/1KG2/zB9vWojq8sdMkXF9Z8bKaY+7Q1V+cccO0W0yY5l0xXnbC+R+Wpy0eTiXCM1Ti7QppiV0iEsIgQFhHCIkJYRAiLCGERISwihEWEsIgQFhHCIkJYRAiLCGERISwihEWEsIgQFhHCIkJYRAiLCGERISwihEWEsIgQFhHCIkJYRAiLCGERISwihEWEsIgQFhHCIkJYRAiLCGERISwihEWEsIgQFhHCIkJYRAiLCGERISwihEWEsIgQFhHCIkJYRAiLCGERISwihEWEsIgQFhHCIkJYRAiLCGERISwihEWEsIgQFhHCIuJ/0AfL3T8C1JAAAAAASUVORK5CYII=\" alt=\"Mol\"/></td>\n",
       "      <td>253.797264</td>\n",
       "      <td>141.786167</td>\n",
       "      <td>0</td>\n",
       "    </tr>\n",
       "    <tr>\n",
       "      <th>10</th>\n",
       "      <td>ragaglitazar</td>\n",
       "      <td><img src=\"data:image/png;base64,iVBORw0KGgoAAAANSUhEUgAAAMgAAADICAIAAAAiOjnJAAAH6klEQVR4nO2dbc6jOBAG7dXeODkGnNn7gx3GAQIG/LTbpEqjUZSXBGIKd/sLYkopANTmn9YHAM8EsUACYoEExAIJiAUSEAskIBZIQCyQgFggAbFAAmKBBMQCCYgFEhALJCAWSEAskIBYIAGxQAJigQTEAgmIBRIQCyQgFkhALJCAWCABsUACYoEExAIJiAUSEAskIBZIQCyQgFggAbFAAmKBBMQCCYgFEhALJCAWSEAskIBYIAGxQAJigQTEAgmIBRIQCyQgFkhALJAgF2scx83X8GyosUDCvwb7oKL6QSzEer1e0wsM+x38hkKSs67xKxZ0jTwUznHwAlRU/WKRY12G5KxfTEPh6/VCkR/BOsd6v98lm+Ff71iLlVKKMZZsmSdndxI1aEKbVmGMsVAv6JSYUrLeZfx/p2u35oOZt4FOsT5/+8bMqmFV77Tpbvgm0LeaDLrDtMZaV1e5Q/mfCIW907iDdCFTIAg+BTuxDishlHoSTgehy7u7wCdOxYLeMRKLZPzXqCCWaEYe0bBrVMn7bNg06kx19WtUiFCLWmo9YJyP4ZzdHTG0U+rkWK8/VPk2kGKzmMAieZ+zJdImEddckRrmvbsBFy+z48o4juqplEYZTJ4qFaZNi9k1wzBM7xNw13xLc6f3FyU2v3mYHN8iWTHvq3Cn+9sPw7D5+jfZL43pmpxehxDmDYZhyF/XPaQGoTAVRLc7DUlY8Hq9pjIfx9GsMO0GoaffVvGHseDiFMMwvN/vReNdmFfUrQD3yXe3s+tQEDQJhRewPN3eW4XQKaZipSy7SvQjPJqWiyk2Uy7Sdh2WRdoyFOLNg/G1Eprq6jGwEvqHsMxrrVfpLHKsxV+prh6DtVi5L5uZu+XBgA7bUBhjOFoBRl31DOggBQmGYh1VVzP0nT4AQ7GIcb+E21CIhRKGYTCaFWI23H0WxaExJ8LspLutsbzT34MzYpw6CNOfSX/Sw/Z7n/eUytP9E/QhQV2mllD6W5bzy81J8VUQizU37i4Jokj3Kz6UoIqj4zjmh1T/HO9enboZpMpQOP2k6V/t7gMPkaiPZbrFV2fdIvUbCn+HyhdGFiXk1eF3OhbrwvmYSnYqYj81Tc1HBuWBL8bwZzFmIRUV71isa+ej1oXrx8t9ThVORcWVOdaUWk3/3LB4mE+rXM1sX60SQXGNlWeO5zsPFvX6nUZiPvg4n9RaxT2t17v22ac+Msh7KFz4lCWm2znpt9HrlM0u3LyXwR3S56h5OroChHl03gBPKVyKg6GK4ga9+385ubtp8/z//E/TeOLwmZ+Wfe3fzaoM8iz2u1/I8jL3MUxnWmPFemPL86hXCOH9fqd2UyfWE6nXB3OqPnsGHYwV7nevXpggn8zne83XseVO2+Lr6V+fW4YQjpP3i/lKpWHIkrUhOx+RoBhhPY/r5D0vn8plVWOIe6HIfgT8ts1TaSBWySXr46rbo+RXNNGoYiJ7hzaPlTt84KVzsW6GM2k0dLIqs00oXOQli4JwUjTf8Hx4Mcbpwg2h8SKDxo+VK6zA4AS1Bivu0aC7YX3jhrk1Hv9Mn7U/qkKqHF55f8epoUxXa+aMaqz8fCxqqZBVVPY9TKdwK33+fIaPAmwXCpp1N+Q/NQ+FqeweuHWmsK1nTn9qvXB8viQsz9N+RbVOUtcXZ5OLwUIspw/t3Zw7sRic+di8TlWaL5Up+eHf5khttHti/P9rV5eEPXfFajj5tdVU93In1iw+eK3VcvxU9qzWahW75cm7bizPeArb/fxvff/VRatlzfob5g9ufH+2Xfjcxn4+Y4VQuD7Q6jPpHsD+XX2/dxTHfMprYUYxd743bGpUEGudBMzvXA4Zd8JN+T5uLnss5/Be0d+4+akc48yhcQfpZepMd7x6PJe9V18tO99fcy1QAdocy3m/1Fmu/Zwqt4IeTi7kas5dscprjrNn5RlS1qqi1o8X3MRP720HM0h9UuL95dSqOvZrgSx+7eVY4HAIpdyVNla5mW/U7CFNiu0NSJ/Pmdrfcnrh8PIwwOPUZP9nYlP37U5L979FhEWNlc48TW4dQWKMfu6WtugxP+w9t7bKjcQea6wF07nR3XvuFDvNfmqsD75df9WZ97Wz0/xPlsdWyIWl0rVuodvdbXmdPsV+h4b3h2leX3aEo1Dop9dnk+ZW+Uk0S7ATK2Xjazel6aiIK+p4PNgX4zgMr/fbQwrf8nmF394/rK6Mx1P7YOoaHccqi7zv02B2w7Vpk3CIqyzQLnmfG+pzwyGfJOktu/Jwu++c7m781/gp9inrVyz8VHdFbMbr8/aqbXFRPUwcrxEwZFFLXTbYdLGJ1YTYEhxNm3Gi1EwfD54IIeSXQUqjjymBjvqxgs1Ud3PsUjRP5eZLrNDhHNxDbDpHPLQwPjAZODpHF2NhhdiM8TkcSVTlWN6a62CMo+R9pot8uZCf7RxRZcq1muvQKcLknRG9X8ZjKIQHgFigoXWzdAOHjWc4CzUWSHDX8z5Bvt87TsWiRdk7hEKQgFgg4WlzVMAJ1FggAbFAAmKBBMQCCYgFEhALJCAWSEAskIBYIAGxQAJigQTEAgmIBRIQCyQgFkhALJCAWCABsUACYoEExAIJiAUSEAskIBZIQCyQgFggAbFAAmKBBMQCCYgFEhALJCAWSEAskIBYIAGxQAJigQTEAgmIBRIQCyQgFkhALJCAWCABsUACYoGE/wA8UUuO0epZmwAAAABJRU5ErkJggg==\" alt=\"Mol\"/></td>\n",
       "      <td><img src=\"data:image/png;base64,iVBORw0KGgoAAAANSUhEUgAAAMgAAADICAIAAAAiOjnJAAAFmElEQVR4nO3c23ajOBQAUZjV///LzIM6Dm2DDOKUJETtJ086g2OnImFxmZdlmaRo/7X+ATQmwxLCsIQwLCEMSwjDEsKwhDAsIQxLCMMSwrCEMCwhDEsIwxLCsIQwLCEMSwjDEsKwhDAsIQxLCMMSwrCEMCwhDEsIwxLCsIQwLCEMSwjDEsKwhDAsIQxLCMMSwrCEMCwhDEsIwxLCsIQwLCEMSwjDEsKwhDAsIQxLCMMSwrCEMCwhDEsIwxLCsIQwLCEMSwjDAs3zPM9z65+ijT+tf4BhzfO8LEt6ME1Tevwc89NecAWbJT0tL8MK9hqo9v51ekZehhUpX9X629KDgd98wwqzWVV+iBp4ADOsAF/7yA9RQ+ZlWFcdnP5e3zw9Iy/DuuRUVev/Kz04O3XeiGGVK6vqbQvpwXo71zfbAxdIS0SNK68tDDNQvRjWacSIMlJSiccKzxljnqrAsMpBB5iXZRng0LVhCWFYQhjWOWPMUxUYVjkjyzAsIQxLCMMSwrCEMKzT3Gc/wrB6NEC7hiWEYV0SO7TcfZRaM6xeDHbehGG1l67E3ztN+aY80a9EmgFDBpjP7azPJl23da/xzLCuuvL73qxq/ZW3c+GnaVqmabpDYYbVxt79HTKZ/v5TGsb6zsuwyhXPhvnp77v0bX3nNdQnkfoKrq75Ov2d/Qn6bMuwAhy8yUfB9HdfY76qVvJX0ON3zHp9hOzgd2pY8Y4UEz9QrefEDuZHd97jvS1Bba58Dv/3bFiUzcvnx7uUfo9h4Z6WVNIgrKe9xQl+itWydLXzXjWsZ04K9awXTlurF9bmUbAn3Ob1mSqFtfc5aOAbRH0KPCeif3hYB5ebHcAGw4Z1drn5bQDLfKc6B4Z15WjruFPkMC/kCySswKOtfoS8qfiwiKOtA1xnV83cx6gYHFbwyUbDSauYT3g/wq7S2bzU5GJVjlL3FTNi1TjZSMd0slqGXFeYXljsa3M3617iw+rhz6VnD3lv4sMKrMpRqljz983zsYbSz/kjMWF1ssP4cF2dP+KINYiD549MtQozrHqg62g+p7zNSbDy4VfDqip82X1zoMrvY9WZIg2rqs9DOlfuwHDkJiL5vDLfcJFhNVZ2g4/jNXwdn6CPkL3f0W+9lFVnWSsd9Ize5u/j9dU06y+mrx955oIDG8uPvVfniAUiFoE2h6LNtqZ/Rq8T94A4pdoSl2H9Fb4I9JnU3uM3yzKlU6renj2whgp5GVbu/S3eww359EfvX6MjVuRyeYXF9/CnOLXBg7eR+fo9Beoc2Ah8FmrEIt7f9LIjt3zyffw6P97u18+hworeBf7dTsyWLywfbc5Qntj4ht3HCnnT84vLy89/n9piyPq3SWXgF1NM1z5hxd+hOvqoSp2kbnf+SGRY4ccQTryVxxew7/O72XOLyOKnwq8TxJEZpHB+KTs+IkCznffMN1z9czSpDtTbeZ+y8+MLcjvhnyeL3Kyyaqy8H9+7Gv4m1c9R9ZBOfvr7/KIqC/xY0OBY4Wde/X/G0VnNDkK7utgP4g+78dkNeFJLXzepjhI4Z0HTxQNOmxmlp/B1Uc/HUrzNRm9w2ox6VuG2U4Z1V4FnixC7Wb1fpaM3F68gqnYvTxeQ7qds2kIOy2aezrBu6lRe9e/laVj3dvD6jmoD1e9TGNYATl3fUemKD8MaSYPzR/aeyLDG08P5I4Y1rLbnjxjW4FqdP2JYQrjyLoRhCWFYQhiWEIYlhGEJYVhCGJYQhiWEYQlhWEIYlhCGJYRhCWFYQhiWEIYlhGEJYVhCGJYQhiWEYQlhWEIYlhCGJYRhCWFYQhiWEIYlhGEJYVhCGJYQhiWEYQlhWEIYlhCGJYRhCWFYQhiWEIYlhGEJYVhCGJYQhiWEYQlhWEIYlhCGJYRhCWFYQhiWEIYlxP/MoPP88YpcHAAAAABJRU5ErkJggg==\" alt=\"Mol\"/></td>\n",
       "      <td>265.864890</td>\n",
       "      <td>160.417822</td>\n",
       "      <td>0</td>\n",
       "    </tr>\n",
       "    <tr>\n",
       "      <th>11</th>\n",
       "      <td>sildenafil</td>\n",
       "      <td><img src=\"data:image/png;base64,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\" alt=\"Mol\"/></td>\n",
       "      <td><img src=\"data:image/png;base64,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\" alt=\"Mol\"/></td>\n",
       "      <td>124.185230</td>\n",
       "      <td>11.651376</td>\n",
       "      <td>0</td>\n",
       "    </tr>\n",
       "    <tr>\n",
       "      <th>12</th>\n",
       "      <td>substituted hydroxyamide</td>\n",
       "      <td><img src=\"data:image/png;base64,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\" alt=\"Mol\"/></td>\n",
       "      <td><img src=\"data:image/png;base64,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\" alt=\"Mol\"/></td>\n",
       "      <td>83.286011</td>\n",
       "      <td>-23.960949</td>\n",
       "      <td>0</td>\n",
       "    </tr>\n",
       "    <tr>\n",
       "      <th>13</th>\n",
       "      <td>tentoxin</td>\n",
       "      <td><img src=\"data:image/png;base64,iVBORw0KGgoAAAANSUhEUgAAAMgAAADICAIAAAAiOjnJAAAItklEQVR4nO2d4ZKrrBJF4db3xuYx9Jm5PzhDCKhBYNMN2aumpjIzGSNmpbsFROucM4T05n/SO0DWhGIRCBSLQKBYBALFIhAoFoFAsQgEikUgUCwCgWIRCBSLQKBYBALFIhAoFoFAsQgEikUgUCwCgWIRCBSLQKBYBALFIhAoFoFAsQgEikUgUCwCgWIRCBSLQKBYBALFIhAoFoFAsQgEikUgUCwCgWIRCBSLQKBYBMJ/0jvQD2sv/8QFfIezkFjmQqAb4QgMpkICgWIRCKuJdRxH8p2IsJpYRAl2nVueWHvse/K7bduMtTwrHM9SEWvbtuQ7kWKpiHX5p2XaOA/rRKxj341z+XdaJcJCESvDnxUyJ4qwsljGGPuZH/fT6p4gcEtT0sB9308fkxbWqbFyrF08HmtmrUHoWthH3x2KZUxUadGwXiybCpkHZVlWLCLLmh9rhitxGLEIBEmx4kqZVfNiLBixmAc1INzdwEC1KsJisQNpVQRSIbS0Yh5UwoI1FtGAjFjHcSSxatu29ujFcKUHmRqLpdXyaEmFNGwxtMxu8DHMfltn4SbTMQ+qQtGbUWLGjXn7vnOesR60pMJCbubCmoKAR4ahRazjOBpjJ8OVKrSI1QXnHIOWElSIdRxHS7zhGaVCVIjVkX3fGbQ0oKW7oZE4aHm3fMXWGAtJNSrEan/v2ZWvjdVSoccHLUomyJpilS+RxenRIFSkwkZigcIsiVDFv14vw+VAhrOCWKds2/Z6vUrGeRioIAAXHLlmzAIvJa3jUjMg1qyxDCc7SCMm1vGH1A4shrazELEaS0nPU1L4C+7JYixbvP8gGgJVYM0aa4oCq3vy2v5o31Q7MmIxAS0PU6EkfZOXrhF36f4OCFO0q3sXmqp+uAVrrCkKrOVZUKypUXVm18KCH+7ZI1Z1qaSq4cIRS1t/MenFaqlQ1ae2jrr1UbQ1XL67gYEqZ9u2QlHUXjkiL1aoJ6w1enphxHHOJW6dOpQ8QU/QUpQK9711soM/9Go/xE/xbgVOu4vy50vtbYIisUxDeeExf/2igF0T49ShhOCTHreExeKgYSH3usQ+KXFLUVYuITpi70dq64x2QnMK13gKzxE/DhO8DfHHr2RnxY9pLypE0eOWrhordig89jeiL78dfah5+++fevTkRF1imU+3qvHVbtNhtfbf12wocUudWM7VvJunQ0P1h9Xad5Cc0K0YKbfUidUXJadIg0laLXIQNIpVHbROrydbwK2KMrzCrb4TAuSHdDw++QQq3Lq5niwcVj+1tGE3ZyIZFIp/tNbGi1kgehBViBWsStzqyLs3qOzZHyel03LqlrleLr/jhAAVYg3j65E1JqrcTadz1Cp69ULlg9k3m+14FbG8WEkSrONyaCgLPD4bftdrIUSaKSxWF6uKtv6ZbkNm/LG6axySvf7wMYdTsS6e6HHuwX91Jzlx635wRg7yyKdCDcQiGR/E/I/R445cnfkn7/rUg56wfqwwJPL3laPwqLXv0VlDrV9pN5myl19fmu3MxD1wMLHioWPn8guTUa+b7EMw++ErhmHsK1GuCA1MvNm2LfzySQtmdatTKnzY6zMuXD1/lXB+XlFrlZylPz2Tz/sLpqCHWHLVLgL7MaXpcWu+elPRVzSjW7DiPQvgNv27xiOV9SU+dsuv/p0/bmzsdG7BxMpL0c8fFZYO1j57+0+bELaga1Gh4YjNbtBWll5FpmQ4/HOedFqn57cpSGi5eKT8iOWnFGZ4iugRseYfsr3Pd0n7bp6MvugoT4j3UVMQ6Ws5dNQNTwupeLfHp7y6gzb4UFOsyhNZ+zeMLdKE8heNQ9oPiWV0uFWN4M6X5EQjd9ElxworkY1YJqvltX045ee8azs9LOE4jjAw5ZwTXInp0RDZ0F3NBvEEON2NLosKh380ptvKxKfbEVmxuO7tu2pCX1SkQodPKM4Zazdj/n1et22rq9lV9Xl+7TY7xTcBfTKrQixP7laXuB02su/m9doMpq/NL8CkSrt74LuKDonlJPvTNxW6f93i/oXe3+dF1e0CcuSL9xinrJDnos7VKBLLvSdCYd2af0EGY5RVezmKOicTqxA79nTmWBKllL+XqlARscKkXgNeRDS+CrXwRZ7eBHCu7InbW3mxwjzxuGH7vqsqtshTxC9YvczFzrlHoUUP+gNVDGhvJcX62nEVMlfvBUJKt1k3vwp9H/W4w6y98wy0t62psC5Jx0VVzGlBs8ZJ3K8hELEqRm+my4Zo9GfbDmI9aqSa2Vegq+cH3RKhV/7C7W2Hs8I8f1219t6qvJH5dq6uayDagHQ35LfEuSqqKqBPc9A41ngzVOwndbjaaUOn2+w1itzecHIPvOJpDFTJ6bTvJoi/m4c96V32inwF2/Pup/C29KH7e40mG0g6INzfQv/MknoAitVr4pvzy+ylq93lTyvVK1wZ3L5v5AqgWMEq1zaHPwwmWmvju7BeXRHv3Ht1q3xT/t/DBv1v9HcLTYeiqclfCVWR9+AmHPpnhiu0wuN93+OekbjM+rpN8oxhpwl1U2nbJ+DGLf26tTFXsPwCfcQqmZ/+9A0rfI/vXzr+5Dz6FHWZcf/LjEuFj7IM4ooX9i6MpJtYfevfpxZe/cnFVyw+XJ+PFX0L3cRCT0KqfukPj564JdiiBZCfmgzibUPenUrwLCtWzLHv7JUfzNAhs75zar++VvwjO6gGM1MH6VNYJAkyOhWe3rl5rmvxSAmjIxajyI+gJRV29+zLbO7J1w/XjxaxhkaytW7+o5OhNdaYK1iIBn6iH4uM5yenfjMV4tFSYw1l/pv/6OcnxTL0CQ5rLAKBYhEIFItAoFgEAsUiECgWgUCxCASKRSBQLAKBYhEIFItAoFgEAsUiECgWgUCxCASKRSBQLAKBYhEIFItAoFgEAsUiECgWgUCxCASKRSBQLAKBYhEIFItAoFgEAsUiECgWgUCxCASKRSBQLAKBYhEIFItA+D97uHNydnRCeQAAAABJRU5ErkJggg==\" alt=\"Mol\"/></td>\n",
       "      <td><img src=\"data:image/png;base64,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\" alt=\"Mol\"/></td>\n",
       "      <td>357.385093</td>\n",
       "      <td>214.361852</td>\n",
       "      <td>0</td>\n",
       "    </tr>\n",
       "    <tr>\n",
       "      <th>14</th>\n",
       "      <td>uridine</td>\n",
       "      <td><img src=\"data:image/png;base64,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\" alt=\"Mol\"/></td>\n",
       "      <td><img src=\"data:image/png;base64,iVBORw0KGgoAAAANSUhEUgAAAMgAAADICAIAAAAiOjnJAAAE0UlEQVR4nO3dwXKbShBAUeZV/v+XeQtSimPhGMPc6Z6eexapOAsbjS8NQkhp+75vUm//RW+AajIsIQxLCMMSwrCEMCwhDEsIwxLCsIQwLCEMSwjDEsKwhDAsIQxLCMMSwrCEMCwhDEsIwxLCsIQwLCEMSwjDEsKwhDAsIQxLCMMSwrCEMCwhDEsIwxLCsIQwLCEMSwjDEsKwhDAsIQxLCMMSwrCEMCwhDEsIwxLCsIQwLCEMSwjDEsKwhDAsIQxLCMMSwrCEMCwhfkVvQAmt/fn7vsdtRyKG9Vhrf8X06ctVeSgUwrCEMCwhDEsIwxLCZ4WP7buXG94ZVg//jmnJCxAeCnmfRtoaDEsIw+rtdDitN7QMq7f1GjplWKMsFpxhAb5qaKW2DEsIw2IsP7QMC7NMQ6cMa7g1gjMs0hcN1c/KsELs+96qDy3Dgq1x4HtnWLjTrMoPLcPClW/olGGFqR2cYY1Qu6FThhWpcHCGNUjhhk4ZVrCqwbU9/33+hd4D09oMC95D+nfp1P3IjZ8MqqsP+bU2x/f++OXgZUsfVi3Hge/1Z/TmgFKeY7VW+GWQYT3FvpiUaWK9lqH0rrytcaYVHVahE/OEjqEVsq5BYS0znN6tMK62wWG11n6v6PWVrfWRG+OrijrTGhHW63n1zTWdPKY1UTvQx4s0K0z+KxY5CB46T6ynw+mHP8xh9lPD1qxbWEdSQ/fIwOc8P7fUuNr6XiANWLhJ7ihvLcv5wLAFS3nlXfObP6z0Qyvb4XrMgs0f1jZBWwsqEdaWt63wcRX10SRVwkopvKotbo8rFFbWoZUTvVqFwtq2LdP94xnG1SFkj6sVVt33Jjx02hYaXLWwksgzrr5DlVUwrAxDK2FVXwwtaq0KhqUMaoaFDq3wcXjbvp9sPLRW0fe8Yzq+xWrekt4Ne+dZ2bBuq5TRRURtlcO6uF6rlXS6LN3b6hPWRHexrZZRlMoTa+MvPYR/RMI9A4ZW8bDeV8qJNUblsE73v/d/eZjaVHfe/0EPrcphXeRIe/FQ+L3ba3RjpM07tLhvXjOsvs9SFxlpfRet4Es69LWP02/uXYafFAxLN3jl/RuDL9V+/FHTnWO9EItWamLleQHAw2KdsPJUNRdo3eqElcos5/Lc3lgkLMdVNhXCyllV/qGFrtv0YeWsSt3CCrkenbyqzEOLXro+17GOTRz6OZF6YMAO2fMC6WtbxxSWfFwdJn19+jnkyvuAwqaoKqcxSzfo19O3sOmqyjO0hi3doNcKBx8lFS5s17/98d3TjatDhs0euQ1hdzfceyKZ4dejK7L8nq4UNntVp9t//frfw8c+ePWy3I+17EnY9Yf5JMHx+2TeGfCpsNnH1SHqURjWiYD/pYcU8DuOqDnLofAfyiQVImpGTn93w3QyfJLlAIZVWeCJ6QSHwnruDa25TgkmOHnXYa4WDUsIz7GEMCwhDEsIwxLCsIQwLCEMSwjDEsKwhDAsIQxLCMMSwrCEMCwhDEsIwxLCsIQwLCEMSwjDEsKwhDAsIQxLCMMSwrCEMCwhDEsIwxLCsIQwLCEMSwjDEsKwhDAsIQxLCMMSwrCEMCwhDEsIwxLCsIQwLCEMSwjDEsKwhDAsIQxLCMMSwrCEMCwhDEsIwxLCsIQwLCH+Bx47LIolB7mRAAAAAElFTkSuQmCC\" alt=\"Mol\"/></td>\n",
       "      <td>52.080195</td>\n",
       "      <td>29.101964</td>\n",
       "      <td>0</td>\n",
       "    </tr>\n",
       "  </tbody>\n",
       "</table>"
      ],
      "text/plain": [
       "<IPython.core.display.HTML object>"
      ]
     },
     "execution_count": 17,
     "metadata": {},
     "output_type": "execute_result"
    }
   ],
   "source": [
    "df = pd.DataFrame(res, columns=cols)\n",
    "HTML(df.to_html(escape=False))"
   ]
  }
 ],
 "metadata": {
  "kernelspec": {
   "display_name": "Python 3",
   "language": "python",
   "name": "python3"
  },
  "language_info": {
   "codemirror_mode": {
    "name": "ipython",
    "version": 3
   },
   "file_extension": ".py",
   "mimetype": "text/x-python",
   "name": "python",
   "nbconvert_exporter": "python",
   "pygments_lexer": "ipython3",
   "version": "3.5.1"
  }
 },
 "nbformat": 4,
 "nbformat_minor": 0
}
