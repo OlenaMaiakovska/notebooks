{
 "cells": [
  {
   "cell_type": "code",
   "execution_count": 1,
   "metadata": {
    "collapsed": false
   },
   "outputs": [],
   "source": [
    "from rdkit.Chem.Scaffolds import MurckoScaffold\n",
    "from rdkit import Chem\n",
    "from rdkit.Chem import Draw, rdDepictor, AllChem\n",
    "from rdkit.Chem.Draw import IPythonConsole, rdMolDraw2D\n",
    "from IPython.display import SVG\n",
    "import pandas as pd\n",
    "\n",
    "%matplotlib inline"
   ]
  },
  {
   "cell_type": "code",
   "execution_count": 2,
   "metadata": {
    "collapsed": false
   },
   "outputs": [
    {
     "data": {
      "image/png": "[encoded data removed]",
      "text/plain": [
       "<rdkit.Chem.rdchem.Mol at 0x1072322b0>"
      ]
     },
     "execution_count": 2,
     "metadata": {},
     "output_type": "execute_result"
    }
   ],
   "source": [
    "mol_smiles = 'CCO[C@@H](Cc1ccc(OCCN2c3ccccc3Oc4ccccc24)cc1)C(=O)O'\n",
    "mol = Chem.MolFromSmiles(mol_smiles)\n",
    "rdDepictor.Compute2DCoords(mol)\n",
    "mol"
   ]
  },
  {
   "cell_type": "code",
   "execution_count": 3,
   "metadata": {
    "collapsed": false
   },
   "outputs": [
    {
     "name": "stdout",
     "output_type": "stream",
     "text": [
      "c1ccc(OCCN2c3ccccc3Oc3ccccc32)cc1\n"
     ]
    },
    {
     "data": {
      "image/png": "[encoded data removed]",
      "text/plain": [
       "<rdkit.Chem.rdchem.Mol at 0x10773af30>"
      ]
     },
     "execution_count": 3,
     "metadata": {},
     "output_type": "execute_result"
    }
   ],
   "source": [
    "scaf = MurckoScaffold.GetScaffoldForMol(mol)\n",
    "print(Chem.MolToSmiles(scaf))\n",
    "scaf"
   ]
  },
  {
   "cell_type": "markdown",
   "metadata": {},
   "source": [
    "Are substructucre's SMILES strings substrings of their structures' SMILES strings? There's no reason it would necessarily bbe this way."
   ]
  },
  {
   "cell_type": "code",
   "execution_count": 4,
   "metadata": {
    "collapsed": false
   },
   "outputs": [
    {
     "data": {
      "text/plain": [
       "False"
      ]
     },
     "execution_count": 4,
     "metadata": {},
     "output_type": "execute_result"
    }
   ],
   "source": [
    "Chem.MolToSmiles(scaf) in mol_smiles"
   ]
  },
  {
   "cell_type": "code",
   "execution_count": 5,
   "metadata": {
    "collapsed": false
   },
   "outputs": [
    {
     "data": {
      "image/svg+xml": [
       "<svg baseProfile=\"full\" height=\"200px\" version=\"1.1\" width=\"400px\" xml:space=\"preserve\" xmlns:rdkit=\"http://www.rdkit.org/xml\" xmlns:svg=\"http://www.w3.org/2000/svg\" xmlns:xlink=\"http://www.w3.org/1999/xlink\">\n",
       "<rect height=\"200\" style=\"opacity:1.0;fill:#FFFFFF;stroke:none\" width=\"400\" x=\"0\" y=\"0\"> </rect>\n",
       "<path d=\"M 118.439,141.428 139.011,116.646\" style=\"fill:none;fill-rule:evenodd;stroke:#FF7F7F;stroke-width:13px;stroke-linecap:butt;stroke-linejoin:miter;stroke-opacity:1\"/>\n",
       "<path d=\"M 118.439,141.428 129.616,171.635\" style=\"fill:none;fill-rule:evenodd;stroke:#FF7F7F;stroke-width:13px;stroke-linecap:butt;stroke-linejoin:miter;stroke-opacity:1\"/>\n",
       "<path d=\"M 139.011,116.646 170.759,122.07\" style=\"fill:none;fill-rule:evenodd;stroke:#FF7F7F;stroke-width:13px;stroke-linecap:butt;stroke-linejoin:miter;stroke-opacity:1\"/>\n",
       "<path d=\"M 170.759,122.07 181.935,152.277\" style=\"fill:none;fill-rule:evenodd;stroke:#FF7F7F;stroke-width:13px;stroke-linecap:butt;stroke-linejoin:miter;stroke-opacity:1\"/>\n",
       "<path d=\"M 181.935,152.277 213.683,157.701\" style=\"fill:none;fill-rule:evenodd;stroke:#FF7F7F;stroke-width:13px;stroke-linecap:butt;stroke-linejoin:miter;stroke-opacity:1\"/>\n",
       "<path d=\"M 181.935,152.277 161.363,177.059\" style=\"fill:none;fill-rule:evenodd;stroke:#FF7F7F;stroke-width:13px;stroke-linecap:butt;stroke-linejoin:miter;stroke-opacity:1\"/>\n",
       "<path d=\"M 213.683,157.701 234.255,132.919\" style=\"fill:none;fill-rule:evenodd;stroke:#FF7F7F;stroke-width:13px;stroke-linecap:butt;stroke-linejoin:miter;stroke-opacity:1\"/>\n",
       "<path d=\"M 234.255,132.919 266.003,138.343\" style=\"fill:none;fill-rule:evenodd;stroke:#FF7F7F;stroke-width:13px;stroke-linecap:butt;stroke-linejoin:miter;stroke-opacity:1\"/>\n",
       "<path d=\"M 266.003,138.343 286.574,113.561\" style=\"fill:none;fill-rule:evenodd;stroke:#FF7F7F;stroke-width:13px;stroke-linecap:butt;stroke-linejoin:miter;stroke-opacity:1\"/>\n",
       "<path d=\"M 286.574,113.561 318.322,118.985\" style=\"fill:none;fill-rule:evenodd;stroke:#FF7F7F;stroke-width:13px;stroke-linecap:butt;stroke-linejoin:miter;stroke-opacity:1\"/>\n",
       "<path d=\"M 286.574,113.561 275.398,83.3543\" style=\"fill:none;fill-rule:evenodd;stroke:#FF7F7F;stroke-width:13px;stroke-linecap:butt;stroke-linejoin:miter;stroke-opacity:1\"/>\n",
       "<path d=\"M 318.322,118.985 329.499,149.192\" style=\"fill:none;fill-rule:evenodd;stroke:#FF7F7F;stroke-width:13px;stroke-linecap:butt;stroke-linejoin:miter;stroke-opacity:1\"/>\n",
       "<path d=\"M 318.322,118.985 338.894,94.2031\" style=\"fill:none;fill-rule:evenodd;stroke:#FF7F7F;stroke-width:13px;stroke-linecap:butt;stroke-linejoin:miter;stroke-opacity:1\"/>\n",
       "<path d=\"M 329.499,149.192 361.247,154.617\" style=\"fill:none;fill-rule:evenodd;stroke:#FF7F7F;stroke-width:13px;stroke-linecap:butt;stroke-linejoin:miter;stroke-opacity:1\"/>\n",
       "<path d=\"M 361.247,154.617 381.818,129.834\" style=\"fill:none;fill-rule:evenodd;stroke:#FF7F7F;stroke-width:13px;stroke-linecap:butt;stroke-linejoin:miter;stroke-opacity:1\"/>\n",
       "<path d=\"M 381.818,129.834 370.642,99.6275\" style=\"fill:none;fill-rule:evenodd;stroke:#FF7F7F;stroke-width:13px;stroke-linecap:butt;stroke-linejoin:miter;stroke-opacity:1\"/>\n",
       "<path d=\"M 370.642,99.6275 338.894,94.2031\" style=\"fill:none;fill-rule:evenodd;stroke:#FF7F7F;stroke-width:13px;stroke-linecap:butt;stroke-linejoin:miter;stroke-opacity:1\"/>\n",
       "<path d=\"M 338.894,94.2031 327.718,63.9964\" style=\"fill:none;fill-rule:evenodd;stroke:#FF7F7F;stroke-width:13px;stroke-linecap:butt;stroke-linejoin:miter;stroke-opacity:1\"/>\n",
       "<path d=\"M 327.718,63.9964 295.97,58.572\" style=\"fill:none;fill-rule:evenodd;stroke:#FF7F7F;stroke-width:13px;stroke-linecap:butt;stroke-linejoin:miter;stroke-opacity:1\"/>\n",
       "<path d=\"M 295.97,58.572 284.793,28.3652\" style=\"fill:none;fill-rule:evenodd;stroke:#FF7F7F;stroke-width:13px;stroke-linecap:butt;stroke-linejoin:miter;stroke-opacity:1\"/>\n",
       "<path d=\"M 295.97,58.572 275.398,83.3543\" style=\"fill:none;fill-rule:evenodd;stroke:#FF7F7F;stroke-width:13px;stroke-linecap:butt;stroke-linejoin:miter;stroke-opacity:1\"/>\n",
       "<path d=\"M 284.793,28.3652 253.045,22.9408\" style=\"fill:none;fill-rule:evenodd;stroke:#FF7F7F;stroke-width:13px;stroke-linecap:butt;stroke-linejoin:miter;stroke-opacity:1\"/>\n",
       "<path d=\"M 253.045,22.9408 232.474,47.7231\" style=\"fill:none;fill-rule:evenodd;stroke:#FF7F7F;stroke-width:13px;stroke-linecap:butt;stroke-linejoin:miter;stroke-opacity:1\"/>\n",
       "<path d=\"M 232.474,47.7231 243.65,77.9299\" style=\"fill:none;fill-rule:evenodd;stroke:#FF7F7F;stroke-width:13px;stroke-linecap:butt;stroke-linejoin:miter;stroke-opacity:1\"/>\n",
       "<path d=\"M 243.65,77.9299 275.398,83.3543\" style=\"fill:none;fill-rule:evenodd;stroke:#FF7F7F;stroke-width:13px;stroke-linecap:butt;stroke-linejoin:miter;stroke-opacity:1\"/>\n",
       "<path d=\"M 161.363,177.059 129.616,171.635\" style=\"fill:none;fill-rule:evenodd;stroke:#FF7F7F;stroke-width:13px;stroke-linecap:butt;stroke-linejoin:miter;stroke-opacity:1\"/>\n",
       "<ellipse cx=\"118.439\" cy=\"141.428\" rx=\"8.58881\" ry=\"8.58881\" style=\"fill:#FF7F7F;fill-rule:evenoddstroke:#FF7F7F;stroke-width:1px;stroke-linecap:butt;stroke-linejoin:miter;stroke-opacity:1\"/>\n",
       "<ellipse cx=\"139.011\" cy=\"116.646\" rx=\"8.58881\" ry=\"8.58881\" style=\"fill:#FF7F7F;fill-rule:evenoddstroke:#FF7F7F;stroke-width:1px;stroke-linecap:butt;stroke-linejoin:miter;stroke-opacity:1\"/>\n",
       "<ellipse cx=\"170.759\" cy=\"122.07\" rx=\"8.58881\" ry=\"8.58881\" style=\"fill:#FF7F7F;fill-rule:evenoddstroke:#FF7F7F;stroke-width:1px;stroke-linecap:butt;stroke-linejoin:miter;stroke-opacity:1\"/>\n",
       "<ellipse cx=\"181.935\" cy=\"152.277\" rx=\"8.58881\" ry=\"8.58881\" style=\"fill:#FF7F7F;fill-rule:evenoddstroke:#FF7F7F;stroke-width:1px;stroke-linecap:butt;stroke-linejoin:miter;stroke-opacity:1\"/>\n",
       "<ellipse cx=\"213.683\" cy=\"157.701\" rx=\"8.58881\" ry=\"8.58881\" style=\"fill:#FF7F7F;fill-rule:evenoddstroke:#FF7F7F;stroke-width:1px;stroke-linecap:butt;stroke-linejoin:miter;stroke-opacity:1\"/>\n",
       "<ellipse cx=\"234.255\" cy=\"132.919\" rx=\"8.58881\" ry=\"8.58881\" style=\"fill:#FF7F7F;fill-rule:evenoddstroke:#FF7F7F;stroke-width:1px;stroke-linecap:butt;stroke-linejoin:miter;stroke-opacity:1\"/>\n",
       "<ellipse cx=\"266.003\" cy=\"138.343\" rx=\"8.58881\" ry=\"8.58881\" style=\"fill:#FF7F7F;fill-rule:evenoddstroke:#FF7F7F;stroke-width:1px;stroke-linecap:butt;stroke-linejoin:miter;stroke-opacity:1\"/>\n",
       "<ellipse cx=\"286.574\" cy=\"113.561\" rx=\"8.58881\" ry=\"8.58881\" style=\"fill:#FF7F7F;fill-rule:evenoddstroke:#FF7F7F;stroke-width:1px;stroke-linecap:butt;stroke-linejoin:miter;stroke-opacity:1\"/>\n",
       "<ellipse cx=\"318.322\" cy=\"118.985\" rx=\"8.58881\" ry=\"8.58881\" style=\"fill:#FF7F7F;fill-rule:evenoddstroke:#FF7F7F;stroke-width:1px;stroke-linecap:butt;stroke-linejoin:miter;stroke-opacity:1\"/>\n",
       "<ellipse cx=\"329.499\" cy=\"149.192\" rx=\"8.58881\" ry=\"8.58881\" style=\"fill:#FF7F7F;fill-rule:evenoddstroke:#FF7F7F;stroke-width:1px;stroke-linecap:butt;stroke-linejoin:miter;stroke-opacity:1\"/>\n",
       "<ellipse cx=\"361.247\" cy=\"154.617\" rx=\"8.58881\" ry=\"8.58881\" style=\"fill:#FF7F7F;fill-rule:evenoddstroke:#FF7F7F;stroke-width:1px;stroke-linecap:butt;stroke-linejoin:miter;stroke-opacity:1\"/>\n",
       "<ellipse cx=\"381.818\" cy=\"129.834\" rx=\"8.58881\" ry=\"8.58881\" style=\"fill:#FF7F7F;fill-rule:evenoddstroke:#FF7F7F;stroke-width:1px;stroke-linecap:butt;stroke-linejoin:miter;stroke-opacity:1\"/>\n",
       "<ellipse cx=\"370.642\" cy=\"99.6275\" rx=\"8.58881\" ry=\"8.58881\" style=\"fill:#FF7F7F;fill-rule:evenoddstroke:#FF7F7F;stroke-width:1px;stroke-linecap:butt;stroke-linejoin:miter;stroke-opacity:1\"/>\n",
       "<ellipse cx=\"338.894\" cy=\"94.2031\" rx=\"8.58881\" ry=\"8.58881\" style=\"fill:#FF7F7F;fill-rule:evenoddstroke:#FF7F7F;stroke-width:1px;stroke-linecap:butt;stroke-linejoin:miter;stroke-opacity:1\"/>\n",
       "<ellipse cx=\"327.718\" cy=\"63.9964\" rx=\"8.58881\" ry=\"8.58881\" style=\"fill:#FF7F7F;fill-rule:evenoddstroke:#FF7F7F;stroke-width:1px;stroke-linecap:butt;stroke-linejoin:miter;stroke-opacity:1\"/>\n",
       "<ellipse cx=\"295.97\" cy=\"58.572\" rx=\"8.58881\" ry=\"8.58881\" style=\"fill:#FF7F7F;fill-rule:evenoddstroke:#FF7F7F;stroke-width:1px;stroke-linecap:butt;stroke-linejoin:miter;stroke-opacity:1\"/>\n",
       "<ellipse cx=\"284.793\" cy=\"28.3652\" rx=\"8.58881\" ry=\"8.58881\" style=\"fill:#FF7F7F;fill-rule:evenoddstroke:#FF7F7F;stroke-width:1px;stroke-linecap:butt;stroke-linejoin:miter;stroke-opacity:1\"/>\n",
       "<ellipse cx=\"253.045\" cy=\"22.9408\" rx=\"8.58881\" ry=\"8.58881\" style=\"fill:#FF7F7F;fill-rule:evenoddstroke:#FF7F7F;stroke-width:1px;stroke-linecap:butt;stroke-linejoin:miter;stroke-opacity:1\"/>\n",
       "<ellipse cx=\"232.474\" cy=\"47.7231\" rx=\"8.58881\" ry=\"8.58881\" style=\"fill:#FF7F7F;fill-rule:evenoddstroke:#FF7F7F;stroke-width:1px;stroke-linecap:butt;stroke-linejoin:miter;stroke-opacity:1\"/>\n",
       "<ellipse cx=\"243.65\" cy=\"77.9299\" rx=\"8.58881\" ry=\"8.58881\" style=\"fill:#FF7F7F;fill-rule:evenoddstroke:#FF7F7F;stroke-width:1px;stroke-linecap:butt;stroke-linejoin:miter;stroke-opacity:1\"/>\n",
       "<ellipse cx=\"275.398\" cy=\"83.3543\" rx=\"8.58881\" ry=\"8.58881\" style=\"fill:#FF7F7F;fill-rule:evenoddstroke:#FF7F7F;stroke-width:1px;stroke-linecap:butt;stroke-linejoin:miter;stroke-opacity:1\"/>\n",
       "<ellipse cx=\"161.363\" cy=\"177.059\" rx=\"8.58881\" ry=\"8.58881\" style=\"fill:#FF7F7F;fill-rule:evenoddstroke:#FF7F7F;stroke-width:1px;stroke-linecap:butt;stroke-linejoin:miter;stroke-opacity:1\"/>\n",
       "<ellipse cx=\"129.616\" cy=\"171.635\" rx=\"8.58881\" ry=\"8.58881\" style=\"fill:#FF7F7F;fill-rule:evenoddstroke:#FF7F7F;stroke-width:1px;stroke-linecap:butt;stroke-linejoin:miter;stroke-opacity:1\"/>\n",
       "<path d=\"M 105.482,26.0255 84.9103,50.8078\" style=\"fill:none;fill-rule:evenodd;stroke:#000000;stroke-width:2px;stroke-linecap:butt;stroke-linejoin:miter;stroke-opacity:1\"/>\n",
       "<path d=\"M 84.9103,50.8078 89.5054,63.2272\" style=\"fill:none;fill-rule:evenodd;stroke:#000000;stroke-width:2px;stroke-linecap:butt;stroke-linejoin:miter;stroke-opacity:1\"/>\n",
       "<path d=\"M 89.5054,63.2272 94.1005,75.6466\" style=\"fill:none;fill-rule:evenodd;stroke:#FF0000;stroke-width:2px;stroke-linecap:butt;stroke-linejoin:miter;stroke-opacity:1\"/>\n",
       "<path d=\"M 91.6307,86.3826 83.5728,96.0897\" style=\"fill:none;fill-rule:evenodd;stroke:#FF0000;stroke-width:2px;stroke-linecap:butt;stroke-linejoin:miter;stroke-opacity:1\"/>\n",
       "<path d=\"M 83.5728,96.0897 75.515,105.797\" style=\"fill:none;fill-rule:evenodd;stroke:#000000;stroke-width:2px;stroke-linecap:butt;stroke-linejoin:miter;stroke-opacity:1\"/>\n",
       "<path d=\"M 75.515,105.797 86.6913,136.004\" style=\"fill:none;fill-rule:evenodd;stroke:#000000;stroke-width:2px;stroke-linecap:butt;stroke-linejoin:miter;stroke-opacity:1\"/>\n",
       "<path d=\"M 75.515,105.797 43.767,100.372\" style=\"fill:none;fill-rule:evenodd;stroke:#000000;stroke-width:2px;stroke-linecap:butt;stroke-linejoin:miter;stroke-opacity:1\"/>\n",
       "<path d=\"M 86.6913,136.004 118.439,141.428\" style=\"fill:none;fill-rule:evenodd;stroke:#000000;stroke-width:2px;stroke-linecap:butt;stroke-linejoin:miter;stroke-opacity:1\"/>\n",
       "<path d=\"M 118.439,141.428 139.011,116.646\" style=\"fill:none;fill-rule:evenodd;stroke:#000000;stroke-width:2px;stroke-linecap:butt;stroke-linejoin:miter;stroke-opacity:1\"/>\n",
       "<path d=\"M 126.481,141.825 140.882,124.477\" style=\"fill:none;fill-rule:evenodd;stroke:#000000;stroke-width:2px;stroke-linecap:butt;stroke-linejoin:miter;stroke-opacity:1;stroke-dasharray:6,6\"/>\n",
       "<path d=\"M 118.439,141.428 129.616,171.635\" style=\"fill:none;fill-rule:evenodd;stroke:#000000;stroke-width:2px;stroke-linecap:butt;stroke-linejoin:miter;stroke-opacity:1\"/>\n",
       "<path d=\"M 126.157,143.724 133.98,164.869\" style=\"fill:none;fill-rule:evenodd;stroke:#000000;stroke-width:2px;stroke-linecap:butt;stroke-linejoin:miter;stroke-opacity:1;stroke-dasharray:6,6\"/>\n",
       "<path d=\"M 139.011,116.646 170.759,122.07\" style=\"fill:none;fill-rule:evenodd;stroke:#000000;stroke-width:2px;stroke-linecap:butt;stroke-linejoin:miter;stroke-opacity:1\"/>\n",
       "<path d=\"M 142.688,123.809 164.912,127.606\" style=\"fill:none;fill-rule:evenodd;stroke:#000000;stroke-width:2px;stroke-linecap:butt;stroke-linejoin:miter;stroke-opacity:1;stroke-dasharray:6,6\"/>\n",
       "<path d=\"M 170.759,122.07 181.935,152.277\" style=\"fill:none;fill-rule:evenodd;stroke:#000000;stroke-width:2px;stroke-linecap:butt;stroke-linejoin:miter;stroke-opacity:1\"/>\n",
       "<path d=\"M 166.394,128.836 174.217,149.981\" style=\"fill:none;fill-rule:evenodd;stroke:#000000;stroke-width:2px;stroke-linecap:butt;stroke-linejoin:miter;stroke-opacity:1;stroke-dasharray:6,6\"/>\n",
       "<path d=\"M 181.935,152.277 195.302,154.561\" style=\"fill:none;fill-rule:evenodd;stroke:#000000;stroke-width:2px;stroke-linecap:butt;stroke-linejoin:miter;stroke-opacity:1\"/>\n",
       "<path d=\"M 195.302,154.561 208.67,156.845\" style=\"fill:none;fill-rule:evenodd;stroke:#FF0000;stroke-width:2px;stroke-linecap:butt;stroke-linejoin:miter;stroke-opacity:1\"/>\n",
       "<path d=\"M 181.935,152.277 161.363,177.059\" style=\"fill:none;fill-rule:evenodd;stroke:#000000;stroke-width:2px;stroke-linecap:butt;stroke-linejoin:miter;stroke-opacity:1\"/>\n",
       "<path d=\"M 173.893,151.88 159.493,169.228\" style=\"fill:none;fill-rule:evenodd;stroke:#000000;stroke-width:2px;stroke-linecap:butt;stroke-linejoin:miter;stroke-opacity:1;stroke-dasharray:6,6\"/>\n",
       "<path d=\"M 218.139,152.333 226.197,142.626\" style=\"fill:none;fill-rule:evenodd;stroke:#FF0000;stroke-width:2px;stroke-linecap:butt;stroke-linejoin:miter;stroke-opacity:1\"/>\n",
       "<path d=\"M 226.197,142.626 234.255,132.919\" style=\"fill:none;fill-rule:evenodd;stroke:#000000;stroke-width:2px;stroke-linecap:butt;stroke-linejoin:miter;stroke-opacity:1\"/>\n",
       "<path d=\"M 234.255,132.919 266.003,138.343\" style=\"fill:none;fill-rule:evenodd;stroke:#000000;stroke-width:2px;stroke-linecap:butt;stroke-linejoin:miter;stroke-opacity:1\"/>\n",
       "<path d=\"M 266.003,138.343 274.061,128.636\" style=\"fill:none;fill-rule:evenodd;stroke:#000000;stroke-width:2px;stroke-linecap:butt;stroke-linejoin:miter;stroke-opacity:1\"/>\n",
       "<path d=\"M 274.061,128.636 282.118,118.929\" style=\"fill:none;fill-rule:evenodd;stroke:#0000FF;stroke-width:2px;stroke-linecap:butt;stroke-linejoin:miter;stroke-opacity:1\"/>\n",
       "<path d=\"M 291.227,114.356 304.775,116.671\" style=\"fill:none;fill-rule:evenodd;stroke:#0000FF;stroke-width:2px;stroke-linecap:butt;stroke-linejoin:miter;stroke-opacity:1\"/>\n",
       "<path d=\"M 304.775,116.671 318.322,118.985\" style=\"fill:none;fill-rule:evenodd;stroke:#000000;stroke-width:2px;stroke-linecap:butt;stroke-linejoin:miter;stroke-opacity:1\"/>\n",
       "<path d=\"M 284.588,108.193 279.993,95.7737\" style=\"fill:none;fill-rule:evenodd;stroke:#0000FF;stroke-width:2px;stroke-linecap:butt;stroke-linejoin:miter;stroke-opacity:1\"/>\n",
       "<path d=\"M 279.993,95.7737 275.398,83.3543\" style=\"fill:none;fill-rule:evenodd;stroke:#000000;stroke-width:2px;stroke-linecap:butt;stroke-linejoin:miter;stroke-opacity:1\"/>\n",
       "<path d=\"M 318.322,118.985 329.499,149.192\" style=\"fill:none;fill-rule:evenodd;stroke:#000000;stroke-width:2px;stroke-linecap:butt;stroke-linejoin:miter;stroke-opacity:1\"/>\n",
       "<path d=\"M 326.04,121.281 333.863,142.426\" style=\"fill:none;fill-rule:evenodd;stroke:#000000;stroke-width:2px;stroke-linecap:butt;stroke-linejoin:miter;stroke-opacity:1;stroke-dasharray:6,6\"/>\n",
       "<path d=\"M 318.322,118.985 338.894,94.2031\" style=\"fill:none;fill-rule:evenodd;stroke:#000000;stroke-width:2px;stroke-linecap:butt;stroke-linejoin:miter;stroke-opacity:1\"/>\n",
       "<path d=\"M 326.364,119.382 340.765,102.035\" style=\"fill:none;fill-rule:evenodd;stroke:#000000;stroke-width:2px;stroke-linecap:butt;stroke-linejoin:miter;stroke-opacity:1;stroke-dasharray:6,6\"/>\n",
       "<path d=\"M 329.499,149.192 361.247,154.617\" style=\"fill:none;fill-rule:evenodd;stroke:#000000;stroke-width:2px;stroke-linecap:butt;stroke-linejoin:miter;stroke-opacity:1\"/>\n",
       "<path d=\"M 335.346,143.656 357.569,147.453\" style=\"fill:none;fill-rule:evenodd;stroke:#000000;stroke-width:2px;stroke-linecap:butt;stroke-linejoin:miter;stroke-opacity:1;stroke-dasharray:6,6\"/>\n",
       "<path d=\"M 361.247,154.617 381.818,129.834\" style=\"fill:none;fill-rule:evenodd;stroke:#000000;stroke-width:2px;stroke-linecap:butt;stroke-linejoin:miter;stroke-opacity:1\"/>\n",
       "<path d=\"M 359.376,146.785 373.776,129.437\" style=\"fill:none;fill-rule:evenodd;stroke:#000000;stroke-width:2px;stroke-linecap:butt;stroke-linejoin:miter;stroke-opacity:1;stroke-dasharray:6,6\"/>\n",
       "<path d=\"M 381.818,129.834 370.642,99.6275\" style=\"fill:none;fill-rule:evenodd;stroke:#000000;stroke-width:2px;stroke-linecap:butt;stroke-linejoin:miter;stroke-opacity:1\"/>\n",
       "<path d=\"M 374.1,127.539 366.277,106.394\" style=\"fill:none;fill-rule:evenodd;stroke:#000000;stroke-width:2px;stroke-linecap:butt;stroke-linejoin:miter;stroke-opacity:1;stroke-dasharray:6,6\"/>\n",
       "<path d=\"M 370.642,99.6275 338.894,94.2031\" style=\"fill:none;fill-rule:evenodd;stroke:#000000;stroke-width:2px;stroke-linecap:butt;stroke-linejoin:miter;stroke-opacity:1\"/>\n",
       "<path d=\"M 364.795,105.163 342.571,101.366\" style=\"fill:none;fill-rule:evenodd;stroke:#000000;stroke-width:2px;stroke-linecap:butt;stroke-linejoin:miter;stroke-opacity:1;stroke-dasharray:6,6\"/>\n",
       "<path d=\"M 338.894,94.2031 334.299,81.7837\" style=\"fill:none;fill-rule:evenodd;stroke:#000000;stroke-width:2px;stroke-linecap:butt;stroke-linejoin:miter;stroke-opacity:1\"/>\n",
       "<path d=\"M 334.299,81.7837 329.704,69.3644\" style=\"fill:none;fill-rule:evenodd;stroke:#FF0000;stroke-width:2px;stroke-linecap:butt;stroke-linejoin:miter;stroke-opacity:1\"/>\n",
       "<path d=\"M 322.704,63.1398 309.337,60.8559\" style=\"fill:none;fill-rule:evenodd;stroke:#FF0000;stroke-width:2px;stroke-linecap:butt;stroke-linejoin:miter;stroke-opacity:1\"/>\n",
       "<path d=\"M 309.337,60.8559 295.97,58.572\" style=\"fill:none;fill-rule:evenodd;stroke:#000000;stroke-width:2px;stroke-linecap:butt;stroke-linejoin:miter;stroke-opacity:1\"/>\n",
       "<path d=\"M 295.97,58.572 284.793,28.3652\" style=\"fill:none;fill-rule:evenodd;stroke:#000000;stroke-width:2px;stroke-linecap:butt;stroke-linejoin:miter;stroke-opacity:1\"/>\n",
       "<path d=\"M 288.252,56.2762 280.428,35.1315\" style=\"fill:none;fill-rule:evenodd;stroke:#000000;stroke-width:2px;stroke-linecap:butt;stroke-linejoin:miter;stroke-opacity:1;stroke-dasharray:6,6\"/>\n",
       "<path d=\"M 295.97,58.572 275.398,83.3543\" style=\"fill:none;fill-rule:evenodd;stroke:#000000;stroke-width:2px;stroke-linecap:butt;stroke-linejoin:miter;stroke-opacity:1\"/>\n",
       "<path d=\"M 287.927,58.175 273.527,75.5226\" style=\"fill:none;fill-rule:evenodd;stroke:#000000;stroke-width:2px;stroke-linecap:butt;stroke-linejoin:miter;stroke-opacity:1;stroke-dasharray:6,6\"/>\n",
       "<path d=\"M 284.793,28.3652 253.045,22.9408\" style=\"fill:none;fill-rule:evenodd;stroke:#000000;stroke-width:2px;stroke-linecap:butt;stroke-linejoin:miter;stroke-opacity:1\"/>\n",
       "<path d=\"M 278.946,33.9012 256.723,30.1041\" style=\"fill:none;fill-rule:evenodd;stroke:#000000;stroke-width:2px;stroke-linecap:butt;stroke-linejoin:miter;stroke-opacity:1;stroke-dasharray:6,6\"/>\n",
       "<path d=\"M 253.045,22.9408 232.474,47.7231\" style=\"fill:none;fill-rule:evenodd;stroke:#000000;stroke-width:2px;stroke-linecap:butt;stroke-linejoin:miter;stroke-opacity:1\"/>\n",
       "<path d=\"M 254.916,30.7725 240.516,48.1201\" style=\"fill:none;fill-rule:evenodd;stroke:#000000;stroke-width:2px;stroke-linecap:butt;stroke-linejoin:miter;stroke-opacity:1;stroke-dasharray:6,6\"/>\n",
       "<path d=\"M 232.474,47.7231 243.65,77.9299\" style=\"fill:none;fill-rule:evenodd;stroke:#000000;stroke-width:2px;stroke-linecap:butt;stroke-linejoin:miter;stroke-opacity:1\"/>\n",
       "<path d=\"M 240.192,50.0189 248.015,71.1636\" style=\"fill:none;fill-rule:evenodd;stroke:#000000;stroke-width:2px;stroke-linecap:butt;stroke-linejoin:miter;stroke-opacity:1;stroke-dasharray:6,6\"/>\n",
       "<path d=\"M 243.65,77.9299 275.398,83.3543\" style=\"fill:none;fill-rule:evenodd;stroke:#000000;stroke-width:2px;stroke-linecap:butt;stroke-linejoin:miter;stroke-opacity:1\"/>\n",
       "<path d=\"M 249.497,72.394 271.721,76.191\" style=\"fill:none;fill-rule:evenodd;stroke:#000000;stroke-width:2px;stroke-linecap:butt;stroke-linejoin:miter;stroke-opacity:1;stroke-dasharray:6,6\"/>\n",
       "<path d=\"M 161.363,177.059 129.616,171.635\" style=\"fill:none;fill-rule:evenodd;stroke:#000000;stroke-width:2px;stroke-linecap:butt;stroke-linejoin:miter;stroke-opacity:1\"/>\n",
       "<path d=\"M 157.686,169.896 135.463,166.099\" style=\"fill:none;fill-rule:evenodd;stroke:#000000;stroke-width:2px;stroke-linecap:butt;stroke-linejoin:miter;stroke-opacity:1;stroke-dasharray:6,6\"/>\n",
       "<path d=\"M 41.2888,98.3153 33.231,108.022\" style=\"fill:none;fill-rule:evenodd;stroke:#000000;stroke-width:2px;stroke-linecap:butt;stroke-linejoin:miter;stroke-opacity:1\"/>\n",
       "<path d=\"M 33.231,108.022 25.1731,117.73\" style=\"fill:none;fill-rule:evenodd;stroke:#FF0000;stroke-width:2px;stroke-linecap:butt;stroke-linejoin:miter;stroke-opacity:1\"/>\n",
       "<path d=\"M 46.2453,102.43 38.1874,112.137\" style=\"fill:none;fill-rule:evenodd;stroke:#000000;stroke-width:2px;stroke-linecap:butt;stroke-linejoin:miter;stroke-opacity:1\"/>\n",
       "<path d=\"M 38.1874,112.137 30.1296,121.844\" style=\"fill:none;fill-rule:evenodd;stroke:#FF0000;stroke-width:2px;stroke-linecap:butt;stroke-linejoin:miter;stroke-opacity:1\"/>\n",
       "<path d=\"M 43.767,100.372 39.172,87.9531\" style=\"fill:none;fill-rule:evenodd;stroke:#000000;stroke-width:2px;stroke-linecap:butt;stroke-linejoin:miter;stroke-opacity:1\"/>\n",
       "<path d=\"M 39.172,87.9531 34.5769,75.5337\" style=\"fill:none;fill-rule:evenodd;stroke:#FF0000;stroke-width:2px;stroke-linecap:butt;stroke-linejoin:miter;stroke-opacity:1\"/>\n",
       "<text style=\"font-size:10px;font-style:normal;font-weight:normal;fill-opacity:1;stroke:none;font-family:sans-serif;text-anchor:start;fill:#FF0000\" x=\"91.0731\" y=\"86.3826\"><tspan>O</tspan></text>\n",
       "<text style=\"font-size:10px;font-style:normal;font-weight:normal;fill-opacity:1;stroke:none;font-family:sans-serif;text-anchor:start;fill:#FF0000\" x=\"208.67\" y=\"163.069\"><tspan>O</tspan></text>\n",
       "<text style=\"font-size:10px;font-style:normal;font-weight:normal;fill-opacity:1;stroke:none;font-family:sans-serif;text-anchor:start;fill:#0000FF\" x=\"281.922\" y=\"118.929\"><tspan>N</tspan></text>\n",
       "<text style=\"font-size:10px;font-style:normal;font-weight:normal;fill-opacity:1;stroke:none;font-family:sans-serif;text-anchor:start;fill:#FF0000\" x=\"322.704\" y=\"69.3644\"><tspan>O</tspan></text>\n",
       "<text style=\"font-size:10px;font-style:normal;font-weight:normal;fill-opacity:1;stroke:none;font-family:sans-serif;text-anchor:start;fill:#FF0000\" x=\"18.1818\" y=\"130.523\"><tspan>O</tspan></text>\n",
       "<text style=\"font-size:10px;font-style:normal;font-weight:normal;fill-opacity:1;stroke:none;font-family:sans-serif;text-anchor:start;fill:#FF0000\" x=\"22.9245\" y=\"75.5337\"><tspan>OH</tspan></text>\n",
       "</svg>"
      ],
      "text/plain": [
       "<IPython.core.display.SVG object>"
      ]
     },
     "execution_count": 5,
     "metadata": {},
     "output_type": "execute_result"
    }
   ],
   "source": [
    "drawer = rdMolDraw2D.MolDraw2DSVG(400, 200)\n",
    "drawer.DrawMolecule(mol, highlightAtoms=mol.GetSubstructMatch(scaf))\n",
    "drawer.FinishDrawing()\n",
    "svg = drawer.GetDrawingText().replace('svg:', '')\n",
    "SVG(svg)"
   ]
  },
  {
   "cell_type": "markdown",
   "metadata": {},
   "source": [
    "# Day 2"
   ]
  },
  {
   "cell_type": "code",
   "execution_count": 6,
   "metadata": {
    "collapsed": true
   },
   "outputs": [],
   "source": [
    "from rdkit.Chem.rdmolfiles import SDWriter\n",
    "import os\n",
    "base = os.path.expanduser('~/GoogleDrive/Bonn/MMDDLabCourse/')"
   ]
  },
  {
   "cell_type": "code",
   "execution_count": 7,
   "metadata": {
    "collapsed": false
   },
   "outputs": [
    {
     "data": {
      "image/png": "[encoded data removed]",
      "text/plain": [
       "<rdkit.Chem.rdchem.Mol at 0x1078142b0>"
      ]
     },
     "execution_count": 7,
     "metadata": {},
     "output_type": "execute_result"
    }
   ],
   "source": [
    "m = Chem.MolFromSmiles(mol_smiles)\n",
    "m"
   ]
  },
  {
   "cell_type": "code",
   "execution_count": 8,
   "metadata": {
    "collapsed": false
   },
   "outputs": [
    {
     "data": {
      "image/png": "[encoded data removed]",
      "text/plain": [
       "<rdkit.Chem.rdchem.Mol at 0x107814440>"
      ]
     },
     "execution_count": 8,
     "metadata": {},
     "output_type": "execute_result"
    }
   ],
   "source": [
    "m = Chem.AddHs(m)\n",
    "AllChem.EmbedMolecule(m)\n",
    "m"
   ]
  },
  {
   "cell_type": "code",
   "execution_count": 9,
   "metadata": {
    "collapsed": false
   },
   "outputs": [
    {
     "data": {
      "text/plain": [
       "261.6807625643878"
      ]
     },
     "execution_count": 9,
     "metadata": {},
     "output_type": "execute_result"
    }
   ],
   "source": [
    "mmff_props = AllChem.MMFFGetMoleculeProperties(m)\n",
    "ff = AllChem.MMFFGetMoleculeForceField(m, mmff_props)\n",
    "start_energy = ff.CalcEnergy()\n",
    "start_energy"
   ]
  },
  {
   "cell_type": "code",
   "execution_count": 10,
   "metadata": {
    "collapsed": false
   },
   "outputs": [
    {
     "name": "stdout",
     "output_type": "stream",
     "text": [
      "Optimize exit code: 0\n",
      "155.6612620718\n"
     ]
    },
    {
     "data": {
      "image/png": "[encoded data removed]",
      "text/plain": [
       "<rdkit.Chem.rdchem.Mol at 0x107814440>"
      ]
     },
     "execution_count": 10,
     "metadata": {},
     "output_type": "execute_result"
    }
   ],
   "source": [
    "optimize_exit_code = AllChem.MMFFOptimizeMolecule(m, maxIters=1000)\n",
    "print('Optimize exit code: {}'.format(optimize_exit_code))\n",
    "end_energy = ff.CalcEnergy()\n",
    "print(end_energy)\n",
    "m"
   ]
  },
  {
   "cell_type": "code",
   "execution_count": 11,
   "metadata": {
    "collapsed": false
   },
   "outputs": [],
   "source": [
    "with open(os.path.join(base, 'example.sdf'), 'w') as f:\n",
    "    writer = SDWriter(f)\n",
    "    writer.write(m)\n",
    "    writer.close()"
   ]
  },
  {
   "cell_type": "markdown",
   "metadata": {},
   "source": [
    "Create molecules for each, optimize, and show energies under MMFF force field before and after"
   ]
  },
  {
   "cell_type": "code",
   "execution_count": 12,
   "metadata": {
    "collapsed": true
   },
   "outputs": [],
   "source": [
    "#from rdkit.Chem import PandasTools"
   ]
  },
  {
   "cell_type": "code",
   "execution_count": 13,
   "metadata": {
    "collapsed": false
   },
   "outputs": [
    {
     "data": {
      "text/html": [
       "<div>\n",
       "<table border=\"1\" class=\"dataframe\">\n",
       "  <thead>\n",
       "    <tr style=\"text-align: right;\">\n",
       "      <th></th>\n",
       "      <th>name</th>\n",
       "      <th>smiles</th>\n",
       "      <th>murko</th>\n",
       "      <th>start energy</th>\n",
       "      <th>final energy</th>\n",
       "      <th>exit code</th>\n",
       "    </tr>\n",
       "  </thead>\n",
       "  <tbody>\n",
       "    <tr>\n",
       "      <th>0</th>\n",
       "      <td>atropine</td>\n",
       "      <td>O=C(O[C@@H]1C[C@@H]2CC[C@@H](N2C)C1)C(C3=CC=CC...</td>\n",
       "      <td>&lt;rdkit.Chem.rdchem.Mol object at 0x107814df0&gt;</td>\n",
       "      <td>250.062669</td>\n",
       "      <td>216.776616</td>\n",
       "      <td>0</td>\n",
       "    </tr>\n",
       "    <tr>\n",
       "      <th>1</th>\n",
       "      <td>berberine</td>\n",
       "      <td>COC1=CC=C2C(C=[N+](CCC3=C4C=C(OCO5)C5=C3)C4=C2...</td>\n",
       "      <td>&lt;rdkit.Chem.rdchem.Mol object at 0x1078145d0&gt;</td>\n",
       "      <td>201.021157</td>\n",
       "      <td>105.813492</td>\n",
       "      <td>0</td>\n",
       "    </tr>\n",
       "    <tr>\n",
       "      <th>2</th>\n",
       "      <td>bis-phenylamidine</td>\n",
       "      <td>N=C(N)C1=CC=CC(C(CCC2=CC=C(C(N)=N)C=C2)CC(OC)=...</td>\n",
       "      <td>&lt;rdkit.Chem.rdchem.Mol object at 0x107814760&gt;</td>\n",
       "      <td>159.051709</td>\n",
       "      <td>-8.752961</td>\n",
       "      <td>0</td>\n",
       "    </tr>\n",
       "    <tr>\n",
       "      <th>3</th>\n",
       "      <td>estradiol</td>\n",
       "      <td>C[C@]12CC[C@@H]3c4ccc(cc4CC[C@H]3[C@@H]1CC[C@@...</td>\n",
       "      <td>&lt;rdkit.Chem.rdchem.Mol object at 0x107814940&gt;</td>\n",
       "      <td>110.395442</td>\n",
       "      <td>84.678068</td>\n",
       "      <td>0</td>\n",
       "    </tr>\n",
       "    <tr>\n",
       "      <th>4</th>\n",
       "      <td>fumagillin</td>\n",
       "      <td>CC(=CC[C@@H]1[C@@](O1)(C)[C@H]2[C@@H]([C@@H](C...</td>\n",
       "      <td>&lt;rdkit.Chem.rdchem.Mol object at 0x107814c60&gt;</td>\n",
       "      <td>246.417723</td>\n",
       "      <td>125.241589</td>\n",
       "      <td>0</td>\n",
       "    </tr>\n",
       "    <tr>\n",
       "      <th>5</th>\n",
       "      <td>lisinopril</td>\n",
       "      <td>c1ccc(cc1)CC[C@@H](C(=O)O)N[C@@H](CCCCN)C(=O)N...</td>\n",
       "      <td>&lt;rdkit.Chem.rdchem.Mol object at 0x107814d50&gt;</td>\n",
       "      <td>255.508759</td>\n",
       "      <td>146.035608</td>\n",
       "      <td>0</td>\n",
       "    </tr>\n",
       "    <tr>\n",
       "      <th>6</th>\n",
       "      <td>lovastatin</td>\n",
       "      <td>CC[C@H](C)C(=O)O[C@H]1C[C@H](C=C2[C@H]1[C@H]([...</td>\n",
       "      <td>&lt;rdkit.Chem.rdchem.Mol object at 0x107814b70&gt;</td>\n",
       "      <td>148.056170</td>\n",
       "      <td>97.655000</td>\n",
       "      <td>0</td>\n",
       "    </tr>\n",
       "    <tr>\n",
       "      <th>7</th>\n",
       "      <td>methotrexate</td>\n",
       "      <td>CN(Cc1cnc2c(n1)c(nc(n2)N)N)c3ccc(cc3)C(=O)N[C@...</td>\n",
       "      <td>&lt;rdkit.Chem.rdchem.Mol object at 0x107814c10&gt;</td>\n",
       "      <td>172.449895</td>\n",
       "      <td>34.330245</td>\n",
       "      <td>0</td>\n",
       "    </tr>\n",
       "    <tr>\n",
       "      <th>8</th>\n",
       "      <td>morphine</td>\n",
       "      <td>CN1CC[C@]23c4c5ccc(c4O[C@H]2[C@H](C=C[C@H]3[C@...</td>\n",
       "      <td>&lt;rdkit.Chem.rdchem.Mol object at 0x107814da0&gt;</td>\n",
       "      <td>167.484776</td>\n",
       "      <td>127.901343</td>\n",
       "      <td>0</td>\n",
       "    </tr>\n",
       "    <tr>\n",
       "      <th>9</th>\n",
       "      <td>penacillin g</td>\n",
       "      <td>CC1([C@@H](N2[C@H](S1)[C@@H](C2=O)/N=C(\\Cc3ccc...</td>\n",
       "      <td>&lt;rdkit.Chem.rdchem.Mol object at 0x107814850&gt;</td>\n",
       "      <td>253.797264</td>\n",
       "      <td>141.786167</td>\n",
       "      <td>0</td>\n",
       "    </tr>\n",
       "    <tr>\n",
       "      <th>10</th>\n",
       "      <td>ragaglitazar</td>\n",
       "      <td>CCO[C@@H](Cc1ccc(cc1)OCCN2c3ccccc3Oc4c2cccc4)C...</td>\n",
       "      <td>&lt;rdkit.Chem.rdchem.Mol object at 0x1077d4e40&gt;</td>\n",
       "      <td>265.864890</td>\n",
       "      <td>160.417822</td>\n",
       "      <td>0</td>\n",
       "    </tr>\n",
       "    <tr>\n",
       "      <th>11</th>\n",
       "      <td>sildenafil</td>\n",
       "      <td>CCCc1c2c(c(=O)[nH]c(n2)c3cc(ccc3OCC)S(=O)(=O)N...</td>\n",
       "      <td>&lt;rdkit.Chem.rdchem.Mol object at 0x1077d4e90&gt;</td>\n",
       "      <td>124.185230</td>\n",
       "      <td>11.651376</td>\n",
       "      <td>0</td>\n",
       "    </tr>\n",
       "    <tr>\n",
       "      <th>12</th>\n",
       "      <td>substituted hydroxyamide</td>\n",
       "      <td>O=C1N(CC2=CC=CC=C2)CN(S(=O)(C3=CC=C(OC)C=C3)=O...</td>\n",
       "      <td>&lt;rdkit.Chem.rdchem.Mol object at 0x1077d4f80&gt;</td>\n",
       "      <td>83.286011</td>\n",
       "      <td>-23.960949</td>\n",
       "      <td>0</td>\n",
       "    </tr>\n",
       "    <tr>\n",
       "      <th>13</th>\n",
       "      <td>tentoxin</td>\n",
       "      <td>C[C@H]1C(=O)N[C@H](C(=O)N(/C(=C\\c2ccccc2)/C(=O...</td>\n",
       "      <td>&lt;rdkit.Chem.rdchem.Mol object at 0x1077d4d50&gt;</td>\n",
       "      <td>357.385093</td>\n",
       "      <td>214.361852</td>\n",
       "      <td>0</td>\n",
       "    </tr>\n",
       "    <tr>\n",
       "      <th>14</th>\n",
       "      <td>uridine</td>\n",
       "      <td>c1cn(c(=O)nc1O)[C@H]2[C@@H]([C@@H]([C@H](O2)CO...</td>\n",
       "      <td>&lt;rdkit.Chem.rdchem.Mol object at 0x1077d4d00&gt;</td>\n",
       "      <td>52.080195</td>\n",
       "      <td>29.101964</td>\n",
       "      <td>0</td>\n",
       "    </tr>\n",
       "  </tbody>\n",
       "</table>\n",
       "</div>"
      ],
      "text/plain": [
       "                        name  \\\n",
       "0                   atropine   \n",
       "1                  berberine   \n",
       "2          bis-phenylamidine   \n",
       "3                  estradiol   \n",
       "4                 fumagillin   \n",
       "5                 lisinopril   \n",
       "6                 lovastatin   \n",
       "7               methotrexate   \n",
       "8                   morphine   \n",
       "9               penacillin g   \n",
       "10              ragaglitazar   \n",
       "11                sildenafil   \n",
       "12  substituted hydroxyamide   \n",
       "13                  tentoxin   \n",
       "14                   uridine   \n",
       "\n",
       "                                               smiles  \\\n",
       "0   O=C(O[C@@H]1C[C@@H]2CC[C@@H](N2C)C1)C(C3=CC=CC...   \n",
       "1   COC1=CC=C2C(C=[N+](CCC3=C4C=C(OCO5)C5=C3)C4=C2...   \n",
       "2   N=C(N)C1=CC=CC(C(CCC2=CC=C(C(N)=N)C=C2)CC(OC)=...   \n",
       "3   C[C@]12CC[C@@H]3c4ccc(cc4CC[C@H]3[C@@H]1CC[C@@...   \n",
       "4   CC(=CC[C@@H]1[C@@](O1)(C)[C@H]2[C@@H]([C@@H](C...   \n",
       "5   c1ccc(cc1)CC[C@@H](C(=O)O)N[C@@H](CCCCN)C(=O)N...   \n",
       "6   CC[C@H](C)C(=O)O[C@H]1C[C@H](C=C2[C@H]1[C@H]([...   \n",
       "7   CN(Cc1cnc2c(n1)c(nc(n2)N)N)c3ccc(cc3)C(=O)N[C@...   \n",
       "8   CN1CC[C@]23c4c5ccc(c4O[C@H]2[C@H](C=C[C@H]3[C@...   \n",
       "9   CC1([C@@H](N2[C@H](S1)[C@@H](C2=O)/N=C(\\Cc3ccc...   \n",
       "10  CCO[C@@H](Cc1ccc(cc1)OCCN2c3ccccc3Oc4c2cccc4)C...   \n",
       "11  CCCc1c2c(c(=O)[nH]c(n2)c3cc(ccc3OCC)S(=O)(=O)N...   \n",
       "12  O=C1N(CC2=CC=CC=C2)CN(S(=O)(C3=CC=C(OC)C=C3)=O...   \n",
       "13  C[C@H]1C(=O)N[C@H](C(=O)N(/C(=C\\c2ccccc2)/C(=O...   \n",
       "14  c1cn(c(=O)nc1O)[C@H]2[C@@H]([C@@H]([C@H](O2)CO...   \n",
       "\n",
       "                                            murko  start energy  final energy  \\\n",
       "0   <rdkit.Chem.rdchem.Mol object at 0x107814df0>    250.062669    216.776616   \n",
       "1   <rdkit.Chem.rdchem.Mol object at 0x1078145d0>    201.021157    105.813492   \n",
       "2   <rdkit.Chem.rdchem.Mol object at 0x107814760>    159.051709     -8.752961   \n",
       "3   <rdkit.Chem.rdchem.Mol object at 0x107814940>    110.395442     84.678068   \n",
       "4   <rdkit.Chem.rdchem.Mol object at 0x107814c60>    246.417723    125.241589   \n",
       "5   <rdkit.Chem.rdchem.Mol object at 0x107814d50>    255.508759    146.035608   \n",
       "6   <rdkit.Chem.rdchem.Mol object at 0x107814b70>    148.056170     97.655000   \n",
       "7   <rdkit.Chem.rdchem.Mol object at 0x107814c10>    172.449895     34.330245   \n",
       "8   <rdkit.Chem.rdchem.Mol object at 0x107814da0>    167.484776    127.901343   \n",
       "9   <rdkit.Chem.rdchem.Mol object at 0x107814850>    253.797264    141.786167   \n",
       "10  <rdkit.Chem.rdchem.Mol object at 0x1077d4e40>    265.864890    160.417822   \n",
       "11  <rdkit.Chem.rdchem.Mol object at 0x1077d4e90>    124.185230     11.651376   \n",
       "12  <rdkit.Chem.rdchem.Mol object at 0x1077d4f80>     83.286011    -23.960949   \n",
       "13  <rdkit.Chem.rdchem.Mol object at 0x1077d4d50>    357.385093    214.361852   \n",
       "14  <rdkit.Chem.rdchem.Mol object at 0x1077d4d00>     52.080195     29.101964   \n",
       "\n",
       "    exit code  \n",
       "0           0  \n",
       "1           0  \n",
       "2           0  \n",
       "3           0  \n",
       "4           0  \n",
       "5           0  \n",
       "6           0  \n",
       "7           0  \n",
       "8           0  \n",
       "9           0  \n",
       "10          0  \n",
       "11          0  \n",
       "12          0  \n",
       "13          0  \n",
       "14          0  "
      ]
     },
     "execution_count": 13,
     "metadata": {},
     "output_type": "execute_result"
    }
   ],
   "source": [
    "res = []\n",
    "\n",
    "with open(os.path.join(base, 'molecules.tsv')) as f:\n",
    "    for line in f:\n",
    "        name, smiles = line.strip().split('\\t')\n",
    "        m = Chem.MolFromSmiles(smiles)\n",
    "        murcko = MurckoScaffold.GetScaffoldForMol(m)\n",
    "        \n",
    "        m = Chem.AddHs(m)\n",
    "        AllChem.EmbedMolecule(m)\n",
    "        \n",
    "        with open(os.path.join(base, 'exercise1', '{}_init.sdf'.format(name)), 'w') as f:\n",
    "            writer = SDWriter(f)\n",
    "            writer.write(m)\n",
    "            writer.close()\n",
    "            \n",
    "        mmff_props = AllChem.MMFFGetMoleculeProperties(m)\n",
    "        ff = AllChem.MMFFGetMoleculeForceField(m, mmff_props)\n",
    "        start_energy = ff.CalcEnergy()\n",
    "        \n",
    "        optimize_exit_code = AllChem.MMFFOptimizeMolecule(m, maxIters=1000)\n",
    "        end_energy = ff.CalcEnergy()\n",
    "        \n",
    "        with open(os.path.join(base, 'exercise1', '{}_opt.sdf'.format(name)), 'w') as f:\n",
    "            writer = SDWriter(f)\n",
    "            writer.write(m)\n",
    "            writer.close()\n",
    "            \n",
    "        res.append((name, smiles, murcko, start_energy, end_energy, optimize_exit_code))\n",
    "\n",
    "cols = 'name', 'smiles', 'murko', 'start energy', 'final energy', 'exit code'\n",
    "df = pd.DataFrame(res, columns=cols)\n",
    "#PandasTools.AddMoleculeColumnToFrame(df, 'smiles', 'mols')\n",
    "df"
   ]
  }
 ],
 "metadata": {
  "kernelspec": {
   "display_name": "Python 3",
   "language": "python",
   "name": "python3"
  },
  "language_info": {
   "codemirror_mode": {
    "name": "ipython",
    "version": 3
   },
   "file_extension": ".py",
   "mimetype": "text/x-python",
   "name": "python",
   "nbconvert_exporter": "python",
   "pygments_lexer": "ipython3",
   "version": "3.5.1"
  }
 },
 "nbformat": 4,
 "nbformat_minor": 0
}
