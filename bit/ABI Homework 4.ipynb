{
 "cells": [
  {
   "cell_type": "markdown",
   "metadata": {},
   "source": [
    "# Assignment Information\n",
    "\n",
    "- Assignment: Homework 4\n",
    "- Author: Charles Hoyt\n",
    "- Due: 2016 May 27\n",
    "- Language: R"
   ]
  },
  {
   "cell_type": "markdown",
   "metadata": {},
   "source": [
    "# Exercise 1\n",
    "\n",
    "The expression of gene EGR1 is measured with sample mean 4 and sample standard deviation of 0.7 using 5 data points. We assume data to be drawn from a normal distribution N(, ), which is unknown.\n",
    "\n",
    "a) Compute the standard error of the mean (1 point + 1 bonus point"
   ]
  },
  {
   "cell_type": "code",
   "execution_count": 1,
   "metadata": {
    "collapsed": false
   },
   "outputs": [
    {
     "data": {
      "text/html": [
       "0.313049516849971"
      ],
      "text/latex": [
       "0.313049516849971"
      ],
      "text/markdown": [
       "0.313049516849971"
      ],
      "text/plain": [
       "[1] 0.3130495"
      ]
     },
     "metadata": {},
     "output_type": "display_data"
    }
   ],
   "source": [
    "x_bar = 4\n",
    "s = 0.7\n",
    "n = 5\n",
    "\n",
    "se = s / sqrt(n)\n",
    "se"
   ]
  },
  {
   "cell_type": "markdown",
   "metadata": {},
   "source": [
    "b) Based on the sample mean and the standard error we ask, in which range the expectation value  will lie with high probability, given sample size\n",
    "n=5. In particular, the 1 –  confidence interval for  is given by:\n",
    "\n",
    "Here t1 (n1) denotes the 1 –  quantile of a t-distribution with n – 1 2\n",
    "degrees of freedom.\n",
    "Compute the 95% confidence interval for the expectation value of EGR1 measurements. Tip: use R-function qt to compute t-distribution quantiles (2 points + 1 bonus point)"
   ]
  },
  {
   "cell_type": "code",
   "execution_count": 2,
   "metadata": {
    "collapsed": false
   },
   "outputs": [
    {
     "data": {
      "text/html": [
       "2.77644510519779"
      ],
      "text/latex": [
       "2.77644510519779"
      ],
      "text/markdown": [
       "2.77644510519779"
      ],
      "text/plain": [
       "[1] 2.776445"
      ]
     },
     "metadata": {},
     "output_type": "display_data"
    }
   ],
   "source": [
    "alpha = 1 - 0.95\n",
    "t = qt(p=(1 - alpha / 2), df=(n-1))\n",
    "t"
   ]
  },
  {
   "cell_type": "code",
   "execution_count": 3,
   "metadata": {
    "collapsed": false
   },
   "outputs": [
    {
     "data": {
      "text/html": [
       "<ol class=list-inline>\n",
       "\t<li>3.13083520125737</li>\n",
       "\t<li>4.86916479874263</li>\n",
       "</ol>\n"
      ],
      "text/latex": [
       "\\begin{enumerate*}\n",
       "\\item 3.13083520125737\n",
       "\\item 4.86916479874263\n",
       "\\end{enumerate*}\n"
      ],
      "text/markdown": [
       "1. 3.13083520125737\n",
       "2. 4.86916479874263\n",
       "\n",
       "\n"
      ],
      "text/plain": [
       "[1] 3.130835 4.869165"
      ]
     },
     "metadata": {},
     "output_type": "display_data"
    }
   ],
   "source": [
    "lower = x_bar - t * se\n",
    "upper = x_bar + t * se\n",
    "\n",
    "c(lower, upper)"
   ]
  },
  {
   "cell_type": "markdown",
   "metadata": {},
   "source": [
    "length of CI:\n",
    "2 * t * s / sqrt(n)\n",
    "\n",
    "target:"
   ]
  },
  {
   "cell_type": "markdown",
   "metadata": {},
   "source": [
    "c) Assume that in order to get a more confident estimate of the mean we would like to half the size of the confidence interval. Roughly, how many data points would we need? (2 points + 1 bonus point)"
   ]
  },
  {
   "cell_type": "code",
   "execution_count": 4,
   "metadata": {
    "collapsed": false
   },
   "outputs": [
    {
     "data": {
      "text/html": [
       "0.869164798742635"
      ],
      "text/latex": [
       "0.869164798742635"
      ],
      "text/markdown": [
       "0.869164798742635"
      ],
      "text/plain": [
       "[1] 0.8691648"
      ]
     },
     "metadata": {},
     "output_type": "display_data"
    }
   ],
   "source": [
    "t * se"
   ]
  },
  {
   "cell_type": "markdown",
   "metadata": {},
   "source": [
    "Scan through all n's until confidence interval is half of before"
   ]
  },
  {
   "cell_type": "code",
   "execution_count": 5,
   "metadata": {
    "collapsed": false
   },
   "outputs": [
    {
     "name": "stdout",
     "output_type": "stream",
     "text": [
      "[1] 13\n",
      "[1] 0.4230058\n"
     ]
    }
   ],
   "source": [
    "i = 6 \n",
    "repeat {\n",
    "    lci = qt(0.975, df=(i-1)) * s / sqrt(i)\n",
    "    \n",
    "    if (lci * 2 < t * se) {\n",
    "        print(i)\n",
    "        print(lci)\n",
    "        break\n",
    "    }\n",
    "    i = i + 1\n",
    "}"
   ]
  },
  {
   "cell_type": "markdown",
   "metadata": {},
   "source": [
    "# Exercise 2\n",
    "\n",
    "Here, let us consider the gene expression data of the Golub data set. It is part of the multtest package of R and can be loaded using library(multtest);data(golub).\n",
    "It contains gene expression data of 3051 genes from 38 tumor mRNA samples. Read the help information of R for more information on this data set. The expression data is organized in a matrix where rows correspond to genes and columns to samples. The tumor class of the columns is given in the vector golub.cl. The names of the genes (rows) are given in golub.gnames.\n",
    "\n",
    "a) Calculate the mean and variance of all pooled expression data of the golub matrix. Explain the result. (Hint: You may want to check the help information) (2 points + 1 bonus point)"
   ]
  },
  {
   "cell_type": "code",
   "execution_count": 6,
   "metadata": {
    "collapsed": false
   },
   "outputs": [
    {
     "name": "stderr",
     "output_type": "stream",
     "text": [
      "Warning message:\n",
      ": package ‘multtest’ is not available (for R version 3.3.0)"
     ]
    }
   ],
   "source": [
    "install.packages(\"multtest\")\n",
    "#library(multtest)\n",
    "#data(golub)"
   ]
  },
  {
   "cell_type": "markdown",
   "metadata": {},
   "source": [
    "It seems that multtest doesn't exist anymore. Instead, I will explain what I would do if I had a data-matrix of $n$ genes by $m$ cell lines, with categorical labels $1 \\dots k$ for the $m$ cell lines..\n",
    "\n",
    "\n",
    "1. apply(golub, 1, mean) calculates mean across all classes"
   ]
  },
  {
   "cell_type": "markdown",
   "metadata": {},
   "source": [
    "## Exercise 2B\n",
    "\n",
    "Determine the means and standard deviations of the expression level for every gene for the classes ALL and AML.\n",
    "\n",
    "### Exercise 2BI\n",
    "i. golub.cl identifies the tumor class by 0 for acute lymphoblastic leukemia (ALL) and 1 for acute myeloid leukemia (AML). Convert golub.cl to a vector of factors golub.fac with levels ALL and AML. (You can use golub.fac instead of golub.cl in the following to make your code clearer.)\n",
    "\n",
    "1. filter columns by golub[colub.fac == AML] for one set and golub[colub.fac == ALL] for other set.\n",
    "2. calculate mean over horizontal axis using apply(golub[golub.cl == AML], 1, mean) or similarly the variance\n",
    "\n",
    "### Excercise 2BII\n",
    "Determine the 5 genes with the largest mean expression for AML and ALL.\n",
    "\n",
    "For each category's mean tables:\n",
    "\n",
    "1. sort each result by values\n",
    "2. then slice the index by 1:5 \n",
    "\n",
    "### Excercise 2BIII\n",
    "\n",
    "Determine the 5 genes with the largest mean expression for AML and ALL that are known oncogenes. (Hint: The oncogene information is given as part of the gene name)\n",
    "\n",
    "1. calculate oncogene/tumor suppressor/uninteresting labels based on oncogene information\n",
    "2. slice only oncogene rows out of data frame of mean expression for both AML and LL from 2BI\n",
    "3. sort by values\n",
    "\n",
    "### Exercise BIV\n",
    "Determine the 5 genes with the largest difference in expression between the two classes.\n",
    "and write their names, means, and standard deviations to a csv file. (6 points + 2 bonus points)\n",
    "\n",
    "1. use unsorted calculations from 2BI, take a two-sample pooled t test. \n",
    "2. rank by highest minus-log-p value\n",
    "3. slice top 1:5 from index\n",
    "4. use this to slice original data out of mean and standard deviation data frames from 2BI\n",
    "5. output to csv with write.table\n"
   ]
  },
  {
   "cell_type": "markdown",
   "metadata": {},
   "source": [
    "## Exercise 2C\n",
    "c) For the moment, we are interested in the expression data of the single\n",
    "gene in row 1042 (CCND3 Cyclin D3).\n",
    "\n",
    "### Exercise 2CI\n",
    "i. Make a boxplot for the expression data of this gene grouped by tumor class.\n",
    "\n",
    "1. slice out row\n",
    "2. group data by each factor and calculate mean with something like mean(golub[row, golub.fac==ALL)\n",
    "3. boxplot each data together\n",
    "\n",
    "### Exercise 2CII\n",
    "ii. Make Q-Q plots for ALL and AML comparing the distributions to a normal distribution. Use qqline to add a theoretical normal distribution to the plot.\n",
    "\n",
    "### Exercise 2CIII\n",
    "iii. We want to investigate whether the means of two sample distributions are different. To this end, assume the distributions for ALL and AML are essentially normal. Which test/test variant should we apply? Use R to perform the test and interpret the result.\n",
    "\n",
    "The appropriate test for determining if the means ot two sample distributions are different is the two-sample t-test, if you can assume the distributions or normal.\n",
    "\n",
    "### Exercise 2CIIV\n",
    "iv. Perform an appropriate non-parametric test as an alternative to the test performed in iv. Do the conclusions differ?\n",
    "\n",
    "As an alternative non-parametric approach, the Mann-Whitney-Wilcoxon rank-sum test can be performed. The test makes no assumption and converts the data to ranks, so the conclusions should be similar, but this is a worse test because it doesn't use the knowledge that can be acquired by a test like the KS Test, which can say how normal our distibutions are, and allow a more specific and meaningful test like two-sample t test to be performed\n",
    "\n",
    "(6 points + 2 bonus points)"
   ]
  },
  {
   "cell_type": "markdown",
   "metadata": {},
   "source": [
    "## Exercise 2D\n",
    "\n",
    "d) Perform Student t-tests for all genes comparing the distributions for ALL\n",
    "and AML.\n",
    "\n",
    "### Exercise 2DI\n",
    "i. How many genes show significant differences of the mean at the p=0.05 level?\n",
    "\n",
    "### Exercise 2DI\n",
    "ii. Here, we performed more than 3000 tests. If we assume that all genes for both classes were actually drawn independently from identical distributions (i.e., in each case the null hypothesis is true), how often can you expect to falsely reject the null hypothesis, i.e., commit a type I error, given a p-level of 0.05 just by chance in 3000 t-tests?\n",
    "\n",
    "3000 * 0.05 = 150\n",
    "\n",
    "\n",
    "### Exercise 2DIII\n",
    "iii. Use the Bonferroni correction (you can read up on it on Wikipedia, for instance) to adjust the p=0.05 level. How many genes show significant differences now?\n",
    "\n",
    "Bonferroni correction is one way to correct for multiple hypotheses. This is necessary when many statistical tests are performed on the same data set, because there is a probability related to the number of tests and the significance cutoff that some will be significant by chance. \n",
    "\n",
    "Bonferroni correction is simple. It involves dividing the desired alpha by the number of tests being performed. A test's p-value must be smaller than this more stringent cutoff to be considered significant.\n",
    "\n",
    "\n",
    "(6 points + 2 bonus points)"
   ]
  },
  {
   "cell_type": "markdown",
   "metadata": {},
   "source": [
    "# Exercise 3\n",
    "\n",
    "Implement the permutation test for testing the significance of the correlation between species richness and lake area. Choose N=1000 permutations. Tip: sample(1:n) generates a random permutation of n numbers. (4 points + 1 bonus point)\n",
    "\n",
    "| Species Richness | Lake Area | \n",
    "| --- | --- |\n",
    "| 32 | 2.0 |\n",
    "|29 | 0.9 |\n",
    "|35 | 3.1 |\n",
    "|36 | 3.0 |\n",
    "|41 | 3.0 |"
   ]
  },
  {
   "cell_type": "code",
   "execution_count": 7,
   "metadata": {
    "collapsed": false
   },
   "outputs": [
    {
     "data": {
      "text/html": [
       "0.839905049435063"
      ],
      "text/latex": [
       "0.839905049435063"
      ],
      "text/markdown": [
       "0.839905049435063"
      ],
      "text/plain": [
       "[1] 0.839905"
      ]
     },
     "metadata": {},
     "output_type": "display_data"
    }
   ],
   "source": [
    "richness = c(32, 29, 35, 36, 41)\n",
    "area = c(2.0, 0.9, 3.1, 3.0, 3.0)\n",
    "\n",
    "real_corr = cor(richness, area)\n",
    "real_corr"
   ]
  },
  {
   "cell_type": "code",
   "execution_count": 8,
   "metadata": {
    "collapsed": false
   },
   "outputs": [
    {
     "data": {
      "image/png": "[encoded data removed]",
      "image/svg+xml": [
       "<?xml version=\"1.0\" encoding=\"UTF-8\"?>\n",
       "<svg xmlns=\"http://www.w3.org/2000/svg\" xmlns:xlink=\"http://www.w3.org/1999/xlink\" width=\"504pt\" height=\"504pt\" viewBox=\"0 0 504 504\" version=\"1.1\">\n",
       "<defs>\n",
       "<g>\n",
       "<symbol overflow=\"visible\" id=\"glyph0-0\">\n",
       "<path style=\"stroke:none;\" d=\"M 0.90625 0 L 0.90625 -8.640625 L 7.859375 -8.640625 L 7.859375 0 Z M 6.78125 -1.078125 L 6.78125 -7.5625 L 1.984375 -7.5625 L 1.984375 -1.078125 Z M 6.78125 -1.078125 \"/>\n",
       "</symbol>\n",
       "<symbol overflow=\"visible\" id=\"glyph0-1\">\n",
       "<path style=\"stroke:none;\" d=\"M 0.90625 0 L 0.90625 -8.640625 L 2.6875 -8.640625 L 2.6875 -5.34375 L 6.0625 -5.34375 L 6.0625 -8.640625 L 7.859375 -8.640625 L 7.859375 0 L 6.0625 0 L 6.0625 -3.859375 L 2.6875 -3.859375 L 2.6875 0 Z M 0.90625 0 \"/>\n",
       "</symbol>\n",
       "<symbol overflow=\"visible\" id=\"glyph0-2\">\n",
       "<path style=\"stroke:none;\" d=\"M 2.5 -7.15625 L 0.796875 -7.15625 L 0.796875 -8.6875 L 2.5 -8.6875 Z M 0.796875 -6.390625 L 2.5 -6.390625 L 2.5 0 L 0.796875 0 Z M 0.796875 -6.390625 \"/>\n",
       "</symbol>\n",
       "<symbol overflow=\"visible\" id=\"glyph0-3\">\n",
       "<path style=\"stroke:none;\" d=\"M 2.078125 -2.046875 C 2.117188 -1.742188 2.195312 -1.53125 2.3125 -1.40625 C 2.519531 -1.1875 2.898438 -1.078125 3.453125 -1.078125 C 3.785156 -1.078125 4.046875 -1.125 4.234375 -1.21875 C 4.429688 -1.3125 4.53125 -1.457031 4.53125 -1.65625 C 4.53125 -1.84375 4.453125 -1.988281 4.296875 -2.09375 C 4.140625 -2.1875 3.5625 -2.351562 2.5625 -2.59375 C 1.832031 -2.769531 1.320312 -2.992188 1.03125 -3.265625 C 0.726562 -3.523438 0.578125 -3.90625 0.578125 -4.40625 C 0.578125 -5 0.804688 -5.503906 1.265625 -5.921875 C 1.734375 -6.347656 2.390625 -6.5625 3.234375 -6.5625 C 4.023438 -6.5625 4.671875 -6.398438 5.171875 -6.078125 C 5.679688 -5.765625 5.972656 -5.21875 6.046875 -4.4375 L 4.375 -4.4375 C 4.351562 -4.65625 4.289062 -4.828125 4.1875 -4.953125 C 4.007812 -5.179688 3.695312 -5.296875 3.25 -5.296875 C 2.882812 -5.296875 2.625 -5.238281 2.46875 -5.125 C 2.320312 -5.007812 2.25 -4.875 2.25 -4.71875 C 2.25 -4.53125 2.328125 -4.394531 2.484375 -4.3125 C 2.648438 -4.21875 3.234375 -4.0625 4.234375 -3.84375 C 4.898438 -3.6875 5.394531 -3.453125 5.71875 -3.140625 C 6.050781 -2.816406 6.21875 -2.414062 6.21875 -1.9375 C 6.21875 -1.300781 5.984375 -0.78125 5.515625 -0.375 C 5.046875 0.0195312 4.316406 0.21875 3.328125 0.21875 C 2.328125 0.21875 1.585938 0.00390625 1.109375 -0.421875 C 0.628906 -0.847656 0.390625 -1.390625 0.390625 -2.046875 Z M 3.359375 -6.5625 Z M 3.359375 -6.5625 \"/>\n",
       "</symbol>\n",
       "<symbol overflow=\"visible\" id=\"glyph0-4\">\n",
       "<path style=\"stroke:none;\" d=\"M 0.125 -5.140625 L 0.125 -6.328125 L 1.015625 -6.328125 L 1.015625 -8.109375 L 2.671875 -8.109375 L 2.671875 -6.328125 L 3.703125 -6.328125 L 3.703125 -5.140625 L 2.671875 -5.140625 L 2.671875 -1.765625 C 2.671875 -1.503906 2.703125 -1.335938 2.765625 -1.265625 C 2.828125 -1.203125 3.03125 -1.171875 3.375 -1.171875 C 3.425781 -1.171875 3.476562 -1.171875 3.53125 -1.171875 C 3.59375 -1.179688 3.648438 -1.1875 3.703125 -1.1875 L 3.703125 0.0625 L 2.90625 0.09375 C 2.125 0.113281 1.585938 -0.0234375 1.296875 -0.328125 C 1.109375 -0.515625 1.015625 -0.804688 1.015625 -1.203125 L 1.015625 -5.140625 Z M 0.125 -5.140625 \"/>\n",
       "</symbol>\n",
       "<symbol overflow=\"visible\" id=\"glyph0-5\">\n",
       "<path style=\"stroke:none;\" d=\"M 3.640625 -1.171875 C 4.128906 -1.171875 4.503906 -1.34375 4.765625 -1.6875 C 5.023438 -2.039062 5.15625 -2.539062 5.15625 -3.1875 C 5.15625 -3.820312 5.023438 -4.3125 4.765625 -4.65625 C 4.503906 -5.007812 4.128906 -5.1875 3.640625 -5.1875 C 3.148438 -5.1875 2.773438 -5.007812 2.515625 -4.65625 C 2.253906 -4.3125 2.125 -3.820312 2.125 -3.1875 C 2.125 -2.539062 2.253906 -2.039062 2.515625 -1.6875 C 2.773438 -1.34375 3.148438 -1.171875 3.640625 -1.171875 Z M 6.921875 -3.1875 C 6.921875 -2.25 6.648438 -1.445312 6.109375 -0.78125 C 5.566406 -0.113281 4.75 0.21875 3.65625 0.21875 C 2.550781 0.21875 1.726562 -0.113281 1.1875 -0.78125 C 0.65625 -1.445312 0.390625 -2.25 0.390625 -3.1875 C 0.390625 -4.101562 0.65625 -4.898438 1.1875 -5.578125 C 1.726562 -6.253906 2.550781 -6.59375 3.65625 -6.59375 C 4.75 -6.59375 5.566406 -6.253906 6.109375 -5.578125 C 6.648438 -4.898438 6.921875 -4.101562 6.921875 -3.1875 Z M 3.65625 -6.5625 Z M 3.65625 -6.5625 \"/>\n",
       "</symbol>\n",
       "<symbol overflow=\"visible\" id=\"glyph0-6\">\n",
       "<path style=\"stroke:none;\" d=\"M 3.515625 -1.375 C 3.910156 -1.375 4.242188 -1.519531 4.515625 -1.8125 C 4.785156 -2.101562 4.921875 -2.570312 4.921875 -3.21875 C 4.921875 -3.820312 4.789062 -4.28125 4.53125 -4.59375 C 4.28125 -4.914062 3.9375 -5.078125 3.5 -5.078125 C 2.914062 -5.078125 2.515625 -4.800781 2.296875 -4.25 C 2.171875 -3.957031 2.109375 -3.597656 2.109375 -3.171875 C 2.109375 -2.796875 2.171875 -2.46875 2.296875 -2.1875 C 2.523438 -1.644531 2.929688 -1.375 3.515625 -1.375 Z M 3.109375 -6.546875 C 3.429688 -6.546875 3.707031 -6.492188 3.9375 -6.390625 C 4.34375 -6.222656 4.671875 -5.914062 4.921875 -5.46875 L 4.921875 -6.390625 L 6.546875 -6.390625 L 6.546875 -0.328125 C 6.546875 0.492188 6.410156 1.113281 6.140625 1.53125 C 5.660156 2.25 4.742188 2.609375 3.390625 2.609375 C 2.578125 2.609375 1.910156 2.445312 1.390625 2.125 C 0.878906 1.8125 0.597656 1.335938 0.546875 0.703125 L 2.359375 0.703125 C 2.398438 0.890625 2.472656 1.03125 2.578125 1.125 C 2.765625 1.269531 3.070312 1.34375 3.5 1.34375 C 4.09375 1.34375 4.492188 1.144531 4.703125 0.75 C 4.835938 0.488281 4.90625 0.0507812 4.90625 -0.5625 L 4.90625 -0.96875 C 4.738281 -0.695312 4.566406 -0.492188 4.390625 -0.359375 C 4.054688 -0.0976562 3.625 0.03125 3.09375 0.03125 C 2.269531 0.03125 1.613281 -0.253906 1.125 -0.828125 C 0.632812 -1.410156 0.390625 -2.191406 0.390625 -3.171875 C 0.390625 -4.117188 0.625 -4.914062 1.09375 -5.5625 C 1.570312 -6.21875 2.242188 -6.546875 3.109375 -6.546875 Z M 3.640625 -6.5625 Z M 3.640625 -6.5625 \"/>\n",
       "</symbol>\n",
       "<symbol overflow=\"visible\" id=\"glyph0-7\">\n",
       "<path style=\"stroke:none;\" d=\"M 4.25 -6.546875 C 4.28125 -6.546875 4.304688 -6.539062 4.328125 -6.53125 C 4.347656 -6.53125 4.394531 -6.53125 4.46875 -6.53125 L 4.46875 -4.8125 C 4.363281 -4.820312 4.269531 -4.828125 4.1875 -4.828125 C 4.101562 -4.835938 4.035156 -4.84375 3.984375 -4.84375 C 3.316406 -4.84375 2.867188 -4.625 2.640625 -4.1875 C 2.503906 -3.945312 2.4375 -3.566406 2.4375 -3.046875 L 2.4375 0 L 0.765625 0 L 0.765625 -6.390625 L 2.359375 -6.390625 L 2.359375 -5.28125 C 2.617188 -5.695312 2.84375 -5.984375 3.03125 -6.140625 C 3.34375 -6.410156 3.75 -6.546875 4.25 -6.546875 Z M 4.25 -6.546875 \"/>\n",
       "</symbol>\n",
       "<symbol overflow=\"visible\" id=\"glyph0-8\">\n",
       "<path style=\"stroke:none;\" d=\"M 4.296875 -3.109375 C 4.191406 -3.035156 4.085938 -2.976562 3.984375 -2.9375 C 3.878906 -2.90625 3.734375 -2.867188 3.546875 -2.828125 L 3.171875 -2.765625 C 2.816406 -2.703125 2.5625 -2.625 2.40625 -2.53125 C 2.144531 -2.375 2.015625 -2.140625 2.015625 -1.828125 C 2.015625 -1.535156 2.09375 -1.328125 2.25 -1.203125 C 2.414062 -1.078125 2.613281 -1.015625 2.84375 -1.015625 C 3.195312 -1.015625 3.523438 -1.117188 3.828125 -1.328125 C 4.128906 -1.535156 4.285156 -1.921875 4.296875 -2.484375 Z M 3.28125 -3.890625 C 3.59375 -3.921875 3.816406 -3.96875 3.953125 -4.03125 C 4.191406 -4.132812 4.3125 -4.289062 4.3125 -4.5 C 4.3125 -4.769531 4.21875 -4.953125 4.03125 -5.046875 C 3.851562 -5.148438 3.585938 -5.203125 3.234375 -5.203125 C 2.835938 -5.203125 2.554688 -5.101562 2.390625 -4.90625 C 2.273438 -4.757812 2.195312 -4.5625 2.15625 -4.3125 L 0.546875 -4.3125 C 0.585938 -4.875 0.742188 -5.335938 1.015625 -5.703125 C 1.460938 -6.265625 2.222656 -6.546875 3.296875 -6.546875 C 3.992188 -6.546875 4.613281 -6.40625 5.15625 -6.125 C 5.695312 -5.84375 5.96875 -5.316406 5.96875 -4.546875 L 5.96875 -1.625 C 5.96875 -1.414062 5.972656 -1.171875 5.984375 -0.890625 C 5.992188 -0.671875 6.023438 -0.519531 6.078125 -0.4375 C 6.140625 -0.363281 6.222656 -0.300781 6.328125 -0.25 L 6.328125 0 L 4.515625 0 C 4.460938 -0.125 4.425781 -0.242188 4.40625 -0.359375 C 4.382812 -0.472656 4.367188 -0.601562 4.359375 -0.75 C 4.128906 -0.5 3.863281 -0.285156 3.5625 -0.109375 C 3.207031 0.0976562 2.800781 0.203125 2.34375 0.203125 C 1.769531 0.203125 1.289062 0.0351562 0.90625 -0.296875 C 0.53125 -0.628906 0.34375 -1.097656 0.34375 -1.703125 C 0.34375 -2.484375 0.644531 -3.050781 1.25 -3.40625 C 1.582031 -3.59375 2.070312 -3.726562 2.71875 -3.8125 Z M 3.375 -6.5625 Z M 3.375 -6.5625 \"/>\n",
       "</symbol>\n",
       "<symbol overflow=\"visible\" id=\"glyph0-9\">\n",
       "<path style=\"stroke:none;\" d=\"M 7.921875 -6.53125 C 8.203125 -6.53125 8.476562 -6.472656 8.75 -6.359375 C 9.019531 -6.253906 9.269531 -6.066406 9.5 -5.796875 C 9.675781 -5.566406 9.796875 -5.289062 9.859375 -4.96875 C 9.898438 -4.75 9.921875 -4.4375 9.921875 -4.03125 L 9.90625 0 L 8.1875 0 L 8.1875 -4.0625 C 8.1875 -4.3125 8.148438 -4.515625 8.078125 -4.671875 C 7.929688 -4.960938 7.65625 -5.109375 7.25 -5.109375 C 6.789062 -5.109375 6.472656 -4.914062 6.296875 -4.53125 C 6.210938 -4.332031 6.171875 -4.085938 6.171875 -3.796875 L 6.171875 0 L 4.484375 0 L 4.484375 -3.796875 C 4.484375 -4.179688 4.441406 -4.457031 4.359375 -4.625 C 4.222656 -4.9375 3.953125 -5.09375 3.546875 -5.09375 C 3.066406 -5.09375 2.742188 -4.9375 2.578125 -4.625 C 2.484375 -4.445312 2.4375 -4.1875 2.4375 -3.84375 L 2.4375 0 L 0.75 0 L 0.75 -6.375 L 2.375 -6.375 L 2.375 -5.4375 C 2.582031 -5.769531 2.773438 -6.007812 2.953125 -6.15625 C 3.285156 -6.40625 3.707031 -6.53125 4.21875 -6.53125 C 4.707031 -6.53125 5.101562 -6.421875 5.40625 -6.203125 C 5.644531 -6.003906 5.828125 -5.75 5.953125 -5.4375 C 6.171875 -5.8125 6.441406 -6.085938 6.765625 -6.265625 C 7.109375 -6.441406 7.492188 -6.53125 7.921875 -6.53125 Z M 7.921875 -6.53125 \"/>\n",
       "</symbol>\n",
       "<symbol overflow=\"visible\" id=\"glyph0-10\">\n",
       "<path style=\"stroke:none;\" d=\"\"/>\n",
       "</symbol>\n",
       "<symbol overflow=\"visible\" id=\"glyph0-11\">\n",
       "<path style=\"stroke:none;\" d=\"M 3.140625 -8.71875 C 3.242188 -8.71875 3.335938 -8.710938 3.421875 -8.703125 C 3.503906 -8.703125 3.625 -8.695312 3.78125 -8.6875 L 3.78125 -7.328125 C 3.6875 -7.335938 3.523438 -7.34375 3.296875 -7.34375 C 3.078125 -7.351562 2.925781 -7.304688 2.84375 -7.203125 C 2.757812 -7.109375 2.71875 -7 2.71875 -6.875 C 2.71875 -6.75 2.71875 -6.566406 2.71875 -6.328125 L 3.8125 -6.328125 L 3.8125 -5.15625 L 2.71875 -5.15625 L 2.71875 0 L 1.0625 0 L 1.0625 -5.15625 L 0.125 -5.15625 L 0.125 -6.328125 L 1.03125 -6.328125 L 1.03125 -6.734375 C 1.03125 -7.421875 1.148438 -7.894531 1.390625 -8.15625 C 1.628906 -8.53125 2.210938 -8.71875 3.140625 -8.71875 Z M 3.140625 -8.71875 \"/>\n",
       "</symbol>\n",
       "<symbol overflow=\"visible\" id=\"glyph0-12\">\n",
       "<path style=\"stroke:none;\" d=\"M 4.234375 -6.53125 C 5.066406 -6.53125 5.722656 -6.226562 6.203125 -5.625 C 6.679688 -5.019531 6.921875 -4.238281 6.921875 -3.28125 C 6.921875 -2.28125 6.6875 -1.453125 6.21875 -0.796875 C 5.75 -0.148438 5.09375 0.171875 4.25 0.171875 C 3.71875 0.171875 3.296875 0.0664062 2.984375 -0.140625 C 2.785156 -0.265625 2.578125 -0.484375 2.359375 -0.796875 L 2.359375 0 L 0.71875 0 L 0.71875 -8.625 L 2.390625 -8.625 L 2.390625 -5.5625 C 2.597656 -5.851562 2.828125 -6.078125 3.078125 -6.234375 C 3.378906 -6.429688 3.765625 -6.53125 4.234375 -6.53125 Z M 3.796875 -1.203125 C 4.234375 -1.203125 4.566406 -1.375 4.796875 -1.71875 C 5.035156 -2.070312 5.15625 -2.53125 5.15625 -3.09375 C 5.15625 -3.550781 5.097656 -3.925781 4.984375 -4.21875 C 4.765625 -4.78125 4.351562 -5.0625 3.75 -5.0625 C 3.144531 -5.0625 2.734375 -4.789062 2.515625 -4.25 C 2.390625 -3.945312 2.328125 -3.566406 2.328125 -3.109375 C 2.328125 -2.554688 2.445312 -2.097656 2.6875 -1.734375 C 2.9375 -1.378906 3.304688 -1.203125 3.796875 -1.203125 Z M 3.796875 -1.203125 \"/>\n",
       "</symbol>\n",
       "<symbol overflow=\"visible\" id=\"glyph1-0\">\n",
       "<path style=\"stroke:none;\" d=\"M 0.328125 0 L 0.328125 -7.171875 L 6.015625 -7.171875 L 6.015625 0 Z M 5.125 -0.90625 L 5.125 -6.28125 L 1.21875 -6.28125 L 1.21875 -0.90625 Z M 5.125 -0.90625 \"/>\n",
       "</symbol>\n",
       "<symbol overflow=\"visible\" id=\"glyph1-1\">\n",
       "<path style=\"stroke:none;\" d=\"M 0.578125 -7.203125 L 1.4375 -7.203125 L 1.4375 -4.59375 C 1.625 -4.84375 1.847656 -5.03125 2.109375 -5.15625 C 2.378906 -5.289062 2.671875 -5.359375 2.984375 -5.359375 C 3.640625 -5.359375 4.171875 -5.132812 4.578125 -4.6875 C 4.984375 -4.25 5.1875 -3.59375 5.1875 -2.71875 C 5.1875 -1.882812 4.984375 -1.191406 4.578125 -0.640625 C 4.179688 -0.0976562 3.628906 0.171875 2.921875 0.171875 C 2.515625 0.171875 2.175781 0.0703125 1.90625 -0.125 C 1.75 -0.238281 1.578125 -0.421875 1.390625 -0.671875 L 1.390625 0 L 0.578125 0 Z M 2.859375 -0.609375 C 3.335938 -0.609375 3.691406 -0.796875 3.921875 -1.171875 C 4.160156 -1.554688 4.28125 -2.054688 4.28125 -2.671875 C 4.28125 -3.222656 4.160156 -3.675781 3.921875 -4.03125 C 3.691406 -4.394531 3.347656 -4.578125 2.890625 -4.578125 C 2.484375 -4.578125 2.128906 -4.425781 1.828125 -4.125 C 1.523438 -3.832031 1.375 -3.347656 1.375 -2.671875 C 1.375 -2.179688 1.4375 -1.78125 1.5625 -1.46875 C 1.800781 -0.894531 2.234375 -0.609375 2.859375 -0.609375 Z M 2.859375 -0.609375 \"/>\n",
       "</symbol>\n",
       "<symbol overflow=\"visible\" id=\"glyph1-2\">\n",
       "<path style=\"stroke:none;\" d=\"M 1.171875 -1.640625 C 1.191406 -1.347656 1.265625 -1.125 1.390625 -0.96875 C 1.609375 -0.6875 1.992188 -0.546875 2.546875 -0.546875 C 2.867188 -0.546875 3.148438 -0.613281 3.390625 -0.75 C 3.640625 -0.894531 3.765625 -1.113281 3.765625 -1.40625 C 3.765625 -1.632812 3.664062 -1.804688 3.46875 -1.921875 C 3.34375 -1.992188 3.09375 -2.078125 2.71875 -2.171875 L 2.015625 -2.34375 C 1.578125 -2.457031 1.25 -2.582031 1.03125 -2.71875 C 0.65625 -2.957031 0.46875 -3.285156 0.46875 -3.703125 C 0.46875 -4.203125 0.644531 -4.601562 1 -4.90625 C 1.351562 -5.207031 1.832031 -5.359375 2.4375 -5.359375 C 3.226562 -5.359375 3.796875 -5.128906 4.140625 -4.671875 C 4.359375 -4.378906 4.46875 -4.0625 4.46875 -3.71875 L 3.640625 -3.71875 C 3.617188 -3.925781 3.546875 -4.109375 3.421875 -4.265625 C 3.222656 -4.492188 2.875 -4.609375 2.375 -4.609375 C 2.039062 -4.609375 1.785156 -4.546875 1.609375 -4.421875 C 1.441406 -4.296875 1.359375 -4.128906 1.359375 -3.921875 C 1.359375 -3.691406 1.472656 -3.507812 1.703125 -3.375 C 1.828125 -3.289062 2.019531 -3.21875 2.28125 -3.15625 L 2.859375 -3.015625 C 3.484375 -2.859375 3.90625 -2.710938 4.125 -2.578125 C 4.46875 -2.347656 4.640625 -1.992188 4.640625 -1.515625 C 4.640625 -1.046875 4.460938 -0.640625 4.109375 -0.296875 C 3.753906 0.0351562 3.21875 0.203125 2.5 0.203125 C 1.71875 0.203125 1.164062 0.0234375 0.84375 -0.328125 C 0.519531 -0.679688 0.347656 -1.117188 0.328125 -1.640625 Z M 2.46875 -5.359375 Z M 2.46875 -5.359375 \"/>\n",
       "</symbol>\n",
       "<symbol overflow=\"visible\" id=\"glyph1-3\">\n",
       "<path style=\"stroke:none;\" d=\"M 0.421875 -3.234375 L 2.859375 -3.234375 L 2.859375 -2.328125 L 0.421875 -2.328125 Z M 0.421875 -3.234375 \"/>\n",
       "</symbol>\n",
       "<symbol overflow=\"visible\" id=\"glyph1-4\">\n",
       "<path style=\"stroke:none;\" d=\"M 0.953125 -4.953125 L 0.953125 -5.625 C 1.585938 -5.6875 2.03125 -5.789062 2.28125 -5.9375 C 2.53125 -6.082031 2.71875 -6.425781 2.84375 -6.96875 L 3.546875 -6.96875 L 3.546875 0 L 2.609375 0 L 2.609375 -4.953125 Z M 0.953125 -4.953125 \"/>\n",
       "</symbol>\n",
       "<symbol overflow=\"visible\" id=\"glyph1-5\">\n",
       "<path style=\"stroke:none;\" d=\"M 0.859375 -1.0625 L 1.875 -1.0625 L 1.875 0 L 0.859375 0 Z M 0.859375 -1.0625 \"/>\n",
       "</symbol>\n",
       "<symbol overflow=\"visible\" id=\"glyph1-6\">\n",
       "<path style=\"stroke:none;\" d=\"M 2.703125 -7 C 3.609375 -7 4.265625 -6.625 4.671875 -5.875 C 4.984375 -5.300781 5.140625 -4.507812 5.140625 -3.5 C 5.140625 -2.550781 5 -1.765625 4.71875 -1.140625 C 4.300781 -0.253906 3.628906 0.1875 2.703125 0.1875 C 1.859375 0.1875 1.234375 -0.175781 0.828125 -0.90625 C 0.484375 -1.507812 0.3125 -2.328125 0.3125 -3.359375 C 0.3125 -4.148438 0.414062 -4.832031 0.625 -5.40625 C 1.007812 -6.46875 1.703125 -7 2.703125 -7 Z M 2.703125 -0.609375 C 3.148438 -0.609375 3.507812 -0.8125 3.78125 -1.21875 C 4.050781 -1.625 4.1875 -2.375 4.1875 -3.46875 C 4.1875 -4.257812 4.085938 -4.910156 3.890625 -5.421875 C 3.703125 -5.941406 3.328125 -6.203125 2.765625 -6.203125 C 2.242188 -6.203125 1.863281 -5.957031 1.625 -5.46875 C 1.382812 -4.976562 1.265625 -4.265625 1.265625 -3.328125 C 1.265625 -2.609375 1.34375 -2.035156 1.5 -1.609375 C 1.726562 -0.941406 2.128906 -0.609375 2.703125 -0.609375 Z M 2.703125 -0.609375 \"/>\n",
       "</symbol>\n",
       "<symbol overflow=\"visible\" id=\"glyph1-7\">\n",
       "<path style=\"stroke:none;\" d=\"M 1.234375 -1.78125 C 1.296875 -1.28125 1.53125 -0.9375 1.9375 -0.75 C 2.144531 -0.644531 2.382812 -0.59375 2.65625 -0.59375 C 3.175781 -0.59375 3.5625 -0.757812 3.8125 -1.09375 C 4.0625 -1.425781 4.1875 -1.796875 4.1875 -2.203125 C 4.1875 -2.691406 4.035156 -3.066406 3.734375 -3.328125 C 3.441406 -3.597656 3.085938 -3.734375 2.671875 -3.734375 C 2.367188 -3.734375 2.109375 -3.671875 1.890625 -3.546875 C 1.671875 -3.429688 1.488281 -3.269531 1.34375 -3.0625 L 0.578125 -3.109375 L 1.109375 -6.875 L 4.734375 -6.875 L 4.734375 -6.03125 L 1.765625 -6.03125 L 1.46875 -4.078125 C 1.632812 -4.203125 1.789062 -4.296875 1.9375 -4.359375 C 2.195312 -4.460938 2.5 -4.515625 2.84375 -4.515625 C 3.476562 -4.515625 4.019531 -4.304688 4.46875 -3.890625 C 4.914062 -3.484375 5.140625 -2.960938 5.140625 -2.328125 C 5.140625 -1.671875 4.929688 -1.085938 4.515625 -0.578125 C 4.109375 -0.078125 3.457031 0.171875 2.5625 0.171875 C 2 0.171875 1.5 0.015625 1.0625 -0.296875 C 0.625 -0.617188 0.378906 -1.113281 0.328125 -1.78125 Z M 1.234375 -1.78125 \"/>\n",
       "</symbol>\n",
       "<symbol overflow=\"visible\" id=\"glyph2-0\">\n",
       "<path style=\"stroke:none;\" d=\"M 0 -0.328125 L -7.171875 -0.328125 L -7.171875 -6.015625 L 0 -6.015625 Z M -0.90625 -5.125 L -6.28125 -5.125 L -6.28125 -1.21875 L -0.90625 -1.21875 Z M -0.90625 -5.125 \"/>\n",
       "</symbol>\n",
       "<symbol overflow=\"visible\" id=\"glyph2-1\">\n",
       "<path style=\"stroke:none;\" d=\"M -7.171875 -0.859375 L -7.171875 -5.828125 L -6.296875 -5.828125 L -6.296875 -1.828125 L -4.109375 -1.828125 L -4.109375 -5.34375 L -3.265625 -5.34375 L -3.265625 -1.828125 L 0 -1.828125 L 0 -0.859375 Z M -7.171875 -0.859375 \"/>\n",
       "</symbol>\n",
       "<symbol overflow=\"visible\" id=\"glyph2-2\">\n",
       "<path style=\"stroke:none;\" d=\"M -5.234375 -0.671875 L -5.234375 -1.5 L -4.328125 -1.5 C -4.503906 -1.570312 -4.71875 -1.738281 -4.96875 -2 C -5.21875 -2.269531 -5.34375 -2.582031 -5.34375 -2.9375 C -5.34375 -2.945312 -5.34375 -2.972656 -5.34375 -3.015625 C -5.34375 -3.054688 -5.335938 -3.125 -5.328125 -3.21875 L -4.390625 -3.21875 C -4.398438 -3.164062 -4.40625 -3.113281 -4.40625 -3.0625 C -4.414062 -3.019531 -4.421875 -2.972656 -4.421875 -2.921875 C -4.421875 -2.484375 -4.273438 -2.144531 -3.984375 -1.90625 C -3.703125 -1.664062 -3.378906 -1.546875 -3.015625 -1.546875 L 0 -1.546875 L 0 -0.671875 Z M -5.234375 -0.671875 \"/>\n",
       "</symbol>\n",
       "<symbol overflow=\"visible\" id=\"glyph2-3\">\n",
       "<path style=\"stroke:none;\" d=\"M -5.34375 -2.828125 C -5.34375 -3.191406 -5.253906 -3.546875 -5.078125 -3.890625 C -4.910156 -4.242188 -4.6875 -4.515625 -4.40625 -4.703125 C -4.144531 -4.878906 -3.835938 -4.992188 -3.484375 -5.046875 C -3.242188 -5.097656 -2.859375 -5.125 -2.328125 -5.125 L -2.328125 -1.296875 C -1.796875 -1.304688 -1.367188 -1.425781 -1.046875 -1.65625 C -0.734375 -1.894531 -0.578125 -2.265625 -0.578125 -2.765625 C -0.578125 -3.222656 -0.726562 -3.585938 -1.03125 -3.859375 C -1.207031 -4.015625 -1.410156 -4.125 -1.640625 -4.1875 L -1.640625 -5.046875 C -1.453125 -5.023438 -1.238281 -4.953125 -1 -4.828125 C -0.757812 -4.703125 -0.566406 -4.554688 -0.421875 -4.390625 C -0.160156 -4.128906 0.015625 -3.800781 0.109375 -3.40625 C 0.160156 -3.195312 0.1875 -2.957031 0.1875 -2.6875 C 0.1875 -2.03125 -0.046875 -1.476562 -0.515625 -1.03125 C -0.992188 -0.582031 -1.660156 -0.359375 -2.515625 -0.359375 C -3.359375 -0.359375 -4.039062 -0.582031 -4.5625 -1.03125 C -5.082031 -1.488281 -5.34375 -2.085938 -5.34375 -2.828125 Z M -3.03125 -4.21875 C -3.414062 -4.1875 -3.722656 -4.101562 -3.953125 -3.96875 C -4.367188 -3.726562 -4.578125 -3.328125 -4.578125 -2.765625 C -4.578125 -2.359375 -4.429688 -2.019531 -4.140625 -1.75 C -3.847656 -1.476562 -3.476562 -1.332031 -3.03125 -1.3125 Z M -5.359375 -2.734375 Z M -5.359375 -2.734375 \"/>\n",
       "</symbol>\n",
       "<symbol overflow=\"visible\" id=\"glyph2-4\">\n",
       "<path style=\"stroke:none;\" d=\"M -2.546875 -1.21875 C -2.085938 -1.21875 -1.707031 -1.28125 -1.40625 -1.40625 C -0.863281 -1.625 -0.59375 -2.023438 -0.59375 -2.609375 C -0.59375 -3.222656 -0.878906 -3.644531 -1.453125 -3.875 C -1.765625 -4 -2.164062 -4.0625 -2.65625 -4.0625 C -3.113281 -4.0625 -3.492188 -3.992188 -3.796875 -3.859375 C -4.316406 -3.617188 -4.578125 -3.195312 -4.578125 -2.59375 C -4.578125 -2.21875 -4.410156 -1.894531 -4.078125 -1.625 C -3.742188 -1.351562 -3.234375 -1.21875 -2.546875 -1.21875 Z M -5.34375 -2.515625 C -5.34375 -2.941406 -5.234375 -3.304688 -5.015625 -3.609375 C -4.898438 -3.765625 -4.726562 -3.921875 -4.5 -4.078125 L -5.234375 -4.078125 L -5.234375 -4.90625 L 2.078125 -4.90625 L 2.078125 -4.03125 L -0.59375 -4.03125 C -0.363281 -3.875 -0.175781 -3.664062 -0.03125 -3.40625 C 0.101562 -3.15625 0.171875 -2.835938 0.171875 -2.453125 C 0.171875 -1.890625 -0.046875 -1.390625 -0.484375 -0.953125 C -0.921875 -0.515625 -1.585938 -0.296875 -2.484375 -0.296875 C -3.316406 -0.296875 -4 -0.5 -4.53125 -0.90625 C -5.070312 -1.320312 -5.34375 -1.859375 -5.34375 -2.515625 Z M -5.34375 -2.515625 \"/>\n",
       "</symbol>\n",
       "<symbol overflow=\"visible\" id=\"glyph2-5\">\n",
       "<path style=\"stroke:none;\" d=\"M -5.234375 -1.53125 L -1.765625 -1.53125 C -1.492188 -1.53125 -1.273438 -1.570312 -1.109375 -1.65625 C -0.796875 -1.8125 -0.640625 -2.101562 -0.640625 -2.53125 C -0.640625 -3.132812 -0.910156 -3.550781 -1.453125 -3.78125 C -1.742188 -3.894531 -2.144531 -3.953125 -2.65625 -3.953125 L -5.234375 -3.953125 L -5.234375 -4.828125 L 0 -4.828125 L 0 -4 L -0.765625 -4.015625 C -0.566406 -3.898438 -0.398438 -3.757812 -0.265625 -3.59375 C 0.00390625 -3.257812 0.140625 -2.851562 0.140625 -2.375 C 0.140625 -1.625 -0.109375 -1.113281 -0.609375 -0.84375 C -0.867188 -0.695312 -1.222656 -0.625 -1.671875 -0.625 L -5.234375 -0.625 Z M -5.359375 -2.734375 Z M -5.359375 -2.734375 \"/>\n",
       "</symbol>\n",
       "<symbol overflow=\"visible\" id=\"glyph2-6\">\n",
       "<path style=\"stroke:none;\" d=\"M -5.234375 -0.640625 L -5.234375 -1.484375 L -4.484375 -1.484375 C -4.796875 -1.722656 -5.015625 -1.984375 -5.140625 -2.265625 C -5.273438 -2.546875 -5.34375 -2.851562 -5.34375 -3.1875 C -5.34375 -3.925781 -5.085938 -4.425781 -4.578125 -4.6875 C -4.285156 -4.832031 -3.878906 -4.90625 -3.359375 -4.90625 L 0 -4.90625 L 0 -4.015625 L -3.296875 -4.015625 C -3.617188 -4.015625 -3.875 -3.96875 -4.0625 -3.875 C -4.394531 -3.71875 -4.5625 -3.429688 -4.5625 -3.015625 C -4.5625 -2.804688 -4.539062 -2.640625 -4.5 -2.515625 C -4.425781 -2.273438 -4.28125 -2.0625 -4.0625 -1.875 C -3.882812 -1.726562 -3.703125 -1.632812 -3.515625 -1.59375 C -3.335938 -1.550781 -3.078125 -1.53125 -2.734375 -1.53125 L 0 -1.53125 L 0 -0.640625 Z M -5.359375 -2.703125 Z M -5.359375 -2.703125 \"/>\n",
       "</symbol>\n",
       "<symbol overflow=\"visible\" id=\"glyph2-7\">\n",
       "<path style=\"stroke:none;\" d=\"M -5.375 -2.65625 C -5.375 -3.25 -5.226562 -3.726562 -4.9375 -4.09375 C -4.65625 -4.46875 -4.164062 -4.691406 -3.46875 -4.765625 L -3.46875 -3.90625 C -3.789062 -3.851562 -4.054688 -3.734375 -4.265625 -3.546875 C -4.484375 -3.367188 -4.59375 -3.070312 -4.59375 -2.65625 C -4.59375 -2.101562 -4.320312 -1.703125 -3.78125 -1.453125 C -3.425781 -1.296875 -2.988281 -1.21875 -2.46875 -1.21875 C -1.9375 -1.21875 -1.488281 -1.328125 -1.125 -1.546875 C -0.769531 -1.773438 -0.59375 -2.128906 -0.59375 -2.609375 C -0.59375 -2.972656 -0.703125 -3.257812 -0.921875 -3.46875 C -1.148438 -3.6875 -1.457031 -3.832031 -1.84375 -3.90625 L -1.84375 -4.765625 C -1.15625 -4.671875 -0.648438 -4.425781 -0.328125 -4.03125 C -0.00390625 -3.644531 0.15625 -3.144531 0.15625 -2.53125 C 0.15625 -1.851562 -0.09375 -1.304688 -0.59375 -0.890625 C -1.09375 -0.484375 -1.71875 -0.28125 -2.46875 -0.28125 C -3.382812 -0.28125 -4.097656 -0.503906 -4.609375 -0.953125 C -5.117188 -1.398438 -5.375 -1.96875 -5.375 -2.65625 Z M -5.359375 -2.53125 Z M -5.359375 -2.53125 \"/>\n",
       "</symbol>\n",
       "<symbol overflow=\"visible\" id=\"glyph2-8\">\n",
       "<path style=\"stroke:none;\" d=\"M -5.234375 -3.90625 L -5.234375 -4.890625 C -4.898438 -4.765625 -4.132812 -4.488281 -2.9375 -4.0625 C -2.039062 -3.738281 -1.304688 -3.46875 -0.734375 -3.25 C 0.597656 -2.75 1.410156 -2.394531 1.703125 -2.1875 C 1.992188 -1.976562 2.140625 -1.617188 2.140625 -1.109375 C 2.140625 -0.984375 2.132812 -0.882812 2.125 -0.8125 C 2.113281 -0.75 2.097656 -0.671875 2.078125 -0.578125 L 1.28125 -0.578125 C 1.320312 -0.734375 1.347656 -0.84375 1.359375 -0.90625 C 1.367188 -0.976562 1.375 -1.039062 1.375 -1.09375 C 1.375 -1.25 1.34375 -1.363281 1.28125 -1.4375 C 1.226562 -1.519531 1.164062 -1.585938 1.09375 -1.640625 C 1.0625 -1.660156 0.925781 -1.71875 0.6875 -1.8125 C 0.445312 -1.914062 0.269531 -1.988281 0.15625 -2.03125 L -5.234375 -0.109375 L -5.234375 -1.09375 L -0.96875 -2.5 Z M -5.359375 -2.5 Z M -5.359375 -2.5 \"/>\n",
       "</symbol>\n",
       "<symbol overflow=\"visible\" id=\"glyph2-9\">\n",
       "<path style=\"stroke:none;\" d=\"M -7 -2.703125 C -7 -3.609375 -6.625 -4.265625 -5.875 -4.671875 C -5.300781 -4.984375 -4.507812 -5.140625 -3.5 -5.140625 C -2.550781 -5.140625 -1.765625 -5 -1.140625 -4.71875 C -0.253906 -4.300781 0.1875 -3.628906 0.1875 -2.703125 C 0.1875 -1.859375 -0.175781 -1.234375 -0.90625 -0.828125 C -1.507812 -0.484375 -2.328125 -0.3125 -3.359375 -0.3125 C -4.148438 -0.3125 -4.832031 -0.414062 -5.40625 -0.625 C -6.46875 -1.007812 -7 -1.703125 -7 -2.703125 Z M -0.609375 -2.703125 C -0.609375 -3.148438 -0.8125 -3.507812 -1.21875 -3.78125 C -1.625 -4.050781 -2.375 -4.1875 -3.46875 -4.1875 C -4.257812 -4.1875 -4.910156 -4.085938 -5.421875 -3.890625 C -5.941406 -3.703125 -6.203125 -3.328125 -6.203125 -2.765625 C -6.203125 -2.242188 -5.957031 -1.863281 -5.46875 -1.625 C -4.976562 -1.382812 -4.265625 -1.265625 -3.328125 -1.265625 C -2.609375 -1.265625 -2.035156 -1.34375 -1.609375 -1.5 C -0.941406 -1.726562 -0.609375 -2.128906 -0.609375 -2.703125 Z M -0.609375 -2.703125 \"/>\n",
       "</symbol>\n",
       "<symbol overflow=\"visible\" id=\"glyph2-10\">\n",
       "<path style=\"stroke:none;\" d=\"M -1.78125 -1.234375 C -1.28125 -1.296875 -0.9375 -1.53125 -0.75 -1.9375 C -0.644531 -2.144531 -0.59375 -2.382812 -0.59375 -2.65625 C -0.59375 -3.175781 -0.757812 -3.5625 -1.09375 -3.8125 C -1.425781 -4.0625 -1.796875 -4.1875 -2.203125 -4.1875 C -2.691406 -4.1875 -3.066406 -4.035156 -3.328125 -3.734375 C -3.597656 -3.441406 -3.734375 -3.085938 -3.734375 -2.671875 C -3.734375 -2.367188 -3.671875 -2.109375 -3.546875 -1.890625 C -3.429688 -1.671875 -3.269531 -1.488281 -3.0625 -1.34375 L -3.109375 -0.578125 L -6.875 -1.109375 L -6.875 -4.734375 L -6.03125 -4.734375 L -6.03125 -1.765625 L -4.078125 -1.46875 C -4.203125 -1.632812 -4.296875 -1.789062 -4.359375 -1.9375 C -4.460938 -2.195312 -4.515625 -2.5 -4.515625 -2.84375 C -4.515625 -3.476562 -4.304688 -4.019531 -3.890625 -4.46875 C -3.484375 -4.914062 -2.960938 -5.140625 -2.328125 -5.140625 C -1.671875 -5.140625 -1.085938 -4.929688 -0.578125 -4.515625 C -0.078125 -4.109375 0.171875 -3.457031 0.171875 -2.5625 C 0.171875 -2 0.015625 -1.5 -0.296875 -1.0625 C -0.617188 -0.625 -1.113281 -0.378906 -1.78125 -0.328125 Z M -1.78125 -1.234375 \"/>\n",
       "</symbol>\n",
       "<symbol overflow=\"visible\" id=\"glyph2-11\">\n",
       "<path style=\"stroke:none;\" d=\"M -4.953125 -0.953125 L -5.625 -0.953125 C -5.6875 -1.585938 -5.789062 -2.03125 -5.9375 -2.28125 C -6.082031 -2.53125 -6.425781 -2.71875 -6.96875 -2.84375 L -6.96875 -3.546875 L 0 -3.546875 L 0 -2.609375 L -4.953125 -2.609375 Z M -4.953125 -0.953125 \"/>\n",
       "</symbol>\n",
       "</g>\n",
       "</defs>\n",
       "<g id=\"surface1\">\n",
       "<rect x=\"0\" y=\"0\" width=\"504\" height=\"504\" style=\"fill:rgb(100%,100%,100%);fill-opacity:1;stroke:none;\"/>\n",
       "<g style=\"fill:rgb(0%,0%,0%);fill-opacity:1;\">\n",
       "  <use xlink:href=\"#glyph0-1\" x=\"206.328125\" y=\"19.441406\"/>\n",
       "  <use xlink:href=\"#glyph0-2\" x=\"214.994141\" y=\"19.441406\"/>\n",
       "  <use xlink:href=\"#glyph0-3\" x=\"218.328125\" y=\"19.441406\"/>\n",
       "  <use xlink:href=\"#glyph0-4\" x=\"225.001953\" y=\"19.441406\"/>\n",
       "  <use xlink:href=\"#glyph0-5\" x=\"228.998047\" y=\"19.441406\"/>\n",
       "  <use xlink:href=\"#glyph0-6\" x=\"236.328125\" y=\"19.441406\"/>\n",
       "  <use xlink:href=\"#glyph0-7\" x=\"243.658203\" y=\"19.441406\"/>\n",
       "  <use xlink:href=\"#glyph0-8\" x=\"248.328125\" y=\"19.441406\"/>\n",
       "  <use xlink:href=\"#glyph0-9\" x=\"255.001953\" y=\"19.441406\"/>\n",
       "  <use xlink:href=\"#glyph0-10\" x=\"265.671875\" y=\"19.441406\"/>\n",
       "  <use xlink:href=\"#glyph0-5\" x=\"269.005859\" y=\"19.441406\"/>\n",
       "  <use xlink:href=\"#glyph0-11\" x=\"276.335938\" y=\"19.441406\"/>\n",
       "  <use xlink:href=\"#glyph0-10\" x=\"280.332031\" y=\"19.441406\"/>\n",
       "  <use xlink:href=\"#glyph0-12\" x=\"283.666016\" y=\"19.441406\"/>\n",
       "  <use xlink:href=\"#glyph0-3\" x=\"290.996094\" y=\"19.441406\"/>\n",
       "</g>\n",
       "<g style=\"fill:rgb(0%,0%,0%);fill-opacity:1;\">\n",
       "  <use xlink:href=\"#glyph1-1\" x=\"246.71875\" y=\"485.28125\"/>\n",
       "  <use xlink:href=\"#glyph1-2\" x=\"252.280273\" y=\"485.28125\"/>\n",
       "</g>\n",
       "<g style=\"fill:rgb(0%,0%,0%);fill-opacity:1;\">\n",
       "  <use xlink:href=\"#glyph2-1\" x=\"12.960938\" y=\"254.023438\"/>\n",
       "  <use xlink:href=\"#glyph2-2\" x=\"12.960938\" y=\"247.915039\"/>\n",
       "  <use xlink:href=\"#glyph2-3\" x=\"12.960938\" y=\"244.584961\"/>\n",
       "  <use xlink:href=\"#glyph2-4\" x=\"12.960938\" y=\"239.023438\"/>\n",
       "  <use xlink:href=\"#glyph2-5\" x=\"12.960938\" y=\"233.461914\"/>\n",
       "  <use xlink:href=\"#glyph2-3\" x=\"12.960938\" y=\"227.900391\"/>\n",
       "  <use xlink:href=\"#glyph2-6\" x=\"12.960938\" y=\"222.338867\"/>\n",
       "  <use xlink:href=\"#glyph2-7\" x=\"12.960938\" y=\"216.777344\"/>\n",
       "  <use xlink:href=\"#glyph2-8\" x=\"12.960938\" y=\"211.777344\"/>\n",
       "</g>\n",
       "<path style=\"fill:none;stroke-width:0.75;stroke-linecap:round;stroke-linejoin:round;stroke:rgb(0%,0%,0%);stroke-opacity:1;stroke-miterlimit:10;\" d=\"M 73.332031 430.558594 L 430.667969 430.558594 \"/>\n",
       "<path style=\"fill:none;stroke-width:0.75;stroke-linecap:round;stroke-linejoin:round;stroke:rgb(0%,0%,0%);stroke-opacity:1;stroke-miterlimit:10;\" d=\"M 73.332031 430.558594 L 73.332031 437.761719 \"/>\n",
       "<path style=\"fill:none;stroke-width:0.75;stroke-linecap:round;stroke-linejoin:round;stroke:rgb(0%,0%,0%);stroke-opacity:1;stroke-miterlimit:10;\" d=\"M 162.667969 430.558594 L 162.667969 437.761719 \"/>\n",
       "<path style=\"fill:none;stroke-width:0.75;stroke-linecap:round;stroke-linejoin:round;stroke:rgb(0%,0%,0%);stroke-opacity:1;stroke-miterlimit:10;\" d=\"M 252 430.558594 L 252 437.761719 \"/>\n",
       "<path style=\"fill:none;stroke-width:0.75;stroke-linecap:round;stroke-linejoin:round;stroke:rgb(0%,0%,0%);stroke-opacity:1;stroke-miterlimit:10;\" d=\"M 341.332031 430.558594 L 341.332031 437.761719 \"/>\n",
       "<path style=\"fill:none;stroke-width:0.75;stroke-linecap:round;stroke-linejoin:round;stroke:rgb(0%,0%,0%);stroke-opacity:1;stroke-miterlimit:10;\" d=\"M 430.667969 430.558594 L 430.667969 437.761719 \"/>\n",
       "<g style=\"fill:rgb(0%,0%,0%);fill-opacity:1;\">\n",
       "  <use xlink:href=\"#glyph1-3\" x=\"64.714844\" y=\"456.480469\"/>\n",
       "  <use xlink:href=\"#glyph1-4\" x=\"68.044922\" y=\"456.480469\"/>\n",
       "  <use xlink:href=\"#glyph1-5\" x=\"73.606445\" y=\"456.480469\"/>\n",
       "  <use xlink:href=\"#glyph1-6\" x=\"76.384766\" y=\"456.480469\"/>\n",
       "</g>\n",
       "<g style=\"fill:rgb(0%,0%,0%);fill-opacity:1;\">\n",
       "  <use xlink:href=\"#glyph1-3\" x=\"154.050781\" y=\"456.480469\"/>\n",
       "  <use xlink:href=\"#glyph1-6\" x=\"157.380859\" y=\"456.480469\"/>\n",
       "  <use xlink:href=\"#glyph1-5\" x=\"162.942383\" y=\"456.480469\"/>\n",
       "  <use xlink:href=\"#glyph1-7\" x=\"165.720703\" y=\"456.480469\"/>\n",
       "</g>\n",
       "<g style=\"fill:rgb(0%,0%,0%);fill-opacity:1;\">\n",
       "  <use xlink:href=\"#glyph1-6\" x=\"245.050781\" y=\"456.480469\"/>\n",
       "  <use xlink:href=\"#glyph1-5\" x=\"250.612305\" y=\"456.480469\"/>\n",
       "  <use xlink:href=\"#glyph1-6\" x=\"253.390625\" y=\"456.480469\"/>\n",
       "</g>\n",
       "<g style=\"fill:rgb(0%,0%,0%);fill-opacity:1;\">\n",
       "  <use xlink:href=\"#glyph1-6\" x=\"334.382812\" y=\"456.480469\"/>\n",
       "  <use xlink:href=\"#glyph1-5\" x=\"339.944336\" y=\"456.480469\"/>\n",
       "  <use xlink:href=\"#glyph1-7\" x=\"342.722656\" y=\"456.480469\"/>\n",
       "</g>\n",
       "<g style=\"fill:rgb(0%,0%,0%);fill-opacity:1;\">\n",
       "  <use xlink:href=\"#glyph1-4\" x=\"423.71875\" y=\"456.480469\"/>\n",
       "  <use xlink:href=\"#glyph1-5\" x=\"429.280273\" y=\"456.480469\"/>\n",
       "  <use xlink:href=\"#glyph1-6\" x=\"432.058594\" y=\"456.480469\"/>\n",
       "</g>\n",
       "<path style=\"fill:none;stroke-width:0.75;stroke-linecap:round;stroke-linejoin:round;stroke:rgb(0%,0%,0%);stroke-opacity:1;stroke-miterlimit:10;\" d=\"M 59.039062 415.734375 L 59.039062 126.148438 \"/>\n",
       "<path style=\"fill:none;stroke-width:0.75;stroke-linecap:round;stroke-linejoin:round;stroke:rgb(0%,0%,0%);stroke-opacity:1;stroke-miterlimit:10;\" d=\"M 59.039062 415.734375 L 51.839844 415.734375 \"/>\n",
       "<path style=\"fill:none;stroke-width:0.75;stroke-linecap:round;stroke-linejoin:round;stroke:rgb(0%,0%,0%);stroke-opacity:1;stroke-miterlimit:10;\" d=\"M 59.039062 319.207031 L 51.839844 319.207031 \"/>\n",
       "<path style=\"fill:none;stroke-width:0.75;stroke-linecap:round;stroke-linejoin:round;stroke:rgb(0%,0%,0%);stroke-opacity:1;stroke-miterlimit:10;\" d=\"M 59.039062 222.679688 L 51.839844 222.679688 \"/>\n",
       "<path style=\"fill:none;stroke-width:0.75;stroke-linecap:round;stroke-linejoin:round;stroke:rgb(0%,0%,0%);stroke-opacity:1;stroke-miterlimit:10;\" d=\"M 59.039062 126.148438 L 51.839844 126.148438 \"/>\n",
       "<g style=\"fill:rgb(0%,0%,0%);fill-opacity:1;\">\n",
       "  <use xlink:href=\"#glyph2-9\" x=\"41.761719\" y=\"418.515625\"/>\n",
       "</g>\n",
       "<g style=\"fill:rgb(0%,0%,0%);fill-opacity:1;\">\n",
       "  <use xlink:href=\"#glyph2-10\" x=\"41.761719\" y=\"324.769531\"/>\n",
       "  <use xlink:href=\"#glyph2-9\" x=\"41.761719\" y=\"319.208008\"/>\n",
       "</g>\n",
       "<g style=\"fill:rgb(0%,0%,0%);fill-opacity:1;\">\n",
       "  <use xlink:href=\"#glyph2-11\" x=\"41.761719\" y=\"231.023438\"/>\n",
       "  <use xlink:href=\"#glyph2-9\" x=\"41.761719\" y=\"225.461914\"/>\n",
       "  <use xlink:href=\"#glyph2-9\" x=\"41.761719\" y=\"219.900391\"/>\n",
       "</g>\n",
       "<g style=\"fill:rgb(0%,0%,0%);fill-opacity:1;\">\n",
       "  <use xlink:href=\"#glyph2-11\" x=\"41.761719\" y=\"134.492188\"/>\n",
       "  <use xlink:href=\"#glyph2-10\" x=\"41.761719\" y=\"128.930664\"/>\n",
       "  <use xlink:href=\"#glyph2-9\" x=\"41.761719\" y=\"123.369141\"/>\n",
       "</g>\n",
       "<path style=\"fill:none;stroke-width:0.75;stroke-linecap:round;stroke-linejoin:round;stroke:rgb(0%,0%,0%);stroke-opacity:1;stroke-miterlimit:10;\" d=\"M 73.332031 415.734375 L 109.066406 415.734375 L 109.066406 263.21875 L 73.332031 263.21875 Z M 73.332031 415.734375 \"/>\n",
       "<path style=\"fill:none;stroke-width:0.75;stroke-linecap:round;stroke-linejoin:round;stroke:rgb(0%,0%,0%);stroke-opacity:1;stroke-miterlimit:10;\" d=\"M 109.066406 415.734375 L 144.800781 415.734375 L 144.800781 301.832031 L 109.066406 301.832031 Z M 109.066406 415.734375 \"/>\n",
       "<path style=\"fill:none;stroke-width:0.75;stroke-linecap:round;stroke-linejoin:round;stroke:rgb(0%,0%,0%);stroke-opacity:1;stroke-miterlimit:10;\" d=\"M 144.800781 415.734375 L 180.535156 415.734375 L 180.535156 116.5 L 144.800781 116.5 Z M 144.800781 415.734375 \"/>\n",
       "<path style=\"fill:none;stroke-width:0.75;stroke-linecap:round;stroke-linejoin:round;stroke:rgb(0%,0%,0%);stroke-opacity:1;stroke-miterlimit:10;\" d=\"M 180.535156 415.734375 L 216.269531 415.734375 L 216.269531 355.886719 L 180.535156 355.886719 Z M 180.535156 415.734375 \"/>\n",
       "<path style=\"fill:none;stroke-width:0.75;stroke-linecap:round;stroke-linejoin:round;stroke:rgb(0%,0%,0%);stroke-opacity:1;stroke-miterlimit:10;\" d=\"M 216.265625 415.734375 L 252 415.734375 L 252 128.082031 L 216.265625 128.082031 Z M 216.265625 415.734375 \"/>\n",
       "<path style=\"fill:none;stroke-width:0.75;stroke-linecap:round;stroke-linejoin:round;stroke:rgb(0%,0%,0%);stroke-opacity:1;stroke-miterlimit:10;\" d=\"M 252 415.734375 L 287.734375 415.734375 L 287.734375 160.902344 L 252 160.902344 Z M 252 415.734375 \"/>\n",
       "<path style=\"fill:none;stroke-width:0.75;stroke-linecap:round;stroke-linejoin:round;stroke:rgb(0%,0%,0%);stroke-opacity:1;stroke-miterlimit:10;\" d=\"M 287.734375 415.734375 L 323.46875 415.734375 L 323.46875 45.066406 L 287.734375 45.066406 Z M 287.734375 415.734375 \"/>\n",
       "<path style=\"fill:none;stroke-width:0.75;stroke-linecap:round;stroke-linejoin:round;stroke:rgb(0%,0%,0%);stroke-opacity:1;stroke-miterlimit:10;\" d=\"M 323.464844 415.734375 L 359.199219 415.734375 L 359.199219 388.707031 L 323.464844 388.707031 Z M 323.464844 415.734375 \"/>\n",
       "<path style=\"fill:none;stroke-width:0.75;stroke-linecap:round;stroke-linejoin:round;stroke:rgb(0%,0%,0%);stroke-opacity:1;stroke-miterlimit:10;\" d=\"M 359.199219 415.734375 L 394.933594 415.734375 L 394.933594 155.109375 L 359.199219 155.109375 Z M 359.199219 415.734375 \"/>\n",
       "<path style=\"fill:none;stroke-width:0.75;stroke-linecap:round;stroke-linejoin:round;stroke:rgb(0%,0%,0%);stroke-opacity:1;stroke-miterlimit:10;\" d=\"M 394.933594 415.734375 L 430.667969 415.734375 L 430.667969 311.484375 L 394.933594 311.484375 Z M 394.933594 415.734375 \"/>\n",
       "</g>\n",
       "</svg>\n"
      ],
      "text/plain": [
       "Plot with title “Histogram of bs”"
      ]
     },
     "metadata": {
      "image/svg+xml": {
       "isolated": true
      }
     },
     "output_type": "display_data"
    }
   ],
   "source": [
    "n_perm = 1000\n",
    "bs = vector(length=n_perm)\n",
    "for (i in 1:n_perm) { \n",
    "    p_area = area[sample(1:length(area))]\n",
    "    p_corr = cor(richness, p_area)\n",
    "    bs[i] = p_corr\n",
    "}\n",
    "\n",
    "hist(bs)"
   ]
  },
  {
   "cell_type": "markdown",
   "metadata": {},
   "source": [
    "Report P-value for old-school and Minus-Log P-Value for interpretabity"
   ]
  },
  {
   "cell_type": "code",
   "execution_count": 9,
   "metadata": {
    "collapsed": false
   },
   "outputs": [
    {
     "data": {
      "text/html": [
       "<ol class=list-inline>\n",
       "\t<li>0.054</li>\n",
       "\t<li>2.91877123241786</li>\n",
       "</ol>\n"
      ],
      "text/latex": [
       "\\begin{enumerate*}\n",
       "\\item 0.054\n",
       "\\item 2.91877123241786\n",
       "\\end{enumerate*}\n"
      ],
      "text/markdown": [
       "1. 0.054\n",
       "2. 2.91877123241786\n",
       "\n",
       "\n"
      ],
      "text/plain": [
       "[1] 0.054000 2.918771"
      ]
     },
     "metadata": {},
     "output_type": "display_data"
    }
   ],
   "source": [
    "p = sum(bs >= real_corr) / n_perm\n",
    "mlp = -log(p)\n",
    "\n",
    "c(p, mlp)"
   ]
  }
 ],
 "metadata": {
  "kernelspec": {
   "display_name": "R",
   "language": "R",
   "name": "ir"
  },
  "language_info": {
   "codemirror_mode": "r",
   "file_extension": ".r",
   "mimetype": "text/x-r-source",
   "name": "R",
   "pygments_lexer": "r",
   "version": "3.3.0"
  }
 },
 "nbformat": 4,
 "nbformat_minor": 0
}
