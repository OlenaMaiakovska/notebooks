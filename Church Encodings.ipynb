{
 "metadata": {
  "name": "",
  "signature": "sha256:4279d218f46168246210ce1649b6252281b79df91a112a37ae8549578e72dc48"
 },
 "nbformat": 3,
 "nbformat_minor": 0,
 "worksheets": [
  {
   "cells": [
    {
     "cell_type": "markdown",
     "metadata": {},
     "source": [
      "#Church Encodings\n",
      "Defining a lambda calculus in python\n",
      "\n",
      "I'm taking a lot of liberties to make it easy to play around with the concept using python as a wrapper, so there won't be any code that looks like this: http://matt.might.net/articles/python-church-y-combinator/."
     ]
    },
    {
     "cell_type": "markdown",
     "metadata": {},
     "source": [
      "\n",
      "Consider a normal function, `f(x) = x`. The fact that the variable is called x doesn't really mean anything. It's the variable in this function. If there are two variables, then the names are important to tell them apart, but still not more than that.\n",
      "\n",
      "To introduce the idea of functions that take functions, consider the derivative.\n",
      "\n",
      "`d/dx (g) = 2x`\n",
      "\n",
      "What the deritave really does is take a function with one argument and gives back a function with one argument. The fact that we say `d/dx` with an `x` is really more of a standard. What we saw is that the derivitve is a function itself that takes (a function of one variable) and gives back (a function of one variable)\n",
      "\n",
      "\n",
      "####Scope\n",
      "\n",
      "we already know `f(x) = x`. That means if we define more functions later, we can reference f.\n",
      "let's also say that we have a constant, `q`, such that `q = 5`. We can also talk about q later.\n",
      "\n",
      "Now make another function, `z`:\n",
      "`z(y) = f(y) + q`\n",
      "\n",
      "This function can use variables from outside its definition.\n",
      "\n",
      "When we make function that makes functions, the argument of the outer function is avaliable for use in the inner function. THis requires a different notation. In python, we use lambdas:\n",
      "\n",
      "\\# move this down into the currying section\n",
      "\n",
      "`w = lambda h: lambda x: h(x)`\n",
      "\n",
      "w is now a function that takes in a function h, and builds a function that takes in a value and gives back h applied to that value (so basically w takes in h and gives back h)\n",
      "\n",
      "\n"
     ]
    },
    {
     "cell_type": "markdown",
     "metadata": {},
     "source": [
      "##Currying"
     ]
    },
    {
     "cell_type": "markdown",
     "metadata": {},
     "source": [
      "#### Everyday Functions\n",
      "In everyday math or python coding, we would express a function that takes two real numbers and returns their sum as:"
     ]
    },
    {
     "cell_type": "code",
     "collapsed": false,
     "input": [
      "f = lambda x, y: x + y\n",
      "f(3, 5)"
     ],
     "language": "python",
     "metadata": {},
     "outputs": [
      {
       "metadata": {},
       "output_type": "pyout",
       "prompt_number": 2,
       "text": [
        "8"
       ]
      }
     ],
     "prompt_number": 2
    },
    {
     "cell_type": "markdown",
     "metadata": {},
     "source": [
      "This required the assumptions that one function could take several variables.\n",
      "\n",
      "#### Lambda Calculus Rules\n",
      "\n",
      "When we're doing lambda calculus, functions can only take one argument. Luckily, functions can return other functions. "
     ]
    },
    {
     "cell_type": "code",
     "collapsed": false,
     "input": [
      "g = lambda x: lambda y: x + y\n",
      "g(2)(6)"
     ],
     "language": "python",
     "metadata": {},
     "outputs": [
      {
       "metadata": {},
       "output_type": "pyout",
       "prompt_number": 3,
       "text": [
        "8"
       ]
      }
     ],
     "prompt_number": 3
    },
    {
     "cell_type": "markdown",
     "metadata": {},
     "source": [
      "Within the scope of the first lambda, `x` is basically constant. That means we can build an inner lambda that uses the value of `x`\n",
      "\n",
      "#### `f` and `g` are the same\n",
      "We want to show that `f` and `g` are the same. You can try this for any two integers. Remember that this example uses addition, which has the associative property, so the order doesn't matter. In general, this isn't true for most functions."
     ]
    },
    {
     "cell_type": "code",
     "collapsed": false,
     "input": [
      "assert 11 == f(4, 7) == g(4)(7)"
     ],
     "language": "python",
     "metadata": {},
     "outputs": [],
     "prompt_number": 4
    },
    {
     "cell_type": "markdown",
     "metadata": {},
     "source": [
      "##Church Encodings\n",
      "Church Encodings are a way of using a world that just consists of functions and their applications to represent numbers, booleans, and tuples.\n",
      "\n",
      "Since we're doing this in the spirit of playing around in python, I've made an abstract class for Church Encodings. This will help us later when interacting with the iPython console so we can get at what our encodings really mean!"
     ]
    },
    {
     "cell_type": "markdown",
     "metadata": {},
     "source": [
      "###Church Booleans\n",
      "There are two booleans: true and false. In python, these are constants called `True` and `False`. Our Church Encodings are all going to be in uppercase to prevent conflicts with python's constants and keywords.\n",
      "\n",
      "To represent this in lambda calculus, we need to pick two things. First, we need to have two things to pick, which means we need two functions since all there is are functions. Then we'll decide which function means true and which means false and we're done."
     ]
    },
    {
     "cell_type": "markdown",
     "metadata": {},
     "source": [
      "###Boolean Constants"
     ]
    },
    {
     "cell_type": "code",
     "collapsed": false,
     "input": [
      "TRUE = lambda x: lambda y: x\n",
      "FALSE = lambda x: lambda y: y\n",
      "\n",
      "def c_boolean(p_boolean):\n",
      "    return TRUE if p_boolean else FALSE\n",
      "\n",
      "def p_boolean(c_boolean):\n",
      "    return c_boolean(True)(False)"
     ],
     "language": "python",
     "metadata": {},
     "outputs": [],
     "prompt_number": 5
    },
    {
     "cell_type": "markdown",
     "metadata": {},
     "source": [
      "Just for argument's sake, we want to wrap a python assert command to work with booleans"
     ]
    },
    {
     "cell_type": "code",
     "collapsed": false,
     "input": [
      "def ASSERT(boolean):\n",
      "    assert boolean(True)(False)\n",
      "\n",
      "ASSERT(c_boolean(True))\n",
      "ASSERT(TRUE)"
     ],
     "language": "python",
     "metadata": {},
     "outputs": [],
     "prompt_number": 6
    },
    {
     "cell_type": "markdown",
     "metadata": {},
     "source": [
      "###Boolean Operations"
     ]
    },
    {
     "cell_type": "markdown",
     "metadata": {},
     "source": [
      "####NOT"
     ]
    },
    {
     "cell_type": "code",
     "collapsed": false,
     "input": [
      "NOT = lambda boolean: lambda x: lambda y: boolean(y)(x)\n",
      "\n",
      "def ASSERF(boolean):\n",
      "    assert NOT(boolean)\n",
      "\n",
      "ASSERF(c_boolean(False))\n",
      "ASSERF(FALSE)"
     ],
     "language": "python",
     "metadata": {},
     "outputs": [],
     "prompt_number": 7
    },
    {
     "cell_type": "markdown",
     "metadata": {},
     "source": [
      "####AND"
     ]
    },
    {
     "cell_type": "code",
     "collapsed": false,
     "input": [
      "AND = lambda a: lambda b: a(b)(FALSE)\n",
      "\n",
      "ASSERT(AND(TRUE)(TRUE))\n",
      "ASSERF(AND(TRUE)(FALSE))\n",
      "ASSERT(NOT(AND(FALSE)(TRUE)))\n",
      "ASSERT(NOT(AND(FALSE)(FALSE)))"
     ],
     "language": "python",
     "metadata": {},
     "outputs": [],
     "prompt_number": 8
    },
    {
     "cell_type": "markdown",
     "metadata": {},
     "source": [
      "####OR"
     ]
    },
    {
     "cell_type": "code",
     "collapsed": false,
     "input": [
      "OR = lambda a: lambda b: lambda x: lambda y: a(TRUE)(b)\n",
      "\n",
      "ASSERT(OR(TRUE)(TRUE))\n",
      "ASSERT(OR(TRUE)(FALSE))\n",
      "ASSERT(OR(FALSE)(TRUE))\n",
      "ASSERT(NOT(OR(FALSE)(FALSE)))"
     ],
     "language": "python",
     "metadata": {},
     "outputs": [],
     "prompt_number": 9
    },
    {
     "cell_type": "markdown",
     "metadata": {},
     "source": [
      "####XOR"
     ]
    },
    {
     "cell_type": "code",
     "collapsed": false,
     "input": [
      "XOR = lambda a: lambda b: lambda x: lambda y: a(NOT(b))(b)"
     ],
     "language": "python",
     "metadata": {},
     "outputs": [],
     "prompt_number": 10
    },
    {
     "cell_type": "markdown",
     "metadata": {},
     "source": [
      "####XNOR"
     ]
    },
    {
     "cell_type": "code",
     "collapsed": false,
     "input": [
      "XNOR = lambda a: lambda b: lambda x: lambda y: a(b)(NOT(b))"
     ],
     "language": "python",
     "metadata": {},
     "outputs": [],
     "prompt_number": 11
    },
    {
     "cell_type": "markdown",
     "metadata": {},
     "source": [
      "####IF\n",
      "If the first argument is true, give back the second argument. Else, give back the third argument. This is accomplished because `TRUE` takes 2 arguments and gives back the first thing and `FALSE` takes 2 arguments and gives back the second thing. This means we are basically all the way there to writing an if statement with the definition of these booleans."
     ]
    },
    {
     "cell_type": "code",
     "collapsed": false,
     "input": [
      "IF = lambda boolean: lambda x: lambda y: boolean(x)(y)\n",
      "\n",
      "ASSERT(IF(TRUE)(TRUE)(TRUE))\n",
      "ASSERT(IF(TRUE)(TRUE)(FALSE))\n",
      "ASSERF(IF(TRUE)(FALSE)(TRUE))\n",
      "ASSERF(IF(TRUE)(FALSE)(FALSE))\n",
      "ASSERT(IF(FALSE)(TRUE)(TRUE))\n",
      "ASSERF(IF(FALSE)(TRUE)(FALSE))\n",
      "ASSERT(IF(FALSE)(FALSE)(TRUE))\n",
      "ASSERF(IF(FALSE)(FALSE)(FALSE))"
     ],
     "language": "python",
     "metadata": {},
     "outputs": [],
     "prompt_number": 12
    },
    {
     "cell_type": "markdown",
     "metadata": {},
     "source": [
      "##Numbers"
     ]
    },
    {
     "cell_type": "code",
     "collapsed": false,
     "input": [
      "c0 = lambda f: lambda x: x\n",
      "c1 = lambda f: lambda x: f(x) \n",
      "c2 = lambda f: lambda x: f(f(x))\n",
      "c3 = lambda f: lambda x: f(f(f(x)))\n",
      "\n",
      "def p_number(c_number):\n",
      "    return c_number(lambda x: 1 + x)(0)\n",
      "    \n",
      "assert 0 == p_number(c0)\n",
      "assert 1 == p_number(c1)\n",
      "assert 2 == p_number(c2)\n",
      "assert 3 == p_number(c3)\n",
      "\n",
      "def c_number(p_number):\n",
      "    return lambda f: lambda x: reduce(lambda accum, current: f(accum), range(p_number), x)\n",
      "\n",
      "def c_range(p_number):\n",
      "    \"\"\"iterates through pairs of python and church numbers\"\"\"\n",
      "    for x in range(p_number):\n",
      "        yield x, c_number(x)\n",
      "\n",
      "def ASSERN(n, c_num):\n",
      "    \"\"\"asserts a python and church number are equal\"\"\"\n",
      "    assert n == p_number(c_num)\n",
      "        \n",
      "for x, c in c_range(10):\n",
      "    ASSERN(x, c)"
     ],
     "language": "python",
     "metadata": {},
     "outputs": [],
     "prompt_number": 13
    },
    {
     "cell_type": "markdown",
     "metadata": {},
     "source": [
      "###Successor Function\n",
      "There are a couple ways to go about adding one to a church number. The successor function takes in a Church Number and gives back a Church number."
     ]
    },
    {
     "cell_type": "code",
     "collapsed": false,
     "input": [
      "add_one = lambda number: lambda f: lambda x:  number(f)(f(x))\n",
      "c_successor = lambda c_num: lambda f: lambda x: c_num(f)(f(x))\n",
      "\n",
      "for x, c in c_range(10):\n",
      "    ASSERN(x + 1, c_successor(c))"
     ],
     "language": "python",
     "metadata": {},
     "outputs": [],
     "prompt_number": 14
    },
    {
     "cell_type": "markdown",
     "metadata": {},
     "source": [
      "###Addition\n",
      "Addition takes in two Church Numbers and gives back one Church Number.\n",
      "\n",
      "This can be accomplished by calling the successor function on the first number the number of times equal to the second number"
     ]
    },
    {
     "cell_type": "code",
     "collapsed": false,
     "input": [
      "add = lambda n1: lambda n2: lambda f: lambda x: n1(f)(n2(f)(x))\n",
      "\n",
      "#c_plus = lambda c_num1, c_num2: c_num1(c_successor)(c_num2)\n",
      "c_plus = lambda c_num1: lambda c_num2: lambda f: lambda x: c_num1(f)(c_num2(f)(x))\n",
      "\n",
      "for x, c in c_range(10):\n",
      "    ASSERN(x + 2, c_plus(c)(c2))"
     ],
     "language": "python",
     "metadata": {},
     "outputs": [],
     "prompt_number": 15
    },
    {
     "cell_type": "markdown",
     "metadata": {},
     "source": [
      "###Multiplication"
     ]
    },
    {
     "cell_type": "code",
     "collapsed": false,
     "input": [
      "c_multiply = lambda c_num1: lambda c_num2: lambda f: c_num1(c_num2(f))\n",
      "\n",
      "for x, c in c_range(10):\n",
      "    ASSERN(x * 2, c_multiply(c)(c2))"
     ],
     "language": "python",
     "metadata": {},
     "outputs": [],
     "prompt_number": 16
    },
    {
     "cell_type": "markdown",
     "metadata": {},
     "source": [
      "###Exponentiation"
     ]
    },
    {
     "cell_type": "code",
     "collapsed": false,
     "input": [
      "c_power = lambda c_num1: lambda c_num2: c_num2(c_num1)\n",
      "\n",
      "for x, c in c_range(10):\n",
      "    ASSERN(x ** 2, c_power(c)(c2))"
     ],
     "language": "python",
     "metadata": {},
     "outputs": [],
     "prompt_number": 17
    },
    {
     "cell_type": "markdown",
     "metadata": {},
     "source": [
      "###Is the number zero?"
     ]
    },
    {
     "cell_type": "code",
     "collapsed": false,
     "input": [
      "c_iszero = lambda c_num: c_num(lambda f: FALSE)(TRUE) \n",
      "\n",
      "ASSERT(c_iszero(c_number(0)))\n",
      "ASSERF(c_iszero(c_number(1)))\n",
      "ASSERF(c_iszero(c_number(2)))"
     ],
     "language": "python",
     "metadata": {},
     "outputs": [],
     "prompt_number": 18
    },
    {
     "cell_type": "markdown",
     "metadata": {},
     "source": [
      "###Data Structures"
     ]
    },
    {
     "cell_type": "code",
     "collapsed": false,
     "input": [
      "PAIR = lambda x: lambda y: lambda f: f(x)(y)\n",
      "FIRST = lambda pair: pair(TRUE)\n",
      "REST = lambda pair: pair(FALSE)\n",
      "\n",
      "\n",
      "pair_1 = PAIR(3)(5)\n",
      "assert 3 == FIRST(pair_1)\n",
      "assert 5 == REST(pair_1)"
     ],
     "language": "python",
     "metadata": {},
     "outputs": [],
     "prompt_number": 19
    },
    {
     "cell_type": "markdown",
     "metadata": {},
     "source": [
      "need to explain what NIL is\n",
      "\n",
      "why does empty do what it does"
     ]
    },
    {
     "cell_type": "code",
     "collapsed": false,
     "input": [
      "NIL = lambda x: TRUE\n",
      "EMPTY = lambda pair: pair(lambda x: lambda y: FALSE)\n",
      "                             \n",
      "\n",
      "def c_list(p_list):\n",
      "    o = NIL  \n",
      "    for element in p_list[::-1]:\n",
      "        o = PAIR(element)(o)\n",
      "    return o\n",
      "    # anything for the one-liner\n",
      "    # ChurchList(reduce(lambda accumulator, element: c_pair(element, accumulator), l[::-1], c_nil))\n",
      "    \n",
      "def p_list(c_list):\n",
      "    out = []\n",
      "    while p_boolean(NOT(EMPTY(c_list))):\n",
      "        first = FIRST(c_list)\n",
      "        c_list = REST(c_list)\n",
      "        out.append(first)      \n",
      "    return out\n",
      "    \n",
      "assert [] == p_list(c_list([]))\n",
      "assert [1,2] == p_list(c_list([1, 2]))\n",
      "\n",
      "list_1 = PAIR(\"ELEMENT 1\")(NIL)\n",
      "list_2 = PAIR(\"ELEMENT 2\")(list_1)\n",
      "\n",
      "ASSERT(EMPTY(NIL))\n",
      "ASSERF(EMPTY(list_1))\n",
      "ASSERF(EMPTY(list_2))"
     ],
     "language": "python",
     "metadata": {},
     "outputs": [],
     "prompt_number": 20
    },
    {
     "cell_type": "markdown",
     "metadata": {},
     "source": [
      "####More functions on numbers"
     ]
    },
    {
     "cell_type": "markdown",
     "metadata": {},
     "source": [
      "###Predecessor Function\n",
      "we were unable to build a predecessor, or \"subtract 1\" function without some clever use of pairs.\n",
      "\n",
      "first we need to have a new way of representing numbers\n",
      "0: (0,0)\n",
      "1: (0,1)\n",
      "2: (1,2)\n",
      "etc.\n",
      "\n",
      "So once the pairs are built, just take the FIRST to get the successor\n",
      "\n",
      "Since numbers are just the successive application of the same function, if we had a function that did a shift and increment, we could just do that on PAIR(c0, c0)"
     ]
    },
    {
     "cell_type": "code",
     "collapsed": false,
     "input": [
      "c_shift_increment = lambda pair: PAIR(REST(pair))(c_successor(REST(pair)))\n",
      "\n",
      "zz = PAIR(c0)(c0)\n",
      "c_predecessor = lambda c_num: FIRST(c_num(c_shift_increment)(zz))\n",
      "\n",
      "for x in range(1, 10):\n",
      "    ASSERN(x, (c_repred(c_number(x + 1))))"
     ],
     "language": "python",
     "metadata": {},
     "outputs": [
      {
       "ename": "NameError",
       "evalue": "name 'c_repred' is not defined",
       "output_type": "pyerr",
       "traceback": [
        "\u001b[0;31m---------------------------------------------------------------------------\u001b[0m\n\u001b[0;31mNameError\u001b[0m                                 Traceback (most recent call last)",
        "\u001b[0;32m<ipython-input-21-e31418cea7c0>\u001b[0m in \u001b[0;36m<module>\u001b[0;34m()\u001b[0m\n\u001b[1;32m      5\u001b[0m \u001b[0;34m\u001b[0m\u001b[0m\n\u001b[1;32m      6\u001b[0m \u001b[0;32mfor\u001b[0m \u001b[0mx\u001b[0m \u001b[0;32min\u001b[0m \u001b[0mrange\u001b[0m\u001b[0;34m(\u001b[0m\u001b[0;36m1\u001b[0m\u001b[0;34m,\u001b[0m \u001b[0;36m10\u001b[0m\u001b[0;34m)\u001b[0m\u001b[0;34m:\u001b[0m\u001b[0;34m\u001b[0m\u001b[0m\n\u001b[0;32m----> 7\u001b[0;31m     \u001b[0mASSERN\u001b[0m\u001b[0;34m(\u001b[0m\u001b[0mx\u001b[0m\u001b[0;34m,\u001b[0m \u001b[0;34m(\u001b[0m\u001b[0mc_repred\u001b[0m\u001b[0;34m(\u001b[0m\u001b[0mc_number\u001b[0m\u001b[0;34m(\u001b[0m\u001b[0mx\u001b[0m \u001b[0;34m+\u001b[0m \u001b[0;36m1\u001b[0m\u001b[0;34m)\u001b[0m\u001b[0;34m)\u001b[0m\u001b[0;34m)\u001b[0m\u001b[0;34m)\u001b[0m\u001b[0;34m\u001b[0m\u001b[0m\n\u001b[0m",
        "\u001b[0;31mNameError\u001b[0m: name 'c_repred' is not defined"
       ]
      }
     ],
     "prompt_number": 21
    },
    {
     "cell_type": "markdown",
     "metadata": {},
     "source": [
      "###Subtraction\n",
      "Keep in mind that subtraction is not commutative. Like addition, it is a two argument operation. The successor function must be applied to the first argument the number ot times equal to the value of the second argument"
     ]
    },
    {
     "cell_type": "code",
     "collapsed": false,
     "input": [
      "c_subtract = lambda c_num1: lambda c_num2: c_num2(c_predecessor)(c_num1)\n",
      "\n",
      "for x, c in c_range(10):\n",
      "    ASSERN(23 - x, c_subtract(c_number(23))(c))"
     ],
     "language": "python",
     "metadata": {},
     "outputs": [],
     "prompt_number": 22
    },
    {
     "cell_type": "markdown",
     "metadata": {},
     "source": [
      "Notice that when the second argument is larger than the first, the answer is always zero"
     ]
    },
    {
     "cell_type": "code",
     "collapsed": false,
     "input": [
      "print \"3 - 2 =\", p_number(c_subtract(c_number(3))(c_number(2)))\n",
      "print \"3 - 3 =\", p_number(c_subtract(c_number(3))(c_number(3)))\n",
      "print \"3 - 4 =\", p_number(c_subtract(c_number(3))(c_number(4)))"
     ],
     "language": "python",
     "metadata": {},
     "outputs": [
      {
       "output_type": "stream",
       "stream": "stdout",
       "text": [
        "3 - 2 = 1\n",
        "3 - 3 = 0\n",
        "3 - 4 = 0\n"
       ]
      }
     ],
     "prompt_number": 23
    },
    {
     "cell_type": "markdown",
     "metadata": {},
     "source": [
      "###Logic with Numbers\n",
      "Subtraction with this scheme cannot create numbers less than zero. Therefore, we can use this and some boolean logic to build functions for <, >, <=, >=, and =="
     ]
    },
    {
     "cell_type": "code",
     "collapsed": false,
     "input": [
      "c_lte = lambda c_num1: lambda c_num2: c_iszero(c_subtract(c_num1)(c_num2))\n",
      "\n",
      "ASSERT(c_lte(c0)(c0))\n",
      "ASSERT(c_lte(c1)(c1))\n",
      "ASSERT(c_lte(c0)(c1))\n",
      "ASSERT(c_lte(c1)(c2))\n",
      "ASSERF(c_lte(c2)(c1))\n",
      "ASSERF(c_lte(c1)(c0))"
     ],
     "language": "python",
     "metadata": {},
     "outputs": [],
     "prompt_number": 24
    },
    {
     "cell_type": "code",
     "collapsed": false,
     "input": [
      "c_eq = lambda c_num1: lambda c_num2: AND(c_lte(c_num1)(c_num2))(c_lte(c_num2)(c_num1))\n",
      "\n",
      "ASSERT(c_eq(c0)(c0))\n",
      "ASSERT(c_eq(c1)(c1))\n",
      "ASSERF(c_eq(c0)(c1))\n",
      "ASSERF(c_eq(c1)(c0))"
     ],
     "language": "python",
     "metadata": {},
     "outputs": [],
     "prompt_number": 25
    },
    {
     "cell_type": "markdown",
     "metadata": {},
     "source": [
      "## Y Combinator\n",
      "\n",
      "A fixed point of a function, `f`, is the `x` for which `x = f(x)`"
     ]
    },
    {
     "cell_type": "code",
     "collapsed": false,
     "input": [
      "#Example: y=x^2 fixed point is x=1"
     ],
     "language": "python",
     "metadata": {},
     "outputs": [],
     "prompt_number": 26
    },
    {
     "cell_type": "markdown",
     "metadata": {},
     "source": [
      "We wish we had a magic function `y` that takes in a function, such as `f`, and tells us what the fixed point, `x`, is. \n",
      "\n",
      "This means `y(f) = x` so substitute into `x = f(x)` for `x` to get `y(f) = x = f(x) = f(y(f))`"
     ]
    },
    {
     "cell_type": "code",
     "collapsed": false,
     "input": [
      "give_me_fixed_point = lambda f: f(y(f))"
     ],
     "language": "python",
     "metadata": {},
     "outputs": [],
     "prompt_number": 27
    },
    {
     "cell_type": "markdown",
     "metadata": {},
     "source": [
      "don't try and apply this function. it won't work because it will recur infinitely.\n",
      "\n",
      "###Wrapping Trick\n",
      "Using the Y-Combinator, we can make recursive functions. For an explanation of how, check out https://blog.jcoglan.com/2008/01/10/deriving-the-y-combinator/"
     ]
    },
    {
     "cell_type": "code",
     "collapsed": false,
     "input": [
      "y = lambda F: (lambda x: F(lambda y: (x(x))(y)))(lambda x: F(lambda y:(x(x))(y)))\n",
      "#that's it. in all of its glory.\n"
     ],
     "language": "python",
     "metadata": {},
     "outputs": [],
     "prompt_number": 28
    },
    {
     "cell_type": "code",
     "collapsed": false,
     "input": [
      "fact_gen = lambda factorial: lambda n: IF(c_iszero(n), c1, c_multiply(n, factorial(factorial)(c_predecessor(n))))\n",
      "\n",
      "#\u03bbr. \u03bbn.(1, if n = 0; else n \u00d7 (r r (n\u22121)))"
     ],
     "language": "python",
     "metadata": {},
     "outputs": [],
     "prompt_number": 29
    }
   ],
   "metadata": {}
  }
 ]
}