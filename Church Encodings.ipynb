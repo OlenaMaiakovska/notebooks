{
 "cells": [
  {
   "cell_type": "markdown",
   "metadata": {},
   "source": [
    "# Lambda Calculus and Church Encodings in Python\n",
    "\n",
    "Consider a normal function, `f(x) = x`. The fact that the variable is called x doesn't really mean anything. It's the variable in this function. If there are two variables, then the names are important to tell them apart, but still not more than that.\n",
    "\n",
    "To introduce the idea of functions that take functions, consider the derivative. Given `g(x) = x^2`, \n",
    "\n",
    "`d/dx (g) = 2x`\n",
    "\n",
    "What the derivative really does is take a function with one argument and gives back a function with one argument. The fact that we say `d/dx` with an `x` is really more of a standard. What we saw is that the derivitve is a function itself that takes (a function of one variable) and gives back (a function of one variable)\n",
    "\n",
    "#### Scope\n",
    "\n",
    "we already know `f(x) = x`. That means if we define more functions later, we can reference f.\n",
    "let's also say that we have a constant, `q`, such that `q = 5`. We can also talk about q later.\n",
    "\n",
    "Now make another function, that can use variables/functions from outside of its definition, `z`:\n",
    "\n",
    "`z(y) = f(y) + q`\n",
    "\n",
    "When we make function that makes functions, the argument of the outer function is avaliable for use in the inner function. This requires a different notation. In python, we use lambdas:\n",
    "\n",
    "## Currying\n",
    "\n",
    "#### Everyday Functions\n",
    "\n",
    "In everyday math or python coding, we would express a function that takes two real numbers and returns their sum as:"
   ]
  },
  {
   "cell_type": "code",
   "execution_count": 1,
   "metadata": {
    "collapsed": false
   },
   "outputs": [
    {
     "data": {
      "text/plain": [
       "8"
      ]
     },
     "execution_count": 1,
     "metadata": {},
     "output_type": "execute_result"
    }
   ],
   "source": [
    "f = lambda x, y: x + y\n",
    "f(3, 5)"
   ]
  },
  {
   "cell_type": "markdown",
   "metadata": {},
   "source": [
    "This required the assumptions that one function could take several variables.\n",
    "\n",
    "#### Lambda Calculus Rules\n",
    "\n",
    "When we're doing lambda calculus, functions can only take one argument. Luckily, functions can return other functions. "
   ]
  },
  {
   "cell_type": "code",
   "execution_count": 2,
   "metadata": {
    "collapsed": false
   },
   "outputs": [
    {
     "data": {
      "text/plain": [
       "8"
      ]
     },
     "execution_count": 2,
     "metadata": {},
     "output_type": "execute_result"
    }
   ],
   "source": [
    "g = lambda x: lambda y: x + y\n",
    "g(2)(6)"
   ]
  },
  {
   "cell_type": "markdown",
   "metadata": {},
   "source": [
    "Within the scope of the first lambda, `x` is basically constant. That means we can build an inner lambda that uses the value of `x`\n",
    "\n",
    "#### `f` and `g` are the same\n",
    "We want to show that `f` and `g` are the same. You can try this for any two integers. Remember that this example uses addition, which has the associative property, so the order doesn't matter. In general, this isn't true for most functions."
   ]
  },
  {
   "cell_type": "code",
   "execution_count": 3,
   "metadata": {
    "collapsed": false
   },
   "outputs": [],
   "source": [
    "assert 11 == f(4, 7) == g(4)(7)"
   ]
  },
  {
   "cell_type": "markdown",
   "metadata": {},
   "source": [
    "## Church Encodings\n",
    "Church Encodings are a way of using a world that just consists of functions and their applications to represent numbers, booleans, and tuples.\n",
    "\n",
    "Since we're doing this in the spirit of playing around in python, I've made an abstract class for Church Encodings. This will help us later when interacting with the iPython console so we can get at what our encodings really mean!"
   ]
  },
  {
   "cell_type": "markdown",
   "metadata": {},
   "source": [
    "### Church Booleans\n",
    "There are two booleans: true and false. In python, these are constants called `True` and `False`. Our Church Encodings are all going to be in uppercase to prevent conflicts with python's constants and keywords.\n",
    "\n",
    "To represent this in lambda calculus, we need to pick two things. First, we need to have two things to pick, which means we need two functions since all there is are functions. Then we'll decide which function means true and which means false and we're done."
   ]
  },
  {
   "cell_type": "markdown",
   "metadata": {},
   "source": [
    "### Boolean Constants\n",
    "We're going to define what a `boolean` is pretty arbitrarily for now. There is a bit of math behind why, but just take it for granted now. It's really important that the `T` and `F` make the calls `t()` and `f()` to avoid eager evaluation later (and mess up the Y Combinator. More on that later)\n",
    "\n",
    "For the purposes of this file, interconversion functions have been provided."
   ]
  },
  {
   "cell_type": "code",
   "execution_count": 4,
   "metadata": {
    "collapsed": false
   },
   "outputs": [],
   "source": [
    "T = lambda t: lambda f: t()\n",
    "F = lambda t: lambda f: f()\n",
    "\n",
    "def c_boolean(p_boolean):\n",
    "    return T if p_boolean else F\n",
    "\n",
    "def p_boolean(c_boolean):\n",
    "    return c_boolean(lambda: True)(lambda: False)"
   ]
  },
  {
   "cell_type": "markdown",
   "metadata": {},
   "source": [
    "Just for argument's sake, we want to wrap a python assert command to work with booleans"
   ]
  },
  {
   "cell_type": "code",
   "execution_count": 5,
   "metadata": {
    "collapsed": false
   },
   "outputs": [],
   "source": [
    "def c_assert(boolean):\n",
    "    assert p_boolean(boolean)\n",
    "    \n",
    "def c_reject(boolean):\n",
    "    assert not p_boolean(boolean)\n",
    "    \n",
    "c_assert(c_boolean(True))\n",
    "c_assert(T)\n",
    "c_reject(c_boolean(False))\n",
    "c_reject(F)"
   ]
  },
  {
   "cell_type": "markdown",
   "metadata": {},
   "source": [
    "### Boolean Operations\n",
    "Unary boolean operators, like `NOT`, take one argument and return a `BOOLEAN`. Binary boolean opearators like `AND`, `OR`, `XOR`, and `EQ` take two booleans as arguments. Each boolean function must return a `BOOLEAN`, which itself is a two-argument function."
   ]
  },
  {
   "cell_type": "markdown",
   "metadata": {},
   "source": [
    "#### NOT Operator\n",
    "Because we've define a boolean to give back the first argument if it's true, and the second argument if it's false, we just need to flip the output of a given boolean to make it the NOT."
   ]
  },
  {
   "cell_type": "code",
   "execution_count": 6,
   "metadata": {
    "collapsed": false
   },
   "outputs": [],
   "source": [
    "NOT = lambda boolean: lambda x: lambda y: boolean(y)(x)\n",
    "\n",
    "c_assert(NOT(F))\n",
    "c_reject(NOT(T))"
   ]
  },
  {
   "cell_type": "markdown",
   "metadata": {},
   "source": [
    "#### AND Operator\n",
    "The `AND` operator is a binary boolean operator that returns `T` only if both of its arguments are `T`\n",
    "\n",
    "This function is limited with short-circuit evaluation. If the first argument is true, then the result of the function must be the value of the second argument. If the first argument is false, then the function must evaluate to false. Using the definition of a `BOOLEAN` this can be accomplished as follows:"
   ]
  },
  {
   "cell_type": "code",
   "execution_count": 7,
   "metadata": {
    "collapsed": false
   },
   "outputs": [],
   "source": [
    "AND = lambda boolean_1: lambda boolean_2: boolean_1(lambda: boolean_2)(lambda: F)\n",
    "\n",
    "c_reject(AND(F)(F))\n",
    "c_reject(AND(F)(T))\n",
    "c_reject(AND(T)(F))\n",
    "c_assert(AND(T)(T))"
   ]
  },
  {
   "cell_type": "markdown",
   "metadata": {},
   "source": [
    "#### OR Operator\n",
    "The `OR` operator is a binary boolean operator that returns `T` if any of its arguments are `T`\n",
    "\n",
    "This function can be implemented with short-circuit evaluation like `AND`. If the first argument is true, then the function must evaluate to true. If the first argument is false, then the function evaluates to whatever the second argument is."
   ]
  },
  {
   "cell_type": "code",
   "execution_count": 8,
   "metadata": {
    "collapsed": false
   },
   "outputs": [],
   "source": [
    "OR = lambda boolean_1: lambda boolean_2: boolean_1(lambda: T)(lambda: boolean_2)\n",
    "\n",
    "c_reject(OR(F)(F))\n",
    "c_assert(OR(F)(T))\n",
    "c_assert(OR(T)(F))\n",
    "c_assert(OR(T)(T))"
   ]
  },
  {
   "cell_type": "markdown",
   "metadata": {},
   "source": [
    "#### XOR Operator\n",
    "The `XOR` operator returns true if exactly one of its arguments are true.\n",
    "\n",
    "This function can be implemeted with the help of the `NOT` operator. Fun fact: `XOR` is complete and can be used to derive all other logical functions."
   ]
  },
  {
   "cell_type": "code",
   "execution_count": 9,
   "metadata": {
    "collapsed": false
   },
   "outputs": [],
   "source": [
    "XOR = lambda a: lambda b: a(lambda: NOT(b))(lambda: b)\n",
    "\n",
    "c_reject(XOR(F)(F))\n",
    "c_assert(XOR(F)(T))\n",
    "c_assert(XOR(T)(F))\n",
    "c_reject(XOR(T)(T))"
   ]
  },
  {
   "cell_type": "markdown",
   "metadata": {},
   "source": [
    "#### IF Operator\n",
    "The `IF` operator is a ternary operator. If the first argument is `T`, it returns the second argument. If the first argument is `F` then it returns the third argument. This operator returns whatever the type of the second/third arguments are. Wrapping the second and third arguments in lambdas with no arguments is necessary to ensure lazy evaluation is possible. \n",
    "\n",
    "This function is implemented very easily because it reflects the definition of a boolean."
   ]
  },
  {
   "cell_type": "code",
   "execution_count": 10,
   "metadata": {
    "collapsed": false,
    "scrolled": true
   },
   "outputs": [],
   "source": [
    "IF = lambda boolean: lambda x: lambda y: boolean(lambda: x)(lambda: y)()\n",
    "\n",
    "c_reject(IF(F)(lambda: F)(lambda: F))\n",
    "c_assert(IF(F)(lambda: F)(lambda: T))\n",
    "c_reject(IF(F)(lambda: T)(lambda: F))\n",
    "c_assert(IF(F)(lambda: T)(lambda: T))\n",
    "c_reject(IF(T)(lambda: F)(lambda: F))\n",
    "c_reject(IF(T)(lambda: F)(lambda: T))\n",
    "c_assert(IF(T)(lambda: T)(lambda: F))\n",
    "c_assert(IF(T)(lambda: T)(lambda: T))"
   ]
  },
  {
   "cell_type": "markdown",
   "metadata": {},
   "source": [
    "## Numbers\n",
    "Numbers can be implemented by making a function that takes two arguments: a function, and a variable. The number of times that the function is applied to the variable (and the last result) is the counter of what number is represented."
   ]
  },
  {
   "cell_type": "code",
   "execution_count": 11,
   "metadata": {
    "collapsed": false
   },
   "outputs": [],
   "source": [
    "c0 = lambda f: lambda x: x\n",
    "c1 = lambda f: lambda x: f(x) \n",
    "c2 = lambda f: lambda x: f(f(x))\n",
    "c3 = lambda f: lambda x: f(f(f(x)))"
   ]
  },
  {
   "cell_type": "markdown",
   "metadata": {},
   "source": [
    "A Church number can be converted back to a regular number by choosing the appropriate arguments. This function is the successor function, becuase if it is applied 4 times, then it will increment the given number by 4. We choose 0 as the second argument because a Church Number representing 4 will accomplish exactly this."
   ]
  },
  {
   "cell_type": "code",
   "execution_count": 12,
   "metadata": {
    "collapsed": false
   },
   "outputs": [],
   "source": [
    "def p_number(c_number):\n",
    "    return c_number(lambda x: 1 + x)(0)\n",
    "\n",
    "def c_equal(p_num, c_num):\n",
    "    assert p_num == p_number(c_num)\n",
    "\n",
    "c_equal(0, c0)\n",
    "c_equal(1, c1)\n",
    "c_equal(2, c2)\n",
    "c_equal(3, c3)"
   ]
  },
  {
   "cell_type": "markdown",
   "metadata": {},
   "source": [
    "For the purposes of this file, the function `c_number` can be used to build a Church Encoded number quickly."
   ]
  },
  {
   "cell_type": "code",
   "execution_count": 13,
   "metadata": {
    "collapsed": false
   },
   "outputs": [],
   "source": [
    "def c_number(p_num):\n",
    "    return lambda f: lambda x: x if p_num == 0 else f(c_number(p_num - 1)(f)(x))\n",
    "\n",
    "c_equal(0, c_number(0))\n",
    "c_equal(1, c_number(1))\n",
    "c_equal(2, c_number(2))\n",
    "c_equal(3, c_number(3))"
   ]
  },
  {
   "cell_type": "markdown",
   "metadata": {},
   "source": [
    "### Successor Function\n",
    "The `successor` operator is a unary operator takes a number and returns that number plus one.\n",
    "\n",
    "With church encodings, this can be accomplished by simply passing `f(x)` instead of `x` to the original number."
   ]
  },
  {
   "cell_type": "code",
   "execution_count": 14,
   "metadata": {
    "collapsed": false
   },
   "outputs": [],
   "source": [
    "c_successor = lambda c_num: lambda f: lambda x: c_num(f)(f(x))\n",
    "\n",
    "c_equal(1, c_successor(c0))\n",
    "c_equal(2, c_successor(c1))\n",
    "c_equal(3, c_successor(c2))"
   ]
  },
  {
   "cell_type": "markdown",
   "metadata": {},
   "source": [
    "### Addition Operator\n",
    "Addition takes in two Church Numbers and gives back one Church Number.\n",
    "\n",
    "This can be accomplished by calling the successor function on the first number the number of times equal to the second number"
   ]
  },
  {
   "cell_type": "code",
   "execution_count": 15,
   "metadata": {
    "collapsed": false
   },
   "outputs": [],
   "source": [
    "c_add = lambda c_num1: lambda c_num2: c_num1(c_successor)(c_num2)\n",
    "\n",
    "for p_num in range(5):\n",
    "    c_equal(p_num + 2, c_add(c_number(p_num))(c_number(2)))"
   ]
  },
  {
   "cell_type": "markdown",
   "metadata": {},
   "source": [
    "### Multiplication Operator"
   ]
  },
  {
   "cell_type": "code",
   "execution_count": 16,
   "metadata": {
    "collapsed": false
   },
   "outputs": [],
   "source": [
    "c_multiply = lambda c_num1: lambda c_num2: lambda f: c_num1(c_num2(f))\n",
    "\n",
    "for p_num in range(5):\n",
    "    c_equal(p_num * 2, c_multiply(c_number(p_num))(c_number(2)))"
   ]
  },
  {
   "cell_type": "markdown",
   "metadata": {},
   "source": [
    "### Exponentiation Operator"
   ]
  },
  {
   "cell_type": "code",
   "execution_count": 17,
   "metadata": {
    "collapsed": false
   },
   "outputs": [],
   "source": [
    "c_power = lambda c_num1: lambda c_num2: c_num2(c_num1)\n",
    "\n",
    "for p_num in range(5):\n",
    "    c_equal(p_num ** 2, c_power(c_number(p_num))(c_number(2)))"
   ]
  },
  {
   "cell_type": "markdown",
   "metadata": {},
   "source": [
    "### Zero Predicate\n",
    "Remember that zero is `lambda f: lambda x: x`. This means that `f` is unbound and won't affect the output. In all other numbers, `f` is bound, and will. The trick is to make the function be `F` value if `f` is bound, representing the number isn't zero, and `T` if it isn't bound."
   ]
  },
  {
   "cell_type": "code",
   "execution_count": 18,
   "metadata": {
    "collapsed": false
   },
   "outputs": [],
   "source": [
    "c_iszero = lambda c_num: c_num(lambda f: F)(T) \n",
    "\n",
    "c_assert(c_iszero(c_number(0)))\n",
    "c_reject(c_iszero(c_number(1)))\n",
    "c_reject(c_iszero(c_number(2)))"
   ]
  },
  {
   "cell_type": "markdown",
   "metadata": {},
   "source": [
    "## Data Structures"
   ]
  },
  {
   "cell_type": "markdown",
   "metadata": {},
   "source": [
    "### Lists"
   ]
  },
  {
   "cell_type": "code",
   "execution_count": 19,
   "metadata": {
    "collapsed": false
   },
   "outputs": [],
   "source": [
    "PAIR = lambda x: lambda y: lambda f: f(x)(y)\n",
    "FIRST = lambda pair: pair(lambda f: lambda r: f)\n",
    "REST = lambda pair: pair(lambda f: lambda r: r)\n",
    "\n",
    "pair_1 = PAIR(c0)(c1)\n",
    "c_equal(0, FIRST(pair_1))\n",
    "c_equal(1, REST(pair_1))"
   ]
  },
  {
   "cell_type": "markdown",
   "metadata": {},
   "source": [
    "### NIL and the Empty Predicate\n",
    "To use the `PAIR` construct to build functional lists, we need a signal to tell us (and our programs) when a list has no more elements. We'll introduce an elemend called `NIL` and require that the last element of every list is NIL.\n"
   ]
  },
  {
   "cell_type": "code",
   "execution_count": 20,
   "metadata": {
    "collapsed": false
   },
   "outputs": [],
   "source": [
    "NIL = lambda x: T\n",
    "\n",
    "list_1 = PAIR(c0)(NIL)\n",
    "list_2 = PAIR(c1)(list_1)\n",
    "list_3 = PAIR(c0)(PAIR(c1)(PAIR(c2)(NIL)))\n",
    "\n",
    "c_equal(0, FIRST(list_1))\n",
    "c_equal(0, FIRST(REST(list_2)))"
   ]
  },
  {
   "cell_type": "markdown",
   "metadata": {},
   "source": [
    "With similar logic to the Zero Predicate, we want to take advantage of the definition of `NIL`. A pair will apply `pair(f)` to its elements `x`, and `y` as such `f(x)(y)` then return `F` but if pair is actually `NIL`, it will be forced to return `T` since `NIL` is a function with constant value."
   ]
  },
  {
   "cell_type": "code",
   "execution_count": 21,
   "metadata": {
    "collapsed": false
   },
   "outputs": [],
   "source": [
    "EMPTY = lambda pair: pair(lambda x: lambda y: F)\n",
    "\n",
    "c_reject(EMPTY(list_1))\n",
    "c_assert(EMPTY(REST(list_1)))"
   ]
  },
  {
   "cell_type": "markdown",
   "metadata": {},
   "source": [
    "For the purposes of this file, two functions to interconvert python and church lists have been provided:"
   ]
  },
  {
   "cell_type": "code",
   "execution_count": 22,
   "metadata": {
    "collapsed": false
   },
   "outputs": [],
   "source": [
    "def c_list(p_list):\n",
    "    o = NIL  \n",
    "    for element in p_list[::-1]:\n",
    "        o = PAIR(element)(o)\n",
    "    return o\n",
    "\n",
    "# just for kicks\n",
    "def c_list_recursive(p_list):\n",
    "    if 0 == len(p_list):\n",
    "        return NIL\n",
    "    else:\n",
    "        return PAIR(p_list[0])(c_list_recursive(p_list[1:]))\n",
    "\n",
    "def p_list(c_list):\n",
    "    out = []\n",
    "    while p_boolean(NOT(EMPTY(c_list))):\n",
    "        out.append(FIRST(c_list))   \n",
    "        c_list = REST(c_list)     \n",
    "    return out\n",
    "\n",
    "assert [] == p_list(c_list([]))\n",
    "assert [1, 2] == p_list(c_list_recursive([1, 2]))"
   ]
  },
  {
   "cell_type": "markdown",
   "metadata": {},
   "source": [
    "As an interesting thing to consider, Matt Might's post http://matt.might.net/articles/compiling-up-to-lambda-calculus/ defines some recognizer functions. These are useful for writing more practical programs with an untyped language. \n",
    "```lisp\n",
    "(define PAIR? `(λ (list)\n",
    "                 ((list (λ (_) (λ (_) ,TRUE)))\n",
    "                  (λ (_) ,FALSE))))\n",
    "```"
   ]
  },
  {
   "cell_type": "markdown",
   "metadata": {},
   "source": [
    "## More Functions with Numbers\n",
    "With the ability to do logic with data structures, we can construct the final basic operator for natural numbers: subtraction. Like addition, subtraction is the same as repeated decrementation, so the predecessor function will be investigated first."
   ]
  },
  {
   "cell_type": "markdown",
   "metadata": {},
   "source": [
    "### Predecessor Function\n",
    "we were unable to build a predecessor, or \"subtract 1\" function without some clever use of pairs.\n",
    "\n",
    "first we need to have a new way of representing numbers\n",
    "* `0 => (0, 0)`\n",
    "* `1 => (0, 1)`\n",
    "* `2 => (1, 2)`\n",
    "* etc.\n",
    "\n",
    "So once the pairs are built, just take the FIRST to get the successor\n",
    "\n",
    "Since numbers are just the successive application of the same function, if we had a function that did a shift and increment, we could just do that on PAIR(c0, c0)"
   ]
  },
  {
   "cell_type": "code",
   "execution_count": 23,
   "metadata": {
    "collapsed": false
   },
   "outputs": [],
   "source": [
    "c_shift_increment = lambda pair: PAIR(REST(pair))(c_successor(REST(pair)))\n",
    "\n",
    "zz = PAIR(c0)(c0)\n",
    "c_predecessor = lambda c_num: FIRST(c_num(c_shift_increment)(zz))\n",
    "\n",
    "for x in range(1, 10):\n",
    "    c_equal(x - 1, c_predecessor(c_number(x)))"
   ]
  },
  {
   "cell_type": "markdown",
   "metadata": {},
   "source": [
    "### Subtraction\n",
    "Keep in mind that subtraction is not commutative. Like addition, it is a two argument operation. The successor function must be applied to the first argument the number ot times equal to the value of the second argument"
   ]
  },
  {
   "cell_type": "code",
   "execution_count": 24,
   "metadata": {
    "collapsed": false
   },
   "outputs": [],
   "source": [
    "c_subtract = lambda c_num1: lambda c_num2: c_num2(c_predecessor)(c_num1)\n",
    "\n",
    "for x in range(1, 10):\n",
    "    c_equal(23 - x, c_subtract(c_number(23))(c_number(x)))"
   ]
  },
  {
   "cell_type": "markdown",
   "metadata": {},
   "source": [
    "Notice that when the second argument is larger than the first, the answer is always zero. Implementing negative numbers is a job for another day."
   ]
  },
  {
   "cell_type": "code",
   "execution_count": 25,
   "metadata": {
    "collapsed": false
   },
   "outputs": [
    {
     "name": "stdout",
     "output_type": "stream",
     "text": [
      "3 - 2 = 1\n",
      "3 - 3 = 0\n",
      "3 - 4 = 0\n"
     ]
    }
   ],
   "source": [
    "print(\"3 - 2 =\", p_number(c_subtract(c_number(3))(c_number(2))))\n",
    "print(\"3 - 3 =\", p_number(c_subtract(c_number(3))(c_number(3))))\n",
    "print(\"3 - 4 =\", p_number(c_subtract(c_number(3))(c_number(4))))"
   ]
  },
  {
   "cell_type": "markdown",
   "metadata": {},
   "source": [
    "## Logic with Numbers\n",
    "Subtraction with this scheme cannot create numbers less than zero. Therefore, we can use this and some boolean logic to build functions for <, >, <=, >=, and =="
   ]
  },
  {
   "cell_type": "markdown",
   "metadata": {},
   "source": [
    "### Less-than-equals"
   ]
  },
  {
   "cell_type": "code",
   "execution_count": 26,
   "metadata": {
    "collapsed": false
   },
   "outputs": [],
   "source": [
    "c_lte = lambda c_num1: lambda c_num2: c_iszero(c_subtract(c_num1)(c_num2))\n",
    "\n",
    "c_assert(c_lte(c0)(c0))\n",
    "c_assert(c_lte(c1)(c1))\n",
    "c_assert(c_lte(c0)(c1))\n",
    "c_assert(c_lte(c1)(c2))\n",
    "c_reject(c_lte(c2)(c1))\n",
    "c_reject(c_lte(c1)(c0))"
   ]
  },
  {
   "cell_type": "markdown",
   "metadata": {},
   "source": [
    "### Equals\n",
    "Using the logic that if a a<=b and b<=a, a must be b."
   ]
  },
  {
   "cell_type": "code",
   "execution_count": 27,
   "metadata": {
    "collapsed": false
   },
   "outputs": [],
   "source": [
    "c_eq = lambda c_num1: lambda c_num2: AND(c_lte(c_num1)(c_num2))(c_lte(c_num2)(c_num1))\n",
    "\n",
    "c_assert(c_eq(c0)(c0))\n",
    "c_assert(c_eq(c1)(c1))\n",
    "c_reject(c_eq(c0)(c1))\n",
    "c_reject(c_eq(c1)(c0))"
   ]
  },
  {
   "cell_type": "markdown",
   "metadata": {},
   "source": [
    "### Strict Less-Than"
   ]
  },
  {
   "cell_type": "code",
   "execution_count": 28,
   "metadata": {
    "collapsed": true
   },
   "outputs": [],
   "source": [
    "c_lt = lambda c_num1: lambda c_num2: AND(NOT(c_eq(c_num1)(c_num2)))(c_lte(c_num1)(c_num2))\n",
    "\n",
    "c_reject(c_lt(c0)(c0))\n",
    "c_reject(c_lt(c1)(c1))\n",
    "c_assert(c_lt(c0)(c1))\n",
    "c_reject(c_lt(c1)(c0))"
   ]
  },
  {
   "cell_type": "markdown",
   "metadata": {},
   "source": [
    "## Functions and Recursion\n",
    "The classic example of a recursive function is the factorial. In python, we might write this function like this:\n",
    "```python\n",
    "def factorial(n):\n",
    "    if n == 0:\n",
    "        return 1\n",
    "    else:\n",
    "        return n * factorial(n - 1)\n",
    "```\n",
    "However, in church encoding world, functions don't have names so it's impossible for them to call themselves. The solution to this problem lies within the magical Y-Combinator. Before we explain what it is and how it works, we need to talk about fixed points of functions first."
   ]
  },
  {
   "cell_type": "markdown",
   "metadata": {},
   "source": [
    "### Fixed Points\n",
    "A fixed point of a function, `f`, is the `x` for which `x = f(x)`"
   ]
  },
  {
   "cell_type": "code",
   "execution_count": 29,
   "metadata": {
    "collapsed": false
   },
   "outputs": [
    {
     "data": {
      "text/plain": [
       "[<matplotlib.lines.Line2D at 0x10fa74390>,\n",
       " <matplotlib.lines.Line2D at 0x10fa746d8>]"
      ]
     },
     "execution_count": 29,
     "metadata": {},
     "output_type": "execute_result"
    },
    {
     "data": {
      "image/png": "[encoded data removed]",
      "text/plain": [
       "<matplotlib.figure.Figure at 0x10e3337f0>"
      ]
     },
     "metadata": {},
     "output_type": "display_data"
    }
   ],
   "source": [
    "import matplotlib.pyplot as plt\n",
    "import numpy as np\n",
    "%matplotlib inline  \n",
    "\n",
    "x = np.linspace(0, 2, 1000)\n",
    "y1 = np.sqrt(x)\n",
    "y2 = x\n",
    "\n",
    "plt.plot(x, y1, x, y2)"
   ]
  },
  {
   "cell_type": "markdown",
   "metadata": {},
   "source": [
    "In the case of `f(x) = sqrt(x)`, the fixed points are `0` and `1`, because `sqrt(1) = 1` and `sqrt(0) = 0`.\n",
    "\n",
    "\n",
    "We wish we had a magic function `Y` that can take an arbitrary function `f` and tell us its fixed point `x` such that:\n",
    "* `f(x) = x`\n",
    "* `y(f) = x`\n",
    "\n",
    "Without further ado, here is Y. I don't think I can do a better job explaining it than the sources that I read, so here they are:\n",
    "* http://matt.might.net/articles/implementation-of-recursive-fixed-point-y-combinator-in-javascript-for-memoization/\n",
    "* https://blog.jcoglan.com/2008/01/10/deriving-the-y-combinator/"
   ]
  },
  {
   "cell_type": "code",
   "execution_count": 30,
   "metadata": {
    "collapsed": false
   },
   "outputs": [],
   "source": [
    "Y = lambda F: (lambda x: F(lambda y:(x(x))(y)))(lambda x: F(lambda y:(x(x))(y))) "
   ]
  },
  {
   "cell_type": "markdown",
   "metadata": {},
   "source": [
    "### Wrapping Trick\n",
    "We can make recursive functions by using the following trick in combination with the Y-Combinator. \n",
    "1. make a function whose fixed point is the function we actually care about\n",
    "2. give this function to the Y combinator\n",
    "3. give the resulting function the arguments you wanted to give originally"
   ]
  },
  {
   "cell_type": "code",
   "execution_count": 31,
   "metadata": {
    "collapsed": false,
    "scrolled": false
   },
   "outputs": [],
   "source": [
    "c_factorial_generator = lambda r: lambda n: IF(c_lt(n)(c2))(lambda: c1)(lambda: c_multiply(n)(r(c_predecessor(n))))\n",
    "\n",
    "c_factorial = Y(c_factorial_generator)"
   ]
  },
  {
   "cell_type": "markdown",
   "metadata": {},
   "source": [
    "In the future, all programs can be generated using this wrapping trick, minding that programs look a bit messier with lambda wrapping inside `IF` statements."
   ]
  },
  {
   "cell_type": "code",
   "execution_count": 32,
   "metadata": {
    "collapsed": false
   },
   "outputs": [],
   "source": [
    "c_equal(1, c_factorial(c0))\n",
    "c_equal(1, c_factorial(c1))\n",
    "c_equal(2, c_factorial(c2))\n",
    "c_equal(6, c_factorial(c3))"
   ]
  }
 ],
 "metadata": {
  "kernelspec": {
   "display_name": "Python 3",
   "language": "python",
   "name": "python3"
  },
  "language_info": {
   "codemirror_mode": {
    "name": "ipython",
    "version": 3
   },
   "file_extension": ".py",
   "mimetype": "text/x-python",
   "name": "python",
   "nbconvert_exporter": "python",
   "pygments_lexer": "ipython3",
   "version": "3.5.1"
  }
 },
 "nbformat": 4,
 "nbformat_minor": 0
}
