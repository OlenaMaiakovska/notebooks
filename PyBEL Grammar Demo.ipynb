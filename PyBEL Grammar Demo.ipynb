{
 "cells": [
  {
   "cell_type": "code",
   "execution_count": 1,
   "metadata": {
    "collapsed": true
   },
   "outputs": [],
   "source": [
    "import os\n",
    "import time\n",
    "import json\n",
    "\n",
    "from pybel.parser import BelParser\n",
    "import networkx as nx\n",
    "import dill as pickle"
   ]
  },
  {
   "cell_type": "markdown",
   "metadata": {},
   "source": [
    "# Trial 1 - Just The Grammar"
   ]
  },
  {
   "cell_type": "code",
   "execution_count": 2,
   "metadata": {
    "collapsed": false
   },
   "outputs": [
    {
     "name": "stdout",
     "output_type": "stream",
     "text": [
      "CPU times: user 45.8 ms, sys: 6.8 ms, total: 52.5 ms\n",
      "Wall time: 54.9 ms\n"
     ]
    }
   ],
   "source": [
    "%%time\n",
    "parser = BelParser(valid_namespaces={\n",
    "    \"A\": set('abcdef'),\n",
    "    \"B\": set('uvwxyz')\n",
    "})"
   ]
  },
  {
   "cell_type": "markdown",
   "metadata": {},
   "source": [
    "The parser adds many parse actions to validate the semantics of the statement, including checking that the `namespace:name` pairs match an entry in `valid_namespaces`"
   ]
  },
  {
   "cell_type": "code",
   "execution_count": 3,
   "metadata": {
    "collapsed": false
   },
   "outputs": [
    {
     "name": "stdout",
     "output_type": "stream",
     "text": [
      "CPU times: user 5 µs, sys: 1 µs, total: 6 µs\n",
      "Wall time: 9.06 µs\n"
     ]
    }
   ],
   "source": [
    "%%time\n",
    "lang = parser.language"
   ]
  },
  {
   "cell_type": "code",
   "execution_count": 4,
   "metadata": {
    "collapsed": false
   },
   "outputs": [
    {
     "name": "stdout",
     "output_type": "stream",
     "text": [
      "CPU times: user 46.6 s, sys: 3.64 s, total: 50.2 s\n",
      "Wall time: 50.3 s\n",
      "{\n",
      "  \"relation\": \"increases\",\n",
      "  \"object\": {\n",
      "    \"function\": \"Protein\",\n",
      "    \"identifier\": {\n",
      "      \"namespace\": \"A\",\n",
      "      \"name\": \"b\"\n",
      "    }\n",
      "  },\n",
      "  \"subject\": {\n",
      "    \"function\": \"Protein\",\n",
      "    \"identifier\": {\n",
      "      \"namespace\": \"A\",\n",
      "      \"name\": \"a\"\n",
      "    }\n",
      "  }\n",
      "}\n"
     ]
    }
   ],
   "source": [
    "%time res = lang.parseString('p(A:a) -> p(A:b)')\n",
    "\n",
    "print(json.dumps(res.asDict(), indent=2))"
   ]
  },
  {
   "cell_type": "code",
   "execution_count": 5,
   "metadata": {
    "collapsed": false
   },
   "outputs": [
    {
     "name": "stdout",
     "output_type": "stream",
     "text": [
      "CPU times: user 8.79 ms, sys: 270 µs, total: 9.06 ms\n",
      "Wall time: 9.04 ms\n",
      "{\n",
      "  \"relation\": \"increases\",\n",
      "  \"object\": {\n",
      "    \"function\": \"Protein\",\n",
      "    \"identifier\": {\n",
      "      \"namespace\": \"A\",\n",
      "      \"name\": \"d\"\n",
      "    }\n",
      "  },\n",
      "  \"subject\": {\n",
      "    \"function\": \"Protein\",\n",
      "    \"identifier\": {\n",
      "      \"namespace\": \"A\",\n",
      "      \"name\": \"c\"\n",
      "    }\n",
      "  }\n",
      "}\n"
     ]
    }
   ],
   "source": [
    "%time res = lang.parseString('p(A:c) -> p(A:d)')\n",
    "\n",
    "print(json.dumps(res.asDict(), indent=2))"
   ]
  },
  {
   "cell_type": "code",
   "execution_count": 6,
   "metadata": {
    "collapsed": true
   },
   "outputs": [],
   "source": [
    "path = os.path.expanduser('~/Desktop/lang.pickle')"
   ]
  },
  {
   "cell_type": "code",
   "execution_count": 7,
   "metadata": {
    "collapsed": false
   },
   "outputs": [
    {
     "name": "stdout",
     "output_type": "stream",
     "text": [
      "CPU times: user 3.57 s, sys: 3.89 s, total: 7.45 s\n",
      "Wall time: 13.3 s\n"
     ]
    }
   ],
   "source": [
    "%%time\n",
    "with open(path, 'wb') as f:\n",
    "    pickle.dump(lang, f) # 2.57 gigabytes, wow!"
   ]
  },
  {
   "cell_type": "code",
   "execution_count": 8,
   "metadata": {
    "collapsed": true
   },
   "outputs": [],
   "source": [
    "del lang\n",
    "del parser"
   ]
  },
  {
   "cell_type": "code",
   "execution_count": 9,
   "metadata": {
    "collapsed": false
   },
   "outputs": [
    {
     "name": "stdout",
     "output_type": "stream",
     "text": [
      "2570.646 mb\n"
     ]
    }
   ],
   "source": [
    "print(\"{:.3f} mb\".format(os.path.getsize(path) / 1000000))"
   ]
  },
  {
   "cell_type": "code",
   "execution_count": 10,
   "metadata": {
    "collapsed": false
   },
   "outputs": [
    {
     "name": "stdout",
     "output_type": "stream",
     "text": [
      "CPU times: user 2.05 s, sys: 3.89 s, total: 5.94 s\n",
      "Wall time: 10.1 s\n"
     ]
    }
   ],
   "source": [
    "%%time\n",
    "with open(path, 'rb') as f:\n",
    "    lang_reloaded = pickle.load(f)"
   ]
  },
  {
   "cell_type": "code",
   "execution_count": 11,
   "metadata": {
    "collapsed": false
   },
   "outputs": [
    {
     "name": "stdout",
     "output_type": "stream",
     "text": [
      "CPU times: user 8.02 ms, sys: 656 µs, total: 8.68 ms\n",
      "Wall time: 9.56 ms\n",
      "{\n",
      "  \"relation\": \"increases\",\n",
      "  \"object\": {\n",
      "    \"function\": \"Protein\",\n",
      "    \"identifier\": {\n",
      "      \"namespace\": \"A\",\n",
      "      \"name\": \"f\"\n",
      "    }\n",
      "  },\n",
      "  \"subject\": {\n",
      "    \"function\": \"Protein\",\n",
      "    \"identifier\": {\n",
      "      \"namespace\": \"A\",\n",
      "      \"name\": \"e\"\n",
      "    }\n",
      "  }\n",
      "}\n"
     ]
    }
   ],
   "source": [
    "%time res = lang_reloaded.parseString('p(A:e) -> p(A:f)')\n",
    "\n",
    "print(json.dumps(res.asDict(), indent=2))"
   ]
  },
  {
   "cell_type": "code",
   "execution_count": 12,
   "metadata": {
    "collapsed": true
   },
   "outputs": [],
   "source": [
    "del lang_reloaded"
   ]
  },
  {
   "cell_type": "markdown",
   "metadata": {},
   "source": [
    "# Trial 2 - The Whole Class\n",
    "\n",
    "Now, will it work on the whole parser, which contains a graph?"
   ]
  },
  {
   "cell_type": "code",
   "execution_count": 13,
   "metadata": {
    "collapsed": false
   },
   "outputs": [
    {
     "name": "stdout",
     "output_type": "stream",
     "text": [
      "CPU times: user 29.9 ms, sys: 4.23 ms, total: 34.1 ms\n",
      "Wall time: 33.3 ms\n"
     ]
    }
   ],
   "source": [
    "%%time\n",
    "parser2 = BelParser(valid_namespaces={\n",
    "    \"A\": set('abcdef'),\n",
    "    \"B\": set('uvwxyz')\n",
    "})"
   ]
  },
  {
   "cell_type": "code",
   "execution_count": 14,
   "metadata": {
    "collapsed": false
   },
   "outputs": [
    {
     "name": "stdout",
     "output_type": "stream",
     "text": [
      "CPU times: user 46.9 s, sys: 3.63 s, total: 50.5 s\n",
      "Wall time: 50.6 s\n",
      "{\n",
      "  \"relation\": \"increases\",\n",
      "  \"object\": {\n",
      "    \"function\": \"Gene\",\n",
      "    \"identifier\": {\n",
      "      \"namespace\": \"B\",\n",
      "      \"name\": \"v\"\n",
      "    }\n",
      "  },\n",
      "  \"subject\": {\n",
      "    \"function\": \"Gene\",\n",
      "    \"identifier\": {\n",
      "      \"namespace\": \"B\",\n",
      "      \"name\": \"u\"\n",
      "    }\n",
      "  }\n",
      "}\n"
     ]
    }
   ],
   "source": [
    "%time res = parser2.parseString('g(B:u) -> g(B:v)')\n",
    "\n",
    "print(json.dumps(res.asDict(), indent=2))"
   ]
  },
  {
   "cell_type": "code",
   "execution_count": 15,
   "metadata": {
    "collapsed": false
   },
   "outputs": [
    {
     "name": "stdout",
     "output_type": "stream",
     "text": [
      "CPU times: user 3.43 ms, sys: 44 µs, total: 3.48 ms\n",
      "Wall time: 3.48 ms\n",
      "{\n",
      "  \"relation\": \"increases\",\n",
      "  \"object\": {\n",
      "    \"function\": \"Gene\",\n",
      "    \"identifier\": {\n",
      "      \"namespace\": \"B\",\n",
      "      \"name\": \"y\"\n",
      "    }\n",
      "  },\n",
      "  \"subject\": {\n",
      "    \"function\": \"Gene\",\n",
      "    \"identifier\": {\n",
      "      \"namespace\": \"B\",\n",
      "      \"name\": \"x\"\n",
      "    }\n",
      "  }\n",
      "}\n"
     ]
    }
   ],
   "source": [
    "%time res = parser2.parseString('g(B:x) -> g(B:y)')\n",
    "\n",
    "print(json.dumps(res.asDict(), indent=2))"
   ]
  },
  {
   "cell_type": "code",
   "execution_count": 16,
   "metadata": {
    "collapsed": false
   },
   "outputs": [
    {
     "data": {
      "text/plain": [
       "[(('Gene', 'B', 'u'), ('Gene', 'B', 'v')),\n",
       " (('Gene', 'B', 'x'), ('Gene', 'B', 'y'))]"
      ]
     },
     "execution_count": 16,
     "metadata": {},
     "output_type": "execute_result"
    }
   ],
   "source": [
    "parser2.graph.edges()"
   ]
  },
  {
   "cell_type": "code",
   "execution_count": 17,
   "metadata": {
    "collapsed": true
   },
   "outputs": [],
   "source": [
    "path2 = os.path.expanduser('~/Desktop/parser.pickle')"
   ]
  },
  {
   "cell_type": "code",
   "execution_count": 18,
   "metadata": {
    "collapsed": false
   },
   "outputs": [
    {
     "name": "stdout",
     "output_type": "stream",
     "text": [
      "CPU times: user 3.91 s, sys: 7.65 s, total: 11.6 s\n",
      "Wall time: 18.2 s\n"
     ]
    }
   ],
   "source": [
    "%%time\n",
    "with open(path2, 'wb') as f:\n",
    "    pickle.dump(parser2, f) # 2.57 gigabytes, wow!"
   ]
  },
  {
   "cell_type": "code",
   "execution_count": 19,
   "metadata": {
    "collapsed": true
   },
   "outputs": [],
   "source": [
    "del parser2"
   ]
  },
  {
   "cell_type": "code",
   "execution_count": 20,
   "metadata": {
    "collapsed": false
   },
   "outputs": [
    {
     "name": "stdout",
     "output_type": "stream",
     "text": [
      "2524.790 mb\n"
     ]
    }
   ],
   "source": [
    "print(\"{:.3f} mb\".format(os.path.getsize(path2) / 1000000))"
   ]
  },
  {
   "cell_type": "code",
   "execution_count": 21,
   "metadata": {
    "collapsed": false
   },
   "outputs": [
    {
     "name": "stdout",
     "output_type": "stream",
     "text": [
      "CPU times: user 2.29 s, sys: 5.08 s, total: 7.37 s\n",
      "Wall time: 12.1 s\n"
     ]
    }
   ],
   "source": [
    "%%time\n",
    "with open(path2, 'rb') as f:\n",
    "    parser3 = pickle.load(f) "
   ]
  },
  {
   "cell_type": "code",
   "execution_count": 22,
   "metadata": {
    "collapsed": false
   },
   "outputs": [
    {
     "name": "stdout",
     "output_type": "stream",
     "text": [
      "CPU times: user 3.77 ms, sys: 2.31 ms, total: 6.08 ms\n",
      "Wall time: 5.96 ms\n"
     ]
    }
   ],
   "source": [
    "%time res = parser3.parseString('g(B:v) -> g(B:y)')"
   ]
  },
  {
   "cell_type": "code",
   "execution_count": 23,
   "metadata": {
    "collapsed": false
   },
   "outputs": [
    {
     "data": {
      "text/plain": [
       "[(('Gene', 'B', 'u'), ('Gene', 'B', 'v')),\n",
       " (('Gene', 'B', 'v'), ('Gene', 'B', 'y')),\n",
       " (('Gene', 'B', 'x'), ('Gene', 'B', 'y'))]"
      ]
     },
     "execution_count": 23,
     "metadata": {},
     "output_type": "execute_result"
    }
   ],
   "source": [
    "parser3.graph.edges()"
   ]
  },
  {
   "cell_type": "code",
   "execution_count": null,
   "metadata": {
    "collapsed": true
   },
   "outputs": [],
   "source": [
    "del parser3"
   ]
  }
 ],
 "metadata": {
  "kernelspec": {
   "display_name": "Python 3",
   "language": "python",
   "name": "python3"
  },
  "language_info": {
   "codemirror_mode": {
    "name": "ipython",
    "version": 3
   },
   "file_extension": ".py",
   "mimetype": "text/x-python",
   "name": "python",
   "nbconvert_exporter": "python",
   "pygments_lexer": "ipython3",
   "version": "3.5.2"
  }
 },
 "nbformat": 4,
 "nbformat_minor": 1
}
