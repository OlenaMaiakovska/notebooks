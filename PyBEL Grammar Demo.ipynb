{
 "cells": [
  {
   "cell_type": "markdown",
   "metadata": {},
   "source": [
    "# Goals \n",
    "- Load [PyBEL](https://github.com/pybel/pybel) parser (based on [PyParsing](http://pyparsing.wikispaces.com/HowToUsePyparsing)) with given valid namespaces\n",
    "- \"compile\" it\n",
    "- Pickle and save for later\n",
    "\n",
    "`BelParser` builds a language in `BelParser.__init__` using some of the arguments to add parse actions that do semantic checks and build a `networkx` graph. It is stored in `BelParser.language`. `BelParser.parseString` is a convenience function wrapping `BelParser.language.parseString`"
   ]
  },
  {
   "cell_type": "code",
   "execution_count": 1,
   "metadata": {
    "collapsed": true
   },
   "outputs": [],
   "source": [
    "import os\n",
    "import time\n",
    "import json\n",
    "\n",
    "from pybel.parser import BelParser\n",
    "import networkx as nx\n",
    "import dill as pickle"
   ]
  },
  {
   "cell_type": "code",
   "execution_count": 2,
   "metadata": {
    "collapsed": false
   },
   "outputs": [
    {
     "name": "stdout",
     "output_type": "stream",
     "text": [
      "CPU times: user 417 ms, sys: 9.34 ms, total: 426 ms\n",
      "Wall time: 425 ms\n"
     ]
    }
   ],
   "source": [
    "%%time\n",
    "parser = BelParser(valid_namespaces={\n",
    "    \"A\": set('abcdef'),\n",
    "    \"B\": set('uvwxyz')\n",
    "})"
   ]
  },
  {
   "cell_type": "code",
   "execution_count": 3,
   "metadata": {
    "collapsed": false
   },
   "outputs": [
    {
     "name": "stdout",
     "output_type": "stream",
     "text": [
      "CPU times: user 4.8 s, sys: 161 ms, total: 4.96 s\n",
      "Wall time: 4.98 s\n"
     ]
    }
   ],
   "source": [
    "%%time\n",
    "res = parser.language.streamline()"
   ]
  },
  {
   "cell_type": "code",
   "execution_count": 4,
   "metadata": {
    "collapsed": false
   },
   "outputs": [
    {
     "name": "stdout",
     "output_type": "stream",
     "text": [
      "CPU times: user 4.57 ms, sys: 396 µs, total: 4.96 ms\n",
      "Wall time: 4.98 ms\n",
      "{\n",
      "  \"subject\": {\n",
      "    \"function\": \"Gene\",\n",
      "    \"identifier\": {\n",
      "      \"name\": \"u\",\n",
      "      \"namespace\": \"B\"\n",
      "    }\n",
      "  },\n",
      "  \"relation\": \"increases\",\n",
      "  \"object\": {\n",
      "    \"function\": \"Gene\",\n",
      "    \"identifier\": {\n",
      "      \"name\": \"v\",\n",
      "      \"namespace\": \"B\"\n",
      "    }\n",
      "  }\n",
      "}\n"
     ]
    }
   ],
   "source": [
    "%time res = parser.parseString('g(B:u) -> g(B:v)')\n",
    "\n",
    "print(json.dumps(res.asDict(), indent=2))"
   ]
  },
  {
   "cell_type": "code",
   "execution_count": 5,
   "metadata": {
    "collapsed": false
   },
   "outputs": [
    {
     "data": {
      "text/plain": [
       "[(('Gene', 'B', 'u'), ('Gene', 'B', 'v'))]"
      ]
     },
     "execution_count": 5,
     "metadata": {},
     "output_type": "execute_result"
    }
   ],
   "source": [
    "parser.graph.edges()"
   ]
  },
  {
   "cell_type": "code",
   "execution_count": 6,
   "metadata": {
    "collapsed": true
   },
   "outputs": [],
   "source": [
    "path = os.path.expanduser('~/Desktop/parser.pickle')"
   ]
  },
  {
   "cell_type": "code",
   "execution_count": 7,
   "metadata": {
    "collapsed": false
   },
   "outputs": [
    {
     "name": "stdout",
     "output_type": "stream",
     "text": [
      "CPU times: user 484 ms, sys: 498 ms, total: 982 ms\n",
      "Wall time: 1.23 s\n"
     ]
    }
   ],
   "source": [
    "%%time\n",
    "with open(path, 'wb') as f:\n",
    "    pickle.dump(parser, f)"
   ]
  },
  {
   "cell_type": "code",
   "execution_count": 8,
   "metadata": {
    "collapsed": false
   },
   "outputs": [
    {
     "name": "stdout",
     "output_type": "stream",
     "text": [
      "207.141 mb\n"
     ]
    }
   ],
   "source": [
    "print(\"{:.3f} mb\".format(os.path.getsize(path) / 1000000))"
   ]
  },
  {
   "cell_type": "code",
   "execution_count": 9,
   "metadata": {
    "collapsed": true
   },
   "outputs": [],
   "source": [
    "del parser"
   ]
  },
  {
   "cell_type": "code",
   "execution_count": 10,
   "metadata": {
    "collapsed": false
   },
   "outputs": [
    {
     "name": "stdout",
     "output_type": "stream",
     "text": [
      "CPU times: user 203 ms, sys: 194 ms, total: 397 ms\n",
      "Wall time: 395 ms\n"
     ]
    }
   ],
   "source": [
    "%%time\n",
    "with open(path, 'rb') as f:\n",
    "    parser_reloaded = pickle.load(f) "
   ]
  },
  {
   "cell_type": "code",
   "execution_count": 11,
   "metadata": {
    "collapsed": false
   },
   "outputs": [
    {
     "name": "stdout",
     "output_type": "stream",
     "text": [
      "CPU times: user 4.21 ms, sys: 606 µs, total: 4.82 ms\n",
      "Wall time: 4.41 ms\n"
     ]
    }
   ],
   "source": [
    "%time res = parser_reloaded.parseString('g(B:v) -> g(B:y)')"
   ]
  },
  {
   "cell_type": "code",
   "execution_count": 12,
   "metadata": {
    "collapsed": false
   },
   "outputs": [
    {
     "data": {
      "text/plain": [
       "[(('Gene', 'B', 'v'), ('Gene', 'B', 'y')),\n",
       " (('Gene', 'B', 'u'), ('Gene', 'B', 'v'))]"
      ]
     },
     "execution_count": 12,
     "metadata": {},
     "output_type": "execute_result"
    }
   ],
   "source": [
    "parser_reloaded.graph.edges()"
   ]
  },
  {
   "cell_type": "code",
   "execution_count": 13,
   "metadata": {
    "collapsed": true
   },
   "outputs": [],
   "source": [
    "del parser_reloaded"
   ]
  }
 ],
 "metadata": {
  "kernelspec": {
   "display_name": "Python 3",
   "language": "python",
   "name": "python3"
  },
  "language_info": {
   "codemirror_mode": {
    "name": "ipython",
    "version": 3
   },
   "file_extension": ".py",
   "mimetype": "text/x-python",
   "name": "python",
   "nbconvert_exporter": "python",
   "pygments_lexer": "ipython3",
   "version": "3.5.2"
  }
 },
 "nbformat": 4,
 "nbformat_minor": 1
}
