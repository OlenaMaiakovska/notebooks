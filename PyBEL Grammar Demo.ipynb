{
 "cells": [
  {
   "cell_type": "code",
   "execution_count": 1,
   "metadata": {
    "collapsed": true
   },
   "outputs": [],
   "source": [
    "from pybel.parser import BelParser\n",
    "import networkx as nx\n",
    "import dill as pickle\n",
    "import os\n",
    "import time"
   ]
  },
  {
   "cell_type": "code",
   "execution_count": 2,
   "metadata": {
    "collapsed": false
   },
   "outputs": [
    {
     "name": "stdout",
     "output_type": "stream",
     "text": [
      "<pybel.parser.parse_bel.BelParser object at 0x10f35b2b0>\n",
      "CPU times: user 47.8 ms, sys: 6.65 ms, total: 54.5 ms\n",
      "Wall time: 53.5 ms\n"
     ]
    }
   ],
   "source": [
    "%%time\n",
    "parser = BelParser(valid_namespaces={\n",
    "    \"A\": set('abcdef'),\n",
    "    \"B\": set('uvwxyz')\n",
    "})"
   ]
  },
  {
   "cell_type": "markdown",
   "metadata": {},
   "source": [
    "The parser adds many parse actions to validate the semantics of the statement, including checking that the `namespace:name` pairs match an entry in `valid_namespaces`"
   ]
  },
  {
   "cell_type": "code",
   "execution_count": 3,
   "metadata": {
    "collapsed": false
   },
   "outputs": [
    {
     "name": "stdout",
     "output_type": "stream",
     "text": [
      "CPU times: user 4 µs, sys: 1 µs, total: 5 µs\n",
      "Wall time: 8.11 µs\n"
     ]
    }
   ],
   "source": [
    "%%time\n",
    "lang = parser.language"
   ]
  },
  {
   "cell_type": "code",
   "execution_count": 4,
   "metadata": {
    "collapsed": false
   },
   "outputs": [
    {
     "name": "stdout",
     "output_type": "stream",
     "text": [
      "CPU times: user 49.5 s, sys: 3.96 s, total: 53.4 s\n",
      "Wall time: 53.5 s\n"
     ]
    },
    {
     "data": {
      "text/plain": [
       "([(['Protein', (['A', 'a'], {'namespace': ['A'], 'name': ['a']})], {'function': ['Protein'], 'identifier': [(['A', 'a'], {'namespace': ['A'], 'name': ['a']})]}), 'increases', (['Protein', (['A', 'b'], {'namespace': ['A'], 'name': ['b']})], {'function': ['Protein'], 'identifier': [(['A', 'b'], {'namespace': ['A'], 'name': ['b']})]})], {'relation': ['increases'], 'object': [(['Protein', (['A', 'b'], {'namespace': ['A'], 'name': ['b']})], {'function': ['Protein'], 'identifier': [(['A', 'b'], {'namespace': ['A'], 'name': ['b']})]})], 'subject': [(['Protein', (['A', 'a'], {'namespace': ['A'], 'name': ['a']})], {'function': ['Protein'], 'identifier': [(['A', 'a'], {'namespace': ['A'], 'name': ['a']})]})]})"
      ]
     },
     "execution_count": 4,
     "metadata": {},
     "output_type": "execute_result"
    }
   ],
   "source": [
    "%%time\n",
    "lang.parseString('p(A:a) -> p(A:b)')"
   ]
  },
  {
   "cell_type": "code",
   "execution_count": 5,
   "metadata": {
    "collapsed": false
   },
   "outputs": [
    {
     "name": "stdout",
     "output_type": "stream",
     "text": [
      "CPU times: user 8 ms, sys: 568 µs, total: 8.57 ms\n",
      "Wall time: 8.1 ms\n"
     ]
    },
    {
     "data": {
      "text/plain": [
       "([(['Protein', (['A', 'c'], {'namespace': ['A'], 'name': ['c']})], {'function': ['Protein'], 'identifier': [(['A', 'c'], {'namespace': ['A'], 'name': ['c']})]}), 'increases', (['Protein', (['A', 'd'], {'namespace': ['A'], 'name': ['d']})], {'function': ['Protein'], 'identifier': [(['A', 'd'], {'namespace': ['A'], 'name': ['d']})]})], {'relation': ['increases'], 'object': [(['Protein', (['A', 'd'], {'namespace': ['A'], 'name': ['d']})], {'function': ['Protein'], 'identifier': [(['A', 'd'], {'namespace': ['A'], 'name': ['d']})]})], 'subject': [(['Protein', (['A', 'c'], {'namespace': ['A'], 'name': ['c']})], {'function': ['Protein'], 'identifier': [(['A', 'c'], {'namespace': ['A'], 'name': ['c']})]})]})"
      ]
     },
     "execution_count": 5,
     "metadata": {},
     "output_type": "execute_result"
    }
   ],
   "source": [
    "%%time\n",
    "lang.parseString('p(A:c) -> p(A:d)')"
   ]
  },
  {
   "cell_type": "code",
   "execution_count": null,
   "metadata": {
    "collapsed": true
   },
   "outputs": [],
   "source": [
    "path = os.path.expanduser('~/Desktop/lang.pickle')"
   ]
  },
  {
   "cell_type": "code",
   "execution_count": 6,
   "metadata": {
    "collapsed": false
   },
   "outputs": [
    {
     "name": "stdout",
     "output_type": "stream",
     "text": [
      "CPU times: user 4 s, sys: 4.83 s, total: 8.83 s\n",
      "Wall time: 13.6 s\n"
     ]
    }
   ],
   "source": [
    "%%time\n",
    "with open(path, 'wb') as f:\n",
    "    pickle.dump(lang, f) # 2.57 gigabytes, wow!"
   ]
  },
  {
   "cell_type": "code",
   "execution_count": 12,
   "metadata": {
    "collapsed": false
   },
   "outputs": [
    {
     "name": "stdout",
     "output_type": "stream",
     "text": [
      "2570.648 mb\n"
     ]
    }
   ],
   "source": [
    "print(\"{:.3f} mb\".format(os.path.getsize(path) / 1000000))"
   ]
  },
  {
   "cell_type": "code",
   "execution_count": 15,
   "metadata": {
    "collapsed": false
   },
   "outputs": [
    {
     "name": "stdout",
     "output_type": "stream",
     "text": [
      "CPU times: user 2.21 s, sys: 4.97 s, total: 7.18 s\n",
      "Wall time: 15.7 s\n"
     ]
    }
   ],
   "source": [
    "%%time\n",
    "with open(path, 'rb') as f:\n",
    "    lang_reloaded = pickle.load(f)"
   ]
  },
  {
   "cell_type": "code",
   "execution_count": 16,
   "metadata": {
    "collapsed": false
   },
   "outputs": [
    {
     "name": "stdout",
     "output_type": "stream",
     "text": [
      "CPU times: user 10.3 ms, sys: 4.67 ms, total: 14.9 ms\n",
      "Wall time: 14.1 ms\n"
     ]
    },
    {
     "data": {
      "text/plain": [
       "([(['Protein', (['A', 'e'], {'namespace': ['A'], 'name': ['e']}), <pyparsing._NullToken object at 0x11babca90>], {'function': ['Protein'], 'identifier': [(['A', 'e'], {'namespace': ['A'], 'name': ['e']})]}), 'increases', (['Protein', (['A', 'f'], {'namespace': ['A'], 'name': ['f']}), <pyparsing._NullToken object at 0x11babca90>], {'function': ['Protein'], 'identifier': [(['A', 'f'], {'namespace': ['A'], 'name': ['f']})]})], {'relation': ['increases'], 'object': [(['Protein', (['A', 'f'], {'namespace': ['A'], 'name': ['f']}), <pyparsing._NullToken object at 0x11babca90>], {'function': ['Protein'], 'identifier': [(['A', 'f'], {'namespace': ['A'], 'name': ['f']})]})], 'subject': [(['Protein', (['A', 'e'], {'namespace': ['A'], 'name': ['e']}), <pyparsing._NullToken object at 0x11babca90>], {'function': ['Protein'], 'identifier': [(['A', 'e'], {'namespace': ['A'], 'name': ['e']})]})]})"
      ]
     },
     "execution_count": 16,
     "metadata": {},
     "output_type": "execute_result"
    }
   ],
   "source": [
    "%%time\n",
    "lang_reloaded.parseString('p(A:e) -> p(A:f)')"
   ]
  }
 ],
 "metadata": {
  "kernelspec": {
   "display_name": "Python 3",
   "language": "python",
   "name": "python3"
  },
  "language_info": {
   "codemirror_mode": {
    "name": "ipython",
    "version": 3
   },
   "file_extension": ".py",
   "mimetype": "text/x-python",
   "name": "python",
   "nbconvert_exporter": "python",
   "pygments_lexer": "ipython3",
   "version": "3.5.2"
  }
 },
 "nbformat": 4,
 "nbformat_minor": 1
}
