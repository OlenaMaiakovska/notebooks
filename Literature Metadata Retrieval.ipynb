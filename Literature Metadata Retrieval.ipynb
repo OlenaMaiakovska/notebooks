{
 "cells": [
  {
   "cell_type": "markdown",
   "metadata": {},
   "source": [
    "# Literature Metadata Retrieval\n",
    "\n",
    "Chemical and biological literature are stored in the repositories of various publishers. There are many services, such as CrossRef and PubMed, that assign accession numbers to literature across many repositories and aggregate their metadata.\n",
    "\n",
    "This notebook explores some of the ways to retrieve metadata about a document given one of these services' identifiers."
   ]
  },
  {
   "cell_type": "code",
   "execution_count": 1,
   "metadata": {
    "collapsed": true
   },
   "outputs": [],
   "source": [
    "import requests"
   ]
  },
  {
   "cell_type": "markdown",
   "metadata": {},
   "source": [
    "## Digital Object Identifier System\n",
    "\n",
    "The goal of the [Digital Object Identifier (DOI)](http://www.doi.org/) system is to assign unique identifiers not just to literature, but to all digital documents. Taking inspiration from other cataloging systems such as the ISBN, there is some organization and modularity to the identifiers."
   ]
  },
  {
   "cell_type": "code",
   "execution_count": 2,
   "metadata": {
    "collapsed": true
   },
   "outputs": [],
   "source": [
    "doi_ex = \"10.1186/2041-1480-5-5\""
   ]
  },
  {
   "cell_type": "markdown",
   "metadata": {},
   "source": [
    "### DOI Service"
   ]
  },
  {
   "cell_type": "markdown",
   "metadata": {},
   "source": [
    "This website provides a URL resolution service at http://dx.doi.org/. For example, http://dx.doi.org/10.1186/2041-1480-5-5 will resolve to the Journal of Biomedical Semantics' splash page for the corresponding article about the results from a BioHackathon in 2011 and 2012.\n",
    "\n",
    "The website also provides a metadata service at http://doi.org/api/handles/. There is some, albeit sparse, [API documentation](https://www.doi.org/factsheets/DOIProxy.html)."
   ]
  },
  {
   "cell_type": "code",
   "execution_count": 3,
   "metadata": {
    "collapsed": true
   },
   "outputs": [],
   "source": [
    "doi_endpoint = \"http://doi.org/api/handles/\""
   ]
  },
  {
   "cell_type": "code",
   "execution_count": 4,
   "metadata": {
    "collapsed": false
   },
   "outputs": [
    {
     "data": {
      "text/plain": [
       "{'handle': '10.1186/2041-1480-5-5',\n",
       " 'responseCode': 1,\n",
       " 'values': [{'data': {'format': 'string',\n",
       "    'value': 'http://www.jbiomedsem.com/content/5/1/5'},\n",
       "   'index': 1,\n",
       "   'timestamp': '2014-04-07T20:05:11Z',\n",
       "   'ttl': 86400,\n",
       "   'type': 'URL'},\n",
       "  {'data': {'format': 'string', 'value': '20140407165738'},\n",
       "   'index': 700050,\n",
       "   'timestamp': '2014-04-07T20:05:11Z',\n",
       "   'ttl': 86400,\n",
       "   'type': '700050'},\n",
       "  {'data': {'format': 'admin',\n",
       "    'value': {'handle': '0.na/10.1186',\n",
       "     'index': 200,\n",
       "     'permissions': '111111110010'}},\n",
       "   'index': 100,\n",
       "   'timestamp': '2014-04-07T20:05:11Z',\n",
       "   'ttl': 86400,\n",
       "   'type': 'HS_ADMIN'}]}"
      ]
     },
     "execution_count": 4,
     "metadata": {},
     "output_type": "execute_result"
    }
   ],
   "source": [
    "res = requests.get(doi_endpoint + doi_ex).json()\n",
    "res"
   ]
  },
  {
   "cell_type": "markdown",
   "metadata": {},
   "source": [
    "### CrossRef \n",
    "\n",
    "CrossRef is a much more powerful metadata and citation indexing system built on top of the DOI system. Because citation information is generally inconsistient across the centuries of publications that various repositories serve, the data from this service must be handled carefully and checked for thoroughness. \n",
    "\n",
    "CrossRef has thorouch [API Documentation](https://github.com/CrossRef/rest-api-doc/blob/master/rest_api.md) on GitHub.\n",
    "\n",
    "CrossRef also has a blog where they're developing new and interesting things! http://labs.crossref.org/"
   ]
  },
  {
   "cell_type": "code",
   "execution_count": 5,
   "metadata": {
    "collapsed": true
   },
   "outputs": [],
   "source": [
    "crossref_endpoint = \"http://api.crossref.org/works/\""
   ]
  },
  {
   "cell_type": "code",
   "execution_count": 6,
   "metadata": {
    "collapsed": false
   },
   "outputs": [
    {
     "data": {
      "text/plain": [
       "{'author': 'Katayama, Toshiaki',\n",
       " 'publication': 'Journal of Biomedical Semantics',\n",
       " 'publication_date': [2014],\n",
       " 'publisher': 'Springer Science + Business Media',\n",
       " 'title': 'BioHackathon series in 2011 and 2012: penetration of ontology and linked data in life science domains'}"
      ]
     },
     "execution_count": 6,
     "metadata": {},
     "output_type": "execute_result"
    }
   ],
   "source": [
    "res = requests.get(crossref_endpoint + doi_ex).json()\n",
    "res = res['message']\n",
    "d = {}\n",
    "d['publisher'] = res['publisher']\n",
    "d['publication'] = max(res['container-title'], key=len)\n",
    "d['author'] = \"{}, {}\".format(res['author'][0]['family'], res['author'][0]['given'])\n",
    "d['publication_date'] = res['published-print']['date-parts'][0]\n",
    "if 'subject' in res:\n",
    "    d['subject'] = res['subject'][0]\n",
    "if 'title' in res:\n",
    "    d['title'] = res['title'][0]\n",
    "d"
   ]
  },
  {
   "cell_type": "markdown",
   "metadata": {},
   "source": [
    "## PubMed\n",
    "\n",
    "PubMed Identifiers (PMID) are an alternate accession given to articles in MEDLINE by the [PubMed](http://www.ncbi.nlm.nih.gov/pubmed) service. Unfortunately, the PubMed API and its [documentation](http://www.ncbi.nlm.nih.gov/home/api.shtml) are not so straightforwards. "
   ]
  },
  {
   "cell_type": "code",
   "execution_count": 7,
   "metadata": {
    "collapsed": true
   },
   "outputs": [],
   "source": [
    "pmid_ex = \"25081398\""
   ]
  },
  {
   "cell_type": "markdown",
   "metadata": {},
   "source": [
    "### Entrez Database Search\n",
    "\n",
    "Fred Trotter made a nice write-up on how to use it on his [blog](http://www.fredtrotter.com/2014/11/14/hacking-on-the-pubmed-api/). The Entrez Database doesn't always have an option to return json, so this solution uses the xml library in python and an XPath query to traverse the document returned by the efetch service to get an abstract. \n",
    "\n",
    "The XML results from this example can be viewed [here](http://eutils.ncbi.nlm.nih.gov/entrez/eutils/efetch.fcgi?db=pubmed&rettype=abstract&id=25081398)."
   ]
  },
  {
   "cell_type": "code",
   "execution_count": 8,
   "metadata": {
    "collapsed": true
   },
   "outputs": [],
   "source": [
    "entrez_endpoint = \"http://eutils.ncbi.nlm.nih.gov/entrez/eutils/efetch.fcgi?db=pubmed&rettype=abstract&id=\""
   ]
  },
  {
   "cell_type": "code",
   "execution_count": 9,
   "metadata": {
    "collapsed": false
   },
   "outputs": [
    {
     "data": {
      "text/plain": [
       "{'abstract': 'Current therapies for cancer have improved life expectancy of patients. Breast cancer and lymphoma survivors in up to 26% of cases can develop complications as a consequence of the chemotherapeutic and radiotherapeutic treatments. Echocardiography is a noninvasive method that can in all stages of cancer treatment perform a comprehensive evaluation and detect coronary, myocardial, valve and pericardial disease complications secondary to the therapeutic regimen used (radiotherapy and/or chemotherapy). Three-dimensional echocardiography derived left ventricular ejection fraction (LVEF) has an excellent correlation with cardiac magnetic resonance imaging and can be used to monitor LVEF; 2-dimensional speckle tracking echocardiography (2D-STE) derived strain and strain rate can detect changes in myocardial mechanics before changes in LVEF occur and can predict a future decrease in ejection fraction to less than 50% or of greater than 10% indicative of cardiotoxicity. Echocardiography should be used as the method of choice to evaluate serial changes in heart function, detect late side effects of treatment, and to identify patients at risk of a future decrease in LVEF.',\n",
       " 'publication': 'Progress in cardiovascular diseases',\n",
       " 'title': 'Cardio-oncology: role of echocardiography.'}"
      ]
     },
     "execution_count": 9,
     "metadata": {},
     "output_type": "execute_result"
    }
   ],
   "source": [
    "import xml.etree.ElementTree as ET\n",
    "res = requests.get(entrez_endpoint + pmid_ex)\n",
    "root = ET.fromstring(res.content)\n",
    "\n",
    "d = {}\n",
    "d['title'] = root.find(\"./PubmedArticle/MedlineCitation/Article/ArticleTitle\").text\n",
    "d['publication'] = root.find(\"./PubmedArticle/MedlineCitation/Article/Journal/Title\").text\n",
    "d['abstract'] = root.find(\"./PubmedArticle/MedlineCitation/Article/Abstract/AbstractText\").text\n",
    "d"
   ]
  },
  {
   "cell_type": "markdown",
   "metadata": {},
   "source": [
    "### AltMetric\n",
    "\n",
    "AltMetric already solved all of the problems with retreiving, curating, and publishing literature metadata, but it's limited for free users. They have a DOI endpoint at http://api.altmetric.com/v1/doi and a PMID endpoing at http://api.altmetric.com/v1/pmid."
   ]
  },
  {
   "cell_type": "code",
   "execution_count": 10,
   "metadata": {
    "collapsed": true
   },
   "outputs": [],
   "source": [
    "altmetric_endpoint = \"http://api.altmetric.com/v1/pmid/\""
   ]
  },
  {
   "cell_type": "code",
   "execution_count": 11,
   "metadata": {
    "collapsed": false
   },
   "outputs": [
    {
     "data": {
      "text/plain": [
       "b'Not Found'"
      ]
     },
     "execution_count": 11,
     "metadata": {},
     "output_type": "execute_result"
    }
   ],
   "source": [
    "res = requests.get(altmetric_endpoint + pmid_ex)\n",
    "res.content"
   ]
  }
 ],
 "metadata": {
  "kernelspec": {
   "display_name": "Python 3",
   "language": "python",
   "name": "python3"
  },
  "language_info": {
   "codemirror_mode": {
    "name": "ipython",
    "version": 3
   },
   "file_extension": ".py",
   "mimetype": "text/x-python",
   "name": "python",
   "nbconvert_exporter": "python",
   "pygments_lexer": "ipython3",
   "version": "3.5.1"
  }
 },
 "nbformat": 4,
 "nbformat_minor": 0
}
