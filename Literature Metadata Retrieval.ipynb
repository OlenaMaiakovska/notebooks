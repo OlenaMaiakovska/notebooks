{
 "cells": [
  {
   "cell_type": "markdown",
   "metadata": {},
   "source": [
    "# Literature Metadata Retrieval\n",
    "\n",
    "Given a DOI, use doi.org and crossref.org to look up metadata"
   ]
  },
  {
   "cell_type": "code",
   "execution_count": 1,
   "metadata": {
    "collapsed": true
   },
   "outputs": [],
   "source": [
    "import requests\n",
    "#doi_ex = \"10.1038/ng1201-365\"\n",
    "doi_ex = \"10.1186/2041-1480-5-5\"\n",
    "doi_endpoint = \"http://doi.org/api/handles/\"\n",
    "crossref_endpoint = \"http://api.crossref.org/works/\""
   ]
  },
  {
   "cell_type": "markdown",
   "metadata": {},
   "source": [
    "## DOI Service\n",
    "\n",
    "doi.org lists a bit of API documentation: https://www.doi.org/factsheets/DOIProxy.html "
   ]
  },
  {
   "cell_type": "code",
   "execution_count": 2,
   "metadata": {
    "collapsed": false
   },
   "outputs": [
    {
     "data": {
      "text/plain": [
       "{'handle': '10.1186/2041-1480-5-5',\n",
       " 'responseCode': 1,\n",
       " 'values': [{'data': {'format': 'string',\n",
       "    'value': 'http://www.jbiomedsem.com/content/5/1/5'},\n",
       "   'index': 1,\n",
       "   'timestamp': '2014-04-07T20:05:11Z',\n",
       "   'ttl': 86400,\n",
       "   'type': 'URL'},\n",
       "  {'data': {'format': 'string', 'value': '20140407165738'},\n",
       "   'index': 700050,\n",
       "   'timestamp': '2014-04-07T20:05:11Z',\n",
       "   'ttl': 86400,\n",
       "   'type': '700050'},\n",
       "  {'data': {'format': 'admin',\n",
       "    'value': {'handle': '0.na/10.1186',\n",
       "     'index': 200,\n",
       "     'permissions': '111111110010'}},\n",
       "   'index': 100,\n",
       "   'timestamp': '2014-04-07T20:05:11Z',\n",
       "   'ttl': 86400,\n",
       "   'type': 'HS_ADMIN'}]}"
      ]
     },
     "execution_count": 2,
     "metadata": {},
     "output_type": "execute_result"
    }
   ],
   "source": [
    "requests.get(doi_endpoint + doi_ex).json()"
   ]
  },
  {
   "cell_type": "markdown",
   "metadata": {},
   "source": [
    "## CrossRef \n",
    "\n",
    "CrossRef lists API Documentation https://github.com/CrossRef/rest-api-doc/blob/master/rest_api.md"
   ]
  },
  {
   "cell_type": "code",
   "execution_count": 3,
   "metadata": {
    "collapsed": false
   },
   "outputs": [
    {
     "data": {
      "text/plain": [
       "{'message': {'DOI': '10.1186/2041-1480-5-5',\n",
       "  'ISSN': ['2041-1480'],\n",
       "  'URL': 'http://dx.doi.org/10.1186/2041-1480-5-5',\n",
       "  'alternative-id': ['2041-1480-5-5'],\n",
       "  'author': [{'affiliation': [], 'family': 'Katayama', 'given': 'Toshiaki'},\n",
       "   {'affiliation': [], 'family': 'Wilkinson', 'given': 'Mark D'},\n",
       "   {'affiliation': [], 'family': 'Aoki-Kinoshita', 'given': 'Kiyoko F'},\n",
       "   {'affiliation': [], 'family': 'Kawashima', 'given': 'Shuichi'},\n",
       "   {'affiliation': [], 'family': 'Yamamoto', 'given': 'Yasunori'},\n",
       "   {'affiliation': [], 'family': 'Yamaguchi', 'given': 'Atsuko'},\n",
       "   {'affiliation': [], 'family': 'Okamoto', 'given': 'Shinobu'},\n",
       "   {'affiliation': [], 'family': 'Kawano', 'given': 'Shin'},\n",
       "   {'affiliation': [], 'family': 'Kim', 'given': 'Jin-Dong'},\n",
       "   {'affiliation': [], 'family': 'Wang', 'given': 'Yue'},\n",
       "   {'affiliation': [], 'family': 'Wu', 'given': 'Hongyan'},\n",
       "   {'affiliation': [], 'family': 'Kano', 'given': 'Yoshinobu'},\n",
       "   {'affiliation': [], 'family': 'Ono', 'given': 'Hiromasa'},\n",
       "   {'affiliation': [], 'family': 'Bono', 'given': 'Hidemasa'},\n",
       "   {'affiliation': [], 'family': 'Kocbek', 'given': 'Simon'},\n",
       "   {'affiliation': [], 'family': 'Aerts', 'given': 'Jan'},\n",
       "   {'affiliation': [], 'family': 'Akune', 'given': 'Yukie'},\n",
       "   {'affiliation': [], 'family': 'Antezana', 'given': 'Erick'},\n",
       "   {'affiliation': [], 'family': 'Arakawa', 'given': 'Kazuharu'},\n",
       "   {'affiliation': [], 'family': 'Aranda', 'given': 'Bruno'},\n",
       "   {'affiliation': [], 'family': 'Baran', 'given': 'Joachim'},\n",
       "   {'affiliation': [], 'family': 'Bolleman', 'given': 'Jerven'},\n",
       "   {'affiliation': [], 'family': 'Bonnal', 'given': 'Raoul JP'},\n",
       "   {'affiliation': [], 'family': 'Buttigieg', 'given': 'Pier'},\n",
       "   {'affiliation': [], 'family': 'Campbell', 'given': 'Matthew P'},\n",
       "   {'affiliation': [], 'family': 'Chen', 'given': 'Yi-an'},\n",
       "   {'affiliation': [], 'family': 'Chiba', 'given': 'Hirokazu'},\n",
       "   {'affiliation': [], 'family': 'Cock', 'given': 'Peter JA'},\n",
       "   {'affiliation': [], 'family': 'Cohen', 'given': 'K'},\n",
       "   {'affiliation': [], 'family': 'Constantin', 'given': 'Alexandru'},\n",
       "   {'affiliation': [], 'family': 'Duck', 'given': 'Geraint'},\n",
       "   {'affiliation': [], 'family': 'Dumontier', 'given': 'Michel'},\n",
       "   {'affiliation': [], 'family': 'Fujisawa', 'given': 'Takatomo'},\n",
       "   {'affiliation': [], 'family': 'Fujiwara', 'given': 'Toyofumi'},\n",
       "   {'affiliation': [], 'family': 'Goto', 'given': 'Naohisa'},\n",
       "   {'affiliation': [], 'family': 'Hoehndorf', 'given': 'Robert'},\n",
       "   {'affiliation': [], 'family': 'Igarashi', 'given': 'Yoshinobu'},\n",
       "   {'affiliation': [], 'family': 'Itaya', 'given': 'Hidetoshi'},\n",
       "   {'affiliation': [], 'family': 'Ito', 'given': 'Maori'},\n",
       "   {'affiliation': [], 'family': 'Iwasaki', 'given': 'Wataru'},\n",
       "   {'affiliation': [], 'family': 'Kalaš', 'given': 'Matúš'},\n",
       "   {'affiliation': [], 'family': 'Katoda', 'given': 'Takeo'},\n",
       "   {'affiliation': [], 'family': 'Kim', 'given': 'Taehong'},\n",
       "   {'affiliation': [], 'family': 'Kokubu', 'given': 'Anna'},\n",
       "   {'affiliation': [], 'family': 'Komiyama', 'given': 'Yusuke'},\n",
       "   {'affiliation': [], 'family': 'Kotera', 'given': 'Masaaki'},\n",
       "   {'affiliation': [], 'family': 'Laibe', 'given': 'Camille'},\n",
       "   {'affiliation': [], 'family': 'Lapp', 'given': 'Hilmar'},\n",
       "   {'affiliation': [], 'family': 'Lütteke', 'given': 'Thomas'},\n",
       "   {'affiliation': [], 'family': 'Marshall', 'given': 'M'},\n",
       "   {'affiliation': [], 'family': 'Mori', 'given': 'Takaaki'},\n",
       "   {'affiliation': [], 'family': 'Mori', 'given': 'Hiroshi'},\n",
       "   {'affiliation': [], 'family': 'Morita', 'given': 'Mizuki'},\n",
       "   {'affiliation': [], 'family': 'Murakami', 'given': 'Katsuhiko'},\n",
       "   {'affiliation': [], 'family': 'Nakao', 'given': 'Mitsuteru'},\n",
       "   {'affiliation': [], 'family': 'Narimatsu', 'given': 'Hisashi'},\n",
       "   {'affiliation': [], 'family': 'Nishide', 'given': 'Hiroyo'},\n",
       "   {'affiliation': [], 'family': 'Nishimura', 'given': 'Yosuke'},\n",
       "   {'affiliation': [], 'family': 'Nystrom-Persson', 'given': 'Johan'},\n",
       "   {'affiliation': [], 'family': 'Ogishima', 'given': 'Soichi'},\n",
       "   {'affiliation': [], 'family': 'Okamura', 'given': 'Yasunobu'},\n",
       "   {'affiliation': [], 'family': 'Okuda', 'given': 'Shujiro'},\n",
       "   {'affiliation': [], 'family': 'Oshita', 'given': 'Kazuki'},\n",
       "   {'affiliation': [], 'family': 'Packer', 'given': 'Nicki H'},\n",
       "   {'affiliation': [], 'family': 'Prins', 'given': 'Pjotr'},\n",
       "   {'affiliation': [], 'family': 'Ranzinger', 'given': 'Rene'},\n",
       "   {'affiliation': [], 'family': 'Rocca-Serra', 'given': 'Philippe'},\n",
       "   {'affiliation': [], 'family': 'Sansone', 'given': 'Susanna'},\n",
       "   {'affiliation': [], 'family': 'Sawaki', 'given': 'Hiromichi'},\n",
       "   {'affiliation': [], 'family': 'Shin', 'given': 'Sung-Ho'},\n",
       "   {'affiliation': [], 'family': 'Splendiani', 'given': 'Andrea'},\n",
       "   {'affiliation': [], 'family': 'Strozzi', 'given': 'Francesco'},\n",
       "   {'affiliation': [], 'family': 'Tadaka', 'given': 'Shu'},\n",
       "   {'affiliation': [], 'family': 'Toukach', 'given': 'Philip'},\n",
       "   {'affiliation': [], 'family': 'Uchiyama', 'given': 'Ikuo'},\n",
       "   {'affiliation': [], 'family': 'Umezaki', 'given': 'Masahito'},\n",
       "   {'affiliation': [], 'family': 'Vos', 'given': 'Rutger'},\n",
       "   {'affiliation': [], 'family': 'Whetzel', 'given': 'Patricia L'},\n",
       "   {'affiliation': [], 'family': 'Yamada', 'given': 'Issaku'},\n",
       "   {'affiliation': [], 'family': 'Yamasaki', 'given': 'Chisato'},\n",
       "   {'affiliation': [], 'family': 'Yamashita', 'given': 'Riu'},\n",
       "   {'affiliation': [], 'family': 'York', 'given': 'William S'},\n",
       "   {'affiliation': [], 'family': 'Zmasek', 'given': 'Christian M'},\n",
       "   {'affiliation': [], 'family': 'Kawamoto', 'given': 'Shoko'},\n",
       "   {'affiliation': [], 'family': 'Takagi', 'given': 'Toshihisa'}],\n",
       "  'container-title': ['J Biomed Sem', 'Journal of Biomedical Semantics'],\n",
       "  'created': {'date-parts': [[2014, 2, 5]],\n",
       "   'date-time': '2014-02-05T10:04:17Z',\n",
       "   'timestamp': 1391594657000},\n",
       "  'deposited': {'date-parts': [[2014, 4, 7]],\n",
       "   'date-time': '2014-04-07T20:05:10Z',\n",
       "   'timestamp': 1396901110000},\n",
       "  'indexed': {'date-parts': [[2015, 12, 28]],\n",
       "   'date-time': '2015-12-28T06:39:03Z',\n",
       "   'timestamp': 1451284743237},\n",
       "  'issue': '1',\n",
       "  'issued': {'date-parts': [[2014]]},\n",
       "  'member': 'http://id.crossref.org/member/297',\n",
       "  'page': '5',\n",
       "  'prefix': 'http://id.crossref.org/prefix/10.1186',\n",
       "  'published-print': {'date-parts': [[2014]]},\n",
       "  'publisher': 'Springer Science + Business Media',\n",
       "  'reference-count': 37,\n",
       "  'score': 1.0,\n",
       "  'source': 'CrossRef',\n",
       "  'subtitle': [],\n",
       "  'title': ['BioHackathon series in 2011 and 2012: penetration of ontology and linked data in life science domains'],\n",
       "  'type': 'journal-article',\n",
       "  'volume': '5'},\n",
       " 'message-type': 'work',\n",
       " 'message-version': '1.0.0',\n",
       " 'status': 'ok'}"
      ]
     },
     "execution_count": 3,
     "metadata": {},
     "output_type": "execute_result"
    }
   ],
   "source": [
    "res = requests.get(crossref_endpoint + doi_ex).json()\n",
    "res"
   ]
  },
  {
   "cell_type": "code",
   "execution_count": 4,
   "metadata": {
    "collapsed": true
   },
   "outputs": [],
   "source": [
    "res = res['message']"
   ]
  },
  {
   "cell_type": "code",
   "execution_count": 7,
   "metadata": {
    "collapsed": false
   },
   "outputs": [
    {
     "data": {
      "text/plain": [
       "{'author': 'Katayama, Toshiaki',\n",
       " 'publication': 'Journal of Biomedical Semantics',\n",
       " 'publication_date': [2014],\n",
       " 'publisher': 'Springer Science + Business Media',\n",
       " 'title': 'BioHackathon series in 2011 and 2012: penetration of ontology and linked data in life science domains'}"
      ]
     },
     "execution_count": 7,
     "metadata": {},
     "output_type": "execute_result"
    }
   ],
   "source": [
    "d = {}\n",
    "d['publisher'] = res['publisher']\n",
    "d['publication'] = max(res['container-title'], key=len)\n",
    "d['author'] = \"{}, {}\".format(res['author'][0]['family'], res['author'][0]['given'])\n",
    "d['publication_date'] = res['published-print']['date-parts'][0]\n",
    "if 'subject' in res:\n",
    "    d['subject'] = res['subject'][0]\n",
    "if 'title' in res:\n",
    "    d['title'] = res['title'][0]\n",
    "d"
   ]
  }
 ],
 "metadata": {
  "kernelspec": {
   "display_name": "Python 3",
   "language": "python",
   "name": "python3"
  },
  "language_info": {
   "codemirror_mode": {
    "name": "ipython",
    "version": 3
   },
   "file_extension": ".py",
   "mimetype": "text/x-python",
   "name": "python",
   "nbconvert_exporter": "python",
   "pygments_lexer": "ipython3",
   "version": "3.5.1"
  }
 },
 "nbformat": 4,
 "nbformat_minor": 0
}
