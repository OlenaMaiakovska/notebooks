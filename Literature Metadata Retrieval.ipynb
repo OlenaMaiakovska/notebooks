{
 "cells": [
  {
   "cell_type": "markdown",
   "metadata": {},
   "source": [
    "# Literature Metadata Retrieval\n",
    "\n",
    "Chemical and biological literature are stored in the repositories of various publishers. There are many services, such as CrossRef and PubMed, that assign accession numbers to literature across many repositories and aggregate their metadata.\n",
    "\n",
    "This notebook explores some of the ways to retrieve metadata about a document given one of these services' identifiers."
   ]
  },
  {
   "cell_type": "code",
   "execution_count": 1,
   "metadata": {
    "collapsed": true
   },
   "outputs": [],
   "source": [
    "import requests\n",
    "\n",
    "#doi_ex = \"10.1038/ng1201-365\"\n",
    "doi_ex = \"10.1186/2041-1480-5-5\"\n",
    "doi_endpoint = \"http://doi.org/api/handles/\"\n",
    "crossref_endpoint = \"http://api.crossref.org/works/\""
   ]
  },
  {
   "cell_type": "markdown",
   "metadata": {},
   "source": [
    "## Digital Object Identifier System\n",
    "\n",
    "The goal of the [Digital Object Identifier (DOI)](http://www.doi.org/) system is to assign unique identifiers not just to literature, but to all digital documents. Taking inspiration from other cataloging systems such as the ISBN, there is some organization and modularity to the identifiers.\n",
    "\n",
    "This website provides a URL resolution service at http://dx.doi.org/. For example, http://dx.doi.org/10.1186/2041-1480-5-5 will resolve to the Journal of Biomedical Semantics' splash page for the corresponding article about the results from a BioHackathon in 2011 and 2012.\n",
    "\n",
    "The website also provides a metadata service at http://doi.org/api/handles/. There is some, albeit sparse, [API documentation](https://www.doi.org/factsheets/DOIProxy.html)."
   ]
  },
  {
   "cell_type": "code",
   "execution_count": 2,
   "metadata": {
    "collapsed": false
   },
   "outputs": [
    {
     "data": {
      "text/plain": [
       "{'handle': '10.1186/2041-1480-5-5',\n",
       " 'responseCode': 1,\n",
       " 'values': [{'data': {'format': 'string',\n",
       "    'value': 'http://www.jbiomedsem.com/content/5/1/5'},\n",
       "   'index': 1,\n",
       "   'timestamp': '2014-04-07T20:05:11Z',\n",
       "   'ttl': 86400,\n",
       "   'type': 'URL'},\n",
       "  {'data': {'format': 'string', 'value': '20140407165738'},\n",
       "   'index': 700050,\n",
       "   'timestamp': '2014-04-07T20:05:11Z',\n",
       "   'ttl': 86400,\n",
       "   'type': '700050'},\n",
       "  {'data': {'format': 'admin',\n",
       "    'value': {'handle': '0.na/10.1186',\n",
       "     'index': 200,\n",
       "     'permissions': '111111110010'}},\n",
       "   'index': 100,\n",
       "   'timestamp': '2014-04-07T20:05:11Z',\n",
       "   'ttl': 86400,\n",
       "   'type': 'HS_ADMIN'}]}"
      ]
     },
     "execution_count": 2,
     "metadata": {},
     "output_type": "execute_result"
    }
   ],
   "source": [
    "res = requests.get(doi_endpoint + doi_ex).json()\n",
    "res"
   ]
  },
  {
   "cell_type": "markdown",
   "metadata": {},
   "source": [
    "## CrossRef \n",
    "\n",
    "CrossRef is a much more powerful metadata and citation indexing system built on top of the DOI system. Because citation information is generally inconsistient across the centuries of publications that various repositories serve, the data from this service must be handled carefully and checked for thoroughness. \n",
    "\n",
    "CrossRef has thorouch [API Documentation](https://github.com/CrossRef/rest-api-doc/blob/master/rest_api.md) on GitHub.\n",
    "\n",
    "CrossRef also has a blog where they're developing new and interesting things! http://labs.crossref.org/"
   ]
  },
  {
   "cell_type": "code",
   "execution_count": 3,
   "metadata": {
    "collapsed": false
   },
   "outputs": [
    {
     "data": {
      "text/plain": [
       "{'author': 'Katayama, Toshiaki',\n",
       " 'publication': 'Journal of Biomedical Semantics',\n",
       " 'publication_date': [2014],\n",
       " 'publisher': 'Springer Science + Business Media',\n",
       " 'title': 'BioHackathon series in 2011 and 2012: penetration of ontology and linked data in life science domains'}"
      ]
     },
     "execution_count": 3,
     "metadata": {},
     "output_type": "execute_result"
    }
   ],
   "source": [
    "res = requests.get(crossref_endpoint + doi_ex).json()\n",
    "res = res['message']\n",
    "d = {}\n",
    "d['publisher'] = res['publisher']\n",
    "d['publication'] = max(res['container-title'], key=len)\n",
    "d['author'] = \"{}, {}\".format(res['author'][0]['family'], res['author'][0]['given'])\n",
    "d['publication_date'] = res['published-print']['date-parts'][0]\n",
    "if 'subject' in res:\n",
    "    d['subject'] = res['subject'][0]\n",
    "if 'title' in res:\n",
    "    d['title'] = res['title'][0]\n",
    "d"
   ]
  },
  {
   "cell_type": "markdown",
   "metadata": {},
   "source": [
    "## PubMed\n",
    "\n",
    "PubMed Identifiers (PMID) are an alternate accession given to articles in MEDLINE by the [PubMed](http://www.ncbi.nlm.nih.gov/pubmed) service. Unfortunately, the PubMed API and its [documentation](http://www.ncbi.nlm.nih.gov/home/api.shtml) are not so straightforwards. \n",
    "\n",
    "Fred Trotter made a nice write-up on how to use it on his [blog](http://www.fredtrotter.com/2014/11/14/hacking-on-the-pubmed-api/).\n",
    "\n",
    "## AltMetric\n",
    "\n",
    "AltMetric already solved all of the problems with retreiving, curating, and publishing literature metadata, but it's limited for free users. They have a DOI endpoint at http://api.altmetric.com/v1/doi and a PMID endpoing at http://api.altmetric.com/v1/pmid."
   ]
  },
  {
   "cell_type": "code",
   "execution_count": 4,
   "metadata": {
    "collapsed": true
   },
   "outputs": [],
   "source": [
    "pmid_ex = \"23942530\"\n",
    "altmetric_endpoint = \"http://api.altmetric.com/v1/pmid/\""
   ]
  },
  {
   "cell_type": "code",
   "execution_count": 9,
   "metadata": {
    "collapsed": false
   },
   "outputs": [
    {
     "name": "stdout",
     "output_type": "stream",
     "text": [
      "{'abstract', 'readers', 'is_oa', 'pmid', 'score', 'cohorts', 'type', 'added_on', 'details_url', 'doi', 'abstract_source', 'history', 'readers_count', 'cited_by_tweeters_count', 'issns', 'images', 'cited_by_posts_count', 'journal', 'url', 'altmetric_id', 'scopus_subjects', 'schema', 'subjects', 'last_updated', 'cited_by_accounts_count', 'altmetric_jid', 'published_on', 'context', 'publisher_subjects', 'title'}\n"
     ]
    }
   ],
   "source": [
    "res = requests.get(altmetric_endpoint + pmid_ex).json()\n",
    "print(set(res.keys()))"
   ]
  },
  {
   "cell_type": "code",
   "execution_count": null,
   "metadata": {
    "collapsed": true
   },
   "outputs": [],
   "source": []
  }
 ],
 "metadata": {
  "kernelspec": {
   "display_name": "Python 3",
   "language": "python",
   "name": "python3"
  },
  "language_info": {
   "codemirror_mode": {
    "name": "ipython",
    "version": 3
   },
   "file_extension": ".py",
   "mimetype": "text/x-python",
   "name": "python",
   "nbconvert_exporter": "python",
   "pygments_lexer": "ipython3",
   "version": "3.5.1"
  }
 },
 "nbformat": 4,
 "nbformat_minor": 0
}
