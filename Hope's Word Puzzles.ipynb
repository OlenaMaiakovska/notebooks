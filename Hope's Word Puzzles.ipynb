{
 "cells": [
  {
   "cell_type": "markdown",
   "metadata": {
    "deletable": true,
    "editable": true
   },
   "source": [
    "# Explanation:\n",
    "Given SHOCK get to VALUE by only changing one letter at a time.\n",
    "\n",
    "This problem can be formatted as a shortest path problem in a graph, where each word is a node and nodes are connected by an edge if their edit distance is exactly 1."
   ]
  },
  {
   "cell_type": "code",
   "execution_count": 27,
   "metadata": {
    "collapsed": false,
    "deletable": true,
    "editable": true
   },
   "outputs": [],
   "source": [
    "import itertools as itt\n",
    "from collections import defaultdict\n",
    "import requests\n",
    "import random\n",
    "import networkx as nx"
   ]
  },
  {
   "cell_type": "code",
   "execution_count": 2,
   "metadata": {
    "collapsed": false,
    "deletable": true,
    "editable": true
   },
   "outputs": [
    {
     "data": {
      "text/plain": [
       "'There are 5454 four-letter words, https://www.bestwordlist.com/4letterwords.htm'"
      ]
     },
     "execution_count": 2,
     "metadata": {},
     "output_type": "execute_result"
    }
   ],
   "source": [
    "page = requests.get(\"http://www.bestwordlist.com/4letterwords.txt\").text.strip().split(\"\\n\")\n",
    "page.pop(0).strip()"
   ]
  },
  {
   "cell_type": "code",
   "execution_count": 44,
   "metadata": {
    "collapsed": false,
    "deletable": true,
    "editable": true
   },
   "outputs": [],
   "source": [
    "words = tuple(w.lower() for w in itt.chain.from_iterable(line.strip().split() for line in page))"
   ]
  },
  {
   "cell_type": "code",
   "execution_count": 29,
   "metadata": {
    "collapsed": false,
    "deletable": true,
    "editable": true
   },
   "outputs": [
    {
     "name": "stdout",
     "output_type": "stream",
     "text": [
      "0\n",
      "3000000\n",
      "6000000\n",
      "9000000\n",
      "12000000\n",
      "CPU times: user 32.4 s, sys: 67.1 ms, total: 32.5 s\n",
      "Wall time: 32.5 s\n"
     ]
    }
   ],
   "source": [
    "%%time\n",
    "\n",
    "g = nx.Graph()\n",
    "\n",
    "for i, (a, b) in enumerate(itt.combinations(words, 2), start=1):\n",
    "    if i % 3000000 == 0:\n",
    "        print(i)\n",
    "    \n",
    "    if 1 == sum(c1 != c2 for c1, c2 in zip(a, b)):\n",
    "        g.add_edge(a, b)"
   ]
  },
  {
   "cell_type": "markdown",
   "metadata": {},
   "source": [
    "Making a puzzle"
   ]
  },
  {
   "cell_type": "code",
   "execution_count": 66,
   "metadata": {
    "collapsed": false
   },
   "outputs": [
    {
     "data": {
      "text/plain": [
       "['molt', 'milt', 'melt', 'pelt', 'pell', 'well']"
      ]
     },
     "execution_count": 66,
     "metadata": {},
     "output_type": "execute_result"
    }
   ],
   "source": [
    "def make_puzzle(graph, levels, seed=None):\n",
    "    if seed is None:\n",
    "        seed = random.choice(graph.nodes())\n",
    "        \n",
    "    if levels == 0:\n",
    "        return [seed]\n",
    "    \n",
    "    return [seed] + make_puzzle(graph, levels - 1, random.choice(graph.neighbors(seed)))\n",
    "\n",
    "    \n",
    "random_walk(g, levels=5)"
   ]
  },
  {
   "cell_type": "markdown",
   "metadata": {},
   "source": [
    "Solving a puzzle"
   ]
  },
  {
   "cell_type": "code",
   "execution_count": 46,
   "metadata": {
    "collapsed": false,
    "deletable": true,
    "editable": true
   },
   "outputs": [
    {
     "data": {
      "text/plain": [
       "[['kiss', 'kits', 'rits', 'ruts']]"
      ]
     },
     "execution_count": 46,
     "metadata": {},
     "output_type": "execute_result"
    }
   ],
   "source": [
    "list(nx.all_shortest_paths(g, 'kiss', 'ruts'))"
   ]
  },
  {
   "cell_type": "markdown",
   "metadata": {
    "collapsed": true,
    "deletable": true,
    "editable": true
   },
   "source": [
    "# Shortest Path with Neo4J"
   ]
  },
  {
   "cell_type": "code",
   "execution_count": 7,
   "metadata": {
    "collapsed": false,
    "deletable": true,
    "editable": true
   },
   "outputs": [],
   "source": [
    "from py2neo import Graph\n",
    "graph = Graph()"
   ]
  },
  {
   "cell_type": "markdown",
   "metadata": {
    "deletable": true,
    "editable": true
   },
   "source": [
    "Before begginning, delete all Word and Hop entries from graph"
   ]
  },
  {
   "cell_type": "code",
   "execution_count": 8,
   "metadata": {
    "collapsed": false,
    "deletable": true,
    "editable": true
   },
   "outputs": [
    {
     "data": {
      "text/plain": []
     },
     "execution_count": 8,
     "metadata": {},
     "output_type": "execute_result"
    }
   ],
   "source": [
    "graph.cypher.execute(\"MATCH (n:Word) DETACH DELETE n\")\n",
    "graph.cypher.execute(\"MATCH (u:Word)-[r:HOP]-(v:WORD) DETACH DELETE r\")"
   ]
  },
  {
   "cell_type": "markdown",
   "metadata": {
    "deletable": true,
    "editable": true
   },
   "source": [
    "Add all Words to graph and index them"
   ]
  },
  {
   "cell_type": "code",
   "execution_count": 9,
   "metadata": {
    "collapsed": false,
    "deletable": true,
    "editable": true
   },
   "outputs": [
    {
     "data": {
      "text/plain": []
     },
     "execution_count": 9,
     "metadata": {},
     "output_type": "execute_result"
    }
   ],
   "source": [
    "with graph.cypher.begin() as cy:\n",
    "    for word in words:\n",
    "        cy.append(\"CREATE (:Word {value: {word}})\", word=word)\n",
    "\n",
    "graph.cypher.execute(\"CREATE INDEX ON :Word(value)\")"
   ]
  },
  {
   "cell_type": "markdown",
   "metadata": {
    "deletable": true,
    "editable": true
   },
   "source": [
    "Add all relationships to graph"
   ]
  },
  {
   "cell_type": "code",
   "execution_count": 10,
   "metadata": {
    "collapsed": false,
    "deletable": true,
    "editable": true
   },
   "outputs": [
    {
     "name": "stdout",
     "output_type": "stream",
     "text": [
      "5000\n",
      "10000\n",
      "15000\n",
      "20000\n",
      "25000\n",
      "30000\n",
      "35000\n"
     ]
    }
   ],
   "source": [
    "q = \"MATCH (u:Word {value:'«r1»'}), (v:Word {value:'«r2»'}) CREATE (u)-[c:HOP]->(v)\"\n",
    "c = 0\n",
    "for i in range(len(words)):\n",
    "    for j in word_network[i]:\n",
    "        c += 1\n",
    "        if c % 5000 == 0:\n",
    "            print(c)\n",
    "        graph.cypher.execute(q, r1=words[i], r2=words[j])"
   ]
  },
  {
   "cell_type": "markdown",
   "metadata": {
    "deletable": true,
    "editable": true
   },
   "source": [
    "Compute shortest path(s)"
   ]
  },
  {
   "cell_type": "code",
   "execution_count": 11,
   "metadata": {
    "collapsed": false,
    "deletable": true,
    "editable": true
   },
   "outputs": [
    {
     "data": {
      "text/plain": [
       "   | p                                                                                                                                                 \n",
       "---+----------------------------------------------------------------------------------------------------------------------------------------------------\n",
       " 1 | (:Word {value:\"cake\"})-[:HOP]->(:Word {value:\"cane\"})-[:HOP]->(:Word {value:\"pane\"})-[:HOP]->(:Word {value:\"pine\"})-[:HOP]->(:Word {value:\"pint\"})"
      ]
     },
     "execution_count": 11,
     "metadata": {},
     "output_type": "execute_result"
    }
   ],
   "source": [
    "graph.cypher.execute(\"\"\"MATCH (u:Word {value:\"cake\"}), (v:Word {value:\"pint\"}), p = shortestPath((u)-[*..10]-(v)) RETURN p\"\"\")"
   ]
  }
 ],
 "metadata": {
  "kernelspec": {
   "display_name": "Python 3",
   "language": "python",
   "name": "python3"
  },
  "language_info": {
   "codemirror_mode": {
    "name": "ipython",
    "version": 3
   },
   "file_extension": ".py",
   "mimetype": "text/x-python",
   "name": "python",
   "nbconvert_exporter": "python",
   "pygments_lexer": "ipython3",
   "version": "3.6.1"
  }
 },
 "nbformat": 4,
 "nbformat_minor": 0
}
