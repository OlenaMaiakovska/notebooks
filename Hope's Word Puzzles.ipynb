{
 "metadata": {
  "name": "",
  "signature": "sha256:348ac2ce3ac87006618459e0a12bc0388f7a41fd3691c38be720bd6f2154559a"
 },
 "nbformat": 3,
 "nbformat_minor": 0,
 "worksheets": [
  {
   "cells": [
    {
     "cell_type": "markdown",
     "metadata": {},
     "source": [
      "#Explanation:\n",
      "Given SHOCK get to VALUE by only changing one letter at a time"
     ]
    },
    {
     "cell_type": "code",
     "collapsed": false,
     "input": [
      "import urllib2\n",
      "import itertools\n",
      "from collections import defaultdict"
     ],
     "language": "python",
     "metadata": {},
     "outputs": [],
     "prompt_number": 16
    },
    {
     "cell_type": "code",
     "collapsed": false,
     "input": [
      "page = urllib2.urlopen(\"http://www.bestwordlist.com/5letterwords.txt\")\n",
      "next(page)"
     ],
     "language": "python",
     "metadata": {},
     "outputs": [
      {
       "metadata": {},
       "output_type": "pyout",
       "prompt_number": 17,
       "text": [
        "'There are 12478 five-letter words, http://www.bestwordlist.com/5letterwords.htm\\r\\n'"
       ]
      }
     ],
     "prompt_number": 17
    },
    {
     "cell_type": "code",
     "collapsed": false,
     "input": [
      "words = []\n",
      "for line in page:\n",
      "    words += line.strip().split()"
     ],
     "language": "python",
     "metadata": {},
     "outputs": [],
     "prompt_number": 18
    },
    {
     "cell_type": "code",
     "collapsed": false,
     "input": [
      "print \"there are\", len(words), \"words\""
     ],
     "language": "python",
     "metadata": {},
     "outputs": [
      {
       "output_type": "stream",
       "stream": "stdout",
       "text": [
        "there are 12478 words\n"
       ]
      }
     ],
     "prompt_number": 19
    },
    {
     "cell_type": "code",
     "collapsed": false,
     "input": [
      "def stepped(s1, s2, steps=1):\n",
      "    assert len(s1) == len(s2)\n",
      "    c = 0\n",
      "    for c1, c2 in zip(s1, s2):\n",
      "        if c1 != c2:\n",
      "            c += 1\n",
      "    return steps == c"
     ],
     "language": "python",
     "metadata": {},
     "outputs": [],
     "prompt_number": 20
    },
    {
     "cell_type": "code",
     "collapsed": false,
     "input": [
      "word_network = defaultdict(set)\n",
      "\n",
      "counter = 0\n",
      "for w1, w2 in itertools.product(words, repeat=2):\n",
      "    \n",
      "    counter +=1\n",
      "    if counter % 10000 == 0:\n",
      "        print counter\n",
      "    \n",
      "    if stepped(w1, w2):\n",
      "        word_network[w1].add(w2)"
     ],
     "language": "python",
     "metadata": {},
     "outputs": [],
     "prompt_number": 21
    },
    {
     "cell_type": "code",
     "collapsed": false,
     "input": [
      "len(word_network)"
     ],
     "language": "python",
     "metadata": {},
     "outputs": [
      {
       "metadata": {},
       "output_type": "pyout",
       "prompt_number": 22,
       "text": [
        "11685"
       ]
      }
     ],
     "prompt_number": 22
    },
    {
     "cell_type": "code",
     "collapsed": false,
     "input": [
      "start = \"SHOCK\"\n",
      "end = \"VALUE\""
     ],
     "language": "python",
     "metadata": {},
     "outputs": [],
     "prompt_number": 23
    },
    {
     "cell_type": "code",
     "collapsed": false,
     "input": [
      "#Run a breadth first search"
     ],
     "language": "python",
     "metadata": {},
     "outputs": [],
     "prompt_number": 24
    },
    {
     "cell_type": "code",
     "collapsed": false,
     "input": [
      "graph = {'A': set(['B', 'C']),\n",
      "         'B': set(['A', 'D', 'E']),\n",
      "         'C': set(['A', 'F']),\n",
      "         'D': set(['B']),\n",
      "         'E': set(['B', 'F']),\n",
      "         'F': set(['C', 'E'])}"
     ],
     "language": "python",
     "metadata": {},
     "outputs": [],
     "prompt_number": 25
    },
    {
     "cell_type": "code",
     "collapsed": false,
     "input": [
      "def bfs_paths(graph, start, goal):\n",
      "    \"\"\" from http://eddmann.com/posts/depth-first-search-and-breadth-first-search-in-python/ \"\"\"\n",
      "    queue = [(start, [start])]\n",
      "    while queue:\n",
      "        (vertex, path) = queue.pop(0)\n",
      "        for next in graph[vertex] - set(path):\n",
      "            if next == goal:\n",
      "                yield path + [next]\n",
      "            else:\n",
      "                queue.append((next, path + [next]))\n",
      "\n",
      "list(bfs_paths(graph, 'A', 'F')) # [['A', 'C', 'F'], ['A', 'B', 'E', 'F']]"
     ],
     "language": "python",
     "metadata": {},
     "outputs": [
      {
       "metadata": {},
       "output_type": "pyout",
       "prompt_number": 26,
       "text": [
        "[['A', 'C', 'F'], ['A', 'B', 'E', 'F']]"
       ]
      }
     ],
     "prompt_number": 26
    },
    {
     "cell_type": "code",
     "collapsed": false,
     "input": [
      "list(bfs_paths(word_network, \"SHOCK\", \"VALUE\"))"
     ],
     "language": "python",
     "metadata": {},
     "outputs": []
    },
    {
     "cell_type": "code",
     "collapsed": false,
     "input": [],
     "language": "python",
     "metadata": {},
     "outputs": []
    }
   ],
   "metadata": {}
  }
 ]
}