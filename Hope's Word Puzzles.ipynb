{
 "cells": [
  {
   "cell_type": "markdown",
   "metadata": {},
   "source": [
    "# Explanation:\n",
    "Given SHOCK get to VALUE by only changing one letter at a time.\n",
    "\n",
    "This problem can be formatted as a shortest path problem in a graph, where each word is a node and nodes are connected by an edge if their edit distance is exactly 1."
   ]
  },
  {
   "cell_type": "code",
   "execution_count": 1,
   "metadata": {
    "collapsed": false
   },
   "outputs": [],
   "source": [
    "import itertools\n",
    "from collections import defaultdict\n",
    "import requests"
   ]
  },
  {
   "cell_type": "code",
   "execution_count": 2,
   "metadata": {
    "collapsed": false
   },
   "outputs": [
    {
     "data": {
      "text/plain": [
       "'ï»¿There are 5454 four-letter words, http://www.bestwordlist.com/4letterwords.htm'"
      ]
     },
     "execution_count": 2,
     "metadata": {},
     "output_type": "execute_result"
    }
   ],
   "source": [
    "page = requests.get(\"http://www.bestwordlist.com/4letterwords.txt\").text.strip().split(\"\\n\")\n",
    "page.pop(0).strip()"
   ]
  },
  {
   "cell_type": "code",
   "execution_count": 3,
   "metadata": {
    "collapsed": false
   },
   "outputs": [],
   "source": [
    "words = []\n",
    "for line in page:\n",
    "    words += line.strip().split()\n",
    "words = tuple(w.lower() for w in words)"
   ]
  },
  {
   "cell_type": "code",
   "execution_count": 4,
   "metadata": {
    "collapsed": false
   },
   "outputs": [
    {
     "name": "stdout",
     "output_type": "stream",
     "text": [
      "words: 5454\n",
      "worst case: 14870331 edges\n"
     ]
    }
   ],
   "source": [
    "import scipy.misc\n",
    "print(\"words:\", len(words))\n",
    "print(\"worst case: {} edges\".format(int(scipy.misc.comb(len(words), 2))))                                                        "
   ]
  },
  {
   "cell_type": "code",
   "execution_count": 5,
   "metadata": {
    "collapsed": false
   },
   "outputs": [
    {
     "name": "stdout",
     "output_type": "stream",
     "text": [
      "3000000\n",
      "6000000\n",
      "9000000\n",
      "12000000\n",
      "15000000\n",
      "18000000\n",
      "21000000\n",
      "24000000\n",
      "27000000\n"
     ]
    },
    {
     "data": {
      "text/plain": [
       "(5454, 'with ', 35905)"
      ]
     },
     "execution_count": 5,
     "metadata": {},
     "output_type": "execute_result"
    }
   ],
   "source": [
    "word_network = defaultdict(set)\n",
    "\n",
    "counter = 0\n",
    "counter_2 = 0\n",
    "for w1, w2 in itertools.product(range(len(words)), repeat=2):\n",
    "    counter +=1\n",
    "    \n",
    "    if w1 in word_network[w2]:\n",
    "        continue\n",
    "    \n",
    "    if counter % 3000000 == 0:\n",
    "        print(counter)\n",
    "    \n",
    "    c = 0\n",
    "    for c1, c2 in zip(words[w1], words[w2]):\n",
    "        if c1 != c2:\n",
    "            c += 1\n",
    "            \n",
    "    if 1 == c:\n",
    "        word_network[w1].add(w2)\n",
    "        counter_2 += 1\n",
    "\n",
    "len(word_network), \"with \", counter_2"
   ]
  },
  {
   "cell_type": "markdown",
   "metadata": {},
   "source": [
    "## Some Kind of Statistics over Network\n",
    "\n",
    "### Average Connectivity"
   ]
  },
  {
   "cell_type": "code",
   "execution_count": 6,
   "metadata": {
    "collapsed": false
   },
   "outputs": [
    {
     "data": {
      "text/plain": [
       "6"
      ]
     },
     "execution_count": 6,
     "metadata": {},
     "output_type": "execute_result"
    }
   ],
   "source": [
    "s = 0\n",
    "for key in word_network:\n",
    "    s += len(word_network[key])\n",
    "int(s / len(word_network))"
   ]
  },
  {
   "cell_type": "markdown",
   "metadata": {
    "collapsed": true
   },
   "source": [
    "# Shortest Path with Neo4J"
   ]
  },
  {
   "cell_type": "code",
   "execution_count": 7,
   "metadata": {
    "collapsed": false
   },
   "outputs": [],
   "source": [
    "from py2neo import Graph\n",
    "graph = Graph()"
   ]
  },
  {
   "cell_type": "markdown",
   "metadata": {},
   "source": [
    "Before begginning, delete all Word and Hop entries from graph"
   ]
  },
  {
   "cell_type": "code",
   "execution_count": 8,
   "metadata": {
    "collapsed": false
   },
   "outputs": [
    {
     "data": {
      "text/plain": []
     },
     "execution_count": 8,
     "metadata": {},
     "output_type": "execute_result"
    }
   ],
   "source": [
    "graph.cypher.execute(\"MATCH (n:Word) DETACH DELETE n\")\n",
    "graph.cypher.execute(\"MATCH (u:Word)-[r:HOP]-(v:WORD) DETACH DELETE r\")"
   ]
  },
  {
   "cell_type": "markdown",
   "metadata": {},
   "source": [
    "Add all Words to graph and index them"
   ]
  },
  {
   "cell_type": "code",
   "execution_count": 9,
   "metadata": {
    "collapsed": false
   },
   "outputs": [
    {
     "data": {
      "text/plain": []
     },
     "execution_count": 9,
     "metadata": {},
     "output_type": "execute_result"
    }
   ],
   "source": [
    "with graph.cypher.begin() as cy:\n",
    "    for word in words:\n",
    "        cy.append(\"CREATE (:Word {value: {word}})\", word=word)\n",
    "\n",
    "graph.cypher.execute(\"CREATE INDEX ON :Word(value)\")"
   ]
  },
  {
   "cell_type": "markdown",
   "metadata": {},
   "source": [
    "Add all relationships to graph"
   ]
  },
  {
   "cell_type": "code",
   "execution_count": 10,
   "metadata": {
    "collapsed": false
   },
   "outputs": [
    {
     "name": "stdout",
     "output_type": "stream",
     "text": [
      "5000\n",
      "10000\n",
      "15000\n",
      "20000\n",
      "25000\n",
      "30000\n",
      "35000\n"
     ]
    }
   ],
   "source": [
    "q = \"MATCH (u:Word {value:'«r1»'}), (v:Word {value:'«r2»'}) CREATE (u)-[c:HOP]->(v)\"\n",
    "c = 0\n",
    "for i in range(len(words)):\n",
    "    for j in word_network[i]:\n",
    "        c += 1\n",
    "        if c % 5000 == 0:\n",
    "            print(c)\n",
    "        graph.cypher.execute(q, r1=words[i], r2=words[j])"
   ]
  },
  {
   "cell_type": "markdown",
   "metadata": {},
   "source": [
    "Compute shortest path(s)"
   ]
  },
  {
   "cell_type": "code",
   "execution_count": 11,
   "metadata": {
    "collapsed": false
   },
   "outputs": [
    {
     "data": {
      "text/plain": [
       "   | p                                                                                                                                                 \n",
       "---+----------------------------------------------------------------------------------------------------------------------------------------------------\n",
       " 1 | (:Word {value:\"cake\"})-[:HOP]->(:Word {value:\"cane\"})-[:HOP]->(:Word {value:\"pane\"})-[:HOP]->(:Word {value:\"pine\"})-[:HOP]->(:Word {value:\"pint\"})"
      ]
     },
     "execution_count": 11,
     "metadata": {},
     "output_type": "execute_result"
    }
   ],
   "source": [
    "graph.cypher.execute(\"\"\"MATCH (u:Word {value:\"cake\"}), (v:Word {value:\"pint\"}), p = shortestPath((u)-[*..10]-(v)) RETURN p\"\"\")"
   ]
  }
 ],
 "metadata": {
  "kernelspec": {
   "display_name": "Python 3",
   "language": "python",
   "name": "python3"
  },
  "language_info": {
   "codemirror_mode": {
    "name": "ipython",
    "version": 3
   },
   "file_extension": ".py",
   "mimetype": "text/x-python",
   "name": "python",
   "nbconvert_exporter": "python",
   "pygments_lexer": "ipython3",
   "version": "3.5.1"
  }
 },
 "nbformat": 4,
 "nbformat_minor": 0
}
