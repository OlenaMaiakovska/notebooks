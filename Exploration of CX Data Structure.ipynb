{
 "cells": [
  {
   "cell_type": "markdown",
   "metadata": {},
   "source": [
    "Following [this](http://www.home.ndexbio.org/ndex-python-client-tutorial/) documentation"
   ]
  },
  {
   "cell_type": "code",
   "execution_count": 16,
   "metadata": {
    "collapsed": true
   },
   "outputs": [],
   "source": [
    "import ndex.client import Ndex\n",
    "import json"
   ]
  },
  {
   "cell_type": "code",
   "execution_count": 17,
   "metadata": {
    "collapsed": true
   },
   "outputs": [],
   "source": [
    "def jsonprint(j):\n",
    "    print(json.dumps(j, indent=2))"
   ]
  },
  {
   "cell_type": "code",
   "execution_count": 1,
   "metadata": {
    "collapsed": false
   },
   "outputs": [],
   "source": [
    "anon_ndex = Ndex(\"http://public.ndexbio.org\")\n",
    "#my_account = \"yourusername\"\n",
    "#my_password = \"yourpasswd\"\n",
    "#my_ndex = nc.Ndex(\"http://public.ndexbio.org\", my_account, my_password)"
   ]
  },
  {
   "cell_type": "code",
   "execution_count": 26,
   "metadata": {
    "collapsed": false
   },
   "outputs": [
    {
     "name": "stdout",
     "output_type": "stream",
     "text": [
      "0 BEL Framework Large Corpus Document\n",
      "1 CTD - Comparative Toxicogenomics Database - XBEL\n",
      "2 Pathways Affected by Melanoma Genes\n",
      "3 TTD - Drug-Disease Associations\n",
      "4 BDNF Signaling Pathway\n",
      "5 TTD - Target-Disease Associations (Discontinued Targets)\n",
      "6 CTD: Genes-Pathways Associations\n",
      "7 CTD: GO (Biological Process) - Disease Gene Inference Network\n",
      "8 CTD: GO (Molecular Function) - Disease Gene Inference Network\n",
      "9 CTD: Diseases-Pathways Associations\n",
      "10 CTD: Chemicals-Pathways Enriched Associations\n",
      "11 TTD - Target-Disease Associations (All Targets)\n",
      "12 TTD - Target-Disease Associations (Clinical Trial Targets)\n",
      "13 TTD - Target-Disease Associations (Research Targets)\n",
      "14 TTD - Target-Disease Associations (Succesful Targets)\n",
      "15 CTD: GO (Cellular Component) - Disease Gene Inference Network\n"
     ]
    }
   ],
   "source": [
    "networks = anon_ndex.search_networks('alzheimer*')\n",
    "\n",
    "for i, n in enumerate(networks):\n",
    "    print(i, n['name'])"
   ]
  },
  {
   "cell_type": "code",
   "execution_count": 4,
   "metadata": {
    "collapsed": true
   },
   "outputs": [],
   "source": [
    "%%time\n",
    "response = anon_ndex.get_network_as_cx_stream(networks[0]['externalId'])\n",
    "r = response.json()"
   ]
  },
  {
   "cell_type": "code",
   "execution_count": 8,
   "metadata": {
    "collapsed": false
   },
   "outputs": [
    {
     "name": "stdout",
     "output_type": "stream",
     "text": [
      "every entry have a dictionary with only one key\n"
     ]
    }
   ],
   "source": [
    "#???\n",
    "assert not [x.keys() for x in r if 1 < len(x)], \"every entry has a dictionary with only one key\""
   ]
  },
  {
   "cell_type": "code",
   "execution_count": 10,
   "metadata": {
    "collapsed": false
   },
   "outputs": [],
   "source": [
    "r_dict = {list(x)[0]: x[list(x)[0]] for x in r}"
   ]
  },
  {
   "cell_type": "code",
   "execution_count": 15,
   "metadata": {
    "collapsed": false
   },
   "outputs": [
    {
     "name": "stdout",
     "output_type": "stream",
     "text": [
      "numberVerification\n",
      "metaData\n",
      "ndexStatus\n",
      "provenanceHistory\n",
      "@context\n",
      "citations\n",
      "edgeAttributes\n",
      "edgeCitations\n",
      "edgeSupports\n",
      "edges\n",
      "functionTerms\n",
      "networkAttributes\n",
      "nodeAttributes\n",
      "nodeCitations\n",
      "nodeSupports\n",
      "nodes\n",
      "reifiedEdges\n",
      "supports\n",
      "status\n"
     ]
    }
   ],
   "source": [
    "for k in r_dict:\n",
    "    print(k)"
   ]
  },
  {
   "cell_type": "code",
   "execution_count": 18,
   "metadata": {
    "collapsed": false
   },
   "outputs": [
    {
     "name": "stdout",
     "output_type": "stream",
     "text": [
      "{\n",
      "  \"po\": 21059012,\n",
      "  \"n\": \"Species\",\n",
      "  \"v\": \"9606\"\n",
      "}\n"
     ]
    }
   ],
   "source": [
    "jsonprint( r_dict['edgeAttributes'][0] )"
   ]
  },
  {
   "cell_type": "code",
   "execution_count": 19,
   "metadata": {
    "collapsed": false
   },
   "outputs": [
    {
     "name": "stdout",
     "output_type": "stream",
     "text": [
      "{\n",
      "  \"@id\": 21059012,\n",
      "  \"s\": 21059001,\n",
      "  \"t\": 21059011,\n",
      "  \"i\": \"bel:decreases\"\n",
      "}\n"
     ]
    }
   ],
   "source": [
    "jsonprint(  r_dict['edges'][0] )"
   ]
  },
  {
   "cell_type": "code",
   "execution_count": 14,
   "metadata": {
    "collapsed": false
   },
   "outputs": [
    {
     "data": {
      "text/plain": [
       "[{'@id': 21059001},\n",
       " {'@id': 21059011},\n",
       " {'@id': 21059017},\n",
       " {'@id': 21059022},\n",
       " {'@id': 21059027},\n",
       " {'@id': 21059032},\n",
       " {'@id': 21059035},\n",
       " {'@id': 21059039},\n",
       " {'@id': 21059044},\n",
       " {'@id': 21059048},\n",
       " {'@id': 21059053},\n",
       " {'@id': 21059058},\n",
       " {'@id': 21059064},\n",
       " {'@id': 21059065},\n",
       " {'@id': 21059069},\n",
       " {'@id': 21059072},\n",
       " {'@id': 21059078},\n",
       " {'@id': 21059088},\n",
       " {'@id': 21059093},\n",
       " {'@id': 21059098},\n",
       " {'@id': 21059103},\n",
       " {'@id': 21059111},\n",
       " {'@id': 21059116},\n",
       " {'@id': 21059124},\n",
       " {'@id': 21059129},\n",
       " {'@id': 21059136},\n",
       " {'@id': 21059144},\n",
       " {'@id': 21059152},\n",
       " {'@id': 21059155},\n",
       " {'@id': 21059160},\n",
       " {'@id': 21059164},\n",
       " {'@id': 21059169},\n",
       " {'@id': 21059172},\n",
       " {'@id': 21059177},\n",
       " {'@id': 21059181},\n",
       " {'@id': 21059184},\n",
       " {'@id': 21059188},\n",
       " {'@id': 21059193},\n",
       " {'@id': 21059196},\n",
       " {'@id': 21059203},\n",
       " {'@id': 21059208},\n",
       " {'@id': 21059216},\n",
       " {'@id': 21059219},\n",
       " {'@id': 21059223},\n",
       " {'@id': 21059228},\n",
       " {'@id': 21059232},\n",
       " {'@id': 21059237},\n",
       " {'@id': 21059242},\n",
       " {'@id': 21059246},\n",
       " {'@id': 21059253},\n",
       " {'@id': 21059258},\n",
       " {'@id': 21059262},\n",
       " {'@id': 21059267},\n",
       " {'@id': 21059270},\n",
       " {'@id': 21059274},\n",
       " {'@id': 21059280},\n",
       " {'@id': 21059284},\n",
       " {'@id': 21059289},\n",
       " {'@id': 21059294},\n",
       " {'@id': 21059299},\n",
       " {'@id': 21059302},\n",
       " {'@id': 21059306},\n",
       " {'@id': 21059309},\n",
       " {'@id': 21059314},\n",
       " {'@id': 21059321},\n",
       " {'@id': 21059325},\n",
       " {'@id': 21059330},\n",
       " {'@id': 21059334},\n",
       " {'@id': 21059339},\n",
       " {'@id': 21059343},\n",
       " {'@id': 21059349},\n",
       " {'@id': 21059353},\n",
       " {'@id': 21059358},\n",
       " {'@id': 21059363},\n",
       " {'@id': 21059370},\n",
       " {'@id': 21059373},\n",
       " {'@id': 21059382},\n",
       " {'@id': 21059384},\n",
       " {'@id': 21059390},\n",
       " {'@id': 21059392},\n",
       " {'@id': 21059398},\n",
       " {'@id': 21059400},\n",
       " {'@id': 21059407},\n",
       " {'@id': 21059412},\n",
       " {'@id': 21059414},\n",
       " {'@id': 21059420},\n",
       " {'@id': 21059425},\n",
       " {'@id': 21059430},\n",
       " {'@id': 21059436},\n",
       " {'@id': 21059440},\n",
       " {'@id': 21059445},\n",
       " {'@id': 21059448},\n",
       " {'@id': 21059453},\n",
       " {'@id': 21059456},\n",
       " {'@id': 21059461},\n",
       " {'@id': 21059466},\n",
       " {'@id': 21059470},\n",
       " {'@id': 21059475},\n",
       " {'@id': 21059482},\n",
       " {'@id': 21059485},\n",
       " {'@id': 21059490},\n",
       " {'@id': 21059495},\n",
       " {'@id': 21059498},\n",
       " {'@id': 21059504},\n",
       " {'@id': 21059509},\n",
       " {'@id': 21059512},\n",
       " {'@id': 21059517},\n",
       " {'@id': 21059521},\n",
       " {'@id': 21059525},\n",
       " {'@id': 21059526},\n",
       " {'@id': 21059532},\n",
       " {'@id': 21059537},\n",
       " {'@id': 21059540},\n",
       " {'@id': 21059545},\n",
       " {'@id': 21059550},\n",
       " {'@id': 21059553},\n",
       " {'@id': 21059558},\n",
       " {'@id': 21059561},\n",
       " {'@id': 21059564},\n",
       " {'@id': 21059570},\n",
       " {'@id': 21059574},\n",
       " {'@id': 21059581},\n",
       " {'@id': 21059585},\n",
       " {'@id': 21059589},\n",
       " {'@id': 21059593},\n",
       " {'@id': 21059599},\n",
       " {'@id': 21059603},\n",
       " {'@id': 21059607},\n",
       " {'@id': 21059612},\n",
       " {'@id': 21059615},\n",
       " {'@id': 21059618},\n",
       " {'@id': 21059622},\n",
       " {'@id': 21059626},\n",
       " {'@id': 21059631},\n",
       " {'@id': 21059636},\n",
       " {'@id': 21059639},\n",
       " {'@id': 21059644},\n",
       " {'@id': 21059648},\n",
       " {'@id': 21059654},\n",
       " {'@id': 21059659},\n",
       " {'@id': 21059663},\n",
       " {'@id': 21059667},\n",
       " {'@id': 21059672},\n",
       " {'@id': 21059676},\n",
       " {'@id': 21059679},\n",
       " {'@id': 21059684},\n",
       " {'@id': 21059688},\n",
       " {'@id': 21059691},\n",
       " {'@id': 21059696},\n",
       " {'@id': 21059700}]"
      ]
     },
     "execution_count": 14,
     "metadata": {},
     "output_type": "execute_result"
    }
   ],
   "source": [
    "r_dict['nodes'][0:150]"
   ]
  },
  {
   "cell_type": "code",
   "execution_count": 20,
   "metadata": {
    "collapsed": true
   },
   "outputs": [],
   "source": [
    "with open('test2.json',\"w\") as f:\n",
    "    json.dump(r_dict, f, indent=True, sort_keys=True)"
   ]
  }
 ],
 "metadata": {
  "kernelspec": {
   "display_name": "Python 3",
   "language": "python",
   "name": "python3"
  },
  "language_info": {
   "codemirror_mode": {
    "name": "ipython",
    "version": 3
   },
   "file_extension": ".py",
   "mimetype": "text/x-python",
   "name": "python",
   "nbconvert_exporter": "python",
   "pygments_lexer": "ipython3",
   "version": "3.6.0"
  }
 },
 "nbformat": 4,
 "nbformat_minor": 2
}
