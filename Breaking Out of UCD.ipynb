{
 "cells": [
  {
   "cell_type": "markdown",
   "metadata": {},
   "source": [
    "# Breaking out of University College Dublin\n",
    "\n",
    "Scott and I learned how to use proxies and stuff to get past all of the blocked sites and ports\n",
    "\n",
    "`tunnel.sh` is an explanation on how to set up ssh tunneling in a place where the ports are restricted\n",
    "\n",
    "\n",
    "## Account on fastssh.com\n",
    "\n",
    "- Navigate to fastssh.com\n",
    "- Click \"Select in Europe\"\n",
    "- Click \"Create SSH Account France\"\n",
    "- Record Dropbear Port, OpenSSH Port\n",
    "- Fill in Username, Password, and CAPTCHA\n",
    "- Click \"Create Account\"\n",
    "- Record Username SSH, Pasword SSH, Host IP Address"
   ]
  },
  {
   "cell_type": "code",
   "execution_count": 1,
   "metadata": {
    "collapsed": false
   },
   "outputs": [
    {
     "name": "stdout",
     "output_type": "stream",
     "text": []
    }
   ],
   "source": [
    "UNAME=\"your-uname-here\"\n",
    "USERNAME=\"fastssh.com-$UNAME\""
   ]
  },
  {
   "cell_type": "markdown",
   "metadata": {},
   "source": [
    "What do each of the parts of this command do?"
   ]
  },
  {
   "cell_type": "code",
   "execution_count": null,
   "metadata": {
    "collapsed": true
   },
   "outputs": [],
   "source": [
    "ssh -NqD 2001 \"$USERNAME@fr.serverip.co\" -p 443"
   ]
  },
  {
   "cell_type": "code",
   "execution_count": null,
   "metadata": {
    "collapsed": true
   },
   "outputs": [],
   "source": [
    "# step 6: type yes, then enter, then password, then enter\n",
    "### TODO: make ssh non-interactive (use password prompt and automatically background)\n",
    "\n",
    "# step 7 suspend this process with (CTRL-Z or the inspector). Check with the following command:\n",
    "bg 1\n",
    "\n",
    "# step 8: set system preferences > network > advanced > proxies > SOCKS to Host=localhost and Port=2001\n",
    "\n",
    "# step 9: run this command\n",
    "TARGETSITE=cthoyt_cthoyt@ssh.phx.nearlyfreespeech.net\n",
    "ssh -o ProxyCommand='nc -x localhost:2001 %h %p' $TARGETSITE\n",
    "\n",
    "# step 10: do what comes natural. logout before starting teardown"
   ]
  },
  {
   "cell_type": "markdown",
   "metadata": {},
   "source": [
    "## Teardown"
   ]
  },
  {
   "cell_type": "code",
   "execution_count": null,
   "metadata": {
    "collapsed": true
   },
   "outputs": [],
   "source": [
    "# check what's running with jobs\n",
    "jobs\n",
    "\n",
    "# step 11: bring this job back to foreground with fg, then kill it w/ CTRL-C\n",
    "fg 1\n",
    "\n",
    "jobs # should show nothing now\n",
    "killall ssh # just in case\n",
    "\n",
    "# step 12: go back into system preferences and turn off SOCKS proxy"
   ]
  },
  {
   "cell_type": "markdown",
   "metadata": {},
   "source": [
    "# Example\n",
    "The following cell is the bash history of when I tried this myself"
   ]
  },
  {
   "cell_type": "raw",
   "metadata": {},
   "source": [
    "Last login: Wed Jul  8 15:42:48 on ttys000\n",
    " \n",
    "[501][cthoyt@dhcp-892bcf3d:~]$ ssh -NqD 2001 fastssh.com-nucd4@fr.serverip.co -p 443\n",
    "\n",
    " The authenticity of host '[fr.serverip.co]:443 ([195.154.7.110]:443)' can't be established.\n",
    " RSA key fingerprint is ab:0f:cd:fb:0a:29:42:49:89:56:0f:d3:2a:e0:5c:bc.\n",
    " Are you sure you want to continue connecting (yes/no)? yes\n",
    " fastssh.com-nucd4@fr.serverip.co's password: \n",
    " *****\n",
    "\n",
    " [1]+  Stopped                 ssh -NqD 2001 fastssh.com-nucd4@fr.serverip.co -p 443\n",
    " [502][cthoyt@dhcp-892bcf3d:~]$ bg 1\n",
    " [1]+ ssh -NqD 2001 fastssh.com-nucd4@fr.serverip.co -p 443 &\n",
    " \n",
    " Now, go to system settings. SOCKS proxy. localhost and port 2001\n",
    " \n",
    " [503][cthoyt@dhcp-892bcf3d:~]$ ssh -o ProxyCommand='nc -x localhost:2001 %h %p' ****@ssh.phx.nearlyfreespeech.net\n",
    " ****@ssh.phx.nearlyfreespeech.net's password: \n",
    " *******\n",
    " \n",
    " [cthoyt /home/public]$ ls\n",
    " img\t\tindex.html\tpinwheel.html\n",
    " [cthoyt /home/public]$ exit\n",
    " logout\n",
    " Connection to ssh.phx.nearlyfreespeech.net closed.\n",
    " [504][cthoyt@dhcp-892bcf3d:~]$ jobs\n",
    " [1]+  Running                 ssh -NqD 2001 fastssh.com-nucd4@fr.serverip.co -p 443 &\n",
    " [505][cthoyt@dhcp-892bcf3d:~]$ fg 1\n",
    " ssh -NqD 2001 fastssh.com-nucd4@fr.serverip.co -p 443\n",
    " ^C[506][cthoyt@dhcp-892bcf3d:~]$ jobs\n",
    " [507][cthoyt@dhcp-892bcf3d:~]$ killall ssh\n",
    " No matching processes belonging to you were found\n",
    " [508][cthoyt@dhcp-892bcf3d:~]$ ls\n",
    " Applications/ Documents/    Dropbox/      Library/      Music/        Public/\n",
    " Desktop/      Downloads/    Google Drive/ Movies/       Pictures/     dev/\n",
    " [509][cthoyt@dhcp-892bcf3d:~]$ lsa\n",
    " -bash: lsa: command not found\n",
    " [510][cthoyt@dhcp-892bcf3d:~]$ "
   ]
  },
  {
   "cell_type": "code",
   "execution_count": null,
   "metadata": {
    "collapsed": true
   },
   "outputs": [],
   "source": []
  }
 ],
 "metadata": {
  "kernelspec": {
   "display_name": "Bash",
   "language": "bash",
   "name": "bash"
  },
  "language_info": {
   "codemirror_mode": "shell",
   "file_extension": ".sh",
   "mimetype": "text/x-sh",
   "name": "bash"
  }
 },
 "nbformat": 4,
 "nbformat_minor": 0
}
