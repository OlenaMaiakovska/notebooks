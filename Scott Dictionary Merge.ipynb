{
 "metadata": {
  "name": "",
  "signature": "sha256:70b4c797ac3229616d981289d331de9d1edb68359ae870d5486c07a2a98b9224"
 },
 "nbformat": 3,
 "nbformat_minor": 0,
 "worksheets": [
  {
   "cells": [
    {
     "cell_type": "code",
     "collapsed": false,
     "input": [
      "a = {'a':1, 'b':2, 'c':3}\n",
      "b = {'c':1, 'd':4}\n",
      "o = {'c':3, 'd':4}"
     ],
     "language": "python",
     "metadata": {},
     "outputs": [],
     "prompt_number": 2
    },
    {
     "cell_type": "code",
     "collapsed": false,
     "input": [
      "def scott_merge(a, b):\n",
      "    n = {}\n",
      "    for k, v in b.items():\n",
      "        n[k] = v\n",
      "    for k, v in a.items():\n",
      "        if k not in n:\n",
      "            n[k] = v\n",
      "    return n"
     ],
     "language": "python",
     "metadata": {},
     "outputs": [],
     "prompt_number": 4
    },
    {
     "cell_type": "code",
     "collapsed": false,
     "input": [
      "print scott_merge(a, b)\n",
      "print o"
     ],
     "language": "python",
     "metadata": {},
     "outputs": [
      {
       "output_type": "stream",
       "stream": "stdout",
       "text": [
        "{'a': 1, 'c': 1, 'b': 2, 'd': 4}\n",
        "{'c': 3, 'd': 4}\n"
       ]
      }
     ],
     "prompt_number": 6
    },
    {
     "cell_type": "code",
     "collapsed": false,
     "input": [],
     "language": "python",
     "metadata": {},
     "outputs": []
    }
   ],
   "metadata": {}
  }
 ]
}