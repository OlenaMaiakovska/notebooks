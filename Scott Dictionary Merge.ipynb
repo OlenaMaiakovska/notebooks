{
 "metadata": {
  "name": "",
  "signature": "sha256:1052b3161602c4b8e853e5fb59a18108c5cb2a3c5852e44189e2bf323701d2c1"
 },
 "nbformat": 3,
 "nbformat_minor": 0,
 "worksheets": [
  {
   "cells": [
    {
     "cell_type": "code",
     "collapsed": false,
     "input": [
      "a = {\u2018a\u2019:1, \u2018b\u2019:2, \u2018c\u2019:3}, b = {\u2018c\u2019:1, \u2018d\u2019:4}\n",
      "Output = {\u2018\n",
      "Not quite lol...\n",
      "Output = {\u2018c\u2019:3, \u2018d\u2019:4}"
     ],
     "language": "python",
     "metadata": {},
     "outputs": []
    },
    {
     "cell_type": "code",
     "collapsed": false,
     "input": [
      "def scott_merge(a, b):\n",
      "    n = {}\n",
      "    for k, v in b.items():\n",
      "        n[k] = v\n",
      "    for k, v in a.items() if k not in n:\n",
      "        n[k] = v\n",
      "    return n"
     ],
     "language": "python",
     "metadata": {},
     "outputs": []
    }
   ],
   "metadata": {}
  }
 ]
}