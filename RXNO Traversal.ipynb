{
 "cells": [
  {
   "cell_type": "markdown",
   "metadata": {},
   "source": [
    "# RXNO Traversal\n",
    "The goal of this notebook is to: \n",
    "1. Load the Royal Society of Chemistry's Reaction Ontology, [RXNO](https://raw.githubusercontent.com/rsc-ontologies/rxno/master/rxno.owl), into RDFLib\n",
    "2. Traverse that graph with SPARQL\n",
    "3. Structure the data about individual reactions\n",
    "4. Output to CSV or relational database"
   ]
  },
  {
   "cell_type": "code",
   "execution_count": 1,
   "metadata": {
    "collapsed": false
   },
   "outputs": [],
   "source": [
    "from rdflib import Graph\n",
    "import pandas as pd\n",
    "import numpy as np\n",
    "\n",
    "input_file = \"https://raw.githubusercontent.com/rsc-ontologies/rxno/master/rxno.owl\"\n",
    "output_file = \"reactions.csv\""
   ]
  },
  {
   "cell_type": "markdown",
   "metadata": {},
   "source": [
    "Download the data and parse into RDFLib `Graph`"
   ]
  },
  {
   "cell_type": "code",
   "execution_count": 2,
   "metadata": {
    "collapsed": false
   },
   "outputs": [
    {
     "data": {
      "text/plain": [
       "<Graph identifier=N4f4ad04ed3cc418da7a89d807899d9a1 (<class 'rdflib.graph.Graph'>)>"
      ]
     },
     "execution_count": 2,
     "metadata": {},
     "output_type": "execute_result"
    }
   ],
   "source": [
    "g = Graph()\n",
    "g.parse(input_file, format='xml')"
   ]
  },
  {
   "cell_type": "markdown",
   "metadata": {},
   "source": [
    "Traverse the data to find only classes that don't have any subclasses"
   ]
  },
  {
   "cell_type": "code",
   "execution_count": 3,
   "metadata": {
    "collapsed": true
   },
   "outputs": [],
   "source": [
    "q = \"\"\"\n",
    "    PREFIX rdf:    <http://www.w3.org/1999/02/22-rdf-syntax-ns#> \n",
    "    PREFIX foaf:   <http://xmlns.com/foaf/0.1/> \n",
    "    PREFIX obo:    <http://purl.obolibrary.org/obo/>\n",
    "    select distinct ?rid ?label ?parent ?des\n",
    "    where { \n",
    "        ?c rdfs:subClassOf ?o .\n",
    "        ?o rdfs:label ?parent .\n",
    "        ?c rdfs:label ?label .\n",
    "        ?c oboInOwl:id ?rid .\n",
    "        ?c obo:IAO_0000115 ?des .\n",
    "        FILTER NOT EXISTS { ?x rdfs:subClassOf ?c }   \n",
    "        FILTER regex(?rid, \"^RXNO\")\n",
    "    } \n",
    "\"\"\"\n",
    "\n",
    "res = g.query(q)"
   ]
  },
  {
   "cell_type": "markdown",
   "metadata": {},
   "source": [
    "Wrangle the results into a Pandas DataFrame"
   ]
  },
  {
   "cell_type": "code",
   "execution_count": 4,
   "metadata": {
    "collapsed": false
   },
   "outputs": [
    {
     "data": {
      "text/html": [
       "<div>\n",
       "<table border=\"1\" class=\"dataframe\">\n",
       "  <thead>\n",
       "    <tr style=\"text-align: right;\">\n",
       "      <th></th>\n",
       "      <th>id</th>\n",
       "      <th>name</th>\n",
       "      <th>parent</th>\n",
       "      <th>details</th>\n",
       "    </tr>\n",
       "  </thead>\n",
       "  <tbody>\n",
       "    <tr>\n",
       "      <th>0</th>\n",
       "      <td>RXNO:0000550</td>\n",
       "      <td>Collins oxidation</td>\n",
       "      <td>alcohol oxidation</td>\n",
       "      <td>Oxidation of a primary alcohol with a pyridine...</td>\n",
       "    </tr>\n",
       "    <tr>\n",
       "      <th>1</th>\n",
       "      <td>RXNO:0000340</td>\n",
       "      <td>amide N-alkylation</td>\n",
       "      <td>N-alkylation</td>\n",
       "      <td>An N-alkylation where the reactive centre is a...</td>\n",
       "    </tr>\n",
       "    <tr>\n",
       "      <th>2</th>\n",
       "      <td>RXNO:0000038</td>\n",
       "      <td>Clemmensen reduction</td>\n",
       "      <td>functional group reduction</td>\n",
       "      <td>A functional group reduction where an aldehyde...</td>\n",
       "    </tr>\n",
       "    <tr>\n",
       "      <th>3</th>\n",
       "      <td>RXNO:0000050</td>\n",
       "      <td>pinacol rearrangement</td>\n",
       "      <td>rearrangement step</td>\n",
       "      <td>A rearrangement of a 1,2-diol to give a carbon...</td>\n",
       "    </tr>\n",
       "    <tr>\n",
       "      <th>4</th>\n",
       "      <td>RXNO:0000045</td>\n",
       "      <td>Friedel-Crafts acylation</td>\n",
       "      <td>Friedel-Crafts reaction</td>\n",
       "      <td>A carbon-carbon coupling reaction between an a...</td>\n",
       "    </tr>\n",
       "  </tbody>\n",
       "</table>\n",
       "</div>"
      ],
      "text/plain": [
       "             id                      name                      parent  \\\n",
       "0  RXNO:0000550         Collins oxidation           alcohol oxidation   \n",
       "1  RXNO:0000340        amide N-alkylation                N-alkylation   \n",
       "2  RXNO:0000038      Clemmensen reduction  functional group reduction   \n",
       "3  RXNO:0000050     pinacol rearrangement          rearrangement step   \n",
       "4  RXNO:0000045  Friedel-Crafts acylation     Friedel-Crafts reaction   \n",
       "\n",
       "                                             details  \n",
       "0  Oxidation of a primary alcohol with a pyridine...  \n",
       "1  An N-alkylation where the reactive centre is a...  \n",
       "2  A functional group reduction where an aldehyde...  \n",
       "3  A rearrangement of a 1,2-diol to give a carbon...  \n",
       "4  A carbon-carbon coupling reaction between an a...  "
      ]
     },
     "execution_count": 4,
     "metadata": {},
     "output_type": "execute_result"
    }
   ],
   "source": [
    "df = pd.DataFrame(list(res), columns=(\"id\", \"name\", \"parent\", \"details\"))\n",
    "df.head()"
   ]
  },
  {
   "cell_type": "markdown",
   "metadata": {},
   "source": [
    "Output Structured Data to CSV"
   ]
  },
  {
   "cell_type": "code",
   "execution_count": 5,
   "metadata": {
    "collapsed": true
   },
   "outputs": [],
   "source": [
    "df.to_csv(output_file)"
   ]
  }
 ],
 "metadata": {
  "kernelspec": {
   "display_name": "Python 3",
   "language": "python",
   "name": "python3"
  },
  "language_info": {
   "codemirror_mode": {
    "name": "ipython",
    "version": 3
   },
   "file_extension": ".py",
   "mimetype": "text/x-python",
   "name": "python",
   "nbconvert_exporter": "python",
   "pygments_lexer": "ipython3",
   "version": "3.5.1"
  }
 },
 "nbformat": 4,
 "nbformat_minor": 0
}
