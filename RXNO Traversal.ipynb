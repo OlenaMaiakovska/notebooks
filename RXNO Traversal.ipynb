{
 "cells": [
  {
   "cell_type": "markdown",
   "metadata": {},
   "source": [
    "# RXNO Traversal\n",
    "The goal of this notebook is to: \n",
    "1. Load the Royal Society of Chemistry's Reaction Ontology, [RXNO](https://raw.githubusercontent.com/rsc-ontologies/rxno/master/rxno.owl), into RDFLib\n",
    "2. Traverse that graph with SPARQL\n",
    "3. Structure the data about individual reactions\n",
    "4. Output to CSV or relational database"
   ]
  },
  {
   "cell_type": "code",
   "execution_count": 1,
   "metadata": {
    "collapsed": false
   },
   "outputs": [],
   "source": [
    "from rdflib import Graph\n",
    "import pandas as pd\n",
    "import numpy as np\n",
    "\n",
    "input_file = \"https://raw.githubusercontent.com/rsc-ontologies/rxno/master/rxno.owl\"\n",
    "output_file = \"reactions.csv\""
   ]
  },
  {
   "cell_type": "markdown",
   "metadata": {},
   "source": [
    "Download the data and parse into RDFLib `Graph`"
   ]
  },
  {
   "cell_type": "code",
   "execution_count": 2,
   "metadata": {
    "collapsed": false
   },
   "outputs": [
    {
     "data": {
      "text/plain": [
       "<Graph identifier=Nfbad4c2752cf46bd9ab10756b3744571 (<class 'rdflib.graph.Graph'>)>"
      ]
     },
     "execution_count": 2,
     "metadata": {},
     "output_type": "execute_result"
    }
   ],
   "source": [
    "g = Graph()\n",
    "g.parse(input_file, format='xml')"
   ]
  },
  {
   "cell_type": "markdown",
   "metadata": {},
   "source": [
    "Traverse the data to find only classes that don't have any subclasses\n",
    "\n",
    "Example: http://www.ontobee.org/ontology/RXNO?iri=http://purl.obolibrary.org/obo/RXNO_0000251"
   ]
  },
  {
   "cell_type": "code",
   "execution_count": 3,
   "metadata": {
    "collapsed": true
   },
   "outputs": [],
   "source": [
    "q = \"\"\"\n",
    "    PREFIX rdf:    <http://www.w3.org/1999/02/22-rdf-syntax-ns#> \n",
    "    PREFIX foaf:   <http://xmlns.com/foaf/0.1/> \n",
    "    PREFIX obo:    <http://purl.obolibrary.org/obo/>\n",
    "    select distinct ?rid ?label ?parent ?des\n",
    "    where { \n",
    "        ?c rdfs:subClassOf ?o .\n",
    "        ?o rdfs:label ?parent .\n",
    "        ?c rdfs:label ?label .\n",
    "        ?c oboInOwl:id ?rid .\n",
    "        ?c obo:IAO_0000115 ?des .\n",
    "        FILTER NOT EXISTS { ?x rdfs:subClassOf ?c }   \n",
    "        FILTER regex(?rid, \"^RXNO\")\n",
    "    } \n",
    "\"\"\"\n",
    "\n",
    "res = g.query(q)"
   ]
  },
  {
   "cell_type": "markdown",
   "metadata": {},
   "source": [
    "Wrangle the results into a Pandas DataFrame"
   ]
  },
  {
   "cell_type": "code",
   "execution_count": 4,
   "metadata": {
    "collapsed": false
   },
   "outputs": [
    {
     "data": {
      "text/html": [
       "<div>\n",
       "<table border=\"1\" class=\"dataframe\">\n",
       "  <thead>\n",
       "    <tr style=\"text-align: right;\">\n",
       "      <th></th>\n",
       "      <th>id</th>\n",
       "      <th>name</th>\n",
       "      <th>parent</th>\n",
       "      <th>details</th>\n",
       "    </tr>\n",
       "  </thead>\n",
       "  <tbody>\n",
       "    <tr>\n",
       "      <th>0</th>\n",
       "      <td>RXNO:0000522</td>\n",
       "      <td>Betti reaction</td>\n",
       "      <td>molecular skeleton joining reaction</td>\n",
       "      <td>Reaction of a phenol, an aromatic aldehyde and...</td>\n",
       "    </tr>\n",
       "    <tr>\n",
       "      <th>1</th>\n",
       "      <td>RXNO:0000394</td>\n",
       "      <td>Knorr quinoline synthesis</td>\n",
       "      <td>quinoline synthesis</td>\n",
       "      <td>Synthesis of an alpha-hydroxyquinoline by reac...</td>\n",
       "    </tr>\n",
       "    <tr>\n",
       "      <th>2</th>\n",
       "      <td>RXNO:0000083</td>\n",
       "      <td>Paternò–Büchi reaction</td>\n",
       "      <td>[2+2] cycloaddition</td>\n",
       "      <td>A photochemical cycloaddition between an aldeh...</td>\n",
       "    </tr>\n",
       "    <tr>\n",
       "      <th>3</th>\n",
       "      <td>RXNO:0000496</td>\n",
       "      <td>Barton-Zard reaction</td>\n",
       "      <td>pyrrole synthesis</td>\n",
       "      <td>Reaction of a nitroalkene with an alpha-isocya...</td>\n",
       "    </tr>\n",
       "    <tr>\n",
       "      <th>4</th>\n",
       "      <td>RXNO:0000276</td>\n",
       "      <td>Aufbau reaction</td>\n",
       "      <td>polymerisation reaction</td>\n",
       "      <td>The insertion of alkenes (usually ethene) into...</td>\n",
       "    </tr>\n",
       "  </tbody>\n",
       "</table>\n",
       "</div>"
      ],
      "text/plain": [
       "             id                       name  \\\n",
       "0  RXNO:0000522             Betti reaction   \n",
       "1  RXNO:0000394  Knorr quinoline synthesis   \n",
       "2  RXNO:0000083     Paternò–Büchi reaction   \n",
       "3  RXNO:0000496       Barton-Zard reaction   \n",
       "4  RXNO:0000276            Aufbau reaction   \n",
       "\n",
       "                                parent  \\\n",
       "0  molecular skeleton joining reaction   \n",
       "1                  quinoline synthesis   \n",
       "2                  [2+2] cycloaddition   \n",
       "3                    pyrrole synthesis   \n",
       "4              polymerisation reaction   \n",
       "\n",
       "                                             details  \n",
       "0  Reaction of a phenol, an aromatic aldehyde and...  \n",
       "1  Synthesis of an alpha-hydroxyquinoline by reac...  \n",
       "2  A photochemical cycloaddition between an aldeh...  \n",
       "3  Reaction of a nitroalkene with an alpha-isocya...  \n",
       "4  The insertion of alkenes (usually ethene) into...  "
      ]
     },
     "execution_count": 4,
     "metadata": {},
     "output_type": "execute_result"
    }
   ],
   "source": [
    "df = pd.DataFrame(list(res), columns=(\"id\", \"name\", \"parent\", \"details\"))\n",
    "df.head()"
   ]
  },
  {
   "cell_type": "markdown",
   "metadata": {},
   "source": [
    "Output Structured Data to CSV"
   ]
  },
  {
   "cell_type": "code",
   "execution_count": 5,
   "metadata": {
    "collapsed": true
   },
   "outputs": [],
   "source": [
    "df.to_csv(output_file)"
   ]
  }
 ],
 "metadata": {
  "kernelspec": {
   "display_name": "Python 3",
   "language": "python",
   "name": "python3"
  },
  "language_info": {
   "codemirror_mode": {
    "name": "ipython",
    "version": 3
   },
   "file_extension": ".py",
   "mimetype": "text/x-python",
   "name": "python",
   "nbconvert_exporter": "python",
   "pygments_lexer": "ipython3",
   "version": "3.5.1"
  }
 },
 "nbformat": 4,
 "nbformat_minor": 0
}
