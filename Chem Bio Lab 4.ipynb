{
 "metadata": {
  "name": "",
  "signature": "sha256:9cb7513e354f07bf2fea61aebed0e3ed978f043dce53af7d0b3884c3f0933ff5"
 },
 "nbformat": 3,
 "nbformat_minor": 0,
 "worksheets": [
  {
   "cells": [
    {
     "cell_type": "code",
     "collapsed": false,
     "input": [
      "unmutated=\"\"\"atgggacttaatgataataaagcaggaatggaaggattagataaagagaaaattaacaaaattata\n",
      "atggaagccacgaaggggtccagattttatggaaatgagctcaagaaagaaaagcaagtc\n",
      "aaccaacgaattgaaaatatgatgcaacaaaaagctcaaatcaccagccaacagctaaaa\n",
      "aaagcacaattacaggttgacagatttgcaatggaattagaacaaagccgaaatttgagc\n",
      "aataccatagtgcacattgacatggatgctttctatgcagctgtagaaatgagggacaat\n",
      "Ccagaattgaaggataaacccattgctgtaggatcaatgagtatgctgtctacttcaaat\n",
      "taccatgcaaggagatttggtgttcgtgcagccatgccaggatttattgctaagaggctg\n",
      "tgcccacaacttataatagtgccccccaactttgacaaataccgagctgtgagtaaagag\n",
      "gtt aag gaa ata ctt gct gat tat gat ccc aat ttt atg gccatgagtcttgatgaagcc\n",
      "tacttgaatataacaaagcacttagaagaaagacaaaattggcctgaggataaaagaagg\n",
      "tatttcatcaaaatgggaagctctgtagaaaatgataatccaggaaaggaagttaataaa\n",
      "ctgagtgagcatgaacgatccatctctccactactttttgaagagagtccttctgatgtg\n",
      "cagcccccaggagatcctttccaagtgaactttgaagaacaaaacaatcctcaaatactc\n",
      "caaaactcagttgtttttggaacatcagcccaggaagtggtaaaggaaattcgtttcaga\n",
      "attgagcagaaaacaacactgacagctagtgcaggcattgccccaaatacaatgttagca\n",
      "aaagtatgcagtgataagaataaaccaaatggacaataccaaattcttcccaatagacaa\n",
      "gctgtgatggacttcatcaaggatttacccattagaaaggtttctggaataggaaaagtt\n",
      "acagaaaaaatgttaaaggcccttggaattattacatgtacagaactttaccaacagagg\n",
      "Gcattgctttctctccttttctctgaaacaacttggcattatttccttcatatctccttg\n",
      "ggtctaggttcaacacacctgacgagggatggagagaggaaaagtatgagcgttgagagg\n",
      "acattcagtgagataaataaagcggaagagcaatacagcctatgtcaagaactttgcagt\n",
      "gagcttgctcaggatctacagaaagaaagacttaagggtagaactgttaccattaagttg\n",
      "aagaatgtgaattttgaagtaaaaactcgtgcatctacagtttcatctgttgtttctact\n",
      "gcagaagaaatatttgccattgctaaggaattgctaaaaacagaaattgatgctgatttt\n",
      "ccacatcccttgagattaaggcttatgggtgttcggatatctagttttcccaatgaagag\n",
      "Gacaggaaacaccaacaa\"\"\"\n",
      "\n",
      "mutated=\"\"\"atgggacttaatgataataaagcaggaatggaaggattagataaagagaaaattaacaaaattata\n",
      "atggaagccacgaaggggtccagattttatggaaatgagctcaagaaagaaaagcaagtc\n",
      "aaccaacgaattgaaaatatgatgcaacaaaaagctcaaatcaccagccaacagctaaaa\n",
      "aaagcacaattacaggttgacagatttgcaatggaattagaacaaagccgaaatttgagc\n",
      "aataccatagtgcacattgacatggatgctttctatgcagctgtagaaatgagggacaat\n",
      "Ccagaattgaaggataaacccattgctgtaggatcaatgagtatgctgtctacttcaaat\n",
      "taccatgcaaggagatttggtgttcgtgcagccatgccaggatttattgctaagaggctg\n",
      "tgc cca caa ctt ata ata gtg ccc ccc aac ttt gac aaa tac cga gct gtg agt aaa gag\n",
      "gtt aag gaa ata ctt gct gat tat gat ccc aat gct atg gcc atg agt ctt gat gaa gcc\n",
      "tac ttg aat ata aca aag cac tta gaa gaa aga caa aat tgg cct gag gat aaa aga agg\n",
      "tatttcatcaaaatgggaagctctgtagaaaatgataatccaggaaaggaagttaataaa\n",
      "ctgagtgagcatgaacgatccatctctccactactttttgaagagagtccttctgatgtg\n",
      "cagcccccaggagatcctttccaagtgaactttgaagaacaaaacaatcctcaaatactc\n",
      "caaaactcagttgtttttggaacatcagcccaggaagtggtaaaggaaattcgtttcaga\n",
      "attgagcagaaaacaacactgacagctagtgcaggcattgccccaaatacaatgttagca\n",
      "aaagtatgcagtgataagaataaaccaaatggacaataccaaattcttcccaatagacaa\n",
      "gctgtgatggacttcatcaaggatttacccattagaaaggtttctggaataggaaaagtt\n",
      "acagaaaaaatgttaaaggcccttggaattattacatgtacagaactttaccaacagagg\n",
      "Gcattgctttctctccttttctctgaaacaacttggcattatttccttcatatctccttg\n",
      "ggtctaggttcaacacacctgacgagggatggagagaggaaaagtatgagcgttgagagg\n",
      "acattcagtgagataaataaagcggaagagcaatacagcctatgtcaagaactttgcagt\n",
      "gagcttgctcaggatctacagaaagaaagacttaagggtagaactgttaccattaagttg\n",
      "aagaatgtgaattttgaagtaaaaactcgtgcatctacagtttcatctgttgtttctact\n",
      "gcagaagaaatatttgccattgctaaggaattgctaaaaacagaaattgatgctgatttt\n",
      "ccacatcccttgagattaaggcttatgggtgttcggatatctagttttcccaatgaagag\n",
      "Gacaggaaacaccaacaa\"\"\"\n",
      "\n",
      "cut=\"\"\"\n",
      "aag gaa ata ctt gct gat tat gat ccc aat GCT atg gcc atg agt ctt gat gaa gcc\n",
      "tac ttg \"\"\"\n",
      "\n"
     ],
     "language": "python",
     "metadata": {},
     "outputs": [],
     "prompt_number": 7
    },
    {
     "cell_type": "code",
     "collapsed": false,
     "input": [
      "def tm(s):\n",
      "    return 4*(s.count(\"g\")+s.count(\"c\"))+2*(s.count(\"a\")+s.count(\"t\"))-2*4\n",
      "\n",
      "fsize=35\n",
      "\n",
      "for x in range(len(cut) - fsize):\n",
      "    frame = cut[x:x + fsize].strip()\n",
      "    t =  tm(frame.lower())\n",
      "    \n",
      "    if 68 < t < 76 and frame.begin:\n",
      "        print(frame.replace(\" \", \"\"),t)\n",
      "    \n",
      "    "
     ],
     "language": "python",
     "metadata": {},
     "outputs": [
      {
       "output_type": "stream",
       "stream": "stdout",
       "text": [
        "('gctgattatgatcccaatGCTatggcc', 72)\n",
        "('gattatgatcccaatGCTatggccatg', 70)\n",
        "('tatgatcccaatGCTatggccatgagt', 70)\n",
        "('tgatcccaatGCTatggccatgagtc', 70)\n",
        "('gatcccaatGCTatggccatgagtct', 70)\n",
        "('gatcccaatGCTatggccatgagtctt', 72)\n",
        "('tcccaatGCTatggccatgagtcttg', 70)\n",
        "('cccaatGCTatggccatgagtcttga', 70)\n",
        "('cccaatGCTatggccatgagtcttgat', 72)\n",
        "('GCTatggccatgagtcttgatgaagc', 70)\n",
        "('GCTatggccatgagtcttgatgaagcc', 74)\n",
        "('CTatggccatgagtcttgatgaagcc', 70)\n",
        "('atggccatgagtcttgatgaagcc\\ntac', 72)\n",
        "('tggccatgagtcttgatgaagcc\\ntac', 70)\n",
        "('ggccatgagtcttgatgaagcc\\ntact', 70)\n",
        "('gccatgagtcttgatgaagcc\\ntacttg', 72)\n"
       ]
      }
     ],
     "prompt_number": 13
    },
    {
     "cell_type": "code",
     "collapsed": false,
     "input": [
      "x.count(\"g\")"
     ],
     "language": "python",
     "metadata": {},
     "outputs": [
      {
       "metadata": {},
       "output_type": "pyout",
       "prompt_number": 3,
       "text": [
        "319"
       ]
      }
     ],
     "prompt_number": 3
    },
    {
     "cell_type": "code",
     "collapsed": false,
     "input": [
      "x.count(\"t\")"
     ],
     "language": "python",
     "metadata": {},
     "outputs": [
      {
       "metadata": {},
       "output_type": "pyout",
       "prompt_number": 4,
       "text": [
        "382"
       ]
      }
     ],
     "prompt_number": 4
    },
    {
     "cell_type": "code",
     "collapsed": false,
     "input": [
      "x.count(\"c\")"
     ],
     "language": "python",
     "metadata": {},
     "outputs": [
      {
       "metadata": {},
       "output_type": "pyout",
       "prompt_number": 5,
       "text": [
        "267"
       ]
      }
     ],
     "prompt_number": 5
    },
    {
     "cell_type": "code",
     "collapsed": false,
     "input": [],
     "language": "python",
     "metadata": {},
     "outputs": []
    }
   ],
   "metadata": {}
  }
 ]
}