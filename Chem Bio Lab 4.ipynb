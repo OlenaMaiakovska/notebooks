{
 "metadata": {
  "name": "",
  "signature": "sha256:8471ca882c63f9730467cf9abf73e59944464206d4646f1550a68a258e724156"
 },
 "nbformat": 3,
 "nbformat_minor": 0,
 "worksheets": [
  {
   "cells": [
    {
     "cell_type": "markdown",
     "metadata": {},
     "source": [
      "##Chem Bio Lab 4\n",
      "Charlie Hope Olivia"
     ]
    },
    {
     "cell_type": "code",
     "collapsed": false,
     "input": [
      "unmutated=\"\"\"\n",
      "atgggacttaatgataataaagcaggaatggaaggattagataaagagaaaattaacaaaattata\n",
      "atggaagccacgaaggggtccagattttatggaaatgagctcaagaaagaaaagcaagtc\n",
      "aaccaacgaattgaaaatatgatgcaacaaaaagctcaaatcaccagccaacagctaaaa\n",
      "aaagcacaattacaggttgacagatttgcaatggaattagaacaaagccgaaatttgagc\n",
      "aataccatagtgcacattgacatggatgctttctatgcagctgtagaaatgagggacaat\n",
      "Ccagaattgaaggataaacccattgctgtaggatcaatgagtatgctgtctacttcaaat\n",
      "taccatgcaaggagatttggtgttcgtgcagccatgccaggatttattgctaagaggctg\n",
      "tgcccacaacttataatagtgccccccaactttgacaaataccgagctgtgagtaaagag\n",
      "gttaaggaaatacttgctgattatgatcccaatTTTatggccatgagtcttgatgaagcc\n",
      "tacttgaatataacaaagcacttagaagaaagacaaaattggcctgaggataaaagaagg\n",
      "tatttcatcaaaatgggaagctctgtagaaaatgataatccaggaaaggaagttaataaa\n",
      "ctgagtgagcatgaacgatccatctctccactactttttgaagagagtccttctgatgtg\n",
      "cagcccccaggagatcctttccaagtgaactttgaagaacaaaacaatcctcaaatactc\n",
      "caaaactcagttgtttttggaacatcagcccaggaagtggtaaaggaaattcgtttcaga\n",
      "attgagcagaaaacaacactgacagctagtgcaggcattgccccaaatacaatgttagca\n",
      "aaagtatgcagtgataagaataaaccaaatggacaataccaaattcttcccaatagacaa\n",
      "gctgtgatggacttcatcaaggatttacccattagaaaggtttctggaataggaaaagtt\n",
      "acagaaaaaatgttaaaggcccttggaattattacatgtacagaactttaccaacagagg\n",
      "Gcattgctttctctccttttctctgaaacaacttggcattatttccttcatatctccttg\n",
      "ggtctaggttcaacacacctgacgagggatggagagaggaaaagtatgagcgttgagagg\n",
      "acattcagtgagataaataaagcggaagagcaatacagcctatgtcaagaactttgcagt\n",
      "gagcttgctcaggatctacagaaagaaagacttaagggtagaactgttaccattaagttg\n",
      "aagaatgtgaattttgaagtaaaaactcgtgcatctacagtttcatctgttgtttctact\n",
      "gcagaagaaatatttgccattgctaaggaattgctaaaaacagaaattgatgctgatttt\n",
      "ccacatcccttgagattaaggcttatgggtgttcggatatctagttttcccaatgaagag\n",
      "Gacaggaaacaccaacaa\n",
      "\"\"\""
     ],
     "language": "python",
     "metadata": {},
     "outputs": [],
     "prompt_number": 22
    },
    {
     "cell_type": "markdown",
     "metadata": {},
     "source": [
      "Introduce our mutation, F129A"
     ]
    },
    {
     "cell_type": "code",
     "collapsed": false,
     "input": [
      "mutated=\"\"\"\n",
      "atgggacttaatgataataaagcaggaatggaaggattagataaagagaaaattaacaaaattata\n",
      "atggaagccacgaaggggtccagattttatggaaatgagctcaagaaagaaaagcaagtc\n",
      "aaccaacgaattgaaaatatgatgcaacaaaaagctcaaatcaccagccaacagctaaaa\n",
      "aaagcacaattacaggttgacagatttgcaatggaattagaacaaagccgaaatttgagc\n",
      "aataccatagtgcacattgacatggatgctttctatgcagctgtagaaatgagggacaat\n",
      "Ccagaattgaaggataaacccattgctgtaggatcaatgagtatgctgtctacttcaaat\n",
      "taccatgcaaggagatttggtgttcgtgcagccatgccaggatttattgctaagaggctg\n",
      "tgc cca caa ctt ata ata gtg ccc ccc aac ttt gac aaa tac cga gct gtg agt aaa gag\n",
      "gtt aag gaa ata ctt gct gat tat gat ccc aat GCT atg gcc atg agt ctt gat gaa gcc\n",
      "tac ttg aat ata aca aag cac tta gaa gaa aga caa aat tgg cct gag gat aaa aga agg\n",
      "tatttcatcaaaatgggaagctctgtagaaaatgataatccaggaaaggaagttaataaa\n",
      "ctgagtgagcatgaacgatccatctctccactactttttgaagagagtccttctgatgtg\n",
      "cagcccccaggagatcctttccaagtgaactttgaagaacaaaacaatcctcaaatactc\n",
      "caaaactcagttgtttttggaacatcagcccaggaagtggtaaaggaaattcgtttcaga\n",
      "attgagcagaaaacaacactgacagctagtgcaggcattgccccaaatacaatgttagca\n",
      "aaagtatgcagtgataagaataaaccaaatggacaataccaaattcttcccaatagacaa\n",
      "gctgtgatggacttcatcaaggatttacccattagaaaggtttctggaataggaaaagtt\n",
      "acagaaaaaatgttaaaggcccttggaattattacatgtacagaactttaccaacagagg\n",
      "Gcattgctttctctccttttctctgaaacaacttggcattatttccttcatatctccttg\n",
      "ggtctaggttcaacacacctgacgagggatggagagaggaaaagtatgagcgttgagagg\n",
      "acattcagtgagataaataaagcggaagagcaatacagcctatgtcaagaactttgcagt\n",
      "gagcttgctcaggatctacagaaagaaagacttaagggtagaactgttaccattaagttg\n",
      "aagaatgtgaattttgaagtaaaaactcgtgcatctacagtttcatctgttgtttctact\n",
      "gcagaagaaatatttgccattgctaaggaattgctaaaaacagaaattgatgctgatttt\n",
      "ccacatcccttgagattaaggcttatgggtgttcggatatctagttttcccaatgaagag\n",
      "Gacaggaaacaccaacaa\n",
      "\"\"\""
     ],
     "language": "python",
     "metadata": {},
     "outputs": [],
     "prompt_number": 23
    },
    {
     "cell_type": "markdown",
     "metadata": {},
     "source": [
      "We're really only interested in the region around the F129A mutation since we're building a primer, so just keep about 30 nucleotides in both directions. (we chose 30 since nicole's example was 30 long)"
     ]
    },
    {
     "cell_type": "code",
     "collapsed": false,
     "input": [
      "cut=\"\"\"\n",
      "aag gaa ata ctt gct gat tat gat ccc aat GCT atg gcc atg agt ctt gat gaa gcc tac ttg \n",
      "\"\"\""
     ],
     "language": "python",
     "metadata": {},
     "outputs": [],
     "prompt_number": 24
    },
    {
     "cell_type": "markdown",
     "metadata": {},
     "source": [
      "Define our function to calculate the melting point"
     ]
    },
    {
     "cell_type": "code",
     "collapsed": false,
     "input": [
      "def tm(s):\n",
      "    return 4*(s.count(\"g\")+s.count(\"c\"))+2*(s.count(\"a\")+s.count(\"t\"))-2*4"
     ],
     "language": "python",
     "metadata": {},
     "outputs": [],
     "prompt_number": 25
    },
    {
     "cell_type": "markdown",
     "metadata": {},
     "source": [
      "Print out all possible good primers"
     ]
    },
    {
     "cell_type": "code",
     "collapsed": false,
     "input": [
      "fsize=35\n",
      "\n",
      "for x in range(len(cut) - fsize):\n",
      "    frame = cut[x: x + fsize].strip()\n",
      "    t = tm(frame.lower())\n",
      "    \n",
      "    if \"GCT\" in frame and 68 < t < 76 and (frame.startswith(\"g\") or frame.startswith(\"c\")):\n",
      "        print(frame.replace(\" \", \"\"),t)"
     ],
     "language": "python",
     "metadata": {},
     "outputs": [
      {
       "output_type": "stream",
       "stream": "stdout",
       "text": [
        "('gctgattatgatcccaatGCTatggcc', 72)\n",
        "('gattatgatcccaatGCTatggccatg', 70)\n",
        "('gatcccaatGCTatggccatgagtct', 70)\n",
        "('gatcccaatGCTatggccatgagtctt', 72)\n",
        "('cccaatGCTatggccatgagtcttga', 70)\n",
        "('cccaatGCTatggccatgagtcttgat', 72)\n"
       ]
      }
     ],
     "prompt_number": 29
    },
    {
     "cell_type": "code",
     "collapsed": false,
     "input": [
      "print(\"winner!\", 'gattatgatcccaatGCTatggccatg', 70)"
     ],
     "language": "python",
     "metadata": {},
     "outputs": [
      {
       "output_type": "stream",
       "stream": "stdout",
       "text": [
        "('winner!', 'gattatgatcccaatGCTatggccatg', 70)\n"
       ]
      }
     ],
     "prompt_number": 30
    },
    {
     "cell_type": "code",
     "collapsed": false,
     "input": [],
     "language": "python",
     "metadata": {},
     "outputs": []
    }
   ],
   "metadata": {}
  }
 ]
}